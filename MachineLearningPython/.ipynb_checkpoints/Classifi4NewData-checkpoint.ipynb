{
 "cells": [
  {
   "cell_type": "code",
   "execution_count": 23,
   "id": "a10e2d18",
   "metadata": {},
   "outputs": [],
   "source": [
    "from sklearn.ensemble import RandomForestClassifier\n",
    "from sklearn.ensemble import GradientBoostingClassifier\n",
    "from sklearn.ensemble import ExtraTreesClassifier\n",
    "\n",
    "from sklearn.preprocessing import OneHotEncoder \n",
    "\n",
    "from sklearn.metrics import accuracy_score\n",
    "from sklearn.model_selection import cross_val_predict\n",
    "from sklearn.model_selection import train_test_split, cross_val_score\n",
    "from sklearn.model_selection import GridSearchCV, train_test_split\n",
    "from skopt import BayesSearchCV\n",
    "import xgboost as xgb\n",
    "import pandas as pd\n",
    "import numpy as np\n",
    "import time"
   ]
  },
  {
   "cell_type": "code",
   "execution_count": 27,
   "id": "02cf188a",
   "metadata": {},
   "outputs": [
    {
     "name": "stdout",
     "output_type": "stream",
     "text": [
      "(258, 37)\n",
      "  (0, 1)\t1.0\n"
     ]
    }
   ],
   "source": [
    "X = pd.read_csv('X307.csv', header=None)\n",
    "print(X.shape)\n",
    "X = X.values\n",
    "y = pd.read_csv('Y307.csv', header=None)\n",
    "# y = np.ravel(y)\n",
    "y = y.values\n",
    "\n",
    "# Create an instance of One-hot-encoder \n",
    "enc = OneHotEncoder() \n",
    "\n",
    "y = enc.fit_transform(y)\n",
    "print(y[200])"
   ]
  },
  {
   "cell_type": "code",
   "execution_count": null,
   "id": "ec567691",
   "metadata": {},
   "outputs": [],
   "source": [
    "# Split the dataset into training and testing sets\n",
    "X_train, X_test, y_train, y_test = train_test_split(X, y, test_size=0.2, random_state=1)\n",
    "X.shape"
   ]
  }
 ],
 "metadata": {
  "kernelspec": {
   "display_name": "Python 3",
   "language": "python",
   "name": "python3"
  },
  "language_info": {
   "codemirror_mode": {
    "name": "ipython",
    "version": 3
   },
   "file_extension": ".py",
   "mimetype": "text/x-python",
   "name": "python",
   "nbconvert_exporter": "python",
   "pygments_lexer": "ipython3",
   "version": "3.6.8"
  }
 },
 "nbformat": 4,
 "nbformat_minor": 5
}
