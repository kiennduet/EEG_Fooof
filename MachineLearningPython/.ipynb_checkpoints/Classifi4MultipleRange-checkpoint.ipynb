{
 "cells": [
  {
   "cell_type": "code",
   "execution_count": 103,
   "id": "551c4d41",
   "metadata": {},
   "outputs": [],
   "source": [
    "from sklearn.ensemble import RandomForestClassifier\n",
    "from sklearn.ensemble import GradientBoostingClassifier\n",
    "from sklearn.linear_model import LogisticRegression\n",
    "from sklearn.svm import NuSVC\n",
    "from sklearn.svm import SVC\n",
    "\n",
    "from sklearn.preprocessing import OneHotEncoder \n",
    "from sklearn.preprocessing import MinMaxScaler,StandardScaler\n",
    "from sklearn.model_selection import KFold\n",
    "from sklearn.model_selection import StratifiedKFold, cross_val_score\n",
    "from sklearn.metrics import accuracy_score\n",
    "from sklearn.model_selection import cross_val_predict\n",
    "from sklearn.model_selection import train_test_split, cross_val_score\n",
    "from sklearn.model_selection import GridSearchCV, train_test_split\n",
    "import xgboost as xgb\n",
    "import pandas as pd\n",
    "import numpy as np\n",
    "from scipy.io import loadmat\n",
    "import scipy.io\n",
    "import warnings\n",
    "warnings.filterwarnings('ignore')"
   ]
  },
  {
   "cell_type": "code",
   "execution_count": 104,
   "id": "a4c371fc",
   "metadata": {},
   "outputs": [
    {
     "name": "stdout",
     "output_type": "stream",
     "text": [
      "Class Counts:\n",
      "0    178\n",
      "1    129\n",
      "Name: count, dtype: int64\n",
      "\n",
      "Class Weights: \n",
      "{0: np.float64(1.0), 1: np.float64(1.37984496124031)}\n"
     ]
    }
   ],
   "source": [
    "\n",
    "X_path = '/home/kiennd/Documents/2_Works/EEG_analysis/data/PGR_Result/PGR_MS/MS307.mat'\n",
    "y = np.ravel(pd.read_csv('/home/kiennd/Documents/2_Works/EEG_analysis/data/PGR_Result/PGR_MS/Y_MS307.csv', header=None))\n",
    "\n",
    "# Đếm số mẫu trong từng lớp\n",
    "class_counts = pd.Series(y).value_counts()\n",
    "print(f\"Class Counts:\\n{class_counts}\")\n",
    "\n",
    "# Tạo biến class_weight dựa trên số lượng mẫu trong từng lớp\n",
    "class_weight = {label: class_counts.max() / count for label, count in class_counts.items()}\n",
    "print(f\"\\nClass Weights: \\n{class_weight}\")\n",
    "\n",
    "X_mat = scipy.io.loadmat(X_path)"
   ]
  },
  {
   "cell_type": "code",
   "execution_count": 105,
   "id": "8c29efc5-12d1-4fee-965d-3a36cdb68614",
   "metadata": {},
   "outputs": [],
   "source": [
    "def keep_columns(matrix, start_positions, step):\n",
    "    # Tạo danh sách các chỉ số cột cần giữ lại\n",
    "    columns_to_keep = set()\n",
    "    \n",
    "    # Duyệt qua từng giá trị trong danh sách start_positions\n",
    "    for start in start_positions:\n",
    "        columns_to_keep.update(range(start, matrix.shape[1], step))\n",
    "    \n",
    "    # Chuyển set thành danh sách và sắp xếp\n",
    "    columns_to_keep = sorted(columns_to_keep)\n",
    "    \n",
    "    # Tạo ma trận mới chỉ giữ lại các cột nằm trong danh sách cần giữ\n",
    "    filtered_matrix = matrix[:, columns_to_keep]\n",
    "    \n",
    "    return filtered_matrix\n"
   ]
  },
  {
   "cell_type": "code",
   "execution_count": 107,
   "id": "8a7d7e91",
   "metadata": {},
   "outputs": [
    {
     "name": "stdout",
     "output_type": "stream",
     "text": [
      "LogisticRegression\n",
      "Mean Accuracy: 0.662 0.013 \n",
      "\n",
      "LogisticRegression\n",
      "Mean Accuracy: 0.667 0.012 \n",
      "\n",
      "LogisticRegression\n",
      "Mean Accuracy: 0.660 0.013 \n",
      "\n"
     ]
    }
   ],
   "source": [
    "accuracies_multiple = np.zeros((30,2))\n",
    "num_folds = 10\n",
    "numLoop = 100\n",
    "features = [3,4]\n",
    "\n",
    "for i in range (1,4):\n",
    "    X = X_mat['featuresX']\n",
    "    X = keep_columns(X[i-1],features, 5)\n",
    "    \n",
    "    logistic_regression_param_grid = {\n",
    "        'penalty': ['l1', 'l2'],\n",
    "        'C': [0.001, 0.01, 0.1, 1, 10, 100]\n",
    "    }\n",
    "    # Mô hình Logistic Regression\n",
    "    logistic_regression_model = LogisticRegression(class_weight = class_weight)\n",
    "    # Tạo GridSearchCV object cho Logistic Regression\n",
    "    logistic_regression_grid_search = GridSearchCV(logistic_regression_model, logistic_regression_param_grid, cv=num_folds)\n",
    "    logistic_regression_grid_search.fit(X, y)\n",
    "    # Lấy mô hình tốt nhất từ GridSearchCV cho Logistic Regression\n",
    "    best_logistic_regression_model = logistic_regression_grid_search.best_estimator_\n",
    "\n",
    "    methods = [\n",
    "    LogisticRegression(\n",
    "            penalty=best_logistic_regression_model.penalty,\n",
    "            C=best_logistic_regression_model.C, \n",
    "            class_weight = class_weight)\n",
    "    ]\n",
    "    \n",
    "    for model in methods:\n",
    "        mean_array = np.empty((numLoop,1))\n",
    "        print(model.__class__.__name__)\n",
    "\n",
    "        for state in range(1,numLoop+1):\n",
    "            # Perform K-fold cross-validation and calculate accuracy scores\n",
    "            stratified_kfold = StratifiedKFold(n_splits=num_folds, shuffle=True, random_state=state)\n",
    "            cv_scores = cross_val_score(model, X, y, cv=stratified_kfold)\n",
    "\n",
    "            # Calculate mean accuracy across all folds\n",
    "            mean_accuracy = cv_scores.mean()\n",
    "            mean_array[state-1] = mean_accuracy \n",
    "\n",
    "        print(f\"Mean Accuracy: {np.mean(mean_array):.3f} {np.std(mean_array):.3f} \\n\")\n",
    "        \n",
    "        # Accuracies across all loop\n",
    "        mean_accuracies_loop = np.mean(mean_array)\n",
    "        std_accuracies_loop = np.std(mean_array)\n",
    "        accuracies_multiple[i-1,:] = [mean_accuracies_loop, std_accuracies_loop] "
   ]
  },
  {
   "cell_type": "code",
   "execution_count": 24,
   "id": "4d5f07f3-6ffa-4f22-b774-c11084ecbe14",
   "metadata": {},
   "outputs": [
    {
     "data": {
      "text/plain": [
       "array([[0.6419, 0.0105],\n",
       "       [0.6513, 0.0102],\n",
       "       [0.6464, 0.0095],\n",
       "       [0.6433, 0.0095],\n",
       "       [0.6341, 0.0087],\n",
       "       [0.6267, 0.0096],\n",
       "       [0.6346, 0.0088],\n",
       "       [0.638 , 0.008 ],\n",
       "       [0.6382, 0.0074],\n",
       "       [0.6264, 0.0084],\n",
       "       [0.6279, 0.0092],\n",
       "       [0.6381, 0.0078],\n",
       "       [0.634 , 0.0076],\n",
       "       [0.6312, 0.0073],\n",
       "       [0.6212, 0.0068],\n",
       "       [0.618 , 0.0095],\n",
       "       [0.6267, 0.0095],\n",
       "       [0.6239, 0.0086],\n",
       "       [0.6265, 0.0083],\n",
       "       [0.6258, 0.0098],\n",
       "       [0.6236, 0.0089],\n",
       "       [0.621 , 0.0095],\n",
       "       [0.6185, 0.0094],\n",
       "       [0.6063, 0.0086],\n",
       "       [0.598 , 0.0092],\n",
       "       [0.597 , 0.0093],\n",
       "       [0.6037, 0.0102],\n",
       "       [0.6057, 0.0107],\n",
       "       [0.6036, 0.0101],\n",
       "       [0.    , 0.    ]])"
      ]
     },
     "execution_count": 24,
     "metadata": {},
     "output_type": "execute_result"
    }
   ],
   "source": [
    "np.set_printoptions(precision=4, suppress=True)\n",
    "accuracies_multiple"
   ]
  },
  {
   "cell_type": "markdown",
   "id": "57f69b01-e485-483b-aeea-8f5861a2fed1",
   "metadata": {},
   "source": [
    "# Test"
   ]
  },
  {
   "cell_type": "code",
   "execution_count": 113,
   "id": "b79f0956-24f9-47c6-bee7-141626092b49",
   "metadata": {},
   "outputs": [
    {
     "ename": "KeyboardInterrupt",
     "evalue": "",
     "output_type": "error",
     "traceback": [
      "\u001b[0;31m---------------------------------------------------------------------------\u001b[0m",
      "\u001b[0;31mKeyboardInterrupt\u001b[0m                         Traceback (most recent call last)",
      "Cell \u001b[0;32mIn[113], line 51\u001b[0m\n\u001b[1;32m     49\u001b[0m random_forest_model \u001b[38;5;241m=\u001b[39m RandomForestClassifier(class_weight\u001b[38;5;241m=\u001b[39mclass_weight)\n\u001b[1;32m     50\u001b[0m random_forest_grid_search \u001b[38;5;241m=\u001b[39m GridSearchCV(random_forest_model, random_forest_param_grid, cv\u001b[38;5;241m=\u001b[39mnum_folds)\n\u001b[0;32m---> 51\u001b[0m \u001b[43mrandom_forest_grid_search\u001b[49m\u001b[38;5;241;43m.\u001b[39;49m\u001b[43mfit\u001b[49m\u001b[43m(\u001b[49m\u001b[43mX_train\u001b[49m\u001b[43m,\u001b[49m\u001b[43m \u001b[49m\u001b[43my_train\u001b[49m\u001b[43m)\u001b[49m\n\u001b[1;32m     52\u001b[0m best_random_forest_model \u001b[38;5;241m=\u001b[39m random_forest_grid_search\u001b[38;5;241m.\u001b[39mbest_estimator_\n\u001b[1;32m     54\u001b[0m model_rf \u001b[38;5;241m=\u001b[39m RandomForestClassifier(\n\u001b[1;32m     55\u001b[0m     n_estimators\u001b[38;5;241m=\u001b[39mbest_random_forest_model\u001b[38;5;241m.\u001b[39mn_estimators,\n\u001b[1;32m     56\u001b[0m     max_depth\u001b[38;5;241m=\u001b[39mbest_random_forest_model\u001b[38;5;241m.\u001b[39mmax_depth,\n\u001b[1;32m     57\u001b[0m     min_samples_split\u001b[38;5;241m=\u001b[39mbest_random_forest_model\u001b[38;5;241m.\u001b[39mmin_samples_split,\n\u001b[1;32m     58\u001b[0m     class_weight\u001b[38;5;241m=\u001b[39mclass_weight\n\u001b[1;32m     59\u001b[0m )\n",
      "File \u001b[0;32m~/Documents/1_Settings/anaconda3/envs/APEEG_D/lib/python3.9/site-packages/sklearn/base.py:1473\u001b[0m, in \u001b[0;36m_fit_context.<locals>.decorator.<locals>.wrapper\u001b[0;34m(estimator, *args, **kwargs)\u001b[0m\n\u001b[1;32m   1466\u001b[0m     estimator\u001b[38;5;241m.\u001b[39m_validate_params()\n\u001b[1;32m   1468\u001b[0m \u001b[38;5;28;01mwith\u001b[39;00m config_context(\n\u001b[1;32m   1469\u001b[0m     skip_parameter_validation\u001b[38;5;241m=\u001b[39m(\n\u001b[1;32m   1470\u001b[0m         prefer_skip_nested_validation \u001b[38;5;129;01mor\u001b[39;00m global_skip_validation\n\u001b[1;32m   1471\u001b[0m     )\n\u001b[1;32m   1472\u001b[0m ):\n\u001b[0;32m-> 1473\u001b[0m     \u001b[38;5;28;01mreturn\u001b[39;00m \u001b[43mfit_method\u001b[49m\u001b[43m(\u001b[49m\u001b[43mestimator\u001b[49m\u001b[43m,\u001b[49m\u001b[43m \u001b[49m\u001b[38;5;241;43m*\u001b[39;49m\u001b[43margs\u001b[49m\u001b[43m,\u001b[49m\u001b[43m \u001b[49m\u001b[38;5;241;43m*\u001b[39;49m\u001b[38;5;241;43m*\u001b[39;49m\u001b[43mkwargs\u001b[49m\u001b[43m)\u001b[49m\n",
      "File \u001b[0;32m~/Documents/1_Settings/anaconda3/envs/APEEG_D/lib/python3.9/site-packages/sklearn/model_selection/_search.py:1018\u001b[0m, in \u001b[0;36mBaseSearchCV.fit\u001b[0;34m(self, X, y, **params)\u001b[0m\n\u001b[1;32m   1012\u001b[0m     results \u001b[38;5;241m=\u001b[39m \u001b[38;5;28mself\u001b[39m\u001b[38;5;241m.\u001b[39m_format_results(\n\u001b[1;32m   1013\u001b[0m         all_candidate_params, n_splits, all_out, all_more_results\n\u001b[1;32m   1014\u001b[0m     )\n\u001b[1;32m   1016\u001b[0m     \u001b[38;5;28;01mreturn\u001b[39;00m results\n\u001b[0;32m-> 1018\u001b[0m \u001b[38;5;28;43mself\u001b[39;49m\u001b[38;5;241;43m.\u001b[39;49m\u001b[43m_run_search\u001b[49m\u001b[43m(\u001b[49m\u001b[43mevaluate_candidates\u001b[49m\u001b[43m)\u001b[49m\n\u001b[1;32m   1020\u001b[0m \u001b[38;5;66;03m# multimetric is determined here because in the case of a callable\u001b[39;00m\n\u001b[1;32m   1021\u001b[0m \u001b[38;5;66;03m# self.scoring the return type is only known after calling\u001b[39;00m\n\u001b[1;32m   1022\u001b[0m first_test_score \u001b[38;5;241m=\u001b[39m all_out[\u001b[38;5;241m0\u001b[39m][\u001b[38;5;124m\"\u001b[39m\u001b[38;5;124mtest_scores\u001b[39m\u001b[38;5;124m\"\u001b[39m]\n",
      "File \u001b[0;32m~/Documents/1_Settings/anaconda3/envs/APEEG_D/lib/python3.9/site-packages/sklearn/model_selection/_search.py:1572\u001b[0m, in \u001b[0;36mGridSearchCV._run_search\u001b[0;34m(self, evaluate_candidates)\u001b[0m\n\u001b[1;32m   1570\u001b[0m \u001b[38;5;28;01mdef\u001b[39;00m \u001b[38;5;21m_run_search\u001b[39m(\u001b[38;5;28mself\u001b[39m, evaluate_candidates):\n\u001b[1;32m   1571\u001b[0m \u001b[38;5;250m    \u001b[39m\u001b[38;5;124;03m\"\"\"Search all candidates in param_grid\"\"\"\u001b[39;00m\n\u001b[0;32m-> 1572\u001b[0m     \u001b[43mevaluate_candidates\u001b[49m\u001b[43m(\u001b[49m\u001b[43mParameterGrid\u001b[49m\u001b[43m(\u001b[49m\u001b[38;5;28;43mself\u001b[39;49m\u001b[38;5;241;43m.\u001b[39;49m\u001b[43mparam_grid\u001b[49m\u001b[43m)\u001b[49m\u001b[43m)\u001b[49m\n",
      "File \u001b[0;32m~/Documents/1_Settings/anaconda3/envs/APEEG_D/lib/python3.9/site-packages/sklearn/model_selection/_search.py:964\u001b[0m, in \u001b[0;36mBaseSearchCV.fit.<locals>.evaluate_candidates\u001b[0;34m(candidate_params, cv, more_results)\u001b[0m\n\u001b[1;32m    956\u001b[0m \u001b[38;5;28;01mif\u001b[39;00m \u001b[38;5;28mself\u001b[39m\u001b[38;5;241m.\u001b[39mverbose \u001b[38;5;241m>\u001b[39m \u001b[38;5;241m0\u001b[39m:\n\u001b[1;32m    957\u001b[0m     \u001b[38;5;28mprint\u001b[39m(\n\u001b[1;32m    958\u001b[0m         \u001b[38;5;124m\"\u001b[39m\u001b[38;5;124mFitting \u001b[39m\u001b[38;5;132;01m{0}\u001b[39;00m\u001b[38;5;124m folds for each of \u001b[39m\u001b[38;5;132;01m{1}\u001b[39;00m\u001b[38;5;124m candidates,\u001b[39m\u001b[38;5;124m\"\u001b[39m\n\u001b[1;32m    959\u001b[0m         \u001b[38;5;124m\"\u001b[39m\u001b[38;5;124m totalling \u001b[39m\u001b[38;5;132;01m{2}\u001b[39;00m\u001b[38;5;124m fits\u001b[39m\u001b[38;5;124m\"\u001b[39m\u001b[38;5;241m.\u001b[39mformat(\n\u001b[1;32m    960\u001b[0m             n_splits, n_candidates, n_candidates \u001b[38;5;241m*\u001b[39m n_splits\n\u001b[1;32m    961\u001b[0m         )\n\u001b[1;32m    962\u001b[0m     )\n\u001b[0;32m--> 964\u001b[0m out \u001b[38;5;241m=\u001b[39m \u001b[43mparallel\u001b[49m\u001b[43m(\u001b[49m\n\u001b[1;32m    965\u001b[0m \u001b[43m    \u001b[49m\u001b[43mdelayed\u001b[49m\u001b[43m(\u001b[49m\u001b[43m_fit_and_score\u001b[49m\u001b[43m)\u001b[49m\u001b[43m(\u001b[49m\n\u001b[1;32m    966\u001b[0m \u001b[43m        \u001b[49m\u001b[43mclone\u001b[49m\u001b[43m(\u001b[49m\u001b[43mbase_estimator\u001b[49m\u001b[43m)\u001b[49m\u001b[43m,\u001b[49m\n\u001b[1;32m    967\u001b[0m \u001b[43m        \u001b[49m\u001b[43mX\u001b[49m\u001b[43m,\u001b[49m\n\u001b[1;32m    968\u001b[0m \u001b[43m        \u001b[49m\u001b[43my\u001b[49m\u001b[43m,\u001b[49m\n\u001b[1;32m    969\u001b[0m \u001b[43m        \u001b[49m\u001b[43mtrain\u001b[49m\u001b[38;5;241;43m=\u001b[39;49m\u001b[43mtrain\u001b[49m\u001b[43m,\u001b[49m\n\u001b[1;32m    970\u001b[0m \u001b[43m        \u001b[49m\u001b[43mtest\u001b[49m\u001b[38;5;241;43m=\u001b[39;49m\u001b[43mtest\u001b[49m\u001b[43m,\u001b[49m\n\u001b[1;32m    971\u001b[0m \u001b[43m        \u001b[49m\u001b[43mparameters\u001b[49m\u001b[38;5;241;43m=\u001b[39;49m\u001b[43mparameters\u001b[49m\u001b[43m,\u001b[49m\n\u001b[1;32m    972\u001b[0m \u001b[43m        \u001b[49m\u001b[43msplit_progress\u001b[49m\u001b[38;5;241;43m=\u001b[39;49m\u001b[43m(\u001b[49m\u001b[43msplit_idx\u001b[49m\u001b[43m,\u001b[49m\u001b[43m \u001b[49m\u001b[43mn_splits\u001b[49m\u001b[43m)\u001b[49m\u001b[43m,\u001b[49m\n\u001b[1;32m    973\u001b[0m \u001b[43m        \u001b[49m\u001b[43mcandidate_progress\u001b[49m\u001b[38;5;241;43m=\u001b[39;49m\u001b[43m(\u001b[49m\u001b[43mcand_idx\u001b[49m\u001b[43m,\u001b[49m\u001b[43m \u001b[49m\u001b[43mn_candidates\u001b[49m\u001b[43m)\u001b[49m\u001b[43m,\u001b[49m\n\u001b[1;32m    974\u001b[0m \u001b[43m        \u001b[49m\u001b[38;5;241;43m*\u001b[39;49m\u001b[38;5;241;43m*\u001b[39;49m\u001b[43mfit_and_score_kwargs\u001b[49m\u001b[43m,\u001b[49m\n\u001b[1;32m    975\u001b[0m \u001b[43m    \u001b[49m\u001b[43m)\u001b[49m\n\u001b[1;32m    976\u001b[0m \u001b[43m    \u001b[49m\u001b[38;5;28;43;01mfor\u001b[39;49;00m\u001b[43m \u001b[49m\u001b[43m(\u001b[49m\u001b[43mcand_idx\u001b[49m\u001b[43m,\u001b[49m\u001b[43m \u001b[49m\u001b[43mparameters\u001b[49m\u001b[43m)\u001b[49m\u001b[43m,\u001b[49m\u001b[43m \u001b[49m\u001b[43m(\u001b[49m\u001b[43msplit_idx\u001b[49m\u001b[43m,\u001b[49m\u001b[43m \u001b[49m\u001b[43m(\u001b[49m\u001b[43mtrain\u001b[49m\u001b[43m,\u001b[49m\u001b[43m \u001b[49m\u001b[43mtest\u001b[49m\u001b[43m)\u001b[49m\u001b[43m)\u001b[49m\u001b[43m \u001b[49m\u001b[38;5;129;43;01min\u001b[39;49;00m\u001b[43m \u001b[49m\u001b[43mproduct\u001b[49m\u001b[43m(\u001b[49m\n\u001b[1;32m    977\u001b[0m \u001b[43m        \u001b[49m\u001b[38;5;28;43menumerate\u001b[39;49m\u001b[43m(\u001b[49m\u001b[43mcandidate_params\u001b[49m\u001b[43m)\u001b[49m\u001b[43m,\u001b[49m\n\u001b[1;32m    978\u001b[0m \u001b[43m        \u001b[49m\u001b[38;5;28;43menumerate\u001b[39;49m\u001b[43m(\u001b[49m\u001b[43mcv\u001b[49m\u001b[38;5;241;43m.\u001b[39;49m\u001b[43msplit\u001b[49m\u001b[43m(\u001b[49m\u001b[43mX\u001b[49m\u001b[43m,\u001b[49m\u001b[43m \u001b[49m\u001b[43my\u001b[49m\u001b[43m,\u001b[49m\u001b[43m \u001b[49m\u001b[38;5;241;43m*\u001b[39;49m\u001b[38;5;241;43m*\u001b[39;49m\u001b[43mrouted_params\u001b[49m\u001b[38;5;241;43m.\u001b[39;49m\u001b[43msplitter\u001b[49m\u001b[38;5;241;43m.\u001b[39;49m\u001b[43msplit\u001b[49m\u001b[43m)\u001b[49m\u001b[43m)\u001b[49m\u001b[43m,\u001b[49m\n\u001b[1;32m    979\u001b[0m \u001b[43m    \u001b[49m\u001b[43m)\u001b[49m\n\u001b[1;32m    980\u001b[0m \u001b[43m\u001b[49m\u001b[43m)\u001b[49m\n\u001b[1;32m    982\u001b[0m \u001b[38;5;28;01mif\u001b[39;00m \u001b[38;5;28mlen\u001b[39m(out) \u001b[38;5;241m<\u001b[39m \u001b[38;5;241m1\u001b[39m:\n\u001b[1;32m    983\u001b[0m     \u001b[38;5;28;01mraise\u001b[39;00m \u001b[38;5;167;01mValueError\u001b[39;00m(\n\u001b[1;32m    984\u001b[0m         \u001b[38;5;124m\"\u001b[39m\u001b[38;5;124mNo fits were performed. \u001b[39m\u001b[38;5;124m\"\u001b[39m\n\u001b[1;32m    985\u001b[0m         \u001b[38;5;124m\"\u001b[39m\u001b[38;5;124mWas the CV iterator empty? \u001b[39m\u001b[38;5;124m\"\u001b[39m\n\u001b[1;32m    986\u001b[0m         \u001b[38;5;124m\"\u001b[39m\u001b[38;5;124mWere there no candidates?\u001b[39m\u001b[38;5;124m\"\u001b[39m\n\u001b[1;32m    987\u001b[0m     )\n",
      "File \u001b[0;32m~/Documents/1_Settings/anaconda3/envs/APEEG_D/lib/python3.9/site-packages/sklearn/utils/parallel.py:74\u001b[0m, in \u001b[0;36mParallel.__call__\u001b[0;34m(self, iterable)\u001b[0m\n\u001b[1;32m     69\u001b[0m config \u001b[38;5;241m=\u001b[39m get_config()\n\u001b[1;32m     70\u001b[0m iterable_with_config \u001b[38;5;241m=\u001b[39m (\n\u001b[1;32m     71\u001b[0m     (_with_config(delayed_func, config), args, kwargs)\n\u001b[1;32m     72\u001b[0m     \u001b[38;5;28;01mfor\u001b[39;00m delayed_func, args, kwargs \u001b[38;5;129;01min\u001b[39;00m iterable\n\u001b[1;32m     73\u001b[0m )\n\u001b[0;32m---> 74\u001b[0m \u001b[38;5;28;01mreturn\u001b[39;00m \u001b[38;5;28;43msuper\u001b[39;49m\u001b[43m(\u001b[49m\u001b[43m)\u001b[49m\u001b[38;5;241;43m.\u001b[39;49m\u001b[38;5;21;43m__call__\u001b[39;49m\u001b[43m(\u001b[49m\u001b[43miterable_with_config\u001b[49m\u001b[43m)\u001b[49m\n",
      "File \u001b[0;32m~/Documents/1_Settings/anaconda3/envs/APEEG_D/lib/python3.9/site-packages/joblib/parallel.py:1918\u001b[0m, in \u001b[0;36mParallel.__call__\u001b[0;34m(self, iterable)\u001b[0m\n\u001b[1;32m   1916\u001b[0m     output \u001b[38;5;241m=\u001b[39m \u001b[38;5;28mself\u001b[39m\u001b[38;5;241m.\u001b[39m_get_sequential_output(iterable)\n\u001b[1;32m   1917\u001b[0m     \u001b[38;5;28mnext\u001b[39m(output)\n\u001b[0;32m-> 1918\u001b[0m     \u001b[38;5;28;01mreturn\u001b[39;00m output \u001b[38;5;28;01mif\u001b[39;00m \u001b[38;5;28mself\u001b[39m\u001b[38;5;241m.\u001b[39mreturn_generator \u001b[38;5;28;01melse\u001b[39;00m \u001b[38;5;28;43mlist\u001b[39;49m\u001b[43m(\u001b[49m\u001b[43moutput\u001b[49m\u001b[43m)\u001b[49m\n\u001b[1;32m   1920\u001b[0m \u001b[38;5;66;03m# Let's create an ID that uniquely identifies the current call. If the\u001b[39;00m\n\u001b[1;32m   1921\u001b[0m \u001b[38;5;66;03m# call is interrupted early and that the same instance is immediately\u001b[39;00m\n\u001b[1;32m   1922\u001b[0m \u001b[38;5;66;03m# re-used, this id will be used to prevent workers that were\u001b[39;00m\n\u001b[1;32m   1923\u001b[0m \u001b[38;5;66;03m# concurrently finalizing a task from the previous call to run the\u001b[39;00m\n\u001b[1;32m   1924\u001b[0m \u001b[38;5;66;03m# callback.\u001b[39;00m\n\u001b[1;32m   1925\u001b[0m \u001b[38;5;28;01mwith\u001b[39;00m \u001b[38;5;28mself\u001b[39m\u001b[38;5;241m.\u001b[39m_lock:\n",
      "File \u001b[0;32m~/Documents/1_Settings/anaconda3/envs/APEEG_D/lib/python3.9/site-packages/joblib/parallel.py:1847\u001b[0m, in \u001b[0;36mParallel._get_sequential_output\u001b[0;34m(self, iterable)\u001b[0m\n\u001b[1;32m   1845\u001b[0m \u001b[38;5;28mself\u001b[39m\u001b[38;5;241m.\u001b[39mn_dispatched_batches \u001b[38;5;241m+\u001b[39m\u001b[38;5;241m=\u001b[39m \u001b[38;5;241m1\u001b[39m\n\u001b[1;32m   1846\u001b[0m \u001b[38;5;28mself\u001b[39m\u001b[38;5;241m.\u001b[39mn_dispatched_tasks \u001b[38;5;241m+\u001b[39m\u001b[38;5;241m=\u001b[39m \u001b[38;5;241m1\u001b[39m\n\u001b[0;32m-> 1847\u001b[0m res \u001b[38;5;241m=\u001b[39m \u001b[43mfunc\u001b[49m\u001b[43m(\u001b[49m\u001b[38;5;241;43m*\u001b[39;49m\u001b[43margs\u001b[49m\u001b[43m,\u001b[49m\u001b[43m \u001b[49m\u001b[38;5;241;43m*\u001b[39;49m\u001b[38;5;241;43m*\u001b[39;49m\u001b[43mkwargs\u001b[49m\u001b[43m)\u001b[49m\n\u001b[1;32m   1848\u001b[0m \u001b[38;5;28mself\u001b[39m\u001b[38;5;241m.\u001b[39mn_completed_tasks \u001b[38;5;241m+\u001b[39m\u001b[38;5;241m=\u001b[39m \u001b[38;5;241m1\u001b[39m\n\u001b[1;32m   1849\u001b[0m \u001b[38;5;28mself\u001b[39m\u001b[38;5;241m.\u001b[39mprint_progress()\n",
      "File \u001b[0;32m~/Documents/1_Settings/anaconda3/envs/APEEG_D/lib/python3.9/site-packages/sklearn/utils/parallel.py:136\u001b[0m, in \u001b[0;36m_FuncWrapper.__call__\u001b[0;34m(self, *args, **kwargs)\u001b[0m\n\u001b[1;32m    134\u001b[0m     config \u001b[38;5;241m=\u001b[39m {}\n\u001b[1;32m    135\u001b[0m \u001b[38;5;28;01mwith\u001b[39;00m config_context(\u001b[38;5;241m*\u001b[39m\u001b[38;5;241m*\u001b[39mconfig):\n\u001b[0;32m--> 136\u001b[0m     \u001b[38;5;28;01mreturn\u001b[39;00m \u001b[38;5;28;43mself\u001b[39;49m\u001b[38;5;241;43m.\u001b[39;49m\u001b[43mfunction\u001b[49m\u001b[43m(\u001b[49m\u001b[38;5;241;43m*\u001b[39;49m\u001b[43margs\u001b[49m\u001b[43m,\u001b[49m\u001b[43m \u001b[49m\u001b[38;5;241;43m*\u001b[39;49m\u001b[38;5;241;43m*\u001b[39;49m\u001b[43mkwargs\u001b[49m\u001b[43m)\u001b[49m\n",
      "File \u001b[0;32m~/Documents/1_Settings/anaconda3/envs/APEEG_D/lib/python3.9/site-packages/sklearn/model_selection/_validation.py:888\u001b[0m, in \u001b[0;36m_fit_and_score\u001b[0;34m(estimator, X, y, scorer, train, test, verbose, parameters, fit_params, score_params, return_train_score, return_parameters, return_n_test_samples, return_times, return_estimator, split_progress, candidate_progress, error_score)\u001b[0m\n\u001b[1;32m    886\u001b[0m         estimator\u001b[38;5;241m.\u001b[39mfit(X_train, \u001b[38;5;241m*\u001b[39m\u001b[38;5;241m*\u001b[39mfit_params)\n\u001b[1;32m    887\u001b[0m     \u001b[38;5;28;01melse\u001b[39;00m:\n\u001b[0;32m--> 888\u001b[0m         \u001b[43mestimator\u001b[49m\u001b[38;5;241;43m.\u001b[39;49m\u001b[43mfit\u001b[49m\u001b[43m(\u001b[49m\u001b[43mX_train\u001b[49m\u001b[43m,\u001b[49m\u001b[43m \u001b[49m\u001b[43my_train\u001b[49m\u001b[43m,\u001b[49m\u001b[43m \u001b[49m\u001b[38;5;241;43m*\u001b[39;49m\u001b[38;5;241;43m*\u001b[39;49m\u001b[43mfit_params\u001b[49m\u001b[43m)\u001b[49m\n\u001b[1;32m    890\u001b[0m \u001b[38;5;28;01mexcept\u001b[39;00m \u001b[38;5;167;01mException\u001b[39;00m:\n\u001b[1;32m    891\u001b[0m     \u001b[38;5;66;03m# Note fit time as time until error\u001b[39;00m\n\u001b[1;32m    892\u001b[0m     fit_time \u001b[38;5;241m=\u001b[39m time\u001b[38;5;241m.\u001b[39mtime() \u001b[38;5;241m-\u001b[39m start_time\n",
      "File \u001b[0;32m~/Documents/1_Settings/anaconda3/envs/APEEG_D/lib/python3.9/site-packages/sklearn/base.py:1473\u001b[0m, in \u001b[0;36m_fit_context.<locals>.decorator.<locals>.wrapper\u001b[0;34m(estimator, *args, **kwargs)\u001b[0m\n\u001b[1;32m   1466\u001b[0m     estimator\u001b[38;5;241m.\u001b[39m_validate_params()\n\u001b[1;32m   1468\u001b[0m \u001b[38;5;28;01mwith\u001b[39;00m config_context(\n\u001b[1;32m   1469\u001b[0m     skip_parameter_validation\u001b[38;5;241m=\u001b[39m(\n\u001b[1;32m   1470\u001b[0m         prefer_skip_nested_validation \u001b[38;5;129;01mor\u001b[39;00m global_skip_validation\n\u001b[1;32m   1471\u001b[0m     )\n\u001b[1;32m   1472\u001b[0m ):\n\u001b[0;32m-> 1473\u001b[0m     \u001b[38;5;28;01mreturn\u001b[39;00m \u001b[43mfit_method\u001b[49m\u001b[43m(\u001b[49m\u001b[43mestimator\u001b[49m\u001b[43m,\u001b[49m\u001b[43m \u001b[49m\u001b[38;5;241;43m*\u001b[39;49m\u001b[43margs\u001b[49m\u001b[43m,\u001b[49m\u001b[43m \u001b[49m\u001b[38;5;241;43m*\u001b[39;49m\u001b[38;5;241;43m*\u001b[39;49m\u001b[43mkwargs\u001b[49m\u001b[43m)\u001b[49m\n",
      "File \u001b[0;32m~/Documents/1_Settings/anaconda3/envs/APEEG_D/lib/python3.9/site-packages/sklearn/ensemble/_forest.py:489\u001b[0m, in \u001b[0;36mBaseForest.fit\u001b[0;34m(self, X, y, sample_weight)\u001b[0m\n\u001b[1;32m    478\u001b[0m trees \u001b[38;5;241m=\u001b[39m [\n\u001b[1;32m    479\u001b[0m     \u001b[38;5;28mself\u001b[39m\u001b[38;5;241m.\u001b[39m_make_estimator(append\u001b[38;5;241m=\u001b[39m\u001b[38;5;28;01mFalse\u001b[39;00m, random_state\u001b[38;5;241m=\u001b[39mrandom_state)\n\u001b[1;32m    480\u001b[0m     \u001b[38;5;28;01mfor\u001b[39;00m i \u001b[38;5;129;01min\u001b[39;00m \u001b[38;5;28mrange\u001b[39m(n_more_estimators)\n\u001b[1;32m    481\u001b[0m ]\n\u001b[1;32m    483\u001b[0m \u001b[38;5;66;03m# Parallel loop: we prefer the threading backend as the Cython code\u001b[39;00m\n\u001b[1;32m    484\u001b[0m \u001b[38;5;66;03m# for fitting the trees is internally releasing the Python GIL\u001b[39;00m\n\u001b[1;32m    485\u001b[0m \u001b[38;5;66;03m# making threading more efficient than multiprocessing in\u001b[39;00m\n\u001b[1;32m    486\u001b[0m \u001b[38;5;66;03m# that case. However, for joblib 0.12+ we respect any\u001b[39;00m\n\u001b[1;32m    487\u001b[0m \u001b[38;5;66;03m# parallel_backend contexts set at a higher level,\u001b[39;00m\n\u001b[1;32m    488\u001b[0m \u001b[38;5;66;03m# since correctness does not rely on using threads.\u001b[39;00m\n\u001b[0;32m--> 489\u001b[0m trees \u001b[38;5;241m=\u001b[39m \u001b[43mParallel\u001b[49m\u001b[43m(\u001b[49m\n\u001b[1;32m    490\u001b[0m \u001b[43m    \u001b[49m\u001b[43mn_jobs\u001b[49m\u001b[38;5;241;43m=\u001b[39;49m\u001b[38;5;28;43mself\u001b[39;49m\u001b[38;5;241;43m.\u001b[39;49m\u001b[43mn_jobs\u001b[49m\u001b[43m,\u001b[49m\n\u001b[1;32m    491\u001b[0m \u001b[43m    \u001b[49m\u001b[43mverbose\u001b[49m\u001b[38;5;241;43m=\u001b[39;49m\u001b[38;5;28;43mself\u001b[39;49m\u001b[38;5;241;43m.\u001b[39;49m\u001b[43mverbose\u001b[49m\u001b[43m,\u001b[49m\n\u001b[1;32m    492\u001b[0m \u001b[43m    \u001b[49m\u001b[43mprefer\u001b[49m\u001b[38;5;241;43m=\u001b[39;49m\u001b[38;5;124;43m\"\u001b[39;49m\u001b[38;5;124;43mthreads\u001b[39;49m\u001b[38;5;124;43m\"\u001b[39;49m\u001b[43m,\u001b[49m\n\u001b[1;32m    493\u001b[0m \u001b[43m\u001b[49m\u001b[43m)\u001b[49m\u001b[43m(\u001b[49m\n\u001b[1;32m    494\u001b[0m \u001b[43m    \u001b[49m\u001b[43mdelayed\u001b[49m\u001b[43m(\u001b[49m\u001b[43m_parallel_build_trees\u001b[49m\u001b[43m)\u001b[49m\u001b[43m(\u001b[49m\n\u001b[1;32m    495\u001b[0m \u001b[43m        \u001b[49m\u001b[43mt\u001b[49m\u001b[43m,\u001b[49m\n\u001b[1;32m    496\u001b[0m \u001b[43m        \u001b[49m\u001b[38;5;28;43mself\u001b[39;49m\u001b[38;5;241;43m.\u001b[39;49m\u001b[43mbootstrap\u001b[49m\u001b[43m,\u001b[49m\n\u001b[1;32m    497\u001b[0m \u001b[43m        \u001b[49m\u001b[43mX\u001b[49m\u001b[43m,\u001b[49m\n\u001b[1;32m    498\u001b[0m \u001b[43m        \u001b[49m\u001b[43my\u001b[49m\u001b[43m,\u001b[49m\n\u001b[1;32m    499\u001b[0m \u001b[43m        \u001b[49m\u001b[43msample_weight\u001b[49m\u001b[43m,\u001b[49m\n\u001b[1;32m    500\u001b[0m \u001b[43m        \u001b[49m\u001b[43mi\u001b[49m\u001b[43m,\u001b[49m\n\u001b[1;32m    501\u001b[0m \u001b[43m        \u001b[49m\u001b[38;5;28;43mlen\u001b[39;49m\u001b[43m(\u001b[49m\u001b[43mtrees\u001b[49m\u001b[43m)\u001b[49m\u001b[43m,\u001b[49m\n\u001b[1;32m    502\u001b[0m \u001b[43m        \u001b[49m\u001b[43mverbose\u001b[49m\u001b[38;5;241;43m=\u001b[39;49m\u001b[38;5;28;43mself\u001b[39;49m\u001b[38;5;241;43m.\u001b[39;49m\u001b[43mverbose\u001b[49m\u001b[43m,\u001b[49m\n\u001b[1;32m    503\u001b[0m \u001b[43m        \u001b[49m\u001b[43mclass_weight\u001b[49m\u001b[38;5;241;43m=\u001b[39;49m\u001b[38;5;28;43mself\u001b[39;49m\u001b[38;5;241;43m.\u001b[39;49m\u001b[43mclass_weight\u001b[49m\u001b[43m,\u001b[49m\n\u001b[1;32m    504\u001b[0m \u001b[43m        \u001b[49m\u001b[43mn_samples_bootstrap\u001b[49m\u001b[38;5;241;43m=\u001b[39;49m\u001b[43mn_samples_bootstrap\u001b[49m\u001b[43m,\u001b[49m\n\u001b[1;32m    505\u001b[0m \u001b[43m        \u001b[49m\u001b[43mmissing_values_in_feature_mask\u001b[49m\u001b[38;5;241;43m=\u001b[39;49m\u001b[43mmissing_values_in_feature_mask\u001b[49m\u001b[43m,\u001b[49m\n\u001b[1;32m    506\u001b[0m \u001b[43m    \u001b[49m\u001b[43m)\u001b[49m\n\u001b[1;32m    507\u001b[0m \u001b[43m    \u001b[49m\u001b[38;5;28;43;01mfor\u001b[39;49;00m\u001b[43m \u001b[49m\u001b[43mi\u001b[49m\u001b[43m,\u001b[49m\u001b[43m \u001b[49m\u001b[43mt\u001b[49m\u001b[43m \u001b[49m\u001b[38;5;129;43;01min\u001b[39;49;00m\u001b[43m \u001b[49m\u001b[38;5;28;43menumerate\u001b[39;49m\u001b[43m(\u001b[49m\u001b[43mtrees\u001b[49m\u001b[43m)\u001b[49m\n\u001b[1;32m    508\u001b[0m \u001b[43m\u001b[49m\u001b[43m)\u001b[49m\n\u001b[1;32m    510\u001b[0m \u001b[38;5;66;03m# Collect newly grown trees\u001b[39;00m\n\u001b[1;32m    511\u001b[0m \u001b[38;5;28mself\u001b[39m\u001b[38;5;241m.\u001b[39mestimators_\u001b[38;5;241m.\u001b[39mextend(trees)\n",
      "File \u001b[0;32m~/Documents/1_Settings/anaconda3/envs/APEEG_D/lib/python3.9/site-packages/sklearn/utils/parallel.py:74\u001b[0m, in \u001b[0;36mParallel.__call__\u001b[0;34m(self, iterable)\u001b[0m\n\u001b[1;32m     69\u001b[0m config \u001b[38;5;241m=\u001b[39m get_config()\n\u001b[1;32m     70\u001b[0m iterable_with_config \u001b[38;5;241m=\u001b[39m (\n\u001b[1;32m     71\u001b[0m     (_with_config(delayed_func, config), args, kwargs)\n\u001b[1;32m     72\u001b[0m     \u001b[38;5;28;01mfor\u001b[39;00m delayed_func, args, kwargs \u001b[38;5;129;01min\u001b[39;00m iterable\n\u001b[1;32m     73\u001b[0m )\n\u001b[0;32m---> 74\u001b[0m \u001b[38;5;28;01mreturn\u001b[39;00m \u001b[38;5;28;43msuper\u001b[39;49m\u001b[43m(\u001b[49m\u001b[43m)\u001b[49m\u001b[38;5;241;43m.\u001b[39;49m\u001b[38;5;21;43m__call__\u001b[39;49m\u001b[43m(\u001b[49m\u001b[43miterable_with_config\u001b[49m\u001b[43m)\u001b[49m\n",
      "File \u001b[0;32m~/Documents/1_Settings/anaconda3/envs/APEEG_D/lib/python3.9/site-packages/joblib/parallel.py:1918\u001b[0m, in \u001b[0;36mParallel.__call__\u001b[0;34m(self, iterable)\u001b[0m\n\u001b[1;32m   1916\u001b[0m     output \u001b[38;5;241m=\u001b[39m \u001b[38;5;28mself\u001b[39m\u001b[38;5;241m.\u001b[39m_get_sequential_output(iterable)\n\u001b[1;32m   1917\u001b[0m     \u001b[38;5;28mnext\u001b[39m(output)\n\u001b[0;32m-> 1918\u001b[0m     \u001b[38;5;28;01mreturn\u001b[39;00m output \u001b[38;5;28;01mif\u001b[39;00m \u001b[38;5;28mself\u001b[39m\u001b[38;5;241m.\u001b[39mreturn_generator \u001b[38;5;28;01melse\u001b[39;00m \u001b[38;5;28;43mlist\u001b[39;49m\u001b[43m(\u001b[49m\u001b[43moutput\u001b[49m\u001b[43m)\u001b[49m\n\u001b[1;32m   1920\u001b[0m \u001b[38;5;66;03m# Let's create an ID that uniquely identifies the current call. If the\u001b[39;00m\n\u001b[1;32m   1921\u001b[0m \u001b[38;5;66;03m# call is interrupted early and that the same instance is immediately\u001b[39;00m\n\u001b[1;32m   1922\u001b[0m \u001b[38;5;66;03m# re-used, this id will be used to prevent workers that were\u001b[39;00m\n\u001b[1;32m   1923\u001b[0m \u001b[38;5;66;03m# concurrently finalizing a task from the previous call to run the\u001b[39;00m\n\u001b[1;32m   1924\u001b[0m \u001b[38;5;66;03m# callback.\u001b[39;00m\n\u001b[1;32m   1925\u001b[0m \u001b[38;5;28;01mwith\u001b[39;00m \u001b[38;5;28mself\u001b[39m\u001b[38;5;241m.\u001b[39m_lock:\n",
      "File \u001b[0;32m~/Documents/1_Settings/anaconda3/envs/APEEG_D/lib/python3.9/site-packages/joblib/parallel.py:1847\u001b[0m, in \u001b[0;36mParallel._get_sequential_output\u001b[0;34m(self, iterable)\u001b[0m\n\u001b[1;32m   1845\u001b[0m \u001b[38;5;28mself\u001b[39m\u001b[38;5;241m.\u001b[39mn_dispatched_batches \u001b[38;5;241m+\u001b[39m\u001b[38;5;241m=\u001b[39m \u001b[38;5;241m1\u001b[39m\n\u001b[1;32m   1846\u001b[0m \u001b[38;5;28mself\u001b[39m\u001b[38;5;241m.\u001b[39mn_dispatched_tasks \u001b[38;5;241m+\u001b[39m\u001b[38;5;241m=\u001b[39m \u001b[38;5;241m1\u001b[39m\n\u001b[0;32m-> 1847\u001b[0m res \u001b[38;5;241m=\u001b[39m \u001b[43mfunc\u001b[49m\u001b[43m(\u001b[49m\u001b[38;5;241;43m*\u001b[39;49m\u001b[43margs\u001b[49m\u001b[43m,\u001b[49m\u001b[43m \u001b[49m\u001b[38;5;241;43m*\u001b[39;49m\u001b[38;5;241;43m*\u001b[39;49m\u001b[43mkwargs\u001b[49m\u001b[43m)\u001b[49m\n\u001b[1;32m   1848\u001b[0m \u001b[38;5;28mself\u001b[39m\u001b[38;5;241m.\u001b[39mn_completed_tasks \u001b[38;5;241m+\u001b[39m\u001b[38;5;241m=\u001b[39m \u001b[38;5;241m1\u001b[39m\n\u001b[1;32m   1849\u001b[0m \u001b[38;5;28mself\u001b[39m\u001b[38;5;241m.\u001b[39mprint_progress()\n",
      "File \u001b[0;32m~/Documents/1_Settings/anaconda3/envs/APEEG_D/lib/python3.9/site-packages/sklearn/utils/parallel.py:136\u001b[0m, in \u001b[0;36m_FuncWrapper.__call__\u001b[0;34m(self, *args, **kwargs)\u001b[0m\n\u001b[1;32m    134\u001b[0m     config \u001b[38;5;241m=\u001b[39m {}\n\u001b[1;32m    135\u001b[0m \u001b[38;5;28;01mwith\u001b[39;00m config_context(\u001b[38;5;241m*\u001b[39m\u001b[38;5;241m*\u001b[39mconfig):\n\u001b[0;32m--> 136\u001b[0m     \u001b[38;5;28;01mreturn\u001b[39;00m \u001b[38;5;28;43mself\u001b[39;49m\u001b[38;5;241;43m.\u001b[39;49m\u001b[43mfunction\u001b[49m\u001b[43m(\u001b[49m\u001b[38;5;241;43m*\u001b[39;49m\u001b[43margs\u001b[49m\u001b[43m,\u001b[49m\u001b[43m \u001b[49m\u001b[38;5;241;43m*\u001b[39;49m\u001b[38;5;241;43m*\u001b[39;49m\u001b[43mkwargs\u001b[49m\u001b[43m)\u001b[49m\n",
      "File \u001b[0;32m~/Documents/1_Settings/anaconda3/envs/APEEG_D/lib/python3.9/site-packages/sklearn/ensemble/_forest.py:179\u001b[0m, in \u001b[0;36m_parallel_build_trees\u001b[0;34m(tree, bootstrap, X, y, sample_weight, tree_idx, n_trees, verbose, class_weight, n_samples_bootstrap, missing_values_in_feature_mask)\u001b[0m\n\u001b[1;32m    176\u001b[0m \u001b[38;5;28;01melse\u001b[39;00m:\n\u001b[1;32m    177\u001b[0m     curr_sample_weight \u001b[38;5;241m=\u001b[39m sample_weight\u001b[38;5;241m.\u001b[39mcopy()\n\u001b[0;32m--> 179\u001b[0m indices \u001b[38;5;241m=\u001b[39m \u001b[43m_generate_sample_indices\u001b[49m\u001b[43m(\u001b[49m\n\u001b[1;32m    180\u001b[0m \u001b[43m    \u001b[49m\u001b[43mtree\u001b[49m\u001b[38;5;241;43m.\u001b[39;49m\u001b[43mrandom_state\u001b[49m\u001b[43m,\u001b[49m\u001b[43m \u001b[49m\u001b[43mn_samples\u001b[49m\u001b[43m,\u001b[49m\u001b[43m \u001b[49m\u001b[43mn_samples_bootstrap\u001b[49m\n\u001b[1;32m    181\u001b[0m \u001b[43m\u001b[49m\u001b[43m)\u001b[49m\n\u001b[1;32m    182\u001b[0m sample_counts \u001b[38;5;241m=\u001b[39m np\u001b[38;5;241m.\u001b[39mbincount(indices, minlength\u001b[38;5;241m=\u001b[39mn_samples)\n\u001b[1;32m    183\u001b[0m curr_sample_weight \u001b[38;5;241m*\u001b[39m\u001b[38;5;241m=\u001b[39m sample_counts\n",
      "File \u001b[0;32m~/Documents/1_Settings/anaconda3/envs/APEEG_D/lib/python3.9/site-packages/sklearn/ensemble/_forest.py:132\u001b[0m, in \u001b[0;36m_generate_sample_indices\u001b[0;34m(random_state, n_samples, n_samples_bootstrap)\u001b[0m\n\u001b[1;32m    128\u001b[0m \u001b[38;5;28;01mdef\u001b[39;00m \u001b[38;5;21m_generate_sample_indices\u001b[39m(random_state, n_samples, n_samples_bootstrap):\n\u001b[1;32m    129\u001b[0m \u001b[38;5;250m    \u001b[39m\u001b[38;5;124;03m\"\"\"\u001b[39;00m\n\u001b[1;32m    130\u001b[0m \u001b[38;5;124;03m    Private function used to _parallel_build_trees function.\"\"\"\u001b[39;00m\n\u001b[0;32m--> 132\u001b[0m     random_instance \u001b[38;5;241m=\u001b[39m \u001b[43mcheck_random_state\u001b[49m\u001b[43m(\u001b[49m\u001b[43mrandom_state\u001b[49m\u001b[43m)\u001b[49m\n\u001b[1;32m    133\u001b[0m     sample_indices \u001b[38;5;241m=\u001b[39m random_instance\u001b[38;5;241m.\u001b[39mrandint(\n\u001b[1;32m    134\u001b[0m         \u001b[38;5;241m0\u001b[39m, n_samples, n_samples_bootstrap, dtype\u001b[38;5;241m=\u001b[39mnp\u001b[38;5;241m.\u001b[39mint32\n\u001b[1;32m    135\u001b[0m     )\n\u001b[1;32m    137\u001b[0m     \u001b[38;5;28;01mreturn\u001b[39;00m sample_indices\n",
      "File \u001b[0;32m~/Documents/1_Settings/anaconda3/envs/APEEG_D/lib/python3.9/site-packages/sklearn/utils/validation.py:1436\u001b[0m, in \u001b[0;36mcheck_random_state\u001b[0;34m(seed)\u001b[0m\n\u001b[1;32m   1434\u001b[0m     \u001b[38;5;28;01mreturn\u001b[39;00m np\u001b[38;5;241m.\u001b[39mrandom\u001b[38;5;241m.\u001b[39mmtrand\u001b[38;5;241m.\u001b[39m_rand\n\u001b[1;32m   1435\u001b[0m \u001b[38;5;28;01mif\u001b[39;00m \u001b[38;5;28misinstance\u001b[39m(seed, numbers\u001b[38;5;241m.\u001b[39mIntegral):\n\u001b[0;32m-> 1436\u001b[0m     \u001b[38;5;28;01mreturn\u001b[39;00m \u001b[43mnp\u001b[49m\u001b[38;5;241;43m.\u001b[39;49m\u001b[43mrandom\u001b[49m\u001b[38;5;241;43m.\u001b[39;49m\u001b[43mRandomState\u001b[49m\u001b[43m(\u001b[49m\u001b[43mseed\u001b[49m\u001b[43m)\u001b[49m\n\u001b[1;32m   1437\u001b[0m \u001b[38;5;28;01mif\u001b[39;00m \u001b[38;5;28misinstance\u001b[39m(seed, np\u001b[38;5;241m.\u001b[39mrandom\u001b[38;5;241m.\u001b[39mRandomState):\n\u001b[1;32m   1438\u001b[0m     \u001b[38;5;28;01mreturn\u001b[39;00m seed\n",
      "File \u001b[0;32mnumpy/random/mtrand.pyx:185\u001b[0m, in \u001b[0;36mnumpy.random.mtrand.RandomState.__init__\u001b[0;34m()\u001b[0m\n",
      "File \u001b[0;32m_mt19937.pyx:132\u001b[0m, in \u001b[0;36mnumpy.random._mt19937.MT19937.__init__\u001b[0;34m()\u001b[0m\n",
      "File \u001b[0;32m~/Documents/1_Settings/anaconda3/envs/APEEG_D/lib/python3.9/site-packages/numpy/_core/_ufunc_config.py:449\u001b[0m, in \u001b[0;36merrstate.__call__.<locals>.inner\u001b[0;34m(*args, **kwargs)\u001b[0m\n\u001b[1;32m    446\u001b[0m _token \u001b[38;5;241m=\u001b[39m _extobj_contextvar\u001b[38;5;241m.\u001b[39mset(extobj)\n\u001b[1;32m    447\u001b[0m \u001b[38;5;28;01mtry\u001b[39;00m:\n\u001b[1;32m    448\u001b[0m     \u001b[38;5;66;03m# Call the original, decorated, function:\u001b[39;00m\n\u001b[0;32m--> 449\u001b[0m     \u001b[38;5;28;01mreturn\u001b[39;00m \u001b[43mfunc\u001b[49m\u001b[43m(\u001b[49m\u001b[38;5;241;43m*\u001b[39;49m\u001b[43margs\u001b[49m\u001b[43m,\u001b[49m\u001b[43m \u001b[49m\u001b[38;5;241;43m*\u001b[39;49m\u001b[38;5;241;43m*\u001b[39;49m\u001b[43mkwargs\u001b[49m\u001b[43m)\u001b[49m\n\u001b[1;32m    450\u001b[0m \u001b[38;5;28;01mfinally\u001b[39;00m:\n\u001b[1;32m    451\u001b[0m     _extobj_contextvar\u001b[38;5;241m.\u001b[39mreset(_token)\n",
      "\u001b[0;31mKeyboardInterrupt\u001b[0m: "
     ]
    }
   ],
   "source": [
    "import numpy as np\n",
    "from sklearn.model_selection import train_test_split, StratifiedKFold, GridSearchCV, cross_val_score\n",
    "from sklearn.linear_model import LogisticRegression\n",
    "from sklearn.ensemble import RandomForestClassifier\n",
    "from sklearn.metrics import accuracy_score\n",
    "\n",
    "# Khởi tạo biến lưu kết quả\n",
    "accuracies_multiple = np.zeros((3, 2, 2))  # 3 phương pháp, 2 mô hình, 2 giá trị mean và std\n",
    "num_folds = 10\n",
    "numLoop = 100\n",
    "\n",
    "for i in range(1, 4):\n",
    "    # Dữ liệu đầu vào\n",
    "    X = X_mat['featuresX']\n",
    "    X = keep_columns(X[i-1], [3, 4], 5)\n",
    "    \n",
    "    train_mean_array_lr = np.empty(numLoop)\n",
    "    test_mean_array_lr = np.empty(numLoop)\n",
    "    train_mean_array_rf = np.empty(numLoop)\n",
    "    test_mean_array_rf = np.empty(numLoop)\n",
    "\n",
    "    for state in range(1, numLoop + 1):\n",
    "        \n",
    "        # Tách dữ liệu thành tập huấn luyện và tập kiểm tra\n",
    "        X_train, X_test, y_train, y_test = train_test_split(X, y, test_size=0.3, random_state=state)\n",
    "        \n",
    "        # Logistic Regression\n",
    "        logistic_regression_param_grid = {\n",
    "            'penalty': ['l1', 'l2'],\n",
    "            'C': [0.001, 0.01, 0.1, 1, 10, 100]\n",
    "        }\n",
    "        logistic_regression_model = LogisticRegression(class_weight=class_weight)\n",
    "        logistic_regression_grid_search = GridSearchCV(logistic_regression_model, logistic_regression_param_grid, cv=num_folds)\n",
    "        logistic_regression_grid_search.fit(X_train, y_train)\n",
    "        best_logistic_regression_model = logistic_regression_grid_search.best_estimator_\n",
    "\n",
    "        model_lr = LogisticRegression(\n",
    "            penalty=best_logistic_regression_model.penalty,\n",
    "            C=best_logistic_regression_model.C,\n",
    "            class_weight=class_weight\n",
    "        )\n",
    "        \n",
    "        # Random Forest\n",
    "        random_forest_param_grid = {\n",
    "            'n_estimators': [10, 50, 100],\n",
    "            'max_depth': [None, 10, 20],\n",
    "            'min_samples_split': [2, 5, 10]\n",
    "        }\n",
    "        random_forest_model = RandomForestClassifier(class_weight=class_weight)\n",
    "        random_forest_grid_search = GridSearchCV(random_forest_model, random_forest_param_grid, cv=num_folds)\n",
    "        random_forest_grid_search.fit(X_train, y_train)\n",
    "        best_random_forest_model = random_forest_grid_search.best_estimator_\n",
    "\n",
    "        model_rf = RandomForestClassifier(\n",
    "            n_estimators=best_random_forest_model.n_estimators,\n",
    "            max_depth=best_random_forest_model.max_depth,\n",
    "            min_samples_split=best_random_forest_model.min_samples_split,\n",
    "            class_weight=class_weight\n",
    "        )\n",
    "\n",
    "        # Cross-validation cho Logistic Regression\n",
    "        stratified_kfold = StratifiedKFold(n_splits=num_folds, shuffle=True, random_state=state)\n",
    "        \n",
    "        # Logistic Regression\n",
    "        cv_train_scores_lr = cross_val_score(model_lr, X_train, y_train, cv=stratified_kfold)\n",
    "        mean_train_accuracy_lr = cv_train_scores_lr.mean()\n",
    "        train_mean_array_lr[state-1] = mean_train_accuracy_lr\n",
    "\n",
    "        model_lr.fit(X_train, y_train)\n",
    "        y_pred_lr = model_lr.predict(X_test)\n",
    "        test_accuracy_lr = accuracy_score(y_test, y_pred_lr)\n",
    "        test_mean_array_lr[state-1] = test_accuracy_lr\n",
    "        \n",
    "        # Random Forest\n",
    "        cv_train_scores_rf = cross_val_score(model_rf, X_train, y_train, cv=stratified_kfold)\n",
    "        mean_train_accuracy_rf = cv_train_scores_rf.mean()\n",
    "        train_mean_array_rf[state-1] = mean_train_accuracy_rf\n",
    "\n",
    "        model_rf.fit(X_train, y_train)\n",
    "        y_pred_rf = model_rf.predict(X_test)\n",
    "        test_accuracy_rf = accuracy_score(y_test, y_pred_rf)\n",
    "        test_mean_array_rf[state-1] = test_accuracy_rf\n",
    "\n",
    "    # Tính toán độ chính xác trung bình và độ lệch chuẩn cho cả hai mô hình\n",
    "    mean_train_accuracy_lr = np.mean(train_mean_array_lr)\n",
    "    std_train_accuracy_lr = np.std(train_mean_array_lr)\n",
    "    mean_test_accuracy_lr = np.mean(test_mean_array_lr)\n",
    "    std_test_accuracy_lr = np.std(test_mean_array_lr)\n",
    "    \n",
    "    mean_train_accuracy_rf = np.mean(train_mean_array_rf)\n",
    "    std_train_accuracy_rf = np.std(train_mean_array_rf)\n",
    "    mean_test_accuracy_rf = np.mean(test_mean_array_rf)\n",
    "    std_test_accuracy_rf = np.std(test_mean_array_rf)\n",
    "\n",
    "    # In kết quả cho Logistic Regression\n",
    "    print(f\"Logistic Regression (Feature Set {i}) - Train Mean Accuracy: {mean_train_accuracy_lr:.3f} ± {std_train_accuracy_lr:.3f}\")\n",
    "    print(f\"Logistic Regression (Feature Set {i}) - Test Mean Accuracy: {mean_test_accuracy_lr:.3f} ± {std_test_accuracy_lr:.3f}\\n\")\n",
    "\n",
    "    # In kết quả cho Random Forest\n",
    "    print(f\"Random Forest (Feature Set {i}) - Train Mean Accuracy: {mean_train_accuracy_rf:.3f} ± {std_train_accuracy_rf:.3f}\")\n",
    "    print(f\"Random Forest (Feature Set {i}) - Test Mean Accuracy: {mean_test_accuracy_rf:.3f} ± {std_test_accuracy_rf:.3f}\\n\")\n",
    "    \n",
    "    # Lưu kết quả\n",
    "    accuracies_multiple[i-1, 0, :] = [mean_test_accuracy_lr, std_test_accuracy_lr]\n",
    "    accuracies_multiple[i-1, 1, :] = [mean_test_accuracy_rf, std_test_accuracy_rf]\n"
   ]
  },
  {
   "cell_type": "markdown",
   "id": "f7c7f77b-9fa9-4c80-b181-08f78dec4d11",
   "metadata": {
    "jp-MarkdownHeadingCollapsed": true
   },
   "source": [
    "# Random Forest"
   ]
  },
  {
   "cell_type": "code",
   "execution_count": 38,
   "id": "e434abfe-4264-406f-a775-af694b1f30b8",
   "metadata": {},
   "outputs": [
    {
     "name": "stderr",
     "output_type": "stream",
     "text": [
      "[I 2024-08-14 14:18:39,147] A new study created in memory with name: no-name-d714d1db-4f72-463f-a282-a5ac3667bc80\n"
     ]
    },
    {
     "name": "stdout",
     "output_type": "stream",
     "text": [
      "Random Forest\n"
     ]
    },
    {
     "name": "stderr",
     "output_type": "stream",
     "text": [
      "[I 2024-08-14 14:18:40,789] Trial 0 finished with value: -0.5285714285714286 and parameters: {'n_estimators': 200, 'max_depth': None, 'min_samples_split': 5, 'min_samples_leaf': 5}. Best is trial 0 with value: -0.5285714285714286.\n",
      "[I 2024-08-14 14:18:41,608] Trial 1 finished with value: -0.523809523809524 and parameters: {'n_estimators': 100, 'max_depth': 10, 'min_samples_split': 2, 'min_samples_leaf': 2}. Best is trial 0 with value: -0.5285714285714286.\n",
      "[I 2024-08-14 14:18:42,399] Trial 2 finished with value: -0.5614718614718613 and parameters: {'n_estimators': 100, 'max_depth': None, 'min_samples_split': 10, 'min_samples_leaf': 4}. Best is trial 2 with value: -0.5614718614718613.\n",
      "[I 2024-08-14 14:18:42,765] Trial 3 finished with value: -0.5469696969696969 and parameters: {'n_estimators': 50, 'max_depth': 20, 'min_samples_split': 10, 'min_samples_leaf': 10}. Best is trial 2 with value: -0.5614718614718613.\n",
      "[I 2024-08-14 14:18:42,852] Trial 4 finished with value: -0.5194805194805194 and parameters: {'n_estimators': 10, 'max_depth': 20, 'min_samples_split': 2, 'min_samples_leaf': 10}. Best is trial 2 with value: -0.5614718614718613.\n",
      "[I 2024-08-14 14:18:43,602] Trial 5 finished with value: -0.5194805194805194 and parameters: {'n_estimators': 100, 'max_depth': None, 'min_samples_split': 10, 'min_samples_leaf': 5}. Best is trial 2 with value: -0.5614718614718613.\n",
      "[I 2024-08-14 14:18:44,342] Trial 6 finished with value: -0.5194805194805194 and parameters: {'n_estimators': 100, 'max_depth': 20, 'min_samples_split': 2, 'min_samples_leaf': 5}. Best is trial 2 with value: -0.5614718614718613.\n",
      "[I 2024-08-14 14:18:44,737] Trial 7 finished with value: -0.5093073593073593 and parameters: {'n_estimators': 50, 'max_depth': None, 'min_samples_split': 5, 'min_samples_leaf': 2}. Best is trial 2 with value: -0.5614718614718613.\n",
      "[I 2024-08-14 14:18:46,149] Trial 8 finished with value: -0.5422077922077921 and parameters: {'n_estimators': 200, 'max_depth': 20, 'min_samples_split': 10, 'min_samples_leaf': 10}. Best is trial 2 with value: -0.5614718614718613.\n",
      "[I 2024-08-14 14:18:46,898] Trial 9 finished with value: -0.5385281385281385 and parameters: {'n_estimators': 100, 'max_depth': 20, 'min_samples_split': 2, 'min_samples_leaf': 4}. Best is trial 2 with value: -0.5614718614718613.\n",
      "[I 2024-08-14 14:18:46,990] Trial 10 finished with value: -0.5235930735930736 and parameters: {'n_estimators': 10, 'max_depth': 30, 'min_samples_split': 10, 'min_samples_leaf': 4}. Best is trial 2 with value: -0.5614718614718613.\n",
      "[I 2024-08-14 14:18:47,359] Trial 11 finished with value: -0.5469696969696969 and parameters: {'n_estimators': 50, 'max_depth': 30, 'min_samples_split': 10, 'min_samples_leaf': 10}. Best is trial 2 with value: -0.5614718614718613.\n",
      "[I 2024-08-14 14:18:47,747] Trial 12 finished with value: -0.5422077922077924 and parameters: {'n_estimators': 50, 'max_depth': 10, 'min_samples_split': 10, 'min_samples_leaf': 4}. Best is trial 2 with value: -0.5614718614718613.\n",
      "[I 2024-08-14 14:18:48,135] Trial 13 finished with value: -0.5515151515151515 and parameters: {'n_estimators': 50, 'max_depth': None, 'min_samples_split': 10, 'min_samples_leaf': 4}. Best is trial 2 with value: -0.5614718614718613.\n",
      "[I 2024-08-14 14:18:48,887] Trial 14 finished with value: -0.5614718614718613 and parameters: {'n_estimators': 100, 'max_depth': None, 'min_samples_split': 10, 'min_samples_leaf': 4}. Best is trial 2 with value: -0.5614718614718613.\n",
      "[I 2024-08-14 14:18:49,647] Trial 15 finished with value: -0.5614718614718613 and parameters: {'n_estimators': 100, 'max_depth': None, 'min_samples_split': 10, 'min_samples_leaf': 4}. Best is trial 2 with value: -0.5614718614718613.\n",
      "[I 2024-08-14 14:18:50,419] Trial 16 finished with value: -0.5385281385281385 and parameters: {'n_estimators': 100, 'max_depth': None, 'min_samples_split': 5, 'min_samples_leaf': 4}. Best is trial 2 with value: -0.5614718614718613.\n",
      "[I 2024-08-14 14:18:51,250] Trial 17 finished with value: -0.5614718614718613 and parameters: {'n_estimators': 100, 'max_depth': None, 'min_samples_split': 10, 'min_samples_leaf': 4}. Best is trial 2 with value: -0.5614718614718613.\n",
      "[I 2024-08-14 14:18:52,052] Trial 18 finished with value: -0.5614718614718613 and parameters: {'n_estimators': 100, 'max_depth': None, 'min_samples_split': 10, 'min_samples_leaf': 4}. Best is trial 2 with value: -0.5614718614718613.\n",
      "[I 2024-08-14 14:18:52,153] Trial 19 finished with value: -0.514069264069264 and parameters: {'n_estimators': 10, 'max_depth': 10, 'min_samples_split': 5, 'min_samples_leaf': 2}. Best is trial 2 with value: -0.5614718614718613.\n",
      "[I 2024-08-14 14:18:53,033] A new study created in memory with name: no-name-628a0f6c-f67d-4ea5-83af-9b634b263aac\n",
      "[I 2024-08-14 14:18:53,126] Trial 0 finished with value: -0.5194805194805194 and parameters: {'n_estimators': 10, 'max_depth': 20, 'min_samples_split': 5, 'min_samples_leaf': 10}. Best is trial 0 with value: -0.5194805194805194.\n"
     ]
    },
    {
     "name": "stdout",
     "output_type": "stream",
     "text": [
      "Mean Accuracy (Cross-Validation): 0.046 ± 0.082\n",
      "Mean Train Accuracy: 0.911 ± 0.000\n",
      "Mean Test Accuracy: 0.656 ± 0.000\n"
     ]
    },
    {
     "name": "stderr",
     "output_type": "stream",
     "text": [
      "[I 2024-08-14 14:18:53,929] Trial 1 finished with value: -0.5614718614718613 and parameters: {'n_estimators': 100, 'max_depth': 20, 'min_samples_split': 10, 'min_samples_leaf': 4}. Best is trial 1 with value: -0.5614718614718613.\n",
      "[I 2024-08-14 14:18:55,591] Trial 2 finished with value: -0.5190476190476191 and parameters: {'n_estimators': 200, 'max_depth': 10, 'min_samples_split': 2, 'min_samples_leaf': 2}. Best is trial 1 with value: -0.5614718614718613.\n",
      "[I 2024-08-14 14:18:56,006] Trial 3 finished with value: -0.5422077922077924 and parameters: {'n_estimators': 50, 'max_depth': 10, 'min_samples_split': 10, 'min_samples_leaf': 4}. Best is trial 1 with value: -0.5614718614718613.\n",
      "[I 2024-08-14 14:18:57,529] Trial 4 finished with value: -0.5422077922077921 and parameters: {'n_estimators': 200, 'max_depth': 20, 'min_samples_split': 5, 'min_samples_leaf': 10}. Best is trial 1 with value: -0.5614718614718613.\n",
      "[I 2024-08-14 14:18:57,627] Trial 5 finished with value: -0.5422077922077921 and parameters: {'n_estimators': 10, 'max_depth': 10, 'min_samples_split': 10, 'min_samples_leaf': 5}. Best is trial 1 with value: -0.5614718614718613.\n",
      "[I 2024-08-14 14:18:59,243] Trial 6 finished with value: -0.5333333333333334 and parameters: {'n_estimators': 200, 'max_depth': 10, 'min_samples_split': 10, 'min_samples_leaf': 2}. Best is trial 1 with value: -0.5614718614718613.\n",
      "[I 2024-08-14 14:19:00,958] Trial 7 finished with value: -0.5335497835497834 and parameters: {'n_estimators': 200, 'max_depth': 30, 'min_samples_split': 10, 'min_samples_leaf': 2}. Best is trial 1 with value: -0.5614718614718613.\n",
      "[I 2024-08-14 14:19:01,061] Trial 8 finished with value: -0.5194805194805194 and parameters: {'n_estimators': 10, 'max_depth': 20, 'min_samples_split': 10, 'min_samples_leaf': 10}. Best is trial 1 with value: -0.5614718614718613.\n",
      "[I 2024-08-14 14:19:02,582] Trial 9 finished with value: -0.5335497835497836 and parameters: {'n_estimators': 200, 'max_depth': None, 'min_samples_split': 2, 'min_samples_leaf': 4}. Best is trial 1 with value: -0.5614718614718613.\n",
      "[I 2024-08-14 14:19:03,362] Trial 10 finished with value: -0.5385281385281385 and parameters: {'n_estimators': 100, 'max_depth': None, 'min_samples_split': 5, 'min_samples_leaf': 4}. Best is trial 1 with value: -0.5614718614718613.\n",
      "[I 2024-08-14 14:19:03,766] Trial 11 finished with value: -0.5515151515151515 and parameters: {'n_estimators': 50, 'max_depth': 30, 'min_samples_split': 10, 'min_samples_leaf': 4}. Best is trial 1 with value: -0.5614718614718613.\n",
      "[I 2024-08-14 14:19:04,603] Trial 12 finished with value: -0.5614718614718613 and parameters: {'n_estimators': 100, 'max_depth': 30, 'min_samples_split': 10, 'min_samples_leaf': 4}. Best is trial 1 with value: -0.5614718614718613.\n",
      "[I 2024-08-14 14:19:05,428] Trial 13 finished with value: -0.5614718614718613 and parameters: {'n_estimators': 100, 'max_depth': 30, 'min_samples_split': 10, 'min_samples_leaf': 4}. Best is trial 1 with value: -0.5614718614718613.\n",
      "[I 2024-08-14 14:19:06,427] Trial 14 finished with value: -0.5194805194805194 and parameters: {'n_estimators': 100, 'max_depth': 20, 'min_samples_split': 10, 'min_samples_leaf': 5}. Best is trial 1 with value: -0.5614718614718613.\n",
      "[I 2024-08-14 14:19:07,382] Trial 15 finished with value: -0.5385281385281385 and parameters: {'n_estimators': 100, 'max_depth': 30, 'min_samples_split': 2, 'min_samples_leaf': 4}. Best is trial 1 with value: -0.5614718614718613.\n",
      "[I 2024-08-14 14:19:08,206] Trial 16 finished with value: -0.5614718614718613 and parameters: {'n_estimators': 100, 'max_depth': 30, 'min_samples_split': 10, 'min_samples_leaf': 4}. Best is trial 1 with value: -0.5614718614718613.\n",
      "[I 2024-08-14 14:19:09,013] Trial 17 finished with value: -0.5614718614718613 and parameters: {'n_estimators': 100, 'max_depth': 20, 'min_samples_split': 10, 'min_samples_leaf': 4}. Best is trial 1 with value: -0.5614718614718613.\n",
      "[I 2024-08-14 14:19:09,832] Trial 18 finished with value: -0.5194805194805194 and parameters: {'n_estimators': 100, 'max_depth': None, 'min_samples_split': 2, 'min_samples_leaf': 5}. Best is trial 1 with value: -0.5614718614718613.\n",
      "[I 2024-08-14 14:19:10,697] Trial 19 finished with value: -0.5385281385281385 and parameters: {'n_estimators': 100, 'max_depth': 20, 'min_samples_split': 5, 'min_samples_leaf': 4}. Best is trial 1 with value: -0.5614718614718613.\n",
      "[I 2024-08-14 14:19:11,594] A new study created in memory with name: no-name-32c77f81-28c2-4327-827c-529ac5b30a79\n"
     ]
    },
    {
     "name": "stdout",
     "output_type": "stream",
     "text": [
      "Mean Accuracy (Cross-Validation): 0.049 ± 0.094\n",
      "Mean Train Accuracy: 0.911 ± 0.000\n",
      "Mean Test Accuracy: 0.656 ± 0.000\n"
     ]
    },
    {
     "name": "stderr",
     "output_type": "stream",
     "text": [
      "[I 2024-08-14 14:19:12,004] Trial 0 finished with value: -0.5469696969696969 and parameters: {'n_estimators': 50, 'max_depth': None, 'min_samples_split': 10, 'min_samples_leaf': 10}. Best is trial 0 with value: -0.5469696969696969.\n",
      "[I 2024-08-14 14:19:12,113] Trial 1 finished with value: -0.514069264069264 and parameters: {'n_estimators': 10, 'max_depth': 10, 'min_samples_split': 5, 'min_samples_leaf': 2}. Best is trial 0 with value: -0.5469696969696969.\n",
      "[I 2024-08-14 14:19:12,567] Trial 2 finished with value: -0.524025974025974 and parameters: {'n_estimators': 50, 'max_depth': 10, 'min_samples_split': 5, 'min_samples_leaf': 4}. Best is trial 0 with value: -0.5469696969696969.\n",
      "[I 2024-08-14 14:19:12,666] Trial 3 finished with value: -0.5469696969696969 and parameters: {'n_estimators': 10, 'max_depth': 20, 'min_samples_split': 2, 'min_samples_leaf': 5}. Best is trial 0 with value: -0.5469696969696969.\n",
      "[I 2024-08-14 14:19:12,770] Trial 4 finished with value: -0.5422077922077921 and parameters: {'n_estimators': 10, 'max_depth': 20, 'min_samples_split': 10, 'min_samples_leaf': 2}. Best is trial 0 with value: -0.5469696969696969.\n",
      "[I 2024-08-14 14:19:14,379] Trial 5 finished with value: -0.5285714285714286 and parameters: {'n_estimators': 200, 'max_depth': 20, 'min_samples_split': 2, 'min_samples_leaf': 5}. Best is trial 0 with value: -0.5469696969696969.\n",
      "[I 2024-08-14 14:19:15,979] Trial 6 finished with value: -0.5422077922077921 and parameters: {'n_estimators': 200, 'max_depth': 10, 'min_samples_split': 10, 'min_samples_leaf': 4}. Best is trial 0 with value: -0.5469696969696969.\n",
      "[I 2024-08-14 14:19:16,402] Trial 7 finished with value: -0.5192640692640692 and parameters: {'n_estimators': 50, 'max_depth': None, 'min_samples_split': 2, 'min_samples_leaf': 4}. Best is trial 0 with value: -0.5469696969696969.\n",
      "[I 2024-08-14 14:19:16,833] Trial 8 finished with value: -0.5292207792207793 and parameters: {'n_estimators': 50, 'max_depth': 20, 'min_samples_split': 10, 'min_samples_leaf': 5}. Best is trial 0 with value: -0.5469696969696969.\n",
      "[I 2024-08-14 14:19:18,448] Trial 9 finished with value: -0.5422077922077921 and parameters: {'n_estimators': 200, 'max_depth': None, 'min_samples_split': 2, 'min_samples_leaf': 10}. Best is trial 0 with value: -0.5469696969696969.\n",
      "[I 2024-08-14 14:19:19,363] Trial 10 finished with value: -0.5376623376623375 and parameters: {'n_estimators': 100, 'max_depth': 30, 'min_samples_split': 10, 'min_samples_leaf': 10}. Best is trial 0 with value: -0.5469696969696969.\n",
      "[I 2024-08-14 14:19:19,479] Trial 11 finished with value: -0.5469696969696969 and parameters: {'n_estimators': 10, 'max_depth': None, 'min_samples_split': 2, 'min_samples_leaf': 5}. Best is trial 0 with value: -0.5469696969696969.\n",
      "[I 2024-08-14 14:19:20,356] Trial 12 finished with value: -0.5376623376623375 and parameters: {'n_estimators': 100, 'max_depth': 30, 'min_samples_split': 10, 'min_samples_leaf': 10}. Best is trial 0 with value: -0.5469696969696969.\n",
      "[I 2024-08-14 14:19:20,794] Trial 13 finished with value: -0.5469696969696969 and parameters: {'n_estimators': 50, 'max_depth': None, 'min_samples_split': 2, 'min_samples_leaf': 10}. Best is trial 0 with value: -0.5469696969696969.\n",
      "[I 2024-08-14 14:19:20,897] Trial 14 finished with value: -0.5469696969696969 and parameters: {'n_estimators': 10, 'max_depth': 20, 'min_samples_split': 5, 'min_samples_leaf': 5}. Best is trial 0 with value: -0.5469696969696969.\n",
      "[I 2024-08-14 14:19:21,326] Trial 15 finished with value: -0.5469696969696969 and parameters: {'n_estimators': 50, 'max_depth': None, 'min_samples_split': 10, 'min_samples_leaf': 10}. Best is trial 0 with value: -0.5469696969696969.\n",
      "[I 2024-08-14 14:19:21,435] Trial 16 finished with value: -0.5469696969696969 and parameters: {'n_estimators': 10, 'max_depth': 20, 'min_samples_split': 2, 'min_samples_leaf': 5}. Best is trial 0 with value: -0.5469696969696969.\n",
      "[I 2024-08-14 14:19:22,345] Trial 17 finished with value: -0.5235930735930736 and parameters: {'n_estimators': 100, 'max_depth': 30, 'min_samples_split': 2, 'min_samples_leaf': 2}. Best is trial 0 with value: -0.5469696969696969.\n",
      "[I 2024-08-14 14:19:22,455] Trial 18 finished with value: -0.5469696969696969 and parameters: {'n_estimators': 10, 'max_depth': 20, 'min_samples_split': 10, 'min_samples_leaf': 5}. Best is trial 0 with value: -0.5469696969696969.\n",
      "[I 2024-08-14 14:19:22,897] Trial 19 finished with value: -0.5469696969696969 and parameters: {'n_estimators': 50, 'max_depth': None, 'min_samples_split': 5, 'min_samples_leaf': 10}. Best is trial 0 with value: -0.5469696969696969.\n",
      "[I 2024-08-14 14:19:23,359] A new study created in memory with name: no-name-f76e4116-c16f-4e99-94c8-6a4d2fed1a8f\n"
     ]
    },
    {
     "name": "stdout",
     "output_type": "stream",
     "text": [
      "Mean Accuracy (Cross-Validation): 0.052 ± 0.103\n",
      "Mean Train Accuracy: 0.794 ± 0.000\n",
      "Mean Test Accuracy: 0.656 ± 0.000\n"
     ]
    },
    {
     "name": "stderr",
     "output_type": "stream",
     "text": [
      "[I 2024-08-14 14:19:24,974] Trial 0 finished with value: -0.5422077922077921 and parameters: {'n_estimators': 200, 'max_depth': 30, 'min_samples_split': 10, 'min_samples_leaf': 10}. Best is trial 0 with value: -0.5422077922077921.\n",
      "[I 2024-08-14 14:19:25,447] Trial 1 finished with value: -0.524025974025974 and parameters: {'n_estimators': 50, 'max_depth': 10, 'min_samples_split': 2, 'min_samples_leaf': 4}. Best is trial 0 with value: -0.5422077922077921.\n",
      "[I 2024-08-14 14:19:26,314] Trial 2 finished with value: -0.5376623376623375 and parameters: {'n_estimators': 100, 'max_depth': 10, 'min_samples_split': 2, 'min_samples_leaf': 10}. Best is trial 0 with value: -0.5422077922077921.\n",
      "[I 2024-08-14 14:19:26,776] Trial 3 finished with value: -0.533982683982684 and parameters: {'n_estimators': 50, 'max_depth': 10, 'min_samples_split': 5, 'min_samples_leaf': 5}. Best is trial 0 with value: -0.5422077922077921.\n",
      "[I 2024-08-14 14:19:28,616] Trial 4 finished with value: -0.5335497835497836 and parameters: {'n_estimators': 200, 'max_depth': 30, 'min_samples_split': 2, 'min_samples_leaf': 4}. Best is trial 0 with value: -0.5422077922077921.\n",
      "[I 2024-08-14 14:19:30,527] Trial 5 finished with value: -0.5238095238095237 and parameters: {'n_estimators': 200, 'max_depth': 20, 'min_samples_split': 2, 'min_samples_leaf': 2}. Best is trial 0 with value: -0.5422077922077921.\n",
      "[I 2024-08-14 14:19:32,298] Trial 6 finished with value: -0.5285714285714286 and parameters: {'n_estimators': 200, 'max_depth': None, 'min_samples_split': 5, 'min_samples_leaf': 5}. Best is trial 0 with value: -0.5422077922077921.\n",
      "[I 2024-08-14 14:19:33,285] Trial 7 finished with value: -0.5238095238095237 and parameters: {'n_estimators': 100, 'max_depth': 10, 'min_samples_split': 5, 'min_samples_leaf': 5}. Best is trial 0 with value: -0.5422077922077921.\n",
      "[I 2024-08-14 14:19:34,369] Trial 8 finished with value: -0.5194805194805194 and parameters: {'n_estimators': 100, 'max_depth': None, 'min_samples_split': 2, 'min_samples_leaf': 5}. Best is trial 0 with value: -0.5422077922077921.\n",
      "[I 2024-08-14 14:19:34,495] Trial 9 finished with value: -0.5287878787878787 and parameters: {'n_estimators': 10, 'max_depth': 30, 'min_samples_split': 2, 'min_samples_leaf': 4}. Best is trial 0 with value: -0.5422077922077921.\n",
      "[I 2024-08-14 14:19:34,619] Trial 10 finished with value: -0.5194805194805194 and parameters: {'n_estimators': 10, 'max_depth': 30, 'min_samples_split': 10, 'min_samples_leaf': 10}. Best is trial 0 with value: -0.5422077922077921.\n",
      "[I 2024-08-14 14:19:35,493] Trial 11 finished with value: -0.5376623376623375 and parameters: {'n_estimators': 100, 'max_depth': 20, 'min_samples_split': 10, 'min_samples_leaf': 10}. Best is trial 0 with value: -0.5422077922077921.\n",
      "[I 2024-08-14 14:19:37,164] Trial 12 finished with value: -0.5422077922077921 and parameters: {'n_estimators': 200, 'max_depth': 30, 'min_samples_split': 10, 'min_samples_leaf': 10}. Best is trial 0 with value: -0.5422077922077921.\n",
      "[I 2024-08-14 14:19:38,922] Trial 13 finished with value: -0.5422077922077921 and parameters: {'n_estimators': 200, 'max_depth': 30, 'min_samples_split': 10, 'min_samples_leaf': 10}. Best is trial 0 with value: -0.5422077922077921.\n",
      "[I 2024-08-14 14:19:40,718] Trial 14 finished with value: -0.5422077922077921 and parameters: {'n_estimators': 200, 'max_depth': 30, 'min_samples_split': 10, 'min_samples_leaf': 10}. Best is trial 0 with value: -0.5422077922077921.\n",
      "[I 2024-08-14 14:19:42,685] Trial 15 finished with value: -0.5335497835497834 and parameters: {'n_estimators': 200, 'max_depth': 30, 'min_samples_split': 10, 'min_samples_leaf': 2}. Best is trial 0 with value: -0.5422077922077921.\n",
      "[I 2024-08-14 14:19:44,393] Trial 16 finished with value: -0.5422077922077921 and parameters: {'n_estimators': 200, 'max_depth': 30, 'min_samples_split': 10, 'min_samples_leaf': 10}. Best is trial 0 with value: -0.5422077922077921.\n",
      "[I 2024-08-14 14:19:46,342] Trial 17 finished with value: -0.5422077922077921 and parameters: {'n_estimators': 200, 'max_depth': 30, 'min_samples_split': 10, 'min_samples_leaf': 10}. Best is trial 0 with value: -0.5422077922077921.\n",
      "[I 2024-08-14 14:19:46,464] Trial 18 finished with value: -0.5194805194805194 and parameters: {'n_estimators': 10, 'max_depth': 20, 'min_samples_split': 10, 'min_samples_leaf': 10}. Best is trial 0 with value: -0.5422077922077921.\n",
      "[I 2024-08-14 14:19:47,006] Trial 19 finished with value: -0.5335497835497836 and parameters: {'n_estimators': 50, 'max_depth': None, 'min_samples_split': 10, 'min_samples_leaf': 2}. Best is trial 0 with value: -0.5422077922077921.\n",
      "[I 2024-08-14 14:19:49,095] A new study created in memory with name: no-name-944830b7-6380-4a4b-879a-dcfde7b1746f\n"
     ]
    },
    {
     "name": "stdout",
     "output_type": "stream",
     "text": [
      "Mean Accuracy (Cross-Validation): 0.056 ± 0.114\n",
      "Mean Train Accuracy: 0.780 ± 0.000\n",
      "Mean Test Accuracy: 0.677 ± 0.000\n"
     ]
    },
    {
     "name": "stderr",
     "output_type": "stream",
     "text": [
      "[I 2024-08-14 14:19:51,163] Trial 0 finished with value: -0.5238095238095237 and parameters: {'n_estimators': 200, 'max_depth': 20, 'min_samples_split': 2, 'min_samples_leaf': 2}. Best is trial 0 with value: -0.5238095238095237.\n",
      "[I 2024-08-14 14:19:51,734] Trial 1 finished with value: -0.5335497835497836 and parameters: {'n_estimators': 50, 'max_depth': 30, 'min_samples_split': 10, 'min_samples_leaf': 2}. Best is trial 1 with value: -0.5335497835497836.\n",
      "[I 2024-08-14 14:19:51,851] Trial 2 finished with value: -0.5194805194805194 and parameters: {'n_estimators': 10, 'max_depth': 30, 'min_samples_split': 2, 'min_samples_leaf': 10}. Best is trial 1 with value: -0.5335497835497836.\n",
      "[I 2024-08-14 14:19:52,368] Trial 3 finished with value: -0.5469696969696969 and parameters: {'n_estimators': 50, 'max_depth': 30, 'min_samples_split': 5, 'min_samples_leaf': 10}. Best is trial 3 with value: -0.5469696969696969.\n",
      "[I 2024-08-14 14:19:52,494] Trial 4 finished with value: -0.5287878787878787 and parameters: {'n_estimators': 10, 'max_depth': 20, 'min_samples_split': 2, 'min_samples_leaf': 4}. Best is trial 3 with value: -0.5469696969696969.\n",
      "[I 2024-08-14 14:19:53,583] Trial 5 finished with value: -0.5331168831168831 and parameters: {'n_estimators': 100, 'max_depth': 10, 'min_samples_split': 10, 'min_samples_leaf': 2}. Best is trial 3 with value: -0.5469696969696969.\n",
      "[I 2024-08-14 14:19:54,580] Trial 6 finished with value: -0.5385281385281385 and parameters: {'n_estimators': 100, 'max_depth': None, 'min_samples_split': 5, 'min_samples_leaf': 4}. Best is trial 3 with value: -0.5469696969696969.\n",
      "[I 2024-08-14 14:19:56,446] Trial 7 finished with value: -0.5422077922077921 and parameters: {'n_estimators': 200, 'max_depth': None, 'min_samples_split': 10, 'min_samples_leaf': 10}. Best is trial 3 with value: -0.5469696969696969.\n",
      "[I 2024-08-14 14:19:56,566] Trial 8 finished with value: -0.5469696969696969 and parameters: {'n_estimators': 10, 'max_depth': 30, 'min_samples_split': 2, 'min_samples_leaf': 5}. Best is trial 3 with value: -0.5469696969696969.\n",
      "[I 2024-08-14 14:19:57,616] Trial 9 finished with value: -0.5238095238095237 and parameters: {'n_estimators': 100, 'max_depth': 10, 'min_samples_split': 5, 'min_samples_leaf': 5}. Best is trial 3 with value: -0.5469696969696969.\n",
      "[I 2024-08-14 14:19:58,142] Trial 10 finished with value: -0.5469696969696969 and parameters: {'n_estimators': 50, 'max_depth': 30, 'min_samples_split': 5, 'min_samples_leaf': 10}. Best is trial 3 with value: -0.5469696969696969.\n",
      "[I 2024-08-14 14:19:58,270] Trial 11 finished with value: -0.5469696969696969 and parameters: {'n_estimators': 10, 'max_depth': 30, 'min_samples_split': 2, 'min_samples_leaf': 5}. Best is trial 3 with value: -0.5469696969696969.\n",
      "[I 2024-08-14 14:19:58,791] Trial 12 finished with value: -0.5292207792207793 and parameters: {'n_estimators': 50, 'max_depth': 30, 'min_samples_split': 5, 'min_samples_leaf': 5}. Best is trial 3 with value: -0.5469696969696969.\n",
      "[I 2024-08-14 14:19:58,911] Trial 13 finished with value: -0.5194805194805194 and parameters: {'n_estimators': 10, 'max_depth': 30, 'min_samples_split': 5, 'min_samples_leaf': 10}. Best is trial 3 with value: -0.5469696969696969.\n",
      "[I 2024-08-14 14:19:59,435] Trial 14 finished with value: -0.5292207792207793 and parameters: {'n_estimators': 50, 'max_depth': 30, 'min_samples_split': 2, 'min_samples_leaf': 5}. Best is trial 3 with value: -0.5469696969696969.\n",
      "[I 2024-08-14 14:19:59,550] Trial 15 finished with value: -0.5194805194805194 and parameters: {'n_estimators': 10, 'max_depth': 30, 'min_samples_split': 5, 'min_samples_leaf': 10}. Best is trial 3 with value: -0.5469696969696969.\n",
      "[I 2024-08-14 14:20:00,067] Trial 16 finished with value: -0.5292207792207793 and parameters: {'n_estimators': 50, 'max_depth': None, 'min_samples_split': 2, 'min_samples_leaf': 5}. Best is trial 3 with value: -0.5469696969696969.\n",
      "[I 2024-08-14 14:20:02,072] Trial 17 finished with value: -0.524025974025974 and parameters: {'n_estimators': 200, 'max_depth': 10, 'min_samples_split': 5, 'min_samples_leaf': 4}. Best is trial 3 with value: -0.5469696969696969.\n",
      "[I 2024-08-14 14:20:02,578] Trial 18 finished with value: -0.5469696969696969 and parameters: {'n_estimators': 50, 'max_depth': 20, 'min_samples_split': 2, 'min_samples_leaf': 10}. Best is trial 3 with value: -0.5469696969696969.\n",
      "[I 2024-08-14 14:20:02,705] Trial 19 finished with value: -0.5469696969696969 and parameters: {'n_estimators': 10, 'max_depth': 30, 'min_samples_split': 10, 'min_samples_leaf': 5}. Best is trial 3 with value: -0.5469696969696969.\n",
      "[I 2024-08-14 14:20:03,289] A new study created in memory with name: no-name-a727bdd3-9ff4-4e24-8f4c-33f44a95bf1c\n"
     ]
    },
    {
     "name": "stdout",
     "output_type": "stream",
     "text": [
      "Mean Accuracy (Cross-Validation): 0.059 ± 0.122\n",
      "Mean Train Accuracy: 0.794 ± 0.000\n",
      "Mean Test Accuracy: 0.656 ± 0.000\n"
     ]
    },
    {
     "name": "stderr",
     "output_type": "stream",
     "text": [
      "[I 2024-08-14 14:20:04,374] Trial 0 finished with value: -0.5614718614718613 and parameters: {'n_estimators': 100, 'max_depth': 30, 'min_samples_split': 10, 'min_samples_leaf': 4}. Best is trial 0 with value: -0.5614718614718613.\n",
      "[I 2024-08-14 14:20:04,901] Trial 1 finished with value: -0.5469696969696969 and parameters: {'n_estimators': 50, 'max_depth': None, 'min_samples_split': 2, 'min_samples_leaf': 10}. Best is trial 0 with value: -0.5614718614718613.\n",
      "[I 2024-08-14 14:20:06,714] Trial 2 finished with value: -0.5285714285714286 and parameters: {'n_estimators': 200, 'max_depth': 20, 'min_samples_split': 5, 'min_samples_leaf': 5}. Best is trial 0 with value: -0.5614718614718613.\n",
      "[I 2024-08-14 14:20:07,740] Trial 3 finished with value: -0.5194805194805194 and parameters: {'n_estimators': 100, 'max_depth': None, 'min_samples_split': 5, 'min_samples_leaf': 5}. Best is trial 0 with value: -0.5614718614718613.\n",
      "[I 2024-08-14 14:20:08,220] Trial 4 finished with value: -0.5424242424242425 and parameters: {'n_estimators': 50, 'max_depth': 10, 'min_samples_split': 5, 'min_samples_leaf': 2}. Best is trial 0 with value: -0.5614718614718613.\n",
      "[I 2024-08-14 14:20:09,883] Trial 5 finished with value: -0.5335497835497836 and parameters: {'n_estimators': 200, 'max_depth': 20, 'min_samples_split': 5, 'min_samples_leaf': 4}. Best is trial 0 with value: -0.5614718614718613.\n",
      "[I 2024-08-14 14:20:09,986] Trial 6 finished with value: -0.5422077922077921 and parameters: {'n_estimators': 10, 'max_depth': 10, 'min_samples_split': 5, 'min_samples_leaf': 5}. Best is trial 0 with value: -0.5614718614718613.\n",
      "[I 2024-08-14 14:20:10,425] Trial 7 finished with value: -0.5292207792207793 and parameters: {'n_estimators': 50, 'max_depth': 30, 'min_samples_split': 5, 'min_samples_leaf': 5}. Best is trial 0 with value: -0.5614718614718613.\n",
      "[I 2024-08-14 14:20:10,854] Trial 8 finished with value: -0.5422077922077924 and parameters: {'n_estimators': 50, 'max_depth': 10, 'min_samples_split': 10, 'min_samples_leaf': 4}. Best is trial 0 with value: -0.5614718614718613.\n",
      "[I 2024-08-14 14:20:11,269] Trial 9 finished with value: -0.5093073593073593 and parameters: {'n_estimators': 50, 'max_depth': 20, 'min_samples_split': 5, 'min_samples_leaf': 2}. Best is trial 0 with value: -0.5614718614718613.\n",
      "[I 2024-08-14 14:20:12,102] Trial 10 finished with value: -0.5614718614718613 and parameters: {'n_estimators': 100, 'max_depth': 30, 'min_samples_split': 10, 'min_samples_leaf': 4}. Best is trial 0 with value: -0.5614718614718613.\n",
      "[I 2024-08-14 14:20:12,931] Trial 11 finished with value: -0.5614718614718613 and parameters: {'n_estimators': 100, 'max_depth': 30, 'min_samples_split': 10, 'min_samples_leaf': 4}. Best is trial 0 with value: -0.5614718614718613.\n",
      "[I 2024-08-14 14:20:13,781] Trial 12 finished with value: -0.5614718614718613 and parameters: {'n_estimators': 100, 'max_depth': 30, 'min_samples_split': 10, 'min_samples_leaf': 4}. Best is trial 0 with value: -0.5614718614718613.\n",
      "[I 2024-08-14 14:20:14,598] Trial 13 finished with value: -0.5614718614718613 and parameters: {'n_estimators': 100, 'max_depth': 30, 'min_samples_split': 10, 'min_samples_leaf': 4}. Best is trial 0 with value: -0.5614718614718613.\n",
      "[I 2024-08-14 14:20:15,343] Trial 14 finished with value: -0.5376623376623375 and parameters: {'n_estimators': 100, 'max_depth': 30, 'min_samples_split': 10, 'min_samples_leaf': 10}. Best is trial 0 with value: -0.5614718614718613.\n",
      "[I 2024-08-14 14:20:15,440] Trial 15 finished with value: -0.5287878787878787 and parameters: {'n_estimators': 10, 'max_depth': 30, 'min_samples_split': 2, 'min_samples_leaf': 4}. Best is trial 0 with value: -0.5614718614718613.\n",
      "[I 2024-08-14 14:20:16,264] Trial 16 finished with value: -0.5614718614718613 and parameters: {'n_estimators': 100, 'max_depth': 30, 'min_samples_split': 10, 'min_samples_leaf': 4}. Best is trial 0 with value: -0.5614718614718613.\n",
      "[I 2024-08-14 14:20:17,106] Trial 17 finished with value: -0.5614718614718613 and parameters: {'n_estimators': 100, 'max_depth': 30, 'min_samples_split': 10, 'min_samples_leaf': 4}. Best is trial 0 with value: -0.5614718614718613.\n",
      "[I 2024-08-14 14:20:17,952] Trial 18 finished with value: -0.5376623376623375 and parameters: {'n_estimators': 100, 'max_depth': None, 'min_samples_split': 10, 'min_samples_leaf': 10}. Best is trial 0 with value: -0.5614718614718613.\n",
      "[I 2024-08-14 14:20:18,061] Trial 19 finished with value: -0.4904761904761905 and parameters: {'n_estimators': 10, 'max_depth': 30, 'min_samples_split': 2, 'min_samples_leaf': 2}. Best is trial 0 with value: -0.5614718614718613.\n",
      "[I 2024-08-14 14:20:19,035] A new study created in memory with name: no-name-30fc1843-a8ac-4a11-8ced-eb571769f2f9\n"
     ]
    },
    {
     "name": "stdout",
     "output_type": "stream",
     "text": [
      "Mean Accuracy (Cross-Validation): 0.063 ± 0.130\n",
      "Mean Train Accuracy: 0.911 ± 0.000\n",
      "Mean Test Accuracy: 0.656 ± 0.000\n"
     ]
    },
    {
     "name": "stderr",
     "output_type": "stream",
     "text": [
      "[I 2024-08-14 14:20:19,472] Trial 0 finished with value: -0.5192640692640692 and parameters: {'n_estimators': 50, 'max_depth': 20, 'min_samples_split': 5, 'min_samples_leaf': 4}. Best is trial 0 with value: -0.5192640692640692.\n",
      "[I 2024-08-14 14:20:19,573] Trial 1 finished with value: -0.5469696969696969 and parameters: {'n_estimators': 10, 'max_depth': 30, 'min_samples_split': 2, 'min_samples_leaf': 5}. Best is trial 1 with value: -0.5469696969696969.\n",
      "[I 2024-08-14 14:20:21,197] Trial 2 finished with value: -0.5285714285714286 and parameters: {'n_estimators': 200, 'max_depth': 30, 'min_samples_split': 2, 'min_samples_leaf': 5}. Best is trial 1 with value: -0.5469696969696969.\n",
      "[I 2024-08-14 14:20:21,612] Trial 3 finished with value: -0.5469696969696969 and parameters: {'n_estimators': 50, 'max_depth': 10, 'min_samples_split': 2, 'min_samples_leaf': 10}. Best is trial 1 with value: -0.5469696969696969.\n",
      "[I 2024-08-14 14:20:22,437] Trial 4 finished with value: -0.5194805194805194 and parameters: {'n_estimators': 100, 'max_depth': 30, 'min_samples_split': 5, 'min_samples_leaf': 5}. Best is trial 1 with value: -0.5469696969696969.\n",
      "[I 2024-08-14 14:20:22,548] Trial 5 finished with value: -0.5422077922077921 and parameters: {'n_estimators': 10, 'max_depth': 10, 'min_samples_split': 10, 'min_samples_leaf': 5}. Best is trial 1 with value: -0.5469696969696969.\n",
      "[I 2024-08-14 14:20:22,661] Trial 6 finished with value: -0.5515151515151515 and parameters: {'n_estimators': 10, 'max_depth': 30, 'min_samples_split': 5, 'min_samples_leaf': 2}. Best is trial 6 with value: -0.5515151515151515.\n",
      "[I 2024-08-14 14:20:22,795] Trial 7 finished with value: -0.5515151515151515 and parameters: {'n_estimators': 10, 'max_depth': 30, 'min_samples_split': 5, 'min_samples_leaf': 2}. Best is trial 6 with value: -0.5515151515151515.\n",
      "[I 2024-08-14 14:20:23,300] Trial 8 finished with value: -0.5515151515151515 and parameters: {'n_estimators': 50, 'max_depth': 10, 'min_samples_split': 2, 'min_samples_leaf': 2}. Best is trial 6 with value: -0.5515151515151515.\n",
      "[I 2024-08-14 14:20:23,861] Trial 9 finished with value: -0.5292207792207793 and parameters: {'n_estimators': 50, 'max_depth': 20, 'min_samples_split': 2, 'min_samples_leaf': 5}. Best is trial 6 with value: -0.5515151515151515.\n",
      "[I 2024-08-14 14:20:24,956] Trial 10 finished with value: -0.5331168831168831 and parameters: {'n_estimators': 100, 'max_depth': 30, 'min_samples_split': 10, 'min_samples_leaf': 2}. Best is trial 6 with value: -0.5515151515151515.\n",
      "[I 2024-08-14 14:20:25,075] Trial 11 finished with value: -0.5515151515151515 and parameters: {'n_estimators': 10, 'max_depth': None, 'min_samples_split': 5, 'min_samples_leaf': 2}. Best is trial 6 with value: -0.5515151515151515.\n",
      "[I 2024-08-14 14:20:25,194] Trial 12 finished with value: -0.5515151515151515 and parameters: {'n_estimators': 10, 'max_depth': 30, 'min_samples_split': 5, 'min_samples_leaf': 2}. Best is trial 6 with value: -0.5515151515151515.\n",
      "[I 2024-08-14 14:20:25,323] Trial 13 finished with value: -0.5515151515151515 and parameters: {'n_estimators': 10, 'max_depth': None, 'min_samples_split': 5, 'min_samples_leaf': 2}. Best is trial 6 with value: -0.5515151515151515.\n",
      "[I 2024-08-14 14:20:27,125] Trial 14 finished with value: -0.5422077922077921 and parameters: {'n_estimators': 200, 'max_depth': 30, 'min_samples_split': 5, 'min_samples_leaf': 10}. Best is trial 6 with value: -0.5515151515151515.\n",
      "[I 2024-08-14 14:20:27,234] Trial 15 finished with value: -0.5287878787878787 and parameters: {'n_estimators': 10, 'max_depth': 30, 'min_samples_split': 5, 'min_samples_leaf': 4}. Best is trial 6 with value: -0.5515151515151515.\n",
      "[I 2024-08-14 14:20:27,348] Trial 16 finished with value: -0.5515151515151515 and parameters: {'n_estimators': 10, 'max_depth': 30, 'min_samples_split': 5, 'min_samples_leaf': 2}. Best is trial 6 with value: -0.5515151515151515.\n",
      "[I 2024-08-14 14:20:27,464] Trial 17 finished with value: -0.5422077922077921 and parameters: {'n_estimators': 10, 'max_depth': 20, 'min_samples_split': 10, 'min_samples_leaf': 2}. Best is trial 6 with value: -0.5515151515151515.\n",
      "[I 2024-08-14 14:20:28,362] Trial 18 finished with value: -0.5192640692640693 and parameters: {'n_estimators': 100, 'max_depth': None, 'min_samples_split': 5, 'min_samples_leaf': 2}. Best is trial 6 with value: -0.5515151515151515.\n",
      "[I 2024-08-14 14:20:30,051] Trial 19 finished with value: -0.5335497835497836 and parameters: {'n_estimators': 200, 'max_depth': 30, 'min_samples_split': 5, 'min_samples_leaf': 4}. Best is trial 6 with value: -0.5515151515151515.\n",
      "[I 2024-08-14 14:20:30,164] A new study created in memory with name: no-name-5c7ff260-7173-4bbe-b756-cedf94128b87\n"
     ]
    },
    {
     "name": "stdout",
     "output_type": "stream",
     "text": [
      "Mean Accuracy (Cross-Validation): 0.066 ± 0.138\n",
      "Mean Train Accuracy: 0.935 ± 0.000\n",
      "Mean Test Accuracy: 0.581 ± 0.000\n"
     ]
    },
    {
     "name": "stderr",
     "output_type": "stream",
     "text": [
      "[I 2024-08-14 14:20:31,867] Trial 0 finished with value: -0.5467532467532468 and parameters: {'n_estimators': 200, 'max_depth': None, 'min_samples_split': 10, 'min_samples_leaf': 4}. Best is trial 0 with value: -0.5467532467532468.\n",
      "[I 2024-08-14 14:20:33,643] Trial 1 finished with value: -0.5335497835497834 and parameters: {'n_estimators': 200, 'max_depth': 30, 'min_samples_split': 10, 'min_samples_leaf': 2}. Best is trial 0 with value: -0.5467532467532468.\n",
      "[I 2024-08-14 14:20:34,533] Trial 2 finished with value: -0.5331168831168831 and parameters: {'n_estimators': 100, 'max_depth': 20, 'min_samples_split': 10, 'min_samples_leaf': 2}. Best is trial 0 with value: -0.5467532467532468.\n",
      "[I 2024-08-14 14:20:36,161] Trial 3 finished with value: -0.5285714285714286 and parameters: {'n_estimators': 200, 'max_depth': 20, 'min_samples_split': 10, 'min_samples_leaf': 5}. Best is trial 0 with value: -0.5467532467532468.\n",
      "[I 2024-08-14 14:20:37,813] Trial 4 finished with value: -0.5285714285714286 and parameters: {'n_estimators': 200, 'max_depth': 10, 'min_samples_split': 2, 'min_samples_leaf': 5}. Best is trial 0 with value: -0.5467532467532468.\n",
      "[I 2024-08-14 14:20:37,913] Trial 5 finished with value: -0.5422077922077921 and parameters: {'n_estimators': 10, 'max_depth': None, 'min_samples_split': 10, 'min_samples_leaf': 2}. Best is trial 0 with value: -0.5467532467532468.\n",
      "[I 2024-08-14 14:20:38,024] Trial 6 finished with value: -0.4904761904761905 and parameters: {'n_estimators': 10, 'max_depth': None, 'min_samples_split': 2, 'min_samples_leaf': 2}. Best is trial 0 with value: -0.5467532467532468.\n",
      "[I 2024-08-14 14:20:39,762] Trial 7 finished with value: -0.5285714285714286 and parameters: {'n_estimators': 200, 'max_depth': 10, 'min_samples_split': 2, 'min_samples_leaf': 5}. Best is trial 0 with value: -0.5467532467532468.\n",
      "[I 2024-08-14 14:20:39,868] Trial 8 finished with value: -0.5235930735930736 and parameters: {'n_estimators': 10, 'max_depth': 30, 'min_samples_split': 10, 'min_samples_leaf': 4}. Best is trial 0 with value: -0.5467532467532468.\n",
      "[I 2024-08-14 14:20:41,483] Trial 9 finished with value: -0.5422077922077921 and parameters: {'n_estimators': 200, 'max_depth': 30, 'min_samples_split': 5, 'min_samples_leaf': 10}. Best is trial 0 with value: -0.5467532467532468.\n",
      "[I 2024-08-14 14:20:41,915] Trial 10 finished with value: -0.5192640692640692 and parameters: {'n_estimators': 50, 'max_depth': None, 'min_samples_split': 5, 'min_samples_leaf': 4}. Best is trial 0 with value: -0.5467532467532468.\n",
      "[I 2024-08-14 14:20:42,015] Trial 11 finished with value: -0.5235930735930736 and parameters: {'n_estimators': 10, 'max_depth': None, 'min_samples_split': 10, 'min_samples_leaf': 4}. Best is trial 0 with value: -0.5467532467532468.\n",
      "[I 2024-08-14 14:20:42,429] Trial 12 finished with value: -0.5469696969696969 and parameters: {'n_estimators': 50, 'max_depth': None, 'min_samples_split': 10, 'min_samples_leaf': 10}. Best is trial 12 with value: -0.5469696969696969.\n",
      "[I 2024-08-14 14:20:42,838] Trial 13 finished with value: -0.5469696969696969 and parameters: {'n_estimators': 50, 'max_depth': None, 'min_samples_split': 10, 'min_samples_leaf': 10}. Best is trial 12 with value: -0.5469696969696969.\n",
      "[I 2024-08-14 14:20:43,227] Trial 14 finished with value: -0.5469696969696969 and parameters: {'n_estimators': 50, 'max_depth': None, 'min_samples_split': 10, 'min_samples_leaf': 10}. Best is trial 12 with value: -0.5469696969696969.\n",
      "[I 2024-08-14 14:20:43,619] Trial 15 finished with value: -0.5469696969696969 and parameters: {'n_estimators': 50, 'max_depth': None, 'min_samples_split': 5, 'min_samples_leaf': 10}. Best is trial 12 with value: -0.5469696969696969.\n",
      "[I 2024-08-14 14:20:44,032] Trial 16 finished with value: -0.5469696969696969 and parameters: {'n_estimators': 50, 'max_depth': None, 'min_samples_split': 10, 'min_samples_leaf': 10}. Best is trial 12 with value: -0.5469696969696969.\n",
      "[I 2024-08-14 14:20:44,428] Trial 17 finished with value: -0.5469696969696969 and parameters: {'n_estimators': 50, 'max_depth': 10, 'min_samples_split': 10, 'min_samples_leaf': 10}. Best is trial 12 with value: -0.5469696969696969.\n",
      "[I 2024-08-14 14:20:45,196] Trial 18 finished with value: -0.5376623376623375 and parameters: {'n_estimators': 100, 'max_depth': 20, 'min_samples_split': 2, 'min_samples_leaf': 10}. Best is trial 12 with value: -0.5469696969696969.\n",
      "[I 2024-08-14 14:20:45,591] Trial 19 finished with value: -0.5469696969696969 and parameters: {'n_estimators': 50, 'max_depth': None, 'min_samples_split': 5, 'min_samples_leaf': 10}. Best is trial 12 with value: -0.5469696969696969.\n",
      "[I 2024-08-14 14:20:46,040] A new study created in memory with name: no-name-f16fe006-c8c0-4817-a83b-f6039be8159e\n"
     ]
    },
    {
     "name": "stdout",
     "output_type": "stream",
     "text": [
      "Mean Accuracy (Cross-Validation): 0.070 ± 0.145\n",
      "Mean Train Accuracy: 0.794 ± 0.000\n",
      "Mean Test Accuracy: 0.656 ± 0.000\n"
     ]
    },
    {
     "name": "stderr",
     "output_type": "stream",
     "text": [
      "[I 2024-08-14 14:20:47,702] Trial 0 finished with value: -0.5238095238095237 and parameters: {'n_estimators': 200, 'max_depth': 30, 'min_samples_split': 2, 'min_samples_leaf': 2}. Best is trial 0 with value: -0.5238095238095237.\n",
      "[I 2024-08-14 14:20:48,571] Trial 1 finished with value: -0.5235930735930736 and parameters: {'n_estimators': 100, 'max_depth': 20, 'min_samples_split': 2, 'min_samples_leaf': 2}. Best is trial 0 with value: -0.5238095238095237.\n",
      "[I 2024-08-14 14:20:48,669] Trial 2 finished with value: -0.5287878787878787 and parameters: {'n_estimators': 10, 'max_depth': 30, 'min_samples_split': 2, 'min_samples_leaf': 4}. Best is trial 2 with value: -0.5287878787878787.\n",
      "[I 2024-08-14 14:20:50,190] Trial 3 finished with value: -0.5422077922077921 and parameters: {'n_estimators': 200, 'max_depth': 10, 'min_samples_split': 5, 'min_samples_leaf': 10}. Best is trial 3 with value: -0.5422077922077921.\n",
      "[I 2024-08-14 14:20:52,185] Trial 4 finished with value: -0.524025974025974 and parameters: {'n_estimators': 200, 'max_depth': 10, 'min_samples_split': 2, 'min_samples_leaf': 4}. Best is trial 3 with value: -0.5422077922077921.\n",
      "[I 2024-08-14 14:20:54,050] Trial 5 finished with value: -0.5335497835497834 and parameters: {'n_estimators': 200, 'max_depth': 20, 'min_samples_split': 10, 'min_samples_leaf': 2}. Best is trial 3 with value: -0.5422077922077921.\n",
      "[I 2024-08-14 14:20:54,152] Trial 6 finished with value: -0.5515151515151515 and parameters: {'n_estimators': 10, 'max_depth': None, 'min_samples_split': 5, 'min_samples_leaf': 2}. Best is trial 6 with value: -0.5515151515151515.\n",
      "[I 2024-08-14 14:20:55,875] Trial 7 finished with value: -0.5095238095238095 and parameters: {'n_estimators': 200, 'max_depth': 30, 'min_samples_split': 5, 'min_samples_leaf': 2}. Best is trial 6 with value: -0.5515151515151515.\n",
      "[I 2024-08-14 14:20:56,695] Trial 8 finished with value: -0.5194805194805194 and parameters: {'n_estimators': 100, 'max_depth': 20, 'min_samples_split': 2, 'min_samples_leaf': 5}. Best is trial 6 with value: -0.5515151515151515.\n",
      "[I 2024-08-14 14:20:57,119] Trial 9 finished with value: -0.5192640692640692 and parameters: {'n_estimators': 50, 'max_depth': 20, 'min_samples_split': 5, 'min_samples_leaf': 4}. Best is trial 6 with value: -0.5515151515151515.\n",
      "[I 2024-08-14 14:20:57,216] Trial 10 finished with value: -0.5194805194805194 and parameters: {'n_estimators': 10, 'max_depth': None, 'min_samples_split': 10, 'min_samples_leaf': 10}. Best is trial 6 with value: -0.5515151515151515.\n",
      "[I 2024-08-14 14:20:57,313] Trial 11 finished with value: -0.5194805194805194 and parameters: {'n_estimators': 10, 'max_depth': 10, 'min_samples_split': 5, 'min_samples_leaf': 10}. Best is trial 6 with value: -0.5515151515151515.\n",
      "[I 2024-08-14 14:20:57,716] Trial 12 finished with value: -0.5469696969696969 and parameters: {'n_estimators': 50, 'max_depth': None, 'min_samples_split': 5, 'min_samples_leaf': 10}. Best is trial 6 with value: -0.5515151515151515.\n",
      "[I 2024-08-14 14:20:58,134] Trial 13 finished with value: -0.5292207792207793 and parameters: {'n_estimators': 50, 'max_depth': None, 'min_samples_split': 5, 'min_samples_leaf': 5}. Best is trial 6 with value: -0.5515151515151515.\n",
      "[I 2024-08-14 14:20:58,528] Trial 14 finished with value: -0.5469696969696969 and parameters: {'n_estimators': 50, 'max_depth': None, 'min_samples_split': 5, 'min_samples_leaf': 10}. Best is trial 6 with value: -0.5515151515151515.\n",
      "[I 2024-08-14 14:20:58,628] Trial 15 finished with value: -0.5515151515151515 and parameters: {'n_estimators': 10, 'max_depth': None, 'min_samples_split': 5, 'min_samples_leaf': 2}. Best is trial 6 with value: -0.5515151515151515.\n",
      "[I 2024-08-14 14:20:58,734] Trial 16 finished with value: -0.5515151515151515 and parameters: {'n_estimators': 10, 'max_depth': None, 'min_samples_split': 5, 'min_samples_leaf': 2}. Best is trial 6 with value: -0.5515151515151515.\n",
      "[I 2024-08-14 14:20:58,836] Trial 17 finished with value: -0.5422077922077921 and parameters: {'n_estimators': 10, 'max_depth': None, 'min_samples_split': 10, 'min_samples_leaf': 2}. Best is trial 6 with value: -0.5515151515151515.\n",
      "[I 2024-08-14 14:20:58,937] Trial 18 finished with value: -0.5515151515151515 and parameters: {'n_estimators': 10, 'max_depth': None, 'min_samples_split': 5, 'min_samples_leaf': 2}. Best is trial 6 with value: -0.5515151515151515.\n",
      "[I 2024-08-14 14:20:59,039] Trial 19 finished with value: -0.5515151515151515 and parameters: {'n_estimators': 10, 'max_depth': None, 'min_samples_split': 5, 'min_samples_leaf': 2}. Best is trial 6 with value: -0.5515151515151515.\n",
      "[I 2024-08-14 14:20:59,152] A new study created in memory with name: no-name-3523b222-956a-4cda-be9a-c7d53987071a\n"
     ]
    },
    {
     "name": "stdout",
     "output_type": "stream",
     "text": [
      "Mean Accuracy (Cross-Validation): 0.074 ± 0.153\n",
      "Mean Train Accuracy: 0.935 ± 0.000\n",
      "Mean Test Accuracy: 0.581 ± 0.000\n"
     ]
    },
    {
     "name": "stderr",
     "output_type": "stream",
     "text": [
      "[I 2024-08-14 14:21:00,828] Trial 0 finished with value: -0.5467532467532468 and parameters: {'n_estimators': 200, 'max_depth': 30, 'min_samples_split': 10, 'min_samples_leaf': 4}. Best is trial 0 with value: -0.5467532467532468.\n",
      "[I 2024-08-14 14:21:02,599] Trial 1 finished with value: -0.519047619047619 and parameters: {'n_estimators': 200, 'max_depth': 10, 'min_samples_split': 5, 'min_samples_leaf': 2}. Best is trial 0 with value: -0.5467532467532468.\n",
      "[I 2024-08-14 14:21:03,016] Trial 2 finished with value: -0.5192640692640692 and parameters: {'n_estimators': 50, 'max_depth': None, 'min_samples_split': 5, 'min_samples_leaf': 4}. Best is trial 0 with value: -0.5467532467532468.\n",
      "[I 2024-08-14 14:21:03,419] Trial 3 finished with value: -0.5192640692640692 and parameters: {'n_estimators': 50, 'max_depth': 20, 'min_samples_split': 5, 'min_samples_leaf': 4}. Best is trial 0 with value: -0.5467532467532468.\n",
      "[I 2024-08-14 14:21:04,204] Trial 4 finished with value: -0.5238095238095237 and parameters: {'n_estimators': 100, 'max_depth': 10, 'min_samples_split': 2, 'min_samples_leaf': 5}. Best is trial 0 with value: -0.5467532467532468.\n",
      "[I 2024-08-14 14:21:05,058] Trial 5 finished with value: -0.523809523809524 and parameters: {'n_estimators': 100, 'max_depth': 10, 'min_samples_split': 2, 'min_samples_leaf': 2}. Best is trial 0 with value: -0.5467532467532468.\n",
      "[I 2024-08-14 14:21:05,819] Trial 6 finished with value: -0.5376623376623375 and parameters: {'n_estimators': 100, 'max_depth': None, 'min_samples_split': 10, 'min_samples_leaf': 10}. Best is trial 0 with value: -0.5467532467532468.\n",
      "[I 2024-08-14 14:21:07,445] Trial 7 finished with value: -0.524025974025974 and parameters: {'n_estimators': 200, 'max_depth': 10, 'min_samples_split': 2, 'min_samples_leaf': 4}. Best is trial 0 with value: -0.5467532467532468.\n",
      "[I 2024-08-14 14:21:07,552] Trial 8 finished with value: -0.5043290043290043 and parameters: {'n_estimators': 10, 'max_depth': 10, 'min_samples_split': 2, 'min_samples_leaf': 2}. Best is trial 0 with value: -0.5467532467532468.\n",
      "[I 2024-08-14 14:21:08,381] Trial 9 finished with value: -0.5238095238095237 and parameters: {'n_estimators': 100, 'max_depth': 10, 'min_samples_split': 5, 'min_samples_leaf': 5}. Best is trial 0 with value: -0.5467532467532468.\n",
      "[I 2024-08-14 14:21:09,980] Trial 10 finished with value: -0.5422077922077921 and parameters: {'n_estimators': 200, 'max_depth': 30, 'min_samples_split': 10, 'min_samples_leaf': 10}. Best is trial 0 with value: -0.5467532467532468.\n",
      "[I 2024-08-14 14:21:11,530] Trial 11 finished with value: -0.5422077922077921 and parameters: {'n_estimators': 200, 'max_depth': 30, 'min_samples_split': 10, 'min_samples_leaf': 10}. Best is trial 0 with value: -0.5467532467532468.\n",
      "[I 2024-08-14 14:21:13,099] Trial 12 finished with value: -0.5422077922077921 and parameters: {'n_estimators': 200, 'max_depth': 30, 'min_samples_split': 10, 'min_samples_leaf': 10}. Best is trial 0 with value: -0.5467532467532468.\n",
      "[I 2024-08-14 14:21:14,721] Trial 13 finished with value: -0.5467532467532468 and parameters: {'n_estimators': 200, 'max_depth': 30, 'min_samples_split': 10, 'min_samples_leaf': 4}. Best is trial 0 with value: -0.5467532467532468.\n",
      "[I 2024-08-14 14:21:14,823] Trial 14 finished with value: -0.5235930735930736 and parameters: {'n_estimators': 10, 'max_depth': 30, 'min_samples_split': 10, 'min_samples_leaf': 4}. Best is trial 0 with value: -0.5467532467532468.\n",
      "[I 2024-08-14 14:21:16,551] Trial 15 finished with value: -0.5467532467532468 and parameters: {'n_estimators': 200, 'max_depth': 30, 'min_samples_split': 10, 'min_samples_leaf': 4}. Best is trial 0 with value: -0.5467532467532468.\n",
      "[I 2024-08-14 14:21:18,607] Trial 16 finished with value: -0.5467532467532468 and parameters: {'n_estimators': 200, 'max_depth': 20, 'min_samples_split': 10, 'min_samples_leaf': 4}. Best is trial 0 with value: -0.5467532467532468.\n",
      "[I 2024-08-14 14:21:20,626] Trial 17 finished with value: -0.5467532467532468 and parameters: {'n_estimators': 200, 'max_depth': 30, 'min_samples_split': 10, 'min_samples_leaf': 4}. Best is trial 0 with value: -0.5467532467532468.\n",
      "[I 2024-08-14 14:21:21,080] Trial 18 finished with value: -0.5515151515151515 and parameters: {'n_estimators': 50, 'max_depth': 30, 'min_samples_split': 10, 'min_samples_leaf': 4}. Best is trial 18 with value: -0.5515151515151515.\n",
      "[I 2024-08-14 14:21:21,511] Trial 19 finished with value: -0.5292207792207793 and parameters: {'n_estimators': 50, 'max_depth': 30, 'min_samples_split': 10, 'min_samples_leaf': 5}. Best is trial 18 with value: -0.5515151515151515.\n",
      "[I 2024-08-14 14:21:22,002] A new study created in memory with name: no-name-234a8250-3e31-48b2-9b17-6ce9c1b7dfd3\n"
     ]
    },
    {
     "name": "stdout",
     "output_type": "stream",
     "text": [
      "Mean Accuracy (Cross-Validation): 0.077 ± 0.159\n",
      "Mean Train Accuracy: 0.902 ± 0.000\n",
      "Mean Test Accuracy: 0.602 ± 0.000\n"
     ]
    },
    {
     "name": "stderr",
     "output_type": "stream",
     "text": [
      "[I 2024-08-14 14:21:22,462] Trial 0 finished with value: -0.5515151515151515 and parameters: {'n_estimators': 50, 'max_depth': 30, 'min_samples_split': 10, 'min_samples_leaf': 4}. Best is trial 0 with value: -0.5515151515151515.\n",
      "[I 2024-08-14 14:21:23,320] Trial 1 finished with value: -0.5194805194805194 and parameters: {'n_estimators': 100, 'max_depth': 20, 'min_samples_split': 10, 'min_samples_leaf': 5}. Best is trial 0 with value: -0.5515151515151515.\n",
      "[I 2024-08-14 14:21:25,056] Trial 2 finished with value: -0.5422077922077921 and parameters: {'n_estimators': 200, 'max_depth': None, 'min_samples_split': 10, 'min_samples_leaf': 10}. Best is trial 0 with value: -0.5515151515151515.\n",
      "[I 2024-08-14 14:21:25,493] Trial 3 finished with value: -0.5469696969696969 and parameters: {'n_estimators': 50, 'max_depth': None, 'min_samples_split': 10, 'min_samples_leaf': 10}. Best is trial 0 with value: -0.5515151515151515.\n",
      "[I 2024-08-14 14:21:26,309] Trial 4 finished with value: -0.5194805194805194 and parameters: {'n_estimators': 100, 'max_depth': 20, 'min_samples_split': 10, 'min_samples_leaf': 5}. Best is trial 0 with value: -0.5515151515151515.\n",
      "[I 2024-08-14 14:21:28,023] Trial 5 finished with value: -0.5285714285714286 and parameters: {'n_estimators': 200, 'max_depth': 10, 'min_samples_split': 10, 'min_samples_leaf': 5}. Best is trial 0 with value: -0.5515151515151515.\n",
      "[I 2024-08-14 14:21:29,085] Trial 6 finished with value: -0.5235930735930736 and parameters: {'n_estimators': 100, 'max_depth': 30, 'min_samples_split': 2, 'min_samples_leaf': 2}. Best is trial 0 with value: -0.5515151515151515.\n",
      "[I 2024-08-14 14:21:30,944] Trial 7 finished with value: -0.5335497835497836 and parameters: {'n_estimators': 200, 'max_depth': 30, 'min_samples_split': 5, 'min_samples_leaf': 4}. Best is trial 0 with value: -0.5515151515151515.\n",
      "[I 2024-08-14 14:21:31,854] Trial 8 finished with value: -0.5331168831168831 and parameters: {'n_estimators': 100, 'max_depth': 30, 'min_samples_split': 10, 'min_samples_leaf': 2}. Best is trial 0 with value: -0.5515151515151515.\n",
      "[I 2024-08-14 14:21:32,782] Trial 9 finished with value: -0.5238095238095237 and parameters: {'n_estimators': 100, 'max_depth': 10, 'min_samples_split': 2, 'min_samples_leaf': 5}. Best is trial 0 with value: -0.5515151515151515.\n",
      "[I 2024-08-14 14:21:33,255] Trial 10 finished with value: -0.5192640692640692 and parameters: {'n_estimators': 50, 'max_depth': 30, 'min_samples_split': 5, 'min_samples_leaf': 4}. Best is trial 0 with value: -0.5515151515151515.\n",
      "[I 2024-08-14 14:21:33,696] Trial 11 finished with value: -0.5469696969696969 and parameters: {'n_estimators': 50, 'max_depth': None, 'min_samples_split': 10, 'min_samples_leaf': 10}. Best is trial 0 with value: -0.5515151515151515.\n",
      "[I 2024-08-14 14:21:34,219] Trial 12 finished with value: -0.5515151515151515 and parameters: {'n_estimators': 50, 'max_depth': None, 'min_samples_split': 10, 'min_samples_leaf': 4}. Best is trial 0 with value: -0.5515151515151515.\n",
      "[I 2024-08-14 14:21:34,357] Trial 13 finished with value: -0.5235930735930736 and parameters: {'n_estimators': 10, 'max_depth': None, 'min_samples_split': 10, 'min_samples_leaf': 4}. Best is trial 0 with value: -0.5515151515151515.\n",
      "[I 2024-08-14 14:21:34,976] Trial 14 finished with value: -0.5192640692640692 and parameters: {'n_estimators': 50, 'max_depth': 30, 'min_samples_split': 2, 'min_samples_leaf': 4}. Best is trial 0 with value: -0.5515151515151515.\n",
      "[I 2024-08-14 14:21:35,601] Trial 15 finished with value: -0.5192640692640692 and parameters: {'n_estimators': 50, 'max_depth': None, 'min_samples_split': 5, 'min_samples_leaf': 4}. Best is trial 0 with value: -0.5515151515151515.\n",
      "[I 2024-08-14 14:21:35,730] Trial 16 finished with value: -0.5235930735930736 and parameters: {'n_estimators': 10, 'max_depth': 20, 'min_samples_split': 10, 'min_samples_leaf': 4}. Best is trial 0 with value: -0.5515151515151515.\n",
      "[I 2024-08-14 14:21:36,208] Trial 17 finished with value: -0.5422077922077924 and parameters: {'n_estimators': 50, 'max_depth': 10, 'min_samples_split': 10, 'min_samples_leaf': 4}. Best is trial 0 with value: -0.5515151515151515.\n",
      "[I 2024-08-14 14:21:36,666] Trial 18 finished with value: -0.5192640692640692 and parameters: {'n_estimators': 50, 'max_depth': None, 'min_samples_split': 5, 'min_samples_leaf': 4}. Best is trial 0 with value: -0.5515151515151515.\n",
      "[I 2024-08-14 14:21:37,124] Trial 19 finished with value: -0.5372294372294372 and parameters: {'n_estimators': 50, 'max_depth': 30, 'min_samples_split': 2, 'min_samples_leaf': 2}. Best is trial 0 with value: -0.5515151515151515.\n",
      "[I 2024-08-14 14:21:37,583] A new study created in memory with name: no-name-05da59a1-3c48-4031-a3f4-20d0427232aa\n"
     ]
    },
    {
     "name": "stdout",
     "output_type": "stream",
     "text": [
      "Mean Accuracy (Cross-Validation): 0.080 ± 0.165\n",
      "Mean Train Accuracy: 0.902 ± 0.000\n",
      "Mean Test Accuracy: 0.602 ± 0.000\n"
     ]
    },
    {
     "name": "stderr",
     "output_type": "stream",
     "text": [
      "[I 2024-08-14 14:21:38,008] Trial 0 finished with value: -0.5292207792207793 and parameters: {'n_estimators': 50, 'max_depth': 30, 'min_samples_split': 5, 'min_samples_leaf': 5}. Best is trial 0 with value: -0.5292207792207793.\n",
      "[I 2024-08-14 14:21:38,442] Trial 1 finished with value: -0.5292207792207793 and parameters: {'n_estimators': 50, 'max_depth': 30, 'min_samples_split': 10, 'min_samples_leaf': 5}. Best is trial 0 with value: -0.5292207792207793.\n",
      "[I 2024-08-14 14:21:39,312] Trial 2 finished with value: -0.5192640692640693 and parameters: {'n_estimators': 100, 'max_depth': None, 'min_samples_split': 5, 'min_samples_leaf': 2}. Best is trial 0 with value: -0.5292207792207793.\n",
      "[I 2024-08-14 14:21:39,805] Trial 3 finished with value: -0.5093073593073593 and parameters: {'n_estimators': 50, 'max_depth': 20, 'min_samples_split': 5, 'min_samples_leaf': 2}. Best is trial 0 with value: -0.5292207792207793.\n",
      "[I 2024-08-14 14:21:40,336] Trial 4 finished with value: -0.5192640692640692 and parameters: {'n_estimators': 50, 'max_depth': 20, 'min_samples_split': 2, 'min_samples_leaf': 4}. Best is trial 0 with value: -0.5292207792207793.\n",
      "[I 2024-08-14 14:21:41,281] Trial 5 finished with value: -0.5376623376623375 and parameters: {'n_estimators': 100, 'max_depth': None, 'min_samples_split': 10, 'min_samples_leaf': 10}. Best is trial 5 with value: -0.5376623376623375.\n",
      "[I 2024-08-14 14:21:42,891] Trial 6 finished with value: -0.5422077922077921 and parameters: {'n_estimators': 200, 'max_depth': None, 'min_samples_split': 5, 'min_samples_leaf': 10}. Best is trial 6 with value: -0.5422077922077921.\n",
      "[I 2024-08-14 14:21:44,557] Trial 7 finished with value: -0.5285714285714286 and parameters: {'n_estimators': 200, 'max_depth': 10, 'min_samples_split': 10, 'min_samples_leaf': 5}. Best is trial 6 with value: -0.5422077922077921.\n",
      "[I 2024-08-14 14:21:44,654] Trial 8 finished with value: -0.5469696969696969 and parameters: {'n_estimators': 10, 'max_depth': 30, 'min_samples_split': 10, 'min_samples_leaf': 5}. Best is trial 8 with value: -0.5469696969696969.\n",
      "[I 2024-08-14 14:21:45,523] Trial 9 finished with value: -0.5614718614718613 and parameters: {'n_estimators': 100, 'max_depth': None, 'min_samples_split': 10, 'min_samples_leaf': 4}. Best is trial 9 with value: -0.5614718614718613.\n",
      "[I 2024-08-14 14:21:46,405] Trial 10 finished with value: -0.5337662337662338 and parameters: {'n_estimators': 100, 'max_depth': 10, 'min_samples_split': 2, 'min_samples_leaf': 4}. Best is trial 9 with value: -0.5614718614718613.\n",
      "[I 2024-08-14 14:21:46,507] Trial 11 finished with value: -0.5235930735930736 and parameters: {'n_estimators': 10, 'max_depth': 30, 'min_samples_split': 10, 'min_samples_leaf': 4}. Best is trial 9 with value: -0.5614718614718613.\n",
      "[I 2024-08-14 14:21:46,606] Trial 12 finished with value: -0.5235930735930736 and parameters: {'n_estimators': 10, 'max_depth': None, 'min_samples_split': 10, 'min_samples_leaf': 4}. Best is trial 9 with value: -0.5614718614718613.\n",
      "[I 2024-08-14 14:21:46,711] Trial 13 finished with value: -0.5469696969696969 and parameters: {'n_estimators': 10, 'max_depth': 30, 'min_samples_split': 10, 'min_samples_leaf': 5}. Best is trial 9 with value: -0.5614718614718613.\n",
      "[I 2024-08-14 14:21:46,826] Trial 14 finished with value: -0.5469696969696969 and parameters: {'n_estimators': 10, 'max_depth': None, 'min_samples_split': 10, 'min_samples_leaf': 5}. Best is trial 9 with value: -0.5614718614718613.\n",
      "[I 2024-08-14 14:21:47,679] Trial 15 finished with value: -0.5614718614718613 and parameters: {'n_estimators': 100, 'max_depth': 30, 'min_samples_split': 10, 'min_samples_leaf': 4}. Best is trial 9 with value: -0.5614718614718613.\n",
      "[I 2024-08-14 14:21:48,523] Trial 16 finished with value: -0.5385281385281385 and parameters: {'n_estimators': 100, 'max_depth': 20, 'min_samples_split': 2, 'min_samples_leaf': 4}. Best is trial 9 with value: -0.5614718614718613.\n",
      "[I 2024-08-14 14:21:49,394] Trial 17 finished with value: -0.5521645021645021 and parameters: {'n_estimators': 100, 'max_depth': 10, 'min_samples_split': 10, 'min_samples_leaf': 4}. Best is trial 9 with value: -0.5614718614718613.\n",
      "[I 2024-08-14 14:21:50,217] Trial 18 finished with value: -0.5614718614718613 and parameters: {'n_estimators': 100, 'max_depth': None, 'min_samples_split': 10, 'min_samples_leaf': 4}. Best is trial 9 with value: -0.5614718614718613.\n",
      "[I 2024-08-14 14:21:51,037] Trial 19 finished with value: -0.5385281385281385 and parameters: {'n_estimators': 100, 'max_depth': 30, 'min_samples_split': 2, 'min_samples_leaf': 4}. Best is trial 9 with value: -0.5614718614718613.\n",
      "[I 2024-08-14 14:21:51,920] A new study created in memory with name: no-name-ae693afa-af33-4a76-ae65-f5a78f452f85\n"
     ]
    },
    {
     "name": "stdout",
     "output_type": "stream",
     "text": [
      "Mean Accuracy (Cross-Validation): 0.083 ± 0.170\n",
      "Mean Train Accuracy: 0.911 ± 0.000\n",
      "Mean Test Accuracy: 0.656 ± 0.000\n"
     ]
    },
    {
     "name": "stderr",
     "output_type": "stream",
     "text": [
      "[I 2024-08-14 14:21:52,684] Trial 0 finished with value: -0.5376623376623375 and parameters: {'n_estimators': 100, 'max_depth': None, 'min_samples_split': 5, 'min_samples_leaf': 10}. Best is trial 0 with value: -0.5376623376623375.\n",
      "[I 2024-08-14 14:21:54,415] Trial 1 finished with value: -0.5467532467532468 and parameters: {'n_estimators': 200, 'max_depth': 30, 'min_samples_split': 10, 'min_samples_leaf': 4}. Best is trial 1 with value: -0.5467532467532468.\n",
      "[I 2024-08-14 14:21:54,521] Trial 2 finished with value: -0.4904761904761905 and parameters: {'n_estimators': 10, 'max_depth': 30, 'min_samples_split': 2, 'min_samples_leaf': 2}. Best is trial 1 with value: -0.5467532467532468.\n",
      "[I 2024-08-14 14:21:54,618] Trial 3 finished with value: -0.5194805194805194 and parameters: {'n_estimators': 10, 'max_depth': 20, 'min_samples_split': 10, 'min_samples_leaf': 10}. Best is trial 1 with value: -0.5467532467532468.\n",
      "[I 2024-08-14 14:21:56,352] Trial 4 finished with value: -0.5335497835497834 and parameters: {'n_estimators': 200, 'max_depth': None, 'min_samples_split': 10, 'min_samples_leaf': 2}. Best is trial 1 with value: -0.5467532467532468.\n",
      "[I 2024-08-14 14:21:56,748] Trial 5 finished with value: -0.5469696969696969 and parameters: {'n_estimators': 50, 'max_depth': 20, 'min_samples_split': 10, 'min_samples_leaf': 10}. Best is trial 5 with value: -0.5469696969696969.\n",
      "[I 2024-08-14 14:21:57,510] Trial 6 finished with value: -0.5376623376623375 and parameters: {'n_estimators': 100, 'max_depth': 10, 'min_samples_split': 2, 'min_samples_leaf': 10}. Best is trial 5 with value: -0.5469696969696969.\n",
      "[I 2024-08-14 14:21:57,910] Trial 7 finished with value: -0.5292207792207793 and parameters: {'n_estimators': 50, 'max_depth': 30, 'min_samples_split': 10, 'min_samples_leaf': 5}. Best is trial 5 with value: -0.5469696969696969.\n",
      "[I 2024-08-14 14:21:58,303] Trial 8 finished with value: -0.5469696969696969 and parameters: {'n_estimators': 50, 'max_depth': 20, 'min_samples_split': 5, 'min_samples_leaf': 10}. Best is trial 5 with value: -0.5469696969696969.\n",
      "[I 2024-08-14 14:21:58,718] Trial 9 finished with value: -0.5335497835497836 and parameters: {'n_estimators': 50, 'max_depth': None, 'min_samples_split': 10, 'min_samples_leaf': 2}. Best is trial 5 with value: -0.5469696969696969.\n",
      "[I 2024-08-14 14:21:59,128] Trial 10 finished with value: -0.5192640692640692 and parameters: {'n_estimators': 50, 'max_depth': 20, 'min_samples_split': 5, 'min_samples_leaf': 4}. Best is trial 5 with value: -0.5469696969696969.\n",
      "[I 2024-08-14 14:21:59,520] Trial 11 finished with value: -0.5469696969696969 and parameters: {'n_estimators': 50, 'max_depth': 20, 'min_samples_split': 5, 'min_samples_leaf': 10}. Best is trial 5 with value: -0.5469696969696969.\n",
      "[I 2024-08-14 14:21:59,906] Trial 12 finished with value: -0.5469696969696969 and parameters: {'n_estimators': 50, 'max_depth': 20, 'min_samples_split': 5, 'min_samples_leaf': 10}. Best is trial 5 with value: -0.5469696969696969.\n",
      "[I 2024-08-14 14:22:00,304] Trial 13 finished with value: -0.5292207792207793 and parameters: {'n_estimators': 50, 'max_depth': 20, 'min_samples_split': 5, 'min_samples_leaf': 5}. Best is trial 5 with value: -0.5469696969696969.\n",
      "[I 2024-08-14 14:22:00,690] Trial 14 finished with value: -0.5469696969696969 and parameters: {'n_estimators': 50, 'max_depth': 10, 'min_samples_split': 2, 'min_samples_leaf': 10}. Best is trial 5 with value: -0.5469696969696969.\n",
      "[I 2024-08-14 14:22:01,108] Trial 15 finished with value: -0.5469696969696969 and parameters: {'n_estimators': 50, 'max_depth': 20, 'min_samples_split': 10, 'min_samples_leaf': 10}. Best is trial 5 with value: -0.5469696969696969.\n",
      "[I 2024-08-14 14:22:02,052] Trial 16 finished with value: -0.5376623376623375 and parameters: {'n_estimators': 100, 'max_depth': 20, 'min_samples_split': 5, 'min_samples_leaf': 10}. Best is trial 5 with value: -0.5469696969696969.\n",
      "[I 2024-08-14 14:22:03,814] Trial 17 finished with value: -0.5467532467532468 and parameters: {'n_estimators': 200, 'max_depth': 20, 'min_samples_split': 10, 'min_samples_leaf': 4}. Best is trial 5 with value: -0.5469696969696969.\n",
      "[I 2024-08-14 14:22:03,916] Trial 18 finished with value: -0.5422077922077921 and parameters: {'n_estimators': 10, 'max_depth': 10, 'min_samples_split': 5, 'min_samples_leaf': 5}. Best is trial 5 with value: -0.5469696969696969.\n",
      "[I 2024-08-14 14:22:04,316] Trial 19 finished with value: -0.5469696969696969 and parameters: {'n_estimators': 50, 'max_depth': 20, 'min_samples_split': 2, 'min_samples_leaf': 10}. Best is trial 5 with value: -0.5469696969696969.\n",
      "[I 2024-08-14 14:22:04,762] A new study created in memory with name: no-name-e01c8215-1e33-4013-98a5-ca1bddc67897\n"
     ]
    },
    {
     "name": "stdout",
     "output_type": "stream",
     "text": [
      "Mean Accuracy (Cross-Validation): 0.086 ± 0.175\n",
      "Mean Train Accuracy: 0.794 ± 0.000\n",
      "Mean Test Accuracy: 0.656 ± 0.000\n"
     ]
    },
    {
     "name": "stderr",
     "output_type": "stream",
     "text": [
      "[I 2024-08-14 14:22:06,400] Trial 0 finished with value: -0.5422077922077921 and parameters: {'n_estimators': 200, 'max_depth': None, 'min_samples_split': 5, 'min_samples_leaf': 10}. Best is trial 0 with value: -0.5422077922077921.\n",
      "[I 2024-08-14 14:22:06,509] Trial 1 finished with value: -0.5469696969696969 and parameters: {'n_estimators': 10, 'max_depth': None, 'min_samples_split': 10, 'min_samples_leaf': 5}. Best is trial 1 with value: -0.5469696969696969.\n",
      "[I 2024-08-14 14:22:07,325] Trial 2 finished with value: -0.5194805194805194 and parameters: {'n_estimators': 100, 'max_depth': 20, 'min_samples_split': 2, 'min_samples_leaf': 5}. Best is trial 1 with value: -0.5469696969696969.\n",
      "[I 2024-08-14 14:22:07,762] Trial 3 finished with value: -0.5093073593073593 and parameters: {'n_estimators': 50, 'max_depth': 30, 'min_samples_split': 5, 'min_samples_leaf': 2}. Best is trial 1 with value: -0.5469696969696969.\n",
      "[I 2024-08-14 14:22:08,176] Trial 4 finished with value: -0.5469696969696969 and parameters: {'n_estimators': 50, 'max_depth': 20, 'min_samples_split': 5, 'min_samples_leaf': 10}. Best is trial 1 with value: -0.5469696969696969.\n",
      "[I 2024-08-14 14:22:08,570] Trial 5 finished with value: -0.5469696969696969 and parameters: {'n_estimators': 50, 'max_depth': None, 'min_samples_split': 2, 'min_samples_leaf': 10}. Best is trial 1 with value: -0.5469696969696969.\n",
      "[I 2024-08-14 14:22:09,385] Trial 6 finished with value: -0.523809523809524 and parameters: {'n_estimators': 100, 'max_depth': 10, 'min_samples_split': 2, 'min_samples_leaf': 2}. Best is trial 1 with value: -0.5469696969696969.\n",
      "[I 2024-08-14 14:22:10,228] Trial 7 finished with value: -0.523809523809524 and parameters: {'n_estimators': 100, 'max_depth': 10, 'min_samples_split': 2, 'min_samples_leaf': 2}. Best is trial 1 with value: -0.5469696969696969.\n",
      "[I 2024-08-14 14:22:10,989] Trial 8 finished with value: -0.5376623376623375 and parameters: {'n_estimators': 100, 'max_depth': 20, 'min_samples_split': 2, 'min_samples_leaf': 10}. Best is trial 1 with value: -0.5469696969696969.\n",
      "[I 2024-08-14 14:22:11,084] Trial 9 finished with value: -0.5194805194805194 and parameters: {'n_estimators': 10, 'max_depth': 20, 'min_samples_split': 5, 'min_samples_leaf': 10}. Best is trial 1 with value: -0.5469696969696969.\n",
      "[I 2024-08-14 14:22:11,184] Trial 10 finished with value: -0.5469696969696969 and parameters: {'n_estimators': 10, 'max_depth': None, 'min_samples_split': 10, 'min_samples_leaf': 5}. Best is trial 1 with value: -0.5469696969696969.\n",
      "[I 2024-08-14 14:22:11,593] Trial 11 finished with value: -0.5515151515151515 and parameters: {'n_estimators': 50, 'max_depth': 30, 'min_samples_split': 10, 'min_samples_leaf': 4}. Best is trial 11 with value: -0.5515151515151515.\n",
      "[I 2024-08-14 14:22:11,692] Trial 12 finished with value: -0.5235930735930736 and parameters: {'n_estimators': 10, 'max_depth': 30, 'min_samples_split': 10, 'min_samples_leaf': 4}. Best is trial 11 with value: -0.5515151515151515.\n",
      "[I 2024-08-14 14:22:13,412] Trial 13 finished with value: -0.5467532467532468 and parameters: {'n_estimators': 200, 'max_depth': 30, 'min_samples_split': 10, 'min_samples_leaf': 4}. Best is trial 11 with value: -0.5515151515151515.\n",
      "[I 2024-08-14 14:22:13,515] Trial 14 finished with value: -0.5235930735930736 and parameters: {'n_estimators': 10, 'max_depth': None, 'min_samples_split': 10, 'min_samples_leaf': 4}. Best is trial 11 with value: -0.5515151515151515.\n",
      "[I 2024-08-14 14:22:13,957] Trial 15 finished with value: -0.5292207792207793 and parameters: {'n_estimators': 50, 'max_depth': 30, 'min_samples_split': 10, 'min_samples_leaf': 5}. Best is trial 11 with value: -0.5515151515151515.\n",
      "[I 2024-08-14 14:22:14,060] Trial 16 finished with value: -0.5469696969696969 and parameters: {'n_estimators': 10, 'max_depth': None, 'min_samples_split': 10, 'min_samples_leaf': 5}. Best is trial 11 with value: -0.5515151515151515.\n",
      "[I 2024-08-14 14:22:14,474] Trial 17 finished with value: -0.5515151515151515 and parameters: {'n_estimators': 50, 'max_depth': 30, 'min_samples_split': 10, 'min_samples_leaf': 4}. Best is trial 11 with value: -0.5515151515151515.\n",
      "[I 2024-08-14 14:22:14,897] Trial 18 finished with value: -0.5515151515151515 and parameters: {'n_estimators': 50, 'max_depth': 30, 'min_samples_split': 10, 'min_samples_leaf': 4}. Best is trial 11 with value: -0.5515151515151515.\n",
      "[I 2024-08-14 14:22:15,337] Trial 19 finished with value: -0.5515151515151515 and parameters: {'n_estimators': 50, 'max_depth': 30, 'min_samples_split': 10, 'min_samples_leaf': 4}. Best is trial 11 with value: -0.5515151515151515.\n",
      "[I 2024-08-14 14:22:15,800] A new study created in memory with name: no-name-b0132a0a-8d3e-4d69-a7b5-8497983b85bf\n"
     ]
    },
    {
     "name": "stdout",
     "output_type": "stream",
     "text": [
      "Mean Accuracy (Cross-Validation): 0.090 ± 0.179\n",
      "Mean Train Accuracy: 0.902 ± 0.000\n",
      "Mean Test Accuracy: 0.602 ± 0.000\n"
     ]
    },
    {
     "name": "stderr",
     "output_type": "stream",
     "text": [
      "[I 2024-08-14 14:22:17,445] Trial 0 finished with value: -0.5285714285714286 and parameters: {'n_estimators': 200, 'max_depth': 10, 'min_samples_split': 2, 'min_samples_leaf': 5}. Best is trial 0 with value: -0.5285714285714286.\n",
      "[I 2024-08-14 14:22:17,875] Trial 1 finished with value: -0.5192640692640692 and parameters: {'n_estimators': 50, 'max_depth': 30, 'min_samples_split': 5, 'min_samples_leaf': 4}. Best is trial 0 with value: -0.5285714285714286.\n",
      "[I 2024-08-14 14:22:18,317] Trial 2 finished with value: -0.533982683982684 and parameters: {'n_estimators': 50, 'max_depth': 10, 'min_samples_split': 5, 'min_samples_leaf': 5}. Best is trial 2 with value: -0.533982683982684.\n",
      "[I 2024-08-14 14:22:19,835] Trial 3 finished with value: -0.5422077922077921 and parameters: {'n_estimators': 200, 'max_depth': 30, 'min_samples_split': 2, 'min_samples_leaf': 10}. Best is trial 3 with value: -0.5422077922077921.\n",
      "[I 2024-08-14 14:22:19,932] Trial 4 finished with value: -0.5194805194805194 and parameters: {'n_estimators': 10, 'max_depth': 30, 'min_samples_split': 5, 'min_samples_leaf': 10}. Best is trial 3 with value: -0.5422077922077921.\n",
      "[I 2024-08-14 14:22:21,615] Trial 5 finished with value: -0.5095238095238095 and parameters: {'n_estimators': 200, 'max_depth': None, 'min_samples_split': 5, 'min_samples_leaf': 2}. Best is trial 3 with value: -0.5422077922077921.\n",
      "[I 2024-08-14 14:22:23,142] Trial 6 finished with value: -0.5422077922077921 and parameters: {'n_estimators': 200, 'max_depth': None, 'min_samples_split': 10, 'min_samples_leaf': 10}. Best is trial 3 with value: -0.5422077922077921.\n",
      "[I 2024-08-14 14:22:23,240] Trial 7 finished with value: -0.5422077922077921 and parameters: {'n_estimators': 10, 'max_depth': 10, 'min_samples_split': 5, 'min_samples_leaf': 5}. Best is trial 3 with value: -0.5422077922077921.\n",
      "[I 2024-08-14 14:22:24,885] Trial 8 finished with value: -0.5335497835497836 and parameters: {'n_estimators': 200, 'max_depth': None, 'min_samples_split': 5, 'min_samples_leaf': 4}. Best is trial 3 with value: -0.5422077922077921.\n",
      "[I 2024-08-14 14:22:24,986] Trial 9 finished with value: -0.5194805194805194 and parameters: {'n_estimators': 10, 'max_depth': None, 'min_samples_split': 2, 'min_samples_leaf': 10}. Best is trial 3 with value: -0.5422077922077921.\n",
      "[I 2024-08-14 14:22:26,031] Trial 10 finished with value: -0.5235930735930736 and parameters: {'n_estimators': 100, 'max_depth': 20, 'min_samples_split': 2, 'min_samples_leaf': 2}. Best is trial 3 with value: -0.5422077922077921.\n",
      "[I 2024-08-14 14:22:28,070] Trial 11 finished with value: -0.5422077922077921 and parameters: {'n_estimators': 200, 'max_depth': 30, 'min_samples_split': 10, 'min_samples_leaf': 10}. Best is trial 3 with value: -0.5422077922077921.\n",
      "[I 2024-08-14 14:22:30,286] Trial 12 finished with value: -0.5422077922077921 and parameters: {'n_estimators': 200, 'max_depth': 20, 'min_samples_split': 10, 'min_samples_leaf': 10}. Best is trial 3 with value: -0.5422077922077921.\n",
      "[I 2024-08-14 14:22:31,268] Trial 13 finished with value: -0.5376623376623375 and parameters: {'n_estimators': 100, 'max_depth': None, 'min_samples_split': 10, 'min_samples_leaf': 10}. Best is trial 3 with value: -0.5422077922077921.\n",
      "[I 2024-08-14 14:22:32,937] Trial 14 finished with value: -0.5422077922077921 and parameters: {'n_estimators': 200, 'max_depth': 30, 'min_samples_split': 10, 'min_samples_leaf': 10}. Best is trial 3 with value: -0.5422077922077921.\n",
      "[I 2024-08-14 14:22:34,529] Trial 15 finished with value: -0.5422077922077921 and parameters: {'n_estimators': 200, 'max_depth': None, 'min_samples_split': 2, 'min_samples_leaf': 10}. Best is trial 3 with value: -0.5422077922077921.\n",
      "[I 2024-08-14 14:22:36,459] Trial 16 finished with value: -0.5422077922077921 and parameters: {'n_estimators': 200, 'max_depth': 30, 'min_samples_split': 10, 'min_samples_leaf': 10}. Best is trial 3 with value: -0.5422077922077921.\n",
      "[I 2024-08-14 14:22:36,902] Trial 17 finished with value: -0.5192640692640692 and parameters: {'n_estimators': 50, 'max_depth': 20, 'min_samples_split': 2, 'min_samples_leaf': 4}. Best is trial 3 with value: -0.5422077922077921.\n",
      "[I 2024-08-14 14:22:37,823] Trial 18 finished with value: -0.5331168831168831 and parameters: {'n_estimators': 100, 'max_depth': 30, 'min_samples_split': 10, 'min_samples_leaf': 2}. Best is trial 3 with value: -0.5422077922077921.\n",
      "[I 2024-08-14 14:22:39,976] Trial 19 finished with value: -0.5422077922077921 and parameters: {'n_estimators': 200, 'max_depth': None, 'min_samples_split': 2, 'min_samples_leaf': 10}. Best is trial 3 with value: -0.5422077922077921.\n",
      "[I 2024-08-14 14:22:41,946] A new study created in memory with name: no-name-c9444c43-d44d-4efd-98e8-3165610a8f85\n"
     ]
    },
    {
     "name": "stdout",
     "output_type": "stream",
     "text": [
      "Mean Accuracy (Cross-Validation): 0.094 ± 0.185\n",
      "Mean Train Accuracy: 0.780 ± 0.000\n",
      "Mean Test Accuracy: 0.677 ± 0.000\n"
     ]
    },
    {
     "name": "stderr",
     "output_type": "stream",
     "text": [
      "[I 2024-08-14 14:22:42,917] Trial 0 finished with value: -0.5194805194805194 and parameters: {'n_estimators': 100, 'max_depth': 20, 'min_samples_split': 2, 'min_samples_leaf': 5}. Best is trial 0 with value: -0.5194805194805194.\n",
      "[I 2024-08-14 14:22:43,419] Trial 1 finished with value: -0.5292207792207793 and parameters: {'n_estimators': 50, 'max_depth': None, 'min_samples_split': 2, 'min_samples_leaf': 5}. Best is trial 1 with value: -0.5292207792207793.\n",
      "[I 2024-08-14 14:22:44,440] Trial 2 finished with value: -0.5192640692640693 and parameters: {'n_estimators': 100, 'max_depth': None, 'min_samples_split': 5, 'min_samples_leaf': 2}. Best is trial 1 with value: -0.5292207792207793.\n",
      "[I 2024-08-14 14:22:46,331] Trial 3 finished with value: -0.5422077922077921 and parameters: {'n_estimators': 200, 'max_depth': 10, 'min_samples_split': 5, 'min_samples_leaf': 10}. Best is trial 3 with value: -0.5422077922077921.\n",
      "[I 2024-08-14 14:22:46,465] Trial 4 finished with value: -0.5469696969696969 and parameters: {'n_estimators': 10, 'max_depth': None, 'min_samples_split': 5, 'min_samples_leaf': 5}. Best is trial 4 with value: -0.5469696969696969.\n",
      "[I 2024-08-14 14:22:47,520] Trial 5 finished with value: -0.5385281385281385 and parameters: {'n_estimators': 100, 'max_depth': 20, 'min_samples_split': 5, 'min_samples_leaf': 4}. Best is trial 4 with value: -0.5469696969696969.\n",
      "[I 2024-08-14 14:22:49,534] Trial 6 finished with value: -0.5422077922077921 and parameters: {'n_estimators': 200, 'max_depth': 10, 'min_samples_split': 5, 'min_samples_leaf': 10}. Best is trial 4 with value: -0.5469696969696969.\n",
      "[I 2024-08-14 14:22:50,111] Trial 7 finished with value: -0.5469696969696969 and parameters: {'n_estimators': 50, 'max_depth': 20, 'min_samples_split': 2, 'min_samples_leaf': 10}. Best is trial 4 with value: -0.5469696969696969.\n",
      "[I 2024-08-14 14:22:52,348] Trial 8 finished with value: -0.5190476190476191 and parameters: {'n_estimators': 200, 'max_depth': 10, 'min_samples_split': 2, 'min_samples_leaf': 2}. Best is trial 4 with value: -0.5469696969696969.\n",
      "[I 2024-08-14 14:22:53,358] Trial 9 finished with value: -0.5331168831168831 and parameters: {'n_estimators': 100, 'max_depth': None, 'min_samples_split': 10, 'min_samples_leaf': 2}. Best is trial 4 with value: -0.5469696969696969.\n",
      "[I 2024-08-14 14:22:53,477] Trial 10 finished with value: -0.5469696969696969 and parameters: {'n_estimators': 10, 'max_depth': 30, 'min_samples_split': 10, 'min_samples_leaf': 5}. Best is trial 4 with value: -0.5469696969696969.\n",
      "[I 2024-08-14 14:22:53,592] Trial 11 finished with value: -0.5194805194805194 and parameters: {'n_estimators': 10, 'max_depth': 20, 'min_samples_split': 2, 'min_samples_leaf': 10}. Best is trial 4 with value: -0.5469696969696969.\n",
      "[I 2024-08-14 14:22:54,107] Trial 12 finished with value: -0.5192640692640692 and parameters: {'n_estimators': 50, 'max_depth': 30, 'min_samples_split': 5, 'min_samples_leaf': 4}. Best is trial 4 with value: -0.5469696969696969.\n",
      "[I 2024-08-14 14:22:54,226] Trial 13 finished with value: -0.5469696969696969 and parameters: {'n_estimators': 10, 'max_depth': 20, 'min_samples_split': 2, 'min_samples_leaf': 5}. Best is trial 4 with value: -0.5469696969696969.\n",
      "[I 2024-08-14 14:22:54,807] Trial 14 finished with value: -0.5469696969696969 and parameters: {'n_estimators': 50, 'max_depth': None, 'min_samples_split': 10, 'min_samples_leaf': 10}. Best is trial 4 with value: -0.5469696969696969.\n",
      "[I 2024-08-14 14:22:55,322] Trial 15 finished with value: -0.5292207792207793 and parameters: {'n_estimators': 50, 'max_depth': 20, 'min_samples_split': 5, 'min_samples_leaf': 5}. Best is trial 4 with value: -0.5469696969696969.\n",
      "[I 2024-08-14 14:22:55,460] Trial 16 finished with value: -0.5194805194805194 and parameters: {'n_estimators': 10, 'max_depth': None, 'min_samples_split': 2, 'min_samples_leaf': 10}. Best is trial 4 with value: -0.5469696969696969.\n",
      "[I 2024-08-14 14:22:55,603] Trial 17 finished with value: -0.5287878787878787 and parameters: {'n_estimators': 10, 'max_depth': 30, 'min_samples_split': 5, 'min_samples_leaf': 4}. Best is trial 4 with value: -0.5469696969696969.\n",
      "[I 2024-08-14 14:22:56,192] Trial 18 finished with value: -0.5292207792207793 and parameters: {'n_estimators': 50, 'max_depth': 20, 'min_samples_split': 2, 'min_samples_leaf': 5}. Best is trial 4 with value: -0.5469696969696969.\n",
      "[I 2024-08-14 14:22:56,336] Trial 19 finished with value: -0.5194805194805194 and parameters: {'n_estimators': 10, 'max_depth': None, 'min_samples_split': 10, 'min_samples_leaf': 10}. Best is trial 4 with value: -0.5469696969696969.\n",
      "[I 2024-08-14 14:22:56,504] A new study created in memory with name: no-name-eb03f1d1-81b1-4fe3-a1cf-d4d09a38ffe6\n"
     ]
    },
    {
     "name": "stdout",
     "output_type": "stream",
     "text": [
      "Mean Accuracy (Cross-Validation): 0.097 ± 0.189\n",
      "Mean Train Accuracy: 0.827 ± 0.000\n",
      "Mean Test Accuracy: 0.624 ± 0.000\n"
     ]
    },
    {
     "name": "stderr",
     "output_type": "stream",
     "text": [
      "[I 2024-08-14 14:22:57,041] Trial 0 finished with value: -0.5192640692640692 and parameters: {'n_estimators': 50, 'max_depth': 30, 'min_samples_split': 5, 'min_samples_leaf': 4}. Best is trial 0 with value: -0.5192640692640692.\n",
      "[I 2024-08-14 14:22:57,150] Trial 1 finished with value: -0.5194805194805194 and parameters: {'n_estimators': 10, 'max_depth': 30, 'min_samples_split': 2, 'min_samples_leaf': 10}. Best is trial 1 with value: -0.5194805194805194.\n",
      "[I 2024-08-14 14:22:57,264] Trial 2 finished with value: -0.5422077922077921 and parameters: {'n_estimators': 10, 'max_depth': 10, 'min_samples_split': 5, 'min_samples_leaf': 5}. Best is trial 2 with value: -0.5422077922077921.\n",
      "[I 2024-08-14 14:22:58,242] Trial 3 finished with value: -0.5331168831168831 and parameters: {'n_estimators': 100, 'max_depth': 20, 'min_samples_split': 10, 'min_samples_leaf': 2}. Best is trial 2 with value: -0.5422077922077921.\n",
      "[I 2024-08-14 14:22:59,164] Trial 4 finished with value: -0.5385281385281385 and parameters: {'n_estimators': 100, 'max_depth': 20, 'min_samples_split': 5, 'min_samples_leaf': 4}. Best is trial 2 with value: -0.5422077922077921.\n",
      "[I 2024-08-14 14:23:00,144] Trial 5 finished with value: -0.5331168831168831 and parameters: {'n_estimators': 100, 'max_depth': 20, 'min_samples_split': 10, 'min_samples_leaf': 2}. Best is trial 2 with value: -0.5422077922077921.\n",
      "[I 2024-08-14 14:23:00,251] Trial 6 finished with value: -0.5469696969696969 and parameters: {'n_estimators': 10, 'max_depth': 30, 'min_samples_split': 10, 'min_samples_leaf': 5}. Best is trial 6 with value: -0.5469696969696969.\n",
      "[I 2024-08-14 14:23:02,027] Trial 7 finished with value: -0.5285714285714286 and parameters: {'n_estimators': 200, 'max_depth': 30, 'min_samples_split': 5, 'min_samples_leaf': 5}. Best is trial 6 with value: -0.5469696969696969.\n",
      "[I 2024-08-14 14:23:02,450] Trial 8 finished with value: -0.5469696969696969 and parameters: {'n_estimators': 50, 'max_depth': 30, 'min_samples_split': 5, 'min_samples_leaf': 10}. Best is trial 6 with value: -0.5469696969696969.\n",
      "[I 2024-08-14 14:23:04,093] Trial 9 finished with value: -0.5422077922077921 and parameters: {'n_estimators': 200, 'max_depth': 10, 'min_samples_split': 10, 'min_samples_leaf': 10}. Best is trial 6 with value: -0.5469696969696969.\n",
      "[I 2024-08-14 14:23:04,202] Trial 10 finished with value: -0.5469696969696969 and parameters: {'n_estimators': 10, 'max_depth': None, 'min_samples_split': 2, 'min_samples_leaf': 5}. Best is trial 6 with value: -0.5469696969696969.\n",
      "[I 2024-08-14 14:23:04,617] Trial 11 finished with value: -0.5469696969696969 and parameters: {'n_estimators': 50, 'max_depth': 30, 'min_samples_split': 10, 'min_samples_leaf': 10}. Best is trial 6 with value: -0.5469696969696969.\n",
      "[I 2024-08-14 14:23:05,056] Trial 12 finished with value: -0.5292207792207793 and parameters: {'n_estimators': 50, 'max_depth': 30, 'min_samples_split': 10, 'min_samples_leaf': 5}. Best is trial 6 with value: -0.5469696969696969.\n",
      "[I 2024-08-14 14:23:05,163] Trial 13 finished with value: -0.5194805194805194 and parameters: {'n_estimators': 10, 'max_depth': None, 'min_samples_split': 5, 'min_samples_leaf': 10}. Best is trial 6 with value: -0.5469696969696969.\n",
      "[I 2024-08-14 14:23:05,589] Trial 14 finished with value: -0.5469696969696969 and parameters: {'n_estimators': 50, 'max_depth': 30, 'min_samples_split': 2, 'min_samples_leaf': 10}. Best is trial 6 with value: -0.5469696969696969.\n",
      "[I 2024-08-14 14:23:06,009] Trial 15 finished with value: -0.5292207792207793 and parameters: {'n_estimators': 50, 'max_depth': 30, 'min_samples_split': 5, 'min_samples_leaf': 5}. Best is trial 6 with value: -0.5469696969696969.\n",
      "[I 2024-08-14 14:23:06,112] Trial 16 finished with value: -0.5422077922077921 and parameters: {'n_estimators': 10, 'max_depth': 30, 'min_samples_split': 10, 'min_samples_leaf': 2}. Best is trial 6 with value: -0.5469696969696969.\n",
      "[I 2024-08-14 14:23:07,867] Trial 17 finished with value: -0.524025974025974 and parameters: {'n_estimators': 200, 'max_depth': 10, 'min_samples_split': 5, 'min_samples_leaf': 4}. Best is trial 6 with value: -0.5469696969696969.\n",
      "[I 2024-08-14 14:23:07,966] Trial 18 finished with value: -0.5194805194805194 and parameters: {'n_estimators': 10, 'max_depth': None, 'min_samples_split': 10, 'min_samples_leaf': 10}. Best is trial 6 with value: -0.5469696969696969.\n",
      "[I 2024-08-14 14:23:08,409] Trial 19 finished with value: -0.5292207792207793 and parameters: {'n_estimators': 50, 'max_depth': 30, 'min_samples_split': 2, 'min_samples_leaf': 5}. Best is trial 6 with value: -0.5469696969696969.\n",
      "[I 2024-08-14 14:23:08,524] A new study created in memory with name: no-name-bd22b90d-6ee5-4ab9-b87e-87c12451408b\n"
     ]
    },
    {
     "name": "stdout",
     "output_type": "stream",
     "text": [
      "Mean Accuracy (Cross-Validation): 0.101 ± 0.194\n",
      "Mean Train Accuracy: 0.827 ± 0.000\n",
      "Mean Test Accuracy: 0.624 ± 0.000\n"
     ]
    },
    {
     "name": "stderr",
     "output_type": "stream",
     "text": [
      "[I 2024-08-14 14:23:08,983] Trial 0 finished with value: -0.5515151515151515 and parameters: {'n_estimators': 50, 'max_depth': 20, 'min_samples_split': 10, 'min_samples_leaf': 4}. Best is trial 0 with value: -0.5515151515151515.\n",
      "[I 2024-08-14 14:23:09,458] Trial 1 finished with value: -0.5372294372294372 and parameters: {'n_estimators': 50, 'max_depth': 20, 'min_samples_split': 2, 'min_samples_leaf': 2}. Best is trial 0 with value: -0.5515151515151515.\n",
      "[I 2024-08-14 14:23:10,296] Trial 2 finished with value: -0.5194805194805194 and parameters: {'n_estimators': 100, 'max_depth': 20, 'min_samples_split': 2, 'min_samples_leaf': 5}. Best is trial 0 with value: -0.5515151515151515.\n",
      "[I 2024-08-14 14:23:12,010] Trial 3 finished with value: -0.5238095238095237 and parameters: {'n_estimators': 200, 'max_depth': 20, 'min_samples_split': 2, 'min_samples_leaf': 2}. Best is trial 0 with value: -0.5515151515151515.\n",
      "[I 2024-08-14 14:23:13,823] Trial 4 finished with value: -0.5335497835497836 and parameters: {'n_estimators': 200, 'max_depth': 30, 'min_samples_split': 2, 'min_samples_leaf': 4}. Best is trial 0 with value: -0.5515151515151515.\n",
      "[I 2024-08-14 14:23:14,696] Trial 5 finished with value: -0.5614718614718613 and parameters: {'n_estimators': 100, 'max_depth': 30, 'min_samples_split': 10, 'min_samples_leaf': 4}. Best is trial 5 with value: -0.5614718614718613.\n",
      "[I 2024-08-14 14:23:14,800] Trial 6 finished with value: -0.5194805194805194 and parameters: {'n_estimators': 10, 'max_depth': 20, 'min_samples_split': 5, 'min_samples_leaf': 10}. Best is trial 5 with value: -0.5614718614718613.\n",
      "[I 2024-08-14 14:23:15,656] Trial 7 finished with value: -0.5376623376623375 and parameters: {'n_estimators': 100, 'max_depth': 20, 'min_samples_split': 2, 'min_samples_leaf': 10}. Best is trial 5 with value: -0.5614718614718613.\n",
      "[I 2024-08-14 14:23:17,610] Trial 8 finished with value: -0.5467532467532468 and parameters: {'n_estimators': 200, 'max_depth': 20, 'min_samples_split': 10, 'min_samples_leaf': 4}. Best is trial 5 with value: -0.5614718614718613.\n",
      "[I 2024-08-14 14:23:19,386] Trial 9 finished with value: -0.5095238095238095 and parameters: {'n_estimators': 200, 'max_depth': None, 'min_samples_split': 5, 'min_samples_leaf': 2}. Best is trial 5 with value: -0.5614718614718613.\n",
      "[I 2024-08-14 14:23:20,193] Trial 10 finished with value: -0.5194805194805194 and parameters: {'n_estimators': 100, 'max_depth': 30, 'min_samples_split': 10, 'min_samples_leaf': 5}. Best is trial 5 with value: -0.5614718614718613.\n",
      "[I 2024-08-14 14:23:20,646] Trial 11 finished with value: -0.5422077922077924 and parameters: {'n_estimators': 50, 'max_depth': 10, 'min_samples_split': 10, 'min_samples_leaf': 4}. Best is trial 5 with value: -0.5614718614718613.\n",
      "[I 2024-08-14 14:23:21,060] Trial 12 finished with value: -0.5515151515151515 and parameters: {'n_estimators': 50, 'max_depth': 30, 'min_samples_split': 10, 'min_samples_leaf': 4}. Best is trial 5 with value: -0.5614718614718613.\n",
      "[I 2024-08-14 14:23:21,158] Trial 13 finished with value: -0.5235930735930736 and parameters: {'n_estimators': 10, 'max_depth': None, 'min_samples_split': 10, 'min_samples_leaf': 4}. Best is trial 5 with value: -0.5614718614718613.\n",
      "[I 2024-08-14 14:23:21,594] Trial 14 finished with value: -0.5422077922077924 and parameters: {'n_estimators': 50, 'max_depth': 10, 'min_samples_split': 10, 'min_samples_leaf': 4}. Best is trial 5 with value: -0.5614718614718613.\n",
      "[I 2024-08-14 14:23:22,397] Trial 15 finished with value: -0.5614718614718613 and parameters: {'n_estimators': 100, 'max_depth': 30, 'min_samples_split': 10, 'min_samples_leaf': 4}. Best is trial 5 with value: -0.5614718614718613.\n",
      "[I 2024-08-14 14:23:23,199] Trial 16 finished with value: -0.5385281385281385 and parameters: {'n_estimators': 100, 'max_depth': 30, 'min_samples_split': 5, 'min_samples_leaf': 4}. Best is trial 5 with value: -0.5614718614718613.\n",
      "[I 2024-08-14 14:23:23,946] Trial 17 finished with value: -0.5376623376623375 and parameters: {'n_estimators': 100, 'max_depth': 30, 'min_samples_split': 10, 'min_samples_leaf': 10}. Best is trial 5 with value: -0.5614718614718613.\n",
      "[I 2024-08-14 14:23:24,726] Trial 18 finished with value: -0.5194805194805194 and parameters: {'n_estimators': 100, 'max_depth': 30, 'min_samples_split': 10, 'min_samples_leaf': 5}. Best is trial 5 with value: -0.5614718614718613.\n",
      "[I 2024-08-14 14:23:25,532] Trial 19 finished with value: -0.5614718614718613 and parameters: {'n_estimators': 100, 'max_depth': 30, 'min_samples_split': 10, 'min_samples_leaf': 4}. Best is trial 5 with value: -0.5614718614718613.\n",
      "[I 2024-08-14 14:23:26,417] A new study created in memory with name: no-name-51a40d91-a003-4e58-96ef-122b65cba60b\n",
      "[I 2024-08-14 14:23:26,516] Trial 0 finished with value: -0.5194805194805194 and parameters: {'n_estimators': 10, 'max_depth': 20, 'min_samples_split': 5, 'min_samples_leaf': 10}. Best is trial 0 with value: -0.5194805194805194.\n"
     ]
    },
    {
     "name": "stdout",
     "output_type": "stream",
     "text": [
      "Mean Accuracy (Cross-Validation): 0.104 ± 0.198\n",
      "Mean Train Accuracy: 0.911 ± 0.000\n",
      "Mean Test Accuracy: 0.656 ± 0.000\n"
     ]
    },
    {
     "name": "stderr",
     "output_type": "stream",
     "text": [
      "[I 2024-08-14 14:23:26,938] Trial 1 finished with value: -0.533982683982684 and parameters: {'n_estimators': 50, 'max_depth': 10, 'min_samples_split': 10, 'min_samples_leaf': 5}. Best is trial 1 with value: -0.533982683982684.\n",
      "[I 2024-08-14 14:23:27,031] Trial 2 finished with value: -0.5194805194805194 and parameters: {'n_estimators': 10, 'max_depth': 30, 'min_samples_split': 10, 'min_samples_leaf': 10}. Best is trial 1 with value: -0.533982683982684.\n",
      "[I 2024-08-14 14:23:27,416] Trial 3 finished with value: -0.5469696969696969 and parameters: {'n_estimators': 50, 'max_depth': 10, 'min_samples_split': 5, 'min_samples_leaf': 10}. Best is trial 3 with value: -0.5469696969696969.\n",
      "[I 2024-08-14 14:23:27,510] Trial 4 finished with value: -0.5469696969696969 and parameters: {'n_estimators': 10, 'max_depth': None, 'min_samples_split': 5, 'min_samples_leaf': 5}. Best is trial 3 with value: -0.5469696969696969.\n",
      "[I 2024-08-14 14:23:27,601] Trial 5 finished with value: -0.5194805194805194 and parameters: {'n_estimators': 10, 'max_depth': 20, 'min_samples_split': 5, 'min_samples_leaf': 10}. Best is trial 3 with value: -0.5469696969696969.\n",
      "[I 2024-08-14 14:23:28,417] Trial 6 finished with value: -0.5385281385281385 and parameters: {'n_estimators': 100, 'max_depth': None, 'min_samples_split': 2, 'min_samples_leaf': 4}. Best is trial 3 with value: -0.5469696969696969.\n",
      "[I 2024-08-14 14:23:29,213] Trial 7 finished with value: -0.5238095238095237 and parameters: {'n_estimators': 100, 'max_depth': 10, 'min_samples_split': 5, 'min_samples_leaf': 5}. Best is trial 3 with value: -0.5469696969696969.\n",
      "[I 2024-08-14 14:23:30,022] Trial 8 finished with value: -0.5337662337662338 and parameters: {'n_estimators': 100, 'max_depth': 10, 'min_samples_split': 2, 'min_samples_leaf': 4}. Best is trial 3 with value: -0.5469696969696969.\n",
      "[I 2024-08-14 14:23:30,117] Trial 9 finished with value: -0.5287878787878787 and parameters: {'n_estimators': 10, 'max_depth': 20, 'min_samples_split': 5, 'min_samples_leaf': 4}. Best is trial 3 with value: -0.5469696969696969.\n",
      "[I 2024-08-14 14:23:30,536] Trial 10 finished with value: -0.5372294372294372 and parameters: {'n_estimators': 50, 'max_depth': 30, 'min_samples_split': 2, 'min_samples_leaf': 2}. Best is trial 3 with value: -0.5469696969696969.\n",
      "[I 2024-08-14 14:23:32,062] Trial 11 finished with value: -0.5285714285714286 and parameters: {'n_estimators': 200, 'max_depth': None, 'min_samples_split': 5, 'min_samples_leaf': 5}. Best is trial 3 with value: -0.5469696969696969.\n",
      "[I 2024-08-14 14:23:32,495] Trial 12 finished with value: -0.5093073593073593 and parameters: {'n_estimators': 50, 'max_depth': None, 'min_samples_split': 5, 'min_samples_leaf': 2}. Best is trial 3 with value: -0.5469696969696969.\n",
      "[I 2024-08-14 14:23:34,065] Trial 13 finished with value: -0.5285714285714286 and parameters: {'n_estimators': 200, 'max_depth': None, 'min_samples_split': 5, 'min_samples_leaf': 5}. Best is trial 3 with value: -0.5469696969696969.\n",
      "[I 2024-08-14 14:23:34,490] Trial 14 finished with value: -0.5469696969696969 and parameters: {'n_estimators': 50, 'max_depth': 10, 'min_samples_split': 5, 'min_samples_leaf': 10}. Best is trial 3 with value: -0.5469696969696969.\n",
      "[I 2024-08-14 14:23:34,598] Trial 15 finished with value: -0.5469696969696969 and parameters: {'n_estimators': 10, 'max_depth': None, 'min_samples_split': 10, 'min_samples_leaf': 5}. Best is trial 3 with value: -0.5469696969696969.\n",
      "[I 2024-08-14 14:23:35,006] Trial 16 finished with value: -0.5469696969696969 and parameters: {'n_estimators': 50, 'max_depth': 10, 'min_samples_split': 5, 'min_samples_leaf': 10}. Best is trial 3 with value: -0.5469696969696969.\n",
      "[I 2024-08-14 14:23:36,992] Trial 17 finished with value: -0.5095238095238095 and parameters: {'n_estimators': 200, 'max_depth': 30, 'min_samples_split': 5, 'min_samples_leaf': 2}. Best is trial 3 with value: -0.5469696969696969.\n",
      "[I 2024-08-14 14:23:37,495] Trial 18 finished with value: -0.5469696969696969 and parameters: {'n_estimators': 50, 'max_depth': 10, 'min_samples_split': 2, 'min_samples_leaf': 10}. Best is trial 3 with value: -0.5469696969696969.\n",
      "[I 2024-08-14 14:23:37,607] Trial 19 finished with value: -0.5469696969696969 and parameters: {'n_estimators': 10, 'max_depth': None, 'min_samples_split': 10, 'min_samples_leaf': 5}. Best is trial 3 with value: -0.5469696969696969.\n",
      "[I 2024-08-14 14:23:38,103] A new study created in memory with name: no-name-047a79da-f52d-49d5-a2e4-0029cfbf4dd9\n"
     ]
    },
    {
     "name": "stdout",
     "output_type": "stream",
     "text": [
      "Mean Accuracy (Cross-Validation): 0.108 ± 0.203\n",
      "Mean Train Accuracy: 0.794 ± 0.000\n",
      "Mean Test Accuracy: 0.656 ± 0.000\n"
     ]
    },
    {
     "name": "stderr",
     "output_type": "stream",
     "text": [
      "[I 2024-08-14 14:23:38,971] Trial 0 finished with value: -0.5194805194805194 and parameters: {'n_estimators': 100, 'max_depth': None, 'min_samples_split': 10, 'min_samples_leaf': 5}. Best is trial 0 with value: -0.5194805194805194.\n",
      "[I 2024-08-14 14:23:40,641] Trial 1 finished with value: -0.5285714285714286 and parameters: {'n_estimators': 200, 'max_depth': 30, 'min_samples_split': 2, 'min_samples_leaf': 5}. Best is trial 1 with value: -0.5285714285714286.\n",
      "[I 2024-08-14 14:23:41,461] Trial 2 finished with value: -0.5614718614718613 and parameters: {'n_estimators': 100, 'max_depth': None, 'min_samples_split': 10, 'min_samples_leaf': 4}. Best is trial 2 with value: -0.5614718614718613.\n",
      "[I 2024-08-14 14:23:41,576] Trial 3 finished with value: -0.5422077922077921 and parameters: {'n_estimators': 10, 'max_depth': 20, 'min_samples_split': 10, 'min_samples_leaf': 2}. Best is trial 2 with value: -0.5614718614718613.\n",
      "[I 2024-08-14 14:23:41,699] Trial 4 finished with value: -0.5194805194805194 and parameters: {'n_estimators': 10, 'max_depth': None, 'min_samples_split': 2, 'min_samples_leaf': 10}. Best is trial 2 with value: -0.5614718614718613.\n",
      "[I 2024-08-14 14:23:42,181] Trial 5 finished with value: -0.5469696969696969 and parameters: {'n_estimators': 50, 'max_depth': 10, 'min_samples_split': 10, 'min_samples_leaf': 10}. Best is trial 2 with value: -0.5614718614718613.\n",
      "[I 2024-08-14 14:23:43,102] Trial 6 finished with value: -0.5376623376623375 and parameters: {'n_estimators': 100, 'max_depth': 10, 'min_samples_split': 10, 'min_samples_leaf': 10}. Best is trial 2 with value: -0.5614718614718613.\n",
      "[I 2024-08-14 14:23:44,740] Trial 7 finished with value: -0.5335497835497834 and parameters: {'n_estimators': 200, 'max_depth': 20, 'min_samples_split': 10, 'min_samples_leaf': 2}. Best is trial 2 with value: -0.5614718614718613.\n",
      "[I 2024-08-14 14:23:45,142] Trial 8 finished with value: -0.5515151515151515 and parameters: {'n_estimators': 50, 'max_depth': 20, 'min_samples_split': 10, 'min_samples_leaf': 4}. Best is trial 2 with value: -0.5614718614718613.\n",
      "[I 2024-08-14 14:23:46,689] Trial 9 finished with value: -0.5422077922077921 and parameters: {'n_estimators': 200, 'max_depth': 10, 'min_samples_split': 10, 'min_samples_leaf': 4}. Best is trial 2 with value: -0.5614718614718613.\n",
      "[I 2024-08-14 14:23:47,484] Trial 10 finished with value: -0.5385281385281385 and parameters: {'n_estimators': 100, 'max_depth': None, 'min_samples_split': 5, 'min_samples_leaf': 4}. Best is trial 2 with value: -0.5614718614718613.\n",
      "[I 2024-08-14 14:23:47,904] Trial 11 finished with value: -0.5192640692640692 and parameters: {'n_estimators': 50, 'max_depth': 20, 'min_samples_split': 5, 'min_samples_leaf': 4}. Best is trial 2 with value: -0.5614718614718613.\n",
      "[I 2024-08-14 14:23:48,309] Trial 12 finished with value: -0.5515151515151515 and parameters: {'n_estimators': 50, 'max_depth': 30, 'min_samples_split': 10, 'min_samples_leaf': 4}. Best is trial 2 with value: -0.5614718614718613.\n",
      "[I 2024-08-14 14:23:49,087] Trial 13 finished with value: -0.5614718614718613 and parameters: {'n_estimators': 100, 'max_depth': 20, 'min_samples_split': 10, 'min_samples_leaf': 4}. Best is trial 2 with value: -0.5614718614718613.\n",
      "[I 2024-08-14 14:23:49,873] Trial 14 finished with value: -0.5385281385281385 and parameters: {'n_estimators': 100, 'max_depth': None, 'min_samples_split': 5, 'min_samples_leaf': 4}. Best is trial 2 with value: -0.5614718614718613.\n",
      "[I 2024-08-14 14:23:50,681] Trial 15 finished with value: -0.5385281385281385 and parameters: {'n_estimators': 100, 'max_depth': 20, 'min_samples_split': 2, 'min_samples_leaf': 4}. Best is trial 2 with value: -0.5614718614718613.\n",
      "[I 2024-08-14 14:23:51,460] Trial 16 finished with value: -0.5614718614718613 and parameters: {'n_estimators': 100, 'max_depth': None, 'min_samples_split': 10, 'min_samples_leaf': 4}. Best is trial 2 with value: -0.5614718614718613.\n",
      "[I 2024-08-14 14:23:52,268] Trial 17 finished with value: -0.5194805194805194 and parameters: {'n_estimators': 100, 'max_depth': 30, 'min_samples_split': 10, 'min_samples_leaf': 5}. Best is trial 2 with value: -0.5614718614718613.\n",
      "[I 2024-08-14 14:23:53,084] Trial 18 finished with value: -0.5192640692640693 and parameters: {'n_estimators': 100, 'max_depth': None, 'min_samples_split': 5, 'min_samples_leaf': 2}. Best is trial 2 with value: -0.5614718614718613.\n",
      "[I 2024-08-14 14:23:53,179] Trial 19 finished with value: -0.5287878787878787 and parameters: {'n_estimators': 10, 'max_depth': 20, 'min_samples_split': 2, 'min_samples_leaf': 4}. Best is trial 2 with value: -0.5614718614718613.\n",
      "[I 2024-08-14 14:23:54,045] A new study created in memory with name: no-name-b70fab0b-cbe6-4b53-a0fd-afd0c0dad585\n"
     ]
    },
    {
     "name": "stdout",
     "output_type": "stream",
     "text": [
      "Mean Accuracy (Cross-Validation): 0.113 ± 0.207\n",
      "Mean Train Accuracy: 0.911 ± 0.000\n",
      "Mean Test Accuracy: 0.656 ± 0.000\n"
     ]
    },
    {
     "name": "stderr",
     "output_type": "stream",
     "text": [
      "[I 2024-08-14 14:23:54,450] Trial 0 finished with value: -0.5292207792207793 and parameters: {'n_estimators': 50, 'max_depth': 20, 'min_samples_split': 10, 'min_samples_leaf': 5}. Best is trial 0 with value: -0.5292207792207793.\n",
      "[I 2024-08-14 14:23:54,844] Trial 1 finished with value: -0.5469696969696969 and parameters: {'n_estimators': 50, 'max_depth': None, 'min_samples_split': 5, 'min_samples_leaf': 10}. Best is trial 1 with value: -0.5469696969696969.\n",
      "[I 2024-08-14 14:23:55,245] Trial 2 finished with value: -0.533982683982684 and parameters: {'n_estimators': 50, 'max_depth': 10, 'min_samples_split': 2, 'min_samples_leaf': 5}. Best is trial 1 with value: -0.5469696969696969.\n",
      "[I 2024-08-14 14:23:56,245] Trial 3 finished with value: -0.5235930735930736 and parameters: {'n_estimators': 100, 'max_depth': 30, 'min_samples_split': 2, 'min_samples_leaf': 2}. Best is trial 1 with value: -0.5469696969696969.\n",
      "[I 2024-08-14 14:23:56,718] Trial 4 finished with value: -0.5292207792207793 and parameters: {'n_estimators': 50, 'max_depth': None, 'min_samples_split': 5, 'min_samples_leaf': 5}. Best is trial 1 with value: -0.5469696969696969.\n",
      "[I 2024-08-14 14:23:58,624] Trial 5 finished with value: -0.5285714285714286 and parameters: {'n_estimators': 200, 'max_depth': None, 'min_samples_split': 10, 'min_samples_leaf': 5}. Best is trial 1 with value: -0.5469696969696969.\n",
      "[I 2024-08-14 14:23:58,767] Trial 6 finished with value: -0.5194805194805194 and parameters: {'n_estimators': 10, 'max_depth': 30, 'min_samples_split': 5, 'min_samples_leaf': 10}. Best is trial 1 with value: -0.5469696969696969.\n",
      "[I 2024-08-14 14:23:59,280] Trial 7 finished with value: -0.5469696969696969 and parameters: {'n_estimators': 50, 'max_depth': 30, 'min_samples_split': 5, 'min_samples_leaf': 10}. Best is trial 1 with value: -0.5469696969696969.\n",
      "[I 2024-08-14 14:24:00,260] Trial 8 finished with value: -0.5192640692640693 and parameters: {'n_estimators': 100, 'max_depth': None, 'min_samples_split': 5, 'min_samples_leaf': 2}. Best is trial 1 with value: -0.5469696969696969.\n",
      "[I 2024-08-14 14:24:02,054] Trial 9 finished with value: -0.5285714285714286 and parameters: {'n_estimators': 200, 'max_depth': None, 'min_samples_split': 5, 'min_samples_leaf': 5}. Best is trial 1 with value: -0.5469696969696969.\n",
      "[I 2024-08-14 14:24:02,152] Trial 10 finished with value: -0.5287878787878787 and parameters: {'n_estimators': 10, 'max_depth': 10, 'min_samples_split': 2, 'min_samples_leaf': 4}. Best is trial 1 with value: -0.5469696969696969.\n",
      "[I 2024-08-14 14:24:02,547] Trial 11 finished with value: -0.5469696969696969 and parameters: {'n_estimators': 50, 'max_depth': 30, 'min_samples_split': 5, 'min_samples_leaf': 10}. Best is trial 1 with value: -0.5469696969696969.\n",
      "[I 2024-08-14 14:24:02,968] Trial 12 finished with value: -0.5469696969696969 and parameters: {'n_estimators': 50, 'max_depth': 20, 'min_samples_split': 5, 'min_samples_leaf': 10}. Best is trial 1 with value: -0.5469696969696969.\n",
      "[I 2024-08-14 14:24:03,421] Trial 13 finished with value: -0.5469696969696969 and parameters: {'n_estimators': 50, 'max_depth': 30, 'min_samples_split': 5, 'min_samples_leaf': 10}. Best is trial 1 with value: -0.5469696969696969.\n",
      "[I 2024-08-14 14:24:03,828] Trial 14 finished with value: -0.5469696969696969 and parameters: {'n_estimators': 50, 'max_depth': None, 'min_samples_split': 5, 'min_samples_leaf': 10}. Best is trial 1 with value: -0.5469696969696969.\n",
      "[I 2024-08-14 14:24:04,244] Trial 15 finished with value: -0.5515151515151515 and parameters: {'n_estimators': 50, 'max_depth': 30, 'min_samples_split': 10, 'min_samples_leaf': 4}. Best is trial 15 with value: -0.5515151515151515.\n",
      "[I 2024-08-14 14:24:05,079] Trial 16 finished with value: -0.5614718614718613 and parameters: {'n_estimators': 100, 'max_depth': 20, 'min_samples_split': 10, 'min_samples_leaf': 4}. Best is trial 16 with value: -0.5614718614718613.\n",
      "[I 2024-08-14 14:24:05,952] Trial 17 finished with value: -0.5614718614718613 and parameters: {'n_estimators': 100, 'max_depth': 20, 'min_samples_split': 10, 'min_samples_leaf': 4}. Best is trial 16 with value: -0.5614718614718613.\n",
      "[I 2024-08-14 14:24:06,837] Trial 18 finished with value: -0.5614718614718613 and parameters: {'n_estimators': 100, 'max_depth': 20, 'min_samples_split': 10, 'min_samples_leaf': 4}. Best is trial 16 with value: -0.5614718614718613.\n",
      "[I 2024-08-14 14:24:07,994] Trial 19 finished with value: -0.5614718614718613 and parameters: {'n_estimators': 100, 'max_depth': 20, 'min_samples_split': 10, 'min_samples_leaf': 4}. Best is trial 16 with value: -0.5614718614718613.\n",
      "[I 2024-08-14 14:24:09,216] A new study created in memory with name: no-name-7acf7510-83da-499b-9a3c-a63d5f02b851\n"
     ]
    },
    {
     "name": "stdout",
     "output_type": "stream",
     "text": [
      "Mean Accuracy (Cross-Validation): 0.118 ± 0.210\n",
      "Mean Train Accuracy: 0.911 ± 0.000\n",
      "Mean Test Accuracy: 0.656 ± 0.000\n"
     ]
    },
    {
     "name": "stderr",
     "output_type": "stream",
     "text": [
      "[I 2024-08-14 14:24:10,214] Trial 0 finished with value: -0.5238095238095237 and parameters: {'n_estimators': 100, 'max_depth': 10, 'min_samples_split': 10, 'min_samples_leaf': 5}. Best is trial 0 with value: -0.5238095238095237.\n",
      "[I 2024-08-14 14:24:12,190] Trial 1 finished with value: -0.5335497835497834 and parameters: {'n_estimators': 200, 'max_depth': 30, 'min_samples_split': 10, 'min_samples_leaf': 2}. Best is trial 1 with value: -0.5335497835497834.\n",
      "[I 2024-08-14 14:24:14,068] Trial 2 finished with value: -0.524025974025974 and parameters: {'n_estimators': 200, 'max_depth': 10, 'min_samples_split': 2, 'min_samples_leaf': 4}. Best is trial 1 with value: -0.5335497835497834.\n",
      "[I 2024-08-14 14:24:14,181] Trial 3 finished with value: -0.5287878787878787 and parameters: {'n_estimators': 10, 'max_depth': 20, 'min_samples_split': 2, 'min_samples_leaf': 4}. Best is trial 1 with value: -0.5335497835497834.\n",
      "[I 2024-08-14 14:24:14,668] Trial 4 finished with value: -0.5515151515151515 and parameters: {'n_estimators': 50, 'max_depth': 10, 'min_samples_split': 2, 'min_samples_leaf': 2}. Best is trial 4 with value: -0.5515151515151515.\n",
      "[I 2024-08-14 14:24:15,649] Trial 5 finished with value: -0.5192640692640693 and parameters: {'n_estimators': 100, 'max_depth': 30, 'min_samples_split': 5, 'min_samples_leaf': 2}. Best is trial 4 with value: -0.5515151515151515.\n",
      "[I 2024-08-14 14:24:16,631] Trial 6 finished with value: -0.5192640692640693 and parameters: {'n_estimators': 100, 'max_depth': 30, 'min_samples_split': 5, 'min_samples_leaf': 2}. Best is trial 4 with value: -0.5515151515151515.\n",
      "[I 2024-08-14 14:24:17,634] Trial 7 finished with value: -0.5235930735930736 and parameters: {'n_estimators': 100, 'max_depth': None, 'min_samples_split': 2, 'min_samples_leaf': 2}. Best is trial 4 with value: -0.5515151515151515.\n",
      "[I 2024-08-14 14:24:17,752] Trial 8 finished with value: -0.5469696969696969 and parameters: {'n_estimators': 10, 'max_depth': 30, 'min_samples_split': 2, 'min_samples_leaf': 5}. Best is trial 4 with value: -0.5515151515151515.\n",
      "[I 2024-08-14 14:24:17,872] Trial 9 finished with value: -0.5287878787878787 and parameters: {'n_estimators': 10, 'max_depth': 20, 'min_samples_split': 2, 'min_samples_leaf': 4}. Best is trial 4 with value: -0.5515151515151515.\n",
      "[I 2024-08-14 14:24:18,350] Trial 10 finished with value: -0.5469696969696969 and parameters: {'n_estimators': 50, 'max_depth': 10, 'min_samples_split': 5, 'min_samples_leaf': 10}. Best is trial 4 with value: -0.5515151515151515.\n",
      "[I 2024-08-14 14:24:18,857] Trial 11 finished with value: -0.5292207792207793 and parameters: {'n_estimators': 50, 'max_depth': None, 'min_samples_split': 2, 'min_samples_leaf': 5}. Best is trial 4 with value: -0.5515151515151515.\n",
      "[I 2024-08-14 14:24:18,977] Trial 12 finished with value: -0.5469696969696969 and parameters: {'n_estimators': 10, 'max_depth': 30, 'min_samples_split': 2, 'min_samples_leaf': 5}. Best is trial 4 with value: -0.5515151515151515.\n",
      "[I 2024-08-14 14:24:19,605] Trial 13 finished with value: -0.5469696969696969 and parameters: {'n_estimators': 50, 'max_depth': 10, 'min_samples_split': 2, 'min_samples_leaf': 10}. Best is trial 4 with value: -0.5515151515151515.\n",
      "[I 2024-08-14 14:24:20,218] Trial 14 finished with value: -0.533982683982684 and parameters: {'n_estimators': 50, 'max_depth': 10, 'min_samples_split': 2, 'min_samples_leaf': 5}. Best is trial 4 with value: -0.5515151515151515.\n",
      "[I 2024-08-14 14:24:20,363] Trial 15 finished with value: -0.5422077922077921 and parameters: {'n_estimators': 10, 'max_depth': 30, 'min_samples_split': 10, 'min_samples_leaf': 2}. Best is trial 4 with value: -0.5515151515151515.\n",
      "[I 2024-08-14 14:24:20,889] Trial 16 finished with value: -0.5292207792207793 and parameters: {'n_estimators': 50, 'max_depth': 20, 'min_samples_split': 2, 'min_samples_leaf': 5}. Best is trial 4 with value: -0.5515151515151515.\n",
      "[I 2024-08-14 14:24:20,998] Trial 17 finished with value: -0.5194805194805194 and parameters: {'n_estimators': 10, 'max_depth': None, 'min_samples_split': 2, 'min_samples_leaf': 10}. Best is trial 4 with value: -0.5515151515151515.\n",
      "[I 2024-08-14 14:24:22,744] Trial 18 finished with value: -0.5335497835497834 and parameters: {'n_estimators': 200, 'max_depth': 30, 'min_samples_split': 10, 'min_samples_leaf': 2}. Best is trial 4 with value: -0.5515151515151515.\n",
      "[I 2024-08-14 14:24:22,844] Trial 19 finished with value: -0.5422077922077921 and parameters: {'n_estimators': 10, 'max_depth': 10, 'min_samples_split': 5, 'min_samples_leaf': 5}. Best is trial 4 with value: -0.5515151515151515.\n",
      "[I 2024-08-14 14:24:23,363] A new study created in memory with name: no-name-25d52e89-f9f0-4327-b983-004553d20245\n"
     ]
    },
    {
     "name": "stdout",
     "output_type": "stream",
     "text": [
      "Mean Accuracy (Cross-Validation): 0.124 ± 0.214\n",
      "Mean Train Accuracy: 0.977 ± 0.000\n",
      "Mean Test Accuracy: 0.634 ± 0.000\n"
     ]
    },
    {
     "name": "stderr",
     "output_type": "stream",
     "text": [
      "[I 2024-08-14 14:24:24,185] Trial 0 finished with value: -0.5376623376623375 and parameters: {'n_estimators': 100, 'max_depth': 30, 'min_samples_split': 5, 'min_samples_leaf': 10}. Best is trial 0 with value: -0.5376623376623375.\n",
      "[I 2024-08-14 14:24:24,678] Trial 1 finished with value: -0.524025974025974 and parameters: {'n_estimators': 50, 'max_depth': 10, 'min_samples_split': 2, 'min_samples_leaf': 4}. Best is trial 0 with value: -0.5376623376623375.\n",
      "[I 2024-08-14 14:24:25,148] Trial 2 finished with value: -0.5192640692640692 and parameters: {'n_estimators': 50, 'max_depth': 30, 'min_samples_split': 5, 'min_samples_leaf': 4}. Best is trial 0 with value: -0.5376623376623375.\n",
      "[I 2024-08-14 14:24:25,622] Trial 3 finished with value: -0.5372294372294372 and parameters: {'n_estimators': 50, 'max_depth': 20, 'min_samples_split': 2, 'min_samples_leaf': 2}. Best is trial 0 with value: -0.5376623376623375.\n",
      "[I 2024-08-14 14:24:26,086] Trial 4 finished with value: -0.5192640692640692 and parameters: {'n_estimators': 50, 'max_depth': None, 'min_samples_split': 2, 'min_samples_leaf': 4}. Best is trial 0 with value: -0.5376623376623375.\n",
      "[I 2024-08-14 14:24:27,046] Trial 5 finished with value: -0.523809523809524 and parameters: {'n_estimators': 100, 'max_depth': 10, 'min_samples_split': 2, 'min_samples_leaf': 2}. Best is trial 0 with value: -0.5376623376623375.\n",
      "[I 2024-08-14 14:24:27,529] Trial 6 finished with value: -0.5292207792207793 and parameters: {'n_estimators': 50, 'max_depth': None, 'min_samples_split': 10, 'min_samples_leaf': 5}. Best is trial 0 with value: -0.5376623376623375.\n",
      "[I 2024-08-14 14:24:27,648] Trial 7 finished with value: -0.5043290043290043 and parameters: {'n_estimators': 10, 'max_depth': 10, 'min_samples_split': 2, 'min_samples_leaf': 2}. Best is trial 0 with value: -0.5376623376623375.\n",
      "[I 2024-08-14 14:24:27,763] Trial 8 finished with value: -0.5287878787878787 and parameters: {'n_estimators': 10, 'max_depth': 30, 'min_samples_split': 5, 'min_samples_leaf': 4}. Best is trial 0 with value: -0.5376623376623375.\n",
      "[I 2024-08-14 14:24:29,746] Trial 9 finished with value: -0.5238095238095237 and parameters: {'n_estimators': 200, 'max_depth': None, 'min_samples_split': 2, 'min_samples_leaf': 2}. Best is trial 0 with value: -0.5376623376623375.\n",
      "[I 2024-08-14 14:24:30,637] Trial 10 finished with value: -0.5376623376623375 and parameters: {'n_estimators': 100, 'max_depth': 30, 'min_samples_split': 5, 'min_samples_leaf': 10}. Best is trial 0 with value: -0.5376623376623375.\n",
      "[I 2024-08-14 14:24:31,522] Trial 11 finished with value: -0.5376623376623375 and parameters: {'n_estimators': 100, 'max_depth': 30, 'min_samples_split': 5, 'min_samples_leaf': 10}. Best is trial 0 with value: -0.5376623376623375.\n",
      "[I 2024-08-14 14:24:32,643] Trial 12 finished with value: -0.5376623376623375 and parameters: {'n_estimators': 100, 'max_depth': 30, 'min_samples_split': 5, 'min_samples_leaf': 10}. Best is trial 0 with value: -0.5376623376623375.\n",
      "[I 2024-08-14 14:24:33,957] Trial 13 finished with value: -0.5376623376623375 and parameters: {'n_estimators': 100, 'max_depth': 30, 'min_samples_split': 5, 'min_samples_leaf': 10}. Best is trial 0 with value: -0.5376623376623375.\n",
      "[I 2024-08-14 14:24:35,334] Trial 14 finished with value: -0.5376623376623375 and parameters: {'n_estimators': 100, 'max_depth': 20, 'min_samples_split': 10, 'min_samples_leaf': 10}. Best is trial 0 with value: -0.5376623376623375.\n",
      "[I 2024-08-14 14:24:37,751] Trial 15 finished with value: -0.5422077922077921 and parameters: {'n_estimators': 200, 'max_depth': 30, 'min_samples_split': 5, 'min_samples_leaf': 10}. Best is trial 15 with value: -0.5422077922077921.\n",
      "[I 2024-08-14 14:24:39,526] Trial 16 finished with value: -0.5285714285714286 and parameters: {'n_estimators': 200, 'max_depth': 30, 'min_samples_split': 5, 'min_samples_leaf': 5}. Best is trial 15 with value: -0.5422077922077921.\n",
      "[I 2024-08-14 14:24:41,474] Trial 17 finished with value: -0.5422077922077921 and parameters: {'n_estimators': 200, 'max_depth': 30, 'min_samples_split': 10, 'min_samples_leaf': 10}. Best is trial 15 with value: -0.5422077922077921.\n",
      "[I 2024-08-14 14:24:43,765] Trial 18 finished with value: -0.5422077922077921 and parameters: {'n_estimators': 200, 'max_depth': 20, 'min_samples_split': 10, 'min_samples_leaf': 10}. Best is trial 15 with value: -0.5422077922077921.\n",
      "[I 2024-08-14 14:24:45,819] Trial 19 finished with value: -0.5422077922077921 and parameters: {'n_estimators': 200, 'max_depth': 30, 'min_samples_split': 10, 'min_samples_leaf': 10}. Best is trial 15 with value: -0.5422077922077921.\n",
      "[I 2024-08-14 14:24:47,668] A new study created in memory with name: no-name-312016ce-0161-408c-a077-d037a0b6c270\n",
      "[I 2024-08-14 14:24:47,766] Trial 0 finished with value: -0.5194805194805194 and parameters: {'n_estimators': 10, 'max_depth': 10, 'min_samples_split': 10, 'min_samples_leaf': 10}. Best is trial 0 with value: -0.5194805194805194.\n"
     ]
    },
    {
     "name": "stdout",
     "output_type": "stream",
     "text": [
      "Mean Accuracy (Cross-Validation): 0.129 ± 0.217\n",
      "Mean Train Accuracy: 0.780 ± 0.000\n",
      "Mean Test Accuracy: 0.677 ± 0.000\n"
     ]
    },
    {
     "name": "stderr",
     "output_type": "stream",
     "text": [
      "[I 2024-08-14 14:24:49,769] Trial 1 finished with value: -0.5238095238095237 and parameters: {'n_estimators': 200, 'max_depth': None, 'min_samples_split': 2, 'min_samples_leaf': 2}. Best is trial 1 with value: -0.5238095238095237.\n",
      "[I 2024-08-14 14:24:50,319] Trial 2 finished with value: -0.5192640692640692 and parameters: {'n_estimators': 50, 'max_depth': None, 'min_samples_split': 5, 'min_samples_leaf': 4}. Best is trial 1 with value: -0.5238095238095237.\n",
      "[I 2024-08-14 14:24:50,880] Trial 3 finished with value: -0.5093073593073593 and parameters: {'n_estimators': 50, 'max_depth': 20, 'min_samples_split': 5, 'min_samples_leaf': 2}. Best is trial 1 with value: -0.5238095238095237.\n",
      "[I 2024-08-14 14:24:52,719] Trial 4 finished with value: -0.5335497835497834 and parameters: {'n_estimators': 200, 'max_depth': 30, 'min_samples_split': 10, 'min_samples_leaf': 2}. Best is trial 4 with value: -0.5335497835497834.\n",
      "[I 2024-08-14 14:24:52,827] Trial 5 finished with value: -0.5471861471861471 and parameters: {'n_estimators': 10, 'max_depth': 10, 'min_samples_split': 10, 'min_samples_leaf': 2}. Best is trial 5 with value: -0.5471861471861471.\n",
      "[I 2024-08-14 14:24:52,929] Trial 6 finished with value: -0.5194805194805194 and parameters: {'n_estimators': 10, 'max_depth': 20, 'min_samples_split': 5, 'min_samples_leaf': 10}. Best is trial 5 with value: -0.5471861471861471.\n",
      "[I 2024-08-14 14:24:54,663] Trial 7 finished with value: -0.5285714285714286 and parameters: {'n_estimators': 200, 'max_depth': 30, 'min_samples_split': 2, 'min_samples_leaf': 5}. Best is trial 5 with value: -0.5471861471861471.\n",
      "[I 2024-08-14 14:24:56,492] Trial 8 finished with value: -0.5095238095238095 and parameters: {'n_estimators': 200, 'max_depth': 20, 'min_samples_split': 5, 'min_samples_leaf': 2}. Best is trial 5 with value: -0.5471861471861471.\n",
      "[I 2024-08-14 14:24:56,598] Trial 9 finished with value: -0.5469696969696969 and parameters: {'n_estimators': 10, 'max_depth': 20, 'min_samples_split': 5, 'min_samples_leaf': 5}. Best is trial 5 with value: -0.5471861471861471.\n",
      "[I 2024-08-14 14:24:57,413] Trial 10 finished with value: -0.5521645021645021 and parameters: {'n_estimators': 100, 'max_depth': 10, 'min_samples_split': 10, 'min_samples_leaf': 4}. Best is trial 10 with value: -0.5521645021645021.\n",
      "[I 2024-08-14 14:24:58,259] Trial 11 finished with value: -0.5521645021645021 and parameters: {'n_estimators': 100, 'max_depth': 10, 'min_samples_split': 10, 'min_samples_leaf': 4}. Best is trial 10 with value: -0.5521645021645021.\n",
      "[I 2024-08-14 14:24:59,072] Trial 12 finished with value: -0.5521645021645021 and parameters: {'n_estimators': 100, 'max_depth': 10, 'min_samples_split': 10, 'min_samples_leaf': 4}. Best is trial 10 with value: -0.5521645021645021.\n",
      "[I 2024-08-14 14:24:59,871] Trial 13 finished with value: -0.5521645021645021 and parameters: {'n_estimators': 100, 'max_depth': 10, 'min_samples_split': 10, 'min_samples_leaf': 4}. Best is trial 10 with value: -0.5521645021645021.\n",
      "[I 2024-08-14 14:25:00,694] Trial 14 finished with value: -0.5521645021645021 and parameters: {'n_estimators': 100, 'max_depth': 10, 'min_samples_split': 10, 'min_samples_leaf': 4}. Best is trial 10 with value: -0.5521645021645021.\n",
      "[I 2024-08-14 14:25:01,490] Trial 15 finished with value: -0.5521645021645021 and parameters: {'n_estimators': 100, 'max_depth': 10, 'min_samples_split': 10, 'min_samples_leaf': 4}. Best is trial 10 with value: -0.5521645021645021.\n",
      "[I 2024-08-14 14:25:02,326] Trial 16 finished with value: -0.5521645021645021 and parameters: {'n_estimators': 100, 'max_depth': 10, 'min_samples_split': 10, 'min_samples_leaf': 4}. Best is trial 10 with value: -0.5521645021645021.\n",
      "[I 2024-08-14 14:25:03,128] Trial 17 finished with value: -0.5337662337662338 and parameters: {'n_estimators': 100, 'max_depth': 10, 'min_samples_split': 2, 'min_samples_leaf': 4}. Best is trial 10 with value: -0.5521645021645021.\n",
      "[I 2024-08-14 14:25:03,966] Trial 18 finished with value: -0.5614718614718613 and parameters: {'n_estimators': 100, 'max_depth': 30, 'min_samples_split': 10, 'min_samples_leaf': 4}. Best is trial 18 with value: -0.5614718614718613.\n",
      "[I 2024-08-14 14:25:04,756] Trial 19 finished with value: -0.5376623376623375 and parameters: {'n_estimators': 100, 'max_depth': 30, 'min_samples_split': 10, 'min_samples_leaf': 10}. Best is trial 18 with value: -0.5614718614718613.\n",
      "[I 2024-08-14 14:25:05,673] A new study created in memory with name: no-name-54795a2d-5d61-4d04-9b56-91625d70c606\n"
     ]
    },
    {
     "name": "stdout",
     "output_type": "stream",
     "text": [
      "Mean Accuracy (Cross-Validation): 0.134 ± 0.220\n",
      "Mean Train Accuracy: 0.911 ± 0.000\n",
      "Mean Test Accuracy: 0.656 ± 0.000\n"
     ]
    },
    {
     "name": "stderr",
     "output_type": "stream",
     "text": [
      "[I 2024-08-14 14:25:06,094] Trial 0 finished with value: -0.533982683982684 and parameters: {'n_estimators': 50, 'max_depth': 10, 'min_samples_split': 10, 'min_samples_leaf': 5}. Best is trial 0 with value: -0.533982683982684.\n",
      "[I 2024-08-14 14:25:06,943] Trial 1 finished with value: -0.5337662337662338 and parameters: {'n_estimators': 100, 'max_depth': 10, 'min_samples_split': 2, 'min_samples_leaf': 4}. Best is trial 0 with value: -0.533982683982684.\n",
      "[I 2024-08-14 14:25:07,046] Trial 2 finished with value: -0.4904761904761905 and parameters: {'n_estimators': 10, 'max_depth': None, 'min_samples_split': 2, 'min_samples_leaf': 2}. Best is trial 0 with value: -0.533982683982684.\n",
      "[I 2024-08-14 14:25:08,761] Trial 3 finished with value: -0.5422077922077921 and parameters: {'n_estimators': 200, 'max_depth': 10, 'min_samples_split': 10, 'min_samples_leaf': 10}. Best is trial 3 with value: -0.5422077922077921.\n",
      "[I 2024-08-14 14:25:08,863] Trial 4 finished with value: -0.5194805194805194 and parameters: {'n_estimators': 10, 'max_depth': 20, 'min_samples_split': 10, 'min_samples_leaf': 10}. Best is trial 3 with value: -0.5422077922077921.\n",
      "[I 2024-08-14 14:25:10,602] Trial 5 finished with value: -0.519047619047619 and parameters: {'n_estimators': 200, 'max_depth': 10, 'min_samples_split': 5, 'min_samples_leaf': 2}. Best is trial 3 with value: -0.5422077922077921.\n",
      "[I 2024-08-14 14:25:11,481] Trial 6 finished with value: -0.5235930735930736 and parameters: {'n_estimators': 100, 'max_depth': 30, 'min_samples_split': 2, 'min_samples_leaf': 2}. Best is trial 3 with value: -0.5422077922077921.\n",
      "[I 2024-08-14 14:25:11,580] Trial 7 finished with value: -0.5194805194805194 and parameters: {'n_estimators': 10, 'max_depth': None, 'min_samples_split': 10, 'min_samples_leaf': 10}. Best is trial 3 with value: -0.5422077922077921.\n",
      "[I 2024-08-14 14:25:12,010] Trial 8 finished with value: -0.5292207792207793 and parameters: {'n_estimators': 50, 'max_depth': None, 'min_samples_split': 2, 'min_samples_leaf': 5}. Best is trial 3 with value: -0.5422077922077921.\n",
      "[I 2024-08-14 14:25:12,110] Trial 9 finished with value: -0.5287878787878787 and parameters: {'n_estimators': 10, 'max_depth': 30, 'min_samples_split': 5, 'min_samples_leaf': 4}. Best is trial 3 with value: -0.5422077922077921.\n",
      "[I 2024-08-14 14:25:13,639] Trial 10 finished with value: -0.5422077922077921 and parameters: {'n_estimators': 200, 'max_depth': 20, 'min_samples_split': 10, 'min_samples_leaf': 10}. Best is trial 3 with value: -0.5422077922077921.\n",
      "[I 2024-08-14 14:25:15,197] Trial 11 finished with value: -0.5422077922077921 and parameters: {'n_estimators': 200, 'max_depth': 20, 'min_samples_split': 10, 'min_samples_leaf': 10}. Best is trial 3 with value: -0.5422077922077921.\n",
      "[I 2024-08-14 14:25:16,786] Trial 12 finished with value: -0.5422077922077921 and parameters: {'n_estimators': 200, 'max_depth': 20, 'min_samples_split': 10, 'min_samples_leaf': 10}. Best is trial 3 with value: -0.5422077922077921.\n",
      "[I 2024-08-14 14:25:18,312] Trial 13 finished with value: -0.5422077922077921 and parameters: {'n_estimators': 200, 'max_depth': 20, 'min_samples_split': 10, 'min_samples_leaf': 10}. Best is trial 3 with value: -0.5422077922077921.\n",
      "[I 2024-08-14 14:25:19,838] Trial 14 finished with value: -0.5422077922077921 and parameters: {'n_estimators': 200, 'max_depth': 10, 'min_samples_split': 10, 'min_samples_leaf': 10}. Best is trial 3 with value: -0.5422077922077921.\n",
      "[I 2024-08-14 14:25:21,392] Trial 15 finished with value: -0.5422077922077921 and parameters: {'n_estimators': 200, 'max_depth': 20, 'min_samples_split': 10, 'min_samples_leaf': 10}. Best is trial 3 with value: -0.5422077922077921.\n",
      "[I 2024-08-14 14:25:22,915] Trial 16 finished with value: -0.5422077922077921 and parameters: {'n_estimators': 200, 'max_depth': 10, 'min_samples_split': 5, 'min_samples_leaf': 10}. Best is trial 3 with value: -0.5422077922077921.\n",
      "[I 2024-08-14 14:25:24,627] Trial 17 finished with value: -0.5285714285714286 and parameters: {'n_estimators': 200, 'max_depth': 30, 'min_samples_split': 10, 'min_samples_leaf': 5}. Best is trial 3 with value: -0.5422077922077921.\n",
      "[I 2024-08-14 14:25:25,078] Trial 18 finished with value: -0.5422077922077924 and parameters: {'n_estimators': 50, 'max_depth': 10, 'min_samples_split': 10, 'min_samples_leaf': 4}. Best is trial 18 with value: -0.5422077922077924.\n",
      "[I 2024-08-14 14:25:25,524] Trial 19 finished with value: -0.524025974025974 and parameters: {'n_estimators': 50, 'max_depth': 10, 'min_samples_split': 5, 'min_samples_leaf': 4}. Best is trial 18 with value: -0.5422077922077924.\n",
      "[I 2024-08-14 14:25:26,004] A new study created in memory with name: no-name-7b3addf5-9bb0-426b-923a-512bdad09058\n"
     ]
    },
    {
     "name": "stdout",
     "output_type": "stream",
     "text": [
      "Mean Accuracy (Cross-Validation): 0.139 ± 0.223\n",
      "Mean Train Accuracy: 0.897 ± 0.000\n",
      "Mean Test Accuracy: 0.602 ± 0.000\n"
     ]
    },
    {
     "name": "stderr",
     "output_type": "stream",
     "text": [
      "[I 2024-08-14 14:25:27,648] Trial 0 finished with value: -0.5335497835497834 and parameters: {'n_estimators': 200, 'max_depth': None, 'min_samples_split': 10, 'min_samples_leaf': 2}. Best is trial 0 with value: -0.5335497835497834.\n",
      "[I 2024-08-14 14:25:28,069] Trial 1 finished with value: -0.5192640692640692 and parameters: {'n_estimators': 50, 'max_depth': 20, 'min_samples_split': 5, 'min_samples_leaf': 4}. Best is trial 0 with value: -0.5335497835497834.\n",
      "[I 2024-08-14 14:25:28,162] Trial 2 finished with value: -0.5194805194805194 and parameters: {'n_estimators': 10, 'max_depth': None, 'min_samples_split': 10, 'min_samples_leaf': 10}. Best is trial 0 with value: -0.5335497835497834.\n",
      "[I 2024-08-14 14:25:28,565] Trial 3 finished with value: -0.5292207792207793 and parameters: {'n_estimators': 50, 'max_depth': None, 'min_samples_split': 2, 'min_samples_leaf': 5}. Best is trial 0 with value: -0.5335497835497834.\n",
      "[I 2024-08-14 14:25:28,988] Trial 4 finished with value: -0.5093073593073593 and parameters: {'n_estimators': 50, 'max_depth': None, 'min_samples_split': 5, 'min_samples_leaf': 2}. Best is trial 0 with value: -0.5335497835497834.\n",
      "[I 2024-08-14 14:25:29,403] Trial 5 finished with value: -0.5292207792207793 and parameters: {'n_estimators': 50, 'max_depth': 30, 'min_samples_split': 5, 'min_samples_leaf': 5}. Best is trial 0 with value: -0.5335497835497834.\n",
      "[I 2024-08-14 14:25:30,267] Trial 6 finished with value: -0.5335497835497836 and parameters: {'n_estimators': 100, 'max_depth': 10, 'min_samples_split': 5, 'min_samples_leaf': 2}. Best is trial 6 with value: -0.5335497835497836.\n",
      "[I 2024-08-14 14:25:30,691] Trial 7 finished with value: -0.5093073593073593 and parameters: {'n_estimators': 50, 'max_depth': 20, 'min_samples_split': 5, 'min_samples_leaf': 2}. Best is trial 6 with value: -0.5335497835497836.\n",
      "[I 2024-08-14 14:25:32,308] Trial 8 finished with value: -0.5335497835497836 and parameters: {'n_estimators': 200, 'max_depth': 20, 'min_samples_split': 2, 'min_samples_leaf': 4}. Best is trial 6 with value: -0.5335497835497836.\n",
      "[I 2024-08-14 14:25:32,703] Trial 9 finished with value: -0.5292207792207793 and parameters: {'n_estimators': 50, 'max_depth': 20, 'min_samples_split': 2, 'min_samples_leaf': 5}. Best is trial 6 with value: -0.5335497835497836.\n",
      "[I 2024-08-14 14:25:33,512] Trial 10 finished with value: -0.5376623376623375 and parameters: {'n_estimators': 100, 'max_depth': 10, 'min_samples_split': 5, 'min_samples_leaf': 10}. Best is trial 10 with value: -0.5376623376623375.\n",
      "[I 2024-08-14 14:25:34,288] Trial 11 finished with value: -0.5376623376623375 and parameters: {'n_estimators': 100, 'max_depth': 10, 'min_samples_split': 5, 'min_samples_leaf': 10}. Best is trial 10 with value: -0.5376623376623375.\n",
      "[I 2024-08-14 14:25:35,086] Trial 12 finished with value: -0.5376623376623375 and parameters: {'n_estimators': 100, 'max_depth': 10, 'min_samples_split': 5, 'min_samples_leaf': 10}. Best is trial 10 with value: -0.5376623376623375.\n",
      "[I 2024-08-14 14:25:35,942] Trial 13 finished with value: -0.5376623376623375 and parameters: {'n_estimators': 100, 'max_depth': 10, 'min_samples_split': 5, 'min_samples_leaf': 10}. Best is trial 10 with value: -0.5376623376623375.\n",
      "[I 2024-08-14 14:25:36,861] Trial 14 finished with value: -0.5376623376623375 and parameters: {'n_estimators': 100, 'max_depth': 10, 'min_samples_split': 5, 'min_samples_leaf': 10}. Best is trial 10 with value: -0.5376623376623375.\n",
      "[I 2024-08-14 14:25:37,651] Trial 15 finished with value: -0.5376623376623375 and parameters: {'n_estimators': 100, 'max_depth': 10, 'min_samples_split': 10, 'min_samples_leaf': 10}. Best is trial 10 with value: -0.5376623376623375.\n",
      "[I 2024-08-14 14:25:37,747] Trial 16 finished with value: -0.5194805194805194 and parameters: {'n_estimators': 10, 'max_depth': 30, 'min_samples_split': 5, 'min_samples_leaf': 10}. Best is trial 10 with value: -0.5376623376623375.\n",
      "[I 2024-08-14 14:25:38,511] Trial 17 finished with value: -0.5376623376623375 and parameters: {'n_estimators': 100, 'max_depth': 10, 'min_samples_split': 5, 'min_samples_leaf': 10}. Best is trial 10 with value: -0.5376623376623375.\n",
      "[I 2024-08-14 14:25:39,292] Trial 18 finished with value: -0.5376623376623375 and parameters: {'n_estimators': 100, 'max_depth': 10, 'min_samples_split': 10, 'min_samples_leaf': 10}. Best is trial 10 with value: -0.5376623376623375.\n",
      "[I 2024-08-14 14:25:40,125] Trial 19 finished with value: -0.5337662337662338 and parameters: {'n_estimators': 100, 'max_depth': 10, 'min_samples_split': 2, 'min_samples_leaf': 4}. Best is trial 10 with value: -0.5376623376623375.\n",
      "[I 2024-08-14 14:25:41,070] A new study created in memory with name: no-name-320d6051-d8ed-4ccb-874e-0712ac9f7399\n"
     ]
    },
    {
     "name": "stdout",
     "output_type": "stream",
     "text": [
      "Mean Accuracy (Cross-Validation): 0.144 ± 0.226\n",
      "Mean Train Accuracy: 0.799 ± 0.000\n",
      "Mean Test Accuracy: 0.667 ± 0.000\n"
     ]
    },
    {
     "name": "stderr",
     "output_type": "stream",
     "text": [
      "[I 2024-08-14 14:25:41,492] Trial 0 finished with value: -0.5469696969696969 and parameters: {'n_estimators': 50, 'max_depth': 20, 'min_samples_split': 2, 'min_samples_leaf': 10}. Best is trial 0 with value: -0.5469696969696969.\n",
      "[I 2024-08-14 14:25:42,299] Trial 1 finished with value: -0.5376623376623375 and parameters: {'n_estimators': 100, 'max_depth': 30, 'min_samples_split': 2, 'min_samples_leaf': 10}. Best is trial 0 with value: -0.5469696969696969.\n",
      "[I 2024-08-14 14:25:43,093] Trial 2 finished with value: -0.5376623376623375 and parameters: {'n_estimators': 100, 'max_depth': 30, 'min_samples_split': 2, 'min_samples_leaf': 10}. Best is trial 0 with value: -0.5469696969696969.\n",
      "[I 2024-08-14 14:25:43,199] Trial 3 finished with value: -0.4904761904761905 and parameters: {'n_estimators': 10, 'max_depth': 30, 'min_samples_split': 2, 'min_samples_leaf': 2}. Best is trial 0 with value: -0.5469696969696969.\n",
      "[I 2024-08-14 14:25:44,979] Trial 4 finished with value: -0.5285714285714286 and parameters: {'n_estimators': 200, 'max_depth': 10, 'min_samples_split': 5, 'min_samples_leaf': 5}. Best is trial 0 with value: -0.5469696969696969.\n",
      "[I 2024-08-14 14:25:45,901] Trial 5 finished with value: -0.5335497835497836 and parameters: {'n_estimators': 100, 'max_depth': 10, 'min_samples_split': 5, 'min_samples_leaf': 2}. Best is trial 0 with value: -0.5469696969696969.\n",
      "[I 2024-08-14 14:25:47,527] Trial 6 finished with value: -0.5467532467532468 and parameters: {'n_estimators': 200, 'max_depth': 20, 'min_samples_split': 10, 'min_samples_leaf': 4}. Best is trial 0 with value: -0.5469696969696969.\n",
      "[I 2024-08-14 14:25:47,624] Trial 7 finished with value: -0.5194805194805194 and parameters: {'n_estimators': 10, 'max_depth': 30, 'min_samples_split': 10, 'min_samples_leaf': 10}. Best is trial 0 with value: -0.5469696969696969.\n",
      "[I 2024-08-14 14:25:48,040] Trial 8 finished with value: -0.5469696969696969 and parameters: {'n_estimators': 50, 'max_depth': None, 'min_samples_split': 2, 'min_samples_leaf': 10}. Best is trial 0 with value: -0.5469696969696969.\n",
      "[I 2024-08-14 14:25:49,684] Trial 9 finished with value: -0.5335497835497836 and parameters: {'n_estimators': 200, 'max_depth': None, 'min_samples_split': 2, 'min_samples_leaf': 4}. Best is trial 0 with value: -0.5469696969696969.\n",
      "[I 2024-08-14 14:25:50,098] Trial 10 finished with value: -0.5292207792207793 and parameters: {'n_estimators': 50, 'max_depth': 20, 'min_samples_split': 5, 'min_samples_leaf': 5}. Best is trial 0 with value: -0.5469696969696969.\n",
      "[I 2024-08-14 14:25:50,542] Trial 11 finished with value: -0.5469696969696969 and parameters: {'n_estimators': 50, 'max_depth': None, 'min_samples_split': 2, 'min_samples_leaf': 10}. Best is trial 0 with value: -0.5469696969696969.\n",
      "[I 2024-08-14 14:25:51,019] Trial 12 finished with value: -0.5469696969696969 and parameters: {'n_estimators': 50, 'max_depth': 20, 'min_samples_split': 2, 'min_samples_leaf': 10}. Best is trial 0 with value: -0.5469696969696969.\n",
      "[I 2024-08-14 14:25:51,515] Trial 13 finished with value: -0.5469696969696969 and parameters: {'n_estimators': 50, 'max_depth': None, 'min_samples_split': 2, 'min_samples_leaf': 10}. Best is trial 0 with value: -0.5469696969696969.\n",
      "[I 2024-08-14 14:25:52,013] Trial 14 finished with value: -0.5469696969696969 and parameters: {'n_estimators': 50, 'max_depth': None, 'min_samples_split': 2, 'min_samples_leaf': 10}. Best is trial 0 with value: -0.5469696969696969.\n",
      "[I 2024-08-14 14:25:52,430] Trial 15 finished with value: -0.5469696969696969 and parameters: {'n_estimators': 50, 'max_depth': 20, 'min_samples_split': 10, 'min_samples_leaf': 10}. Best is trial 0 with value: -0.5469696969696969.\n",
      "[I 2024-08-14 14:25:52,846] Trial 16 finished with value: -0.5292207792207793 and parameters: {'n_estimators': 50, 'max_depth': None, 'min_samples_split': 2, 'min_samples_leaf': 5}. Best is trial 0 with value: -0.5469696969696969.\n",
      "[I 2024-08-14 14:25:53,263] Trial 17 finished with value: -0.5192640692640692 and parameters: {'n_estimators': 50, 'max_depth': 20, 'min_samples_split': 2, 'min_samples_leaf': 4}. Best is trial 0 with value: -0.5469696969696969.\n",
      "[I 2024-08-14 14:25:53,364] Trial 18 finished with value: -0.514069264069264 and parameters: {'n_estimators': 10, 'max_depth': 10, 'min_samples_split': 5, 'min_samples_leaf': 2}. Best is trial 0 with value: -0.5469696969696969.\n",
      "[I 2024-08-14 14:25:53,767] Trial 19 finished with value: -0.5469696969696969 and parameters: {'n_estimators': 50, 'max_depth': None, 'min_samples_split': 10, 'min_samples_leaf': 10}. Best is trial 0 with value: -0.5469696969696969.\n",
      "[I 2024-08-14 14:25:54,208] A new study created in memory with name: no-name-aaceed76-f03c-433a-baef-1b9a0b7f0cfc\n"
     ]
    },
    {
     "name": "stdout",
     "output_type": "stream",
     "text": [
      "Mean Accuracy (Cross-Validation): 0.149 ± 0.229\n",
      "Mean Train Accuracy: 0.794 ± 0.000\n",
      "Mean Test Accuracy: 0.656 ± 0.000\n"
     ]
    },
    {
     "name": "stderr",
     "output_type": "stream",
     "text": [
      "[I 2024-08-14 14:25:54,639] Trial 0 finished with value: -0.533982683982684 and parameters: {'n_estimators': 50, 'max_depth': 10, 'min_samples_split': 10, 'min_samples_leaf': 5}. Best is trial 0 with value: -0.533982683982684.\n",
      "[I 2024-08-14 14:25:55,499] Trial 1 finished with value: -0.5192640692640693 and parameters: {'n_estimators': 100, 'max_depth': 30, 'min_samples_split': 5, 'min_samples_leaf': 2}. Best is trial 0 with value: -0.533982683982684.\n",
      "[I 2024-08-14 14:25:57,369] Trial 2 finished with value: -0.5285714285714286 and parameters: {'n_estimators': 200, 'max_depth': None, 'min_samples_split': 2, 'min_samples_leaf': 5}. Best is trial 0 with value: -0.533982683982684.\n",
      "[I 2024-08-14 14:25:59,043] Trial 3 finished with value: -0.5285714285714286 and parameters: {'n_estimators': 200, 'max_depth': 20, 'min_samples_split': 5, 'min_samples_leaf': 5}. Best is trial 0 with value: -0.533982683982684.\n",
      "[I 2024-08-14 14:25:59,144] Trial 4 finished with value: -0.5469696969696969 and parameters: {'n_estimators': 10, 'max_depth': 30, 'min_samples_split': 2, 'min_samples_leaf': 5}. Best is trial 4 with value: -0.5469696969696969.\n",
      "[I 2024-08-14 14:26:00,875] Trial 5 finished with value: -0.519047619047619 and parameters: {'n_estimators': 200, 'max_depth': 10, 'min_samples_split': 5, 'min_samples_leaf': 2}. Best is trial 4 with value: -0.5469696969696969.\n",
      "[I 2024-08-14 14:26:02,544] Trial 6 finished with value: -0.5238095238095237 and parameters: {'n_estimators': 200, 'max_depth': 20, 'min_samples_split': 2, 'min_samples_leaf': 2}. Best is trial 4 with value: -0.5469696969696969.\n",
      "[I 2024-08-14 14:26:02,644] Trial 7 finished with value: -0.5469696969696969 and parameters: {'n_estimators': 10, 'max_depth': None, 'min_samples_split': 10, 'min_samples_leaf': 5}. Best is trial 4 with value: -0.5469696969696969.\n",
      "[I 2024-08-14 14:26:03,425] Trial 8 finished with value: -0.5376623376623375 and parameters: {'n_estimators': 100, 'max_depth': None, 'min_samples_split': 5, 'min_samples_leaf': 10}. Best is trial 4 with value: -0.5469696969696969.\n",
      "[I 2024-08-14 14:26:03,526] Trial 9 finished with value: -0.5515151515151515 and parameters: {'n_estimators': 10, 'max_depth': None, 'min_samples_split': 5, 'min_samples_leaf': 2}. Best is trial 9 with value: -0.5515151515151515.\n",
      "[I 2024-08-14 14:26:03,627] Trial 10 finished with value: -0.5287878787878787 and parameters: {'n_estimators': 10, 'max_depth': None, 'min_samples_split': 5, 'min_samples_leaf': 4}. Best is trial 9 with value: -0.5515151515151515.\n",
      "[I 2024-08-14 14:26:03,722] Trial 11 finished with value: -0.5194805194805194 and parameters: {'n_estimators': 10, 'max_depth': 30, 'min_samples_split': 2, 'min_samples_leaf': 10}. Best is trial 9 with value: -0.5515151515151515.\n",
      "[I 2024-08-14 14:26:03,822] Trial 12 finished with value: -0.5287878787878787 and parameters: {'n_estimators': 10, 'max_depth': 30, 'min_samples_split': 2, 'min_samples_leaf': 4}. Best is trial 9 with value: -0.5515151515151515.\n",
      "[I 2024-08-14 14:26:03,925] Trial 13 finished with value: -0.4904761904761905 and parameters: {'n_estimators': 10, 'max_depth': 30, 'min_samples_split': 2, 'min_samples_leaf': 2}. Best is trial 9 with value: -0.5515151515151515.\n",
      "[I 2024-08-14 14:26:04,342] Trial 14 finished with value: -0.5292207792207793 and parameters: {'n_estimators': 50, 'max_depth': None, 'min_samples_split': 10, 'min_samples_leaf': 5}. Best is trial 9 with value: -0.5515151515151515.\n",
      "[I 2024-08-14 14:26:04,450] Trial 15 finished with value: -0.5515151515151515 and parameters: {'n_estimators': 10, 'max_depth': 30, 'min_samples_split': 5, 'min_samples_leaf': 2}. Best is trial 9 with value: -0.5515151515151515.\n",
      "[I 2024-08-14 14:26:04,571] Trial 16 finished with value: -0.5515151515151515 and parameters: {'n_estimators': 10, 'max_depth': 20, 'min_samples_split': 5, 'min_samples_leaf': 2}. Best is trial 9 with value: -0.5515151515151515.\n",
      "[I 2024-08-14 14:26:04,718] Trial 17 finished with value: -0.514069264069264 and parameters: {'n_estimators': 10, 'max_depth': 10, 'min_samples_split': 5, 'min_samples_leaf': 2}. Best is trial 9 with value: -0.5515151515151515.\n",
      "[I 2024-08-14 14:26:05,291] Trial 18 finished with value: -0.5093073593073593 and parameters: {'n_estimators': 50, 'max_depth': 30, 'min_samples_split': 5, 'min_samples_leaf': 2}. Best is trial 9 with value: -0.5515151515151515.\n",
      "[I 2024-08-14 14:26:06,331] Trial 19 finished with value: -0.5192640692640693 and parameters: {'n_estimators': 100, 'max_depth': None, 'min_samples_split': 5, 'min_samples_leaf': 2}. Best is trial 9 with value: -0.5515151515151515.\n",
      "[I 2024-08-14 14:26:06,451] A new study created in memory with name: no-name-e99f27b9-2e5b-4b5f-b742-6faf74b0dd6b\n"
     ]
    },
    {
     "name": "stdout",
     "output_type": "stream",
     "text": [
      "Mean Accuracy (Cross-Validation): 0.154 ± 0.231\n",
      "Mean Train Accuracy: 0.935 ± 0.000\n",
      "Mean Test Accuracy: 0.581 ± 0.000\n"
     ]
    },
    {
     "name": "stderr",
     "output_type": "stream",
     "text": [
      "[I 2024-08-14 14:26:06,866] Trial 0 finished with value: -0.5469696969696969 and parameters: {'n_estimators': 50, 'max_depth': 10, 'min_samples_split': 2, 'min_samples_leaf': 10}. Best is trial 0 with value: -0.5469696969696969.\n",
      "[I 2024-08-14 14:26:07,641] Trial 1 finished with value: -0.5376623376623375 and parameters: {'n_estimators': 100, 'max_depth': None, 'min_samples_split': 10, 'min_samples_leaf': 10}. Best is trial 0 with value: -0.5469696969696969.\n",
      "[I 2024-08-14 14:26:07,733] Trial 2 finished with value: -0.5194805194805194 and parameters: {'n_estimators': 10, 'max_depth': 20, 'min_samples_split': 2, 'min_samples_leaf': 10}. Best is trial 0 with value: -0.5469696969696969.\n",
      "[I 2024-08-14 14:26:07,828] Trial 3 finished with value: -0.5194805194805194 and parameters: {'n_estimators': 10, 'max_depth': 20, 'min_samples_split': 10, 'min_samples_leaf': 10}. Best is trial 0 with value: -0.5469696969696969.\n",
      "[I 2024-08-14 14:26:08,666] Trial 4 finished with value: -0.5194805194805194 and parameters: {'n_estimators': 100, 'max_depth': 30, 'min_samples_split': 2, 'min_samples_leaf': 5}. Best is trial 0 with value: -0.5469696969696969.\n",
      "[I 2024-08-14 14:26:08,760] Trial 5 finished with value: -0.5194805194805194 and parameters: {'n_estimators': 10, 'max_depth': 20, 'min_samples_split': 2, 'min_samples_leaf': 10}. Best is trial 0 with value: -0.5469696969696969.\n",
      "[I 2024-08-14 14:26:09,571] Trial 6 finished with value: -0.5614718614718613 and parameters: {'n_estimators': 100, 'max_depth': 20, 'min_samples_split': 10, 'min_samples_leaf': 4}. Best is trial 6 with value: -0.5614718614718613.\n",
      "[I 2024-08-14 14:26:11,091] Trial 7 finished with value: -0.5422077922077921 and parameters: {'n_estimators': 200, 'max_depth': 30, 'min_samples_split': 5, 'min_samples_leaf': 10}. Best is trial 6 with value: -0.5614718614718613.\n",
      "[I 2024-08-14 14:26:11,195] Trial 8 finished with value: -0.5469696969696969 and parameters: {'n_estimators': 10, 'max_depth': None, 'min_samples_split': 2, 'min_samples_leaf': 5}. Best is trial 6 with value: -0.5614718614718613.\n",
      "[I 2024-08-14 14:26:11,669] Trial 9 finished with value: -0.5192640692640692 and parameters: {'n_estimators': 50, 'max_depth': 30, 'min_samples_split': 2, 'min_samples_leaf': 4}. Best is trial 6 with value: -0.5614718614718613.\n",
      "[I 2024-08-14 14:26:12,541] Trial 10 finished with value: -0.5521645021645021 and parameters: {'n_estimators': 100, 'max_depth': 10, 'min_samples_split': 10, 'min_samples_leaf': 4}. Best is trial 6 with value: -0.5614718614718613.\n",
      "[I 2024-08-14 14:26:13,407] Trial 11 finished with value: -0.5521645021645021 and parameters: {'n_estimators': 100, 'max_depth': 10, 'min_samples_split': 10, 'min_samples_leaf': 4}. Best is trial 6 with value: -0.5614718614718613.\n",
      "[I 2024-08-14 14:26:14,237] Trial 12 finished with value: -0.5521645021645021 and parameters: {'n_estimators': 100, 'max_depth': 10, 'min_samples_split': 10, 'min_samples_leaf': 4}. Best is trial 6 with value: -0.5614718614718613.\n",
      "[I 2024-08-14 14:26:15,079] Trial 13 finished with value: -0.5331168831168831 and parameters: {'n_estimators': 100, 'max_depth': 10, 'min_samples_split': 10, 'min_samples_leaf': 2}. Best is trial 6 with value: -0.5614718614718613.\n",
      "[I 2024-08-14 14:26:16,708] Trial 14 finished with value: -0.5335497835497836 and parameters: {'n_estimators': 200, 'max_depth': 20, 'min_samples_split': 5, 'min_samples_leaf': 4}. Best is trial 6 with value: -0.5614718614718613.\n",
      "[I 2024-08-14 14:26:17,517] Trial 15 finished with value: -0.5521645021645021 and parameters: {'n_estimators': 100, 'max_depth': 10, 'min_samples_split': 10, 'min_samples_leaf': 4}. Best is trial 6 with value: -0.5614718614718613.\n",
      "[I 2024-08-14 14:26:18,352] Trial 16 finished with value: -0.5331168831168831 and parameters: {'n_estimators': 100, 'max_depth': 20, 'min_samples_split': 10, 'min_samples_leaf': 2}. Best is trial 6 with value: -0.5614718614718613.\n",
      "[I 2024-08-14 14:26:19,190] Trial 17 finished with value: -0.5614718614718613 and parameters: {'n_estimators': 100, 'max_depth': None, 'min_samples_split': 10, 'min_samples_leaf': 4}. Best is trial 6 with value: -0.5614718614718613.\n",
      "[I 2024-08-14 14:26:20,839] Trial 18 finished with value: -0.5335497835497836 and parameters: {'n_estimators': 200, 'max_depth': None, 'min_samples_split': 5, 'min_samples_leaf': 4}. Best is trial 6 with value: -0.5614718614718613.\n",
      "[I 2024-08-14 14:26:21,276] Trial 19 finished with value: -0.5515151515151515 and parameters: {'n_estimators': 50, 'max_depth': None, 'min_samples_split': 10, 'min_samples_leaf': 4}. Best is trial 6 with value: -0.5614718614718613.\n",
      "[I 2024-08-14 14:26:22,203] A new study created in memory with name: no-name-36baa221-47c1-49b9-9954-bdb026864cf3\n",
      "[I 2024-08-14 14:26:22,312] Trial 0 finished with value: -0.5287878787878787 and parameters: {'n_estimators': 10, 'max_depth': 10, 'min_samples_split': 2, 'min_samples_leaf': 4}. Best is trial 0 with value: -0.5287878787878787.\n"
     ]
    },
    {
     "name": "stdout",
     "output_type": "stream",
     "text": [
      "Mean Accuracy (Cross-Validation): 0.160 ± 0.234\n",
      "Mean Train Accuracy: 0.911 ± 0.000\n",
      "Mean Test Accuracy: 0.656 ± 0.000\n"
     ]
    },
    {
     "name": "stderr",
     "output_type": "stream",
     "text": [
      "[I 2024-08-14 14:26:23,149] Trial 1 finished with value: -0.5337662337662338 and parameters: {'n_estimators': 100, 'max_depth': 10, 'min_samples_split': 5, 'min_samples_leaf': 4}. Best is trial 1 with value: -0.5337662337662338.\n",
      "[I 2024-08-14 14:26:24,081] Trial 2 finished with value: -0.5194805194805194 and parameters: {'n_estimators': 100, 'max_depth': None, 'min_samples_split': 2, 'min_samples_leaf': 5}. Best is trial 1 with value: -0.5337662337662338.\n",
      "[I 2024-08-14 14:26:25,010] Trial 3 finished with value: -0.5376623376623375 and parameters: {'n_estimators': 100, 'max_depth': None, 'min_samples_split': 2, 'min_samples_leaf': 10}. Best is trial 3 with value: -0.5376623376623375.\n",
      "[I 2024-08-14 14:26:25,123] Trial 4 finished with value: -0.5194805194805194 and parameters: {'n_estimators': 10, 'max_depth': None, 'min_samples_split': 2, 'min_samples_leaf': 10}. Best is trial 3 with value: -0.5376623376623375.\n",
      "[I 2024-08-14 14:26:27,079] Trial 5 finished with value: -0.5190476190476191 and parameters: {'n_estimators': 200, 'max_depth': 10, 'min_samples_split': 2, 'min_samples_leaf': 2}. Best is trial 3 with value: -0.5376623376623375.\n",
      "[I 2024-08-14 14:26:27,558] Trial 6 finished with value: -0.5292207792207793 and parameters: {'n_estimators': 50, 'max_depth': 30, 'min_samples_split': 2, 'min_samples_leaf': 5}. Best is trial 3 with value: -0.5376623376623375.\n",
      "[I 2024-08-14 14:26:28,031] Trial 7 finished with value: -0.524025974025974 and parameters: {'n_estimators': 50, 'max_depth': 10, 'min_samples_split': 2, 'min_samples_leaf': 4}. Best is trial 3 with value: -0.5376623376623375.\n",
      "[I 2024-08-14 14:26:28,497] Trial 8 finished with value: -0.5292207792207793 and parameters: {'n_estimators': 50, 'max_depth': 30, 'min_samples_split': 5, 'min_samples_leaf': 5}. Best is trial 3 with value: -0.5376623376623375.\n",
      "[I 2024-08-14 14:26:29,347] Trial 9 finished with value: -0.5194805194805194 and parameters: {'n_estimators': 100, 'max_depth': 20, 'min_samples_split': 5, 'min_samples_leaf': 5}. Best is trial 3 with value: -0.5376623376623375.\n",
      "[I 2024-08-14 14:26:30,972] Trial 10 finished with value: -0.5422077922077921 and parameters: {'n_estimators': 200, 'max_depth': None, 'min_samples_split': 10, 'min_samples_leaf': 10}. Best is trial 10 with value: -0.5422077922077921.\n",
      "[I 2024-08-14 14:26:32,533] Trial 11 finished with value: -0.5422077922077921 and parameters: {'n_estimators': 200, 'max_depth': None, 'min_samples_split': 10, 'min_samples_leaf': 10}. Best is trial 10 with value: -0.5422077922077921.\n",
      "[I 2024-08-14 14:26:34,073] Trial 12 finished with value: -0.5422077922077921 and parameters: {'n_estimators': 200, 'max_depth': None, 'min_samples_split': 10, 'min_samples_leaf': 10}. Best is trial 10 with value: -0.5422077922077921.\n",
      "[I 2024-08-14 14:26:35,630] Trial 13 finished with value: -0.5422077922077921 and parameters: {'n_estimators': 200, 'max_depth': None, 'min_samples_split': 10, 'min_samples_leaf': 10}. Best is trial 10 with value: -0.5422077922077921.\n",
      "[I 2024-08-14 14:26:37,195] Trial 14 finished with value: -0.5422077922077921 and parameters: {'n_estimators': 200, 'max_depth': 20, 'min_samples_split': 10, 'min_samples_leaf': 10}. Best is trial 10 with value: -0.5422077922077921.\n",
      "[I 2024-08-14 14:26:38,831] Trial 15 finished with value: -0.5335497835497834 and parameters: {'n_estimators': 200, 'max_depth': None, 'min_samples_split': 10, 'min_samples_leaf': 2}. Best is trial 10 with value: -0.5422077922077921.\n",
      "[I 2024-08-14 14:26:40,389] Trial 16 finished with value: -0.5422077922077921 and parameters: {'n_estimators': 200, 'max_depth': None, 'min_samples_split': 10, 'min_samples_leaf': 10}. Best is trial 10 with value: -0.5422077922077921.\n",
      "[I 2024-08-14 14:26:42,049] Trial 17 finished with value: -0.5422077922077921 and parameters: {'n_estimators': 200, 'max_depth': None, 'min_samples_split': 10, 'min_samples_leaf': 10}. Best is trial 10 with value: -0.5422077922077921.\n",
      "[I 2024-08-14 14:26:43,723] Trial 18 finished with value: -0.5422077922077921 and parameters: {'n_estimators': 200, 'max_depth': 30, 'min_samples_split': 10, 'min_samples_leaf': 10}. Best is trial 10 with value: -0.5422077922077921.\n",
      "[I 2024-08-14 14:26:43,832] Trial 19 finished with value: -0.5422077922077921 and parameters: {'n_estimators': 10, 'max_depth': 20, 'min_samples_split': 10, 'min_samples_leaf': 2}. Best is trial 10 with value: -0.5422077922077921.\n",
      "[I 2024-08-14 14:26:45,653] A new study created in memory with name: no-name-0dc36377-9bd2-4879-b262-42e9b6f22c68\n"
     ]
    },
    {
     "name": "stdout",
     "output_type": "stream",
     "text": [
      "Mean Accuracy (Cross-Validation): 0.165 ± 0.236\n",
      "Mean Train Accuracy: 0.780 ± 0.000\n",
      "Mean Test Accuracy: 0.677 ± 0.000\n"
     ]
    },
    {
     "name": "stderr",
     "output_type": "stream",
     "text": [
      "[I 2024-08-14 14:26:46,111] Trial 0 finished with value: -0.524025974025974 and parameters: {'n_estimators': 50, 'max_depth': 10, 'min_samples_split': 5, 'min_samples_leaf': 4}. Best is trial 0 with value: -0.524025974025974.\n",
      "[I 2024-08-14 14:26:46,554] Trial 1 finished with value: -0.5292207792207793 and parameters: {'n_estimators': 50, 'max_depth': 20, 'min_samples_split': 2, 'min_samples_leaf': 5}. Best is trial 1 with value: -0.5292207792207793.\n",
      "[I 2024-08-14 14:26:48,174] Trial 2 finished with value: -0.5285714285714286 and parameters: {'n_estimators': 200, 'max_depth': 30, 'min_samples_split': 5, 'min_samples_leaf': 5}. Best is trial 1 with value: -0.5292207792207793.\n",
      "[I 2024-08-14 14:26:48,980] Trial 3 finished with value: -0.5194805194805194 and parameters: {'n_estimators': 100, 'max_depth': 20, 'min_samples_split': 10, 'min_samples_leaf': 5}. Best is trial 1 with value: -0.5292207792207793.\n",
      "[I 2024-08-14 14:26:49,076] Trial 4 finished with value: -0.5422077922077921 and parameters: {'n_estimators': 10, 'max_depth': 10, 'min_samples_split': 5, 'min_samples_leaf': 5}. Best is trial 4 with value: -0.5422077922077921.\n",
      "[I 2024-08-14 14:26:49,892] Trial 5 finished with value: -0.5337662337662338 and parameters: {'n_estimators': 100, 'max_depth': 10, 'min_samples_split': 2, 'min_samples_leaf': 4}. Best is trial 4 with value: -0.5422077922077921.\n",
      "[I 2024-08-14 14:26:50,312] Trial 6 finished with value: -0.5192640692640692 and parameters: {'n_estimators': 50, 'max_depth': 30, 'min_samples_split': 5, 'min_samples_leaf': 4}. Best is trial 4 with value: -0.5422077922077921.\n",
      "[I 2024-08-14 14:26:50,420] Trial 7 finished with value: -0.4904761904761905 and parameters: {'n_estimators': 10, 'max_depth': 30, 'min_samples_split': 2, 'min_samples_leaf': 2}. Best is trial 4 with value: -0.5422077922077921.\n",
      "[I 2024-08-14 14:26:50,524] Trial 8 finished with value: -0.5287878787878787 and parameters: {'n_estimators': 10, 'max_depth': 20, 'min_samples_split': 5, 'min_samples_leaf': 4}. Best is trial 4 with value: -0.5422077922077921.\n",
      "[I 2024-08-14 14:26:51,318] Trial 9 finished with value: -0.5376623376623375 and parameters: {'n_estimators': 100, 'max_depth': None, 'min_samples_split': 5, 'min_samples_leaf': 10}. Best is trial 4 with value: -0.5422077922077921.\n",
      "[I 2024-08-14 14:26:51,418] Trial 10 finished with value: -0.5471861471861471 and parameters: {'n_estimators': 10, 'max_depth': 10, 'min_samples_split': 10, 'min_samples_leaf': 2}. Best is trial 10 with value: -0.5471861471861471.\n",
      "[I 2024-08-14 14:26:51,518] Trial 11 finished with value: -0.5471861471861471 and parameters: {'n_estimators': 10, 'max_depth': 10, 'min_samples_split': 10, 'min_samples_leaf': 2}. Best is trial 10 with value: -0.5471861471861471.\n",
      "[I 2024-08-14 14:26:51,619] Trial 12 finished with value: -0.5471861471861471 and parameters: {'n_estimators': 10, 'max_depth': 10, 'min_samples_split': 10, 'min_samples_leaf': 2}. Best is trial 10 with value: -0.5471861471861471.\n",
      "[I 2024-08-14 14:26:51,720] Trial 13 finished with value: -0.5471861471861471 and parameters: {'n_estimators': 10, 'max_depth': 10, 'min_samples_split': 10, 'min_samples_leaf': 2}. Best is trial 10 with value: -0.5471861471861471.\n",
      "[I 2024-08-14 14:26:53,378] Trial 14 finished with value: -0.5335497835497834 and parameters: {'n_estimators': 200, 'max_depth': None, 'min_samples_split': 10, 'min_samples_leaf': 2}. Best is trial 10 with value: -0.5471861471861471.\n",
      "[I 2024-08-14 14:26:53,477] Trial 15 finished with value: -0.5471861471861471 and parameters: {'n_estimators': 10, 'max_depth': 10, 'min_samples_split': 10, 'min_samples_leaf': 2}. Best is trial 10 with value: -0.5471861471861471.\n",
      "[I 2024-08-14 14:26:53,571] Trial 16 finished with value: -0.5194805194805194 and parameters: {'n_estimators': 10, 'max_depth': 10, 'min_samples_split': 10, 'min_samples_leaf': 10}. Best is trial 10 with value: -0.5471861471861471.\n",
      "[I 2024-08-14 14:26:53,670] Trial 17 finished with value: -0.5471861471861471 and parameters: {'n_estimators': 10, 'max_depth': 10, 'min_samples_split': 10, 'min_samples_leaf': 2}. Best is trial 10 with value: -0.5471861471861471.\n",
      "[I 2024-08-14 14:26:55,332] Trial 18 finished with value: -0.5335497835497834 and parameters: {'n_estimators': 200, 'max_depth': None, 'min_samples_split': 10, 'min_samples_leaf': 2}. Best is trial 10 with value: -0.5471861471861471.\n",
      "[I 2024-08-14 14:26:55,436] Trial 19 finished with value: -0.5471861471861471 and parameters: {'n_estimators': 10, 'max_depth': 10, 'min_samples_split': 10, 'min_samples_leaf': 2}. Best is trial 10 with value: -0.5471861471861471.\n",
      "[I 2024-08-14 14:26:55,546] A new study created in memory with name: no-name-85d2df5e-df18-4b2f-9ebe-43df4a43ebf3\n"
     ]
    },
    {
     "name": "stdout",
     "output_type": "stream",
     "text": [
      "Mean Accuracy (Cross-Validation): 0.170 ± 0.239\n",
      "Mean Train Accuracy: 0.869 ± 0.000\n",
      "Mean Test Accuracy: 0.602 ± 0.000\n"
     ]
    },
    {
     "name": "stderr",
     "output_type": "stream",
     "text": [
      "[I 2024-08-14 14:26:55,971] Trial 0 finished with value: -0.533982683982684 and parameters: {'n_estimators': 50, 'max_depth': 10, 'min_samples_split': 5, 'min_samples_leaf': 5}. Best is trial 0 with value: -0.533982683982684.\n",
      "[I 2024-08-14 14:26:56,393] Trial 1 finished with value: -0.5292207792207793 and parameters: {'n_estimators': 50, 'max_depth': None, 'min_samples_split': 2, 'min_samples_leaf': 5}. Best is trial 0 with value: -0.533982683982684.\n",
      "[I 2024-08-14 14:26:57,212] Trial 2 finished with value: -0.5376623376623375 and parameters: {'n_estimators': 100, 'max_depth': 30, 'min_samples_split': 2, 'min_samples_leaf': 10}. Best is trial 2 with value: -0.5376623376623375.\n",
      "[I 2024-08-14 14:26:58,191] Trial 3 finished with value: -0.5376623376623375 and parameters: {'n_estimators': 100, 'max_depth': None, 'min_samples_split': 5, 'min_samples_leaf': 10}. Best is trial 2 with value: -0.5376623376623375.\n",
      "[I 2024-08-14 14:26:58,318] Trial 4 finished with value: -0.5422077922077921 and parameters: {'n_estimators': 10, 'max_depth': 30, 'min_samples_split': 10, 'min_samples_leaf': 2}. Best is trial 4 with value: -0.5422077922077921.\n",
      "[I 2024-08-14 14:26:58,442] Trial 5 finished with value: -0.5469696969696969 and parameters: {'n_estimators': 10, 'max_depth': 20, 'min_samples_split': 2, 'min_samples_leaf': 5}. Best is trial 5 with value: -0.5469696969696969.\n",
      "[I 2024-08-14 14:26:58,906] Trial 6 finished with value: -0.5335497835497836 and parameters: {'n_estimators': 50, 'max_depth': 30, 'min_samples_split': 10, 'min_samples_leaf': 2}. Best is trial 5 with value: -0.5469696969696969.\n",
      "[I 2024-08-14 14:26:59,335] Trial 7 finished with value: -0.5515151515151515 and parameters: {'n_estimators': 50, 'max_depth': 10, 'min_samples_split': 2, 'min_samples_leaf': 2}. Best is trial 7 with value: -0.5515151515151515.\n",
      "[I 2024-08-14 14:26:59,731] Trial 8 finished with value: -0.5469696969696969 and parameters: {'n_estimators': 50, 'max_depth': None, 'min_samples_split': 2, 'min_samples_leaf': 10}. Best is trial 7 with value: -0.5515151515151515.\n",
      "[I 2024-08-14 14:27:00,141] Trial 9 finished with value: -0.5292207792207793 and parameters: {'n_estimators': 50, 'max_depth': 30, 'min_samples_split': 10, 'min_samples_leaf': 5}. Best is trial 7 with value: -0.5515151515151515.\n",
      "[I 2024-08-14 14:27:01,751] Trial 10 finished with value: -0.524025974025974 and parameters: {'n_estimators': 200, 'max_depth': 10, 'min_samples_split': 2, 'min_samples_leaf': 4}. Best is trial 7 with value: -0.5515151515151515.\n",
      "[I 2024-08-14 14:27:01,851] Trial 11 finished with value: -0.4904761904761905 and parameters: {'n_estimators': 10, 'max_depth': 20, 'min_samples_split': 2, 'min_samples_leaf': 2}. Best is trial 7 with value: -0.5515151515151515.\n",
      "[I 2024-08-14 14:27:01,952] Trial 12 finished with value: -0.5287878787878787 and parameters: {'n_estimators': 10, 'max_depth': 20, 'min_samples_split': 2, 'min_samples_leaf': 4}. Best is trial 7 with value: -0.5515151515151515.\n",
      "[I 2024-08-14 14:27:03,529] Trial 13 finished with value: -0.5285714285714286 and parameters: {'n_estimators': 200, 'max_depth': 10, 'min_samples_split': 2, 'min_samples_leaf': 5}. Best is trial 7 with value: -0.5515151515151515.\n",
      "[I 2024-08-14 14:27:03,630] Trial 14 finished with value: -0.4904761904761905 and parameters: {'n_estimators': 10, 'max_depth': 20, 'min_samples_split': 2, 'min_samples_leaf': 2}. Best is trial 7 with value: -0.5515151515151515.\n",
      "[I 2024-08-14 14:27:03,724] Trial 15 finished with value: -0.5469696969696969 and parameters: {'n_estimators': 10, 'max_depth': 20, 'min_samples_split': 5, 'min_samples_leaf': 5}. Best is trial 7 with value: -0.5515151515151515.\n",
      "[I 2024-08-14 14:27:04,541] Trial 16 finished with value: -0.523809523809524 and parameters: {'n_estimators': 100, 'max_depth': 10, 'min_samples_split': 2, 'min_samples_leaf': 2}. Best is trial 7 with value: -0.5515151515151515.\n",
      "[I 2024-08-14 14:27:06,148] Trial 17 finished with value: -0.5335497835497836 and parameters: {'n_estimators': 200, 'max_depth': 20, 'min_samples_split': 2, 'min_samples_leaf': 4}. Best is trial 7 with value: -0.5515151515151515.\n",
      "[I 2024-08-14 14:27:06,243] Trial 18 finished with value: -0.5422077922077921 and parameters: {'n_estimators': 10, 'max_depth': 10, 'min_samples_split': 10, 'min_samples_leaf': 5}. Best is trial 7 with value: -0.5515151515151515.\n",
      "[I 2024-08-14 14:27:06,674] Trial 19 finished with value: -0.5093073593073593 and parameters: {'n_estimators': 50, 'max_depth': 20, 'min_samples_split': 5, 'min_samples_leaf': 2}. Best is trial 7 with value: -0.5515151515151515.\n",
      "[I 2024-08-14 14:27:07,145] A new study created in memory with name: no-name-29fc6f23-d6a5-4597-94fb-f77ab52fbffe\n"
     ]
    },
    {
     "name": "stdout",
     "output_type": "stream",
     "text": [
      "Mean Accuracy (Cross-Validation): 0.175 ± 0.241\n",
      "Mean Train Accuracy: 0.977 ± 0.000\n",
      "Mean Test Accuracy: 0.634 ± 0.000\n"
     ]
    },
    {
     "name": "stderr",
     "output_type": "stream",
     "text": [
      "[I 2024-08-14 14:27:07,963] Trial 0 finished with value: -0.5614718614718613 and parameters: {'n_estimators': 100, 'max_depth': 20, 'min_samples_split': 10, 'min_samples_leaf': 4}. Best is trial 0 with value: -0.5614718614718613.\n",
      "[I 2024-08-14 14:27:08,355] Trial 1 finished with value: -0.5469696969696969 and parameters: {'n_estimators': 50, 'max_depth': 20, 'min_samples_split': 2, 'min_samples_leaf': 10}. Best is trial 0 with value: -0.5614718614718613.\n",
      "[I 2024-08-14 14:27:09,202] Trial 2 finished with value: -0.5385281385281385 and parameters: {'n_estimators': 100, 'max_depth': 30, 'min_samples_split': 2, 'min_samples_leaf': 4}. Best is trial 0 with value: -0.5614718614718613.\n",
      "[I 2024-08-14 14:27:09,315] Trial 3 finished with value: -0.5194805194805194 and parameters: {'n_estimators': 10, 'max_depth': None, 'min_samples_split': 5, 'min_samples_leaf': 10}. Best is trial 0 with value: -0.5614718614718613.\n",
      "[I 2024-08-14 14:27:09,426] Trial 4 finished with value: -0.5287878787878787 and parameters: {'n_estimators': 10, 'max_depth': 20, 'min_samples_split': 2, 'min_samples_leaf': 4}. Best is trial 0 with value: -0.5614718614718613.\n",
      "[I 2024-08-14 14:27:09,538] Trial 5 finished with value: -0.5235930735930736 and parameters: {'n_estimators': 10, 'max_depth': None, 'min_samples_split': 10, 'min_samples_leaf': 4}. Best is trial 0 with value: -0.5614718614718613.\n",
      "[I 2024-08-14 14:27:09,652] Trial 6 finished with value: -0.5422077922077921 and parameters: {'n_estimators': 10, 'max_depth': 10, 'min_samples_split': 2, 'min_samples_leaf': 5}. Best is trial 0 with value: -0.5614718614718613.\n",
      "[I 2024-08-14 14:27:09,762] Trial 7 finished with value: -0.5287878787878787 and parameters: {'n_estimators': 10, 'max_depth': 10, 'min_samples_split': 5, 'min_samples_leaf': 4}. Best is trial 0 with value: -0.5614718614718613.\n",
      "[I 2024-08-14 14:27:09,870] Trial 8 finished with value: -0.5287878787878787 and parameters: {'n_estimators': 10, 'max_depth': None, 'min_samples_split': 2, 'min_samples_leaf': 4}. Best is trial 0 with value: -0.5614718614718613.\n",
      "[I 2024-08-14 14:27:11,651] Trial 9 finished with value: -0.5190476190476191 and parameters: {'n_estimators': 200, 'max_depth': 10, 'min_samples_split': 2, 'min_samples_leaf': 2}. Best is trial 0 with value: -0.5614718614718613.\n",
      "[I 2024-08-14 14:27:12,486] Trial 10 finished with value: -0.5194805194805194 and parameters: {'n_estimators': 100, 'max_depth': 20, 'min_samples_split': 10, 'min_samples_leaf': 5}. Best is trial 0 with value: -0.5614718614718613.\n",
      "[I 2024-08-14 14:27:12,882] Trial 11 finished with value: -0.5469696969696969 and parameters: {'n_estimators': 50, 'max_depth': 20, 'min_samples_split': 10, 'min_samples_leaf': 10}. Best is trial 0 with value: -0.5614718614718613.\n",
      "[I 2024-08-14 14:27:13,280] Trial 12 finished with value: -0.5469696969696969 and parameters: {'n_estimators': 50, 'max_depth': 20, 'min_samples_split': 10, 'min_samples_leaf': 10}. Best is trial 0 with value: -0.5614718614718613.\n",
      "[I 2024-08-14 14:27:13,749] Trial 13 finished with value: -0.5335497835497836 and parameters: {'n_estimators': 50, 'max_depth': 20, 'min_samples_split': 10, 'min_samples_leaf': 2}. Best is trial 0 with value: -0.5614718614718613.\n",
      "[I 2024-08-14 14:27:14,565] Trial 14 finished with value: -0.5376623376623375 and parameters: {'n_estimators': 100, 'max_depth': 30, 'min_samples_split': 5, 'min_samples_leaf': 10}. Best is trial 0 with value: -0.5614718614718613.\n",
      "[I 2024-08-14 14:27:16,258] Trial 15 finished with value: -0.5422077922077921 and parameters: {'n_estimators': 200, 'max_depth': 20, 'min_samples_split': 2, 'min_samples_leaf': 10}. Best is trial 0 with value: -0.5614718614718613.\n",
      "[I 2024-08-14 14:27:16,710] Trial 16 finished with value: -0.5335497835497836 and parameters: {'n_estimators': 50, 'max_depth': 20, 'min_samples_split': 10, 'min_samples_leaf': 2}. Best is trial 0 with value: -0.5614718614718613.\n",
      "[I 2024-08-14 14:27:17,522] Trial 17 finished with value: -0.5194805194805194 and parameters: {'n_estimators': 100, 'max_depth': 20, 'min_samples_split': 2, 'min_samples_leaf': 5}. Best is trial 0 with value: -0.5614718614718613.\n",
      "[I 2024-08-14 14:27:17,923] Trial 18 finished with value: -0.5469696969696969 and parameters: {'n_estimators': 50, 'max_depth': 30, 'min_samples_split': 10, 'min_samples_leaf': 10}. Best is trial 0 with value: -0.5614718614718613.\n",
      "[I 2024-08-14 14:27:18,765] Trial 19 finished with value: -0.5385281385281385 and parameters: {'n_estimators': 100, 'max_depth': 20, 'min_samples_split': 5, 'min_samples_leaf': 4}. Best is trial 0 with value: -0.5614718614718613.\n",
      "[I 2024-08-14 14:27:19,653] A new study created in memory with name: no-name-c33a0370-d2c3-4270-9c94-99c1154d18b5\n"
     ]
    },
    {
     "name": "stdout",
     "output_type": "stream",
     "text": [
      "Mean Accuracy (Cross-Validation): 0.180 ± 0.243\n",
      "Mean Train Accuracy: 0.911 ± 0.000\n",
      "Mean Test Accuracy: 0.656 ± 0.000\n"
     ]
    },
    {
     "name": "stderr",
     "output_type": "stream",
     "text": [
      "[I 2024-08-14 14:27:20,463] Trial 0 finished with value: -0.5337662337662338 and parameters: {'n_estimators': 100, 'max_depth': 10, 'min_samples_split': 2, 'min_samples_leaf': 4}. Best is trial 0 with value: -0.5337662337662338.\n",
      "[I 2024-08-14 14:27:22,130] Trial 1 finished with value: -0.5285714285714286 and parameters: {'n_estimators': 200, 'max_depth': 20, 'min_samples_split': 2, 'min_samples_leaf': 5}. Best is trial 0 with value: -0.5337662337662338.\n",
      "[I 2024-08-14 14:27:22,934] Trial 2 finished with value: -0.5376623376623375 and parameters: {'n_estimators': 100, 'max_depth': 10, 'min_samples_split': 10, 'min_samples_leaf': 10}. Best is trial 2 with value: -0.5376623376623375.\n",
      "[I 2024-08-14 14:27:23,034] Trial 3 finished with value: -0.5469696969696969 and parameters: {'n_estimators': 10, 'max_depth': None, 'min_samples_split': 10, 'min_samples_leaf': 5}. Best is trial 3 with value: -0.5469696969696969.\n",
      "[I 2024-08-14 14:27:24,754] Trial 4 finished with value: -0.5238095238095237 and parameters: {'n_estimators': 200, 'max_depth': None, 'min_samples_split': 2, 'min_samples_leaf': 2}. Best is trial 3 with value: -0.5469696969696969.\n",
      "[I 2024-08-14 14:27:26,288] Trial 5 finished with value: -0.5422077922077921 and parameters: {'n_estimators': 200, 'max_depth': 20, 'min_samples_split': 10, 'min_samples_leaf': 10}. Best is trial 3 with value: -0.5469696969696969.\n",
      "[I 2024-08-14 14:27:26,712] Trial 6 finished with value: -0.5192640692640692 and parameters: {'n_estimators': 50, 'max_depth': None, 'min_samples_split': 5, 'min_samples_leaf': 4}. Best is trial 3 with value: -0.5469696969696969.\n",
      "[I 2024-08-14 14:27:26,804] Trial 7 finished with value: -0.5194805194805194 and parameters: {'n_estimators': 10, 'max_depth': 10, 'min_samples_split': 10, 'min_samples_leaf': 10}. Best is trial 3 with value: -0.5469696969696969.\n",
      "[I 2024-08-14 14:27:27,619] Trial 8 finished with value: -0.5194805194805194 and parameters: {'n_estimators': 100, 'max_depth': 30, 'min_samples_split': 10, 'min_samples_leaf': 5}. Best is trial 3 with value: -0.5469696969696969.\n",
      "[I 2024-08-14 14:27:27,717] Trial 9 finished with value: -0.5469696969696969 and parameters: {'n_estimators': 10, 'max_depth': None, 'min_samples_split': 10, 'min_samples_leaf': 5}. Best is trial 3 with value: -0.5469696969696969.\n",
      "[I 2024-08-14 14:27:27,817] Trial 10 finished with value: -0.5515151515151515 and parameters: {'n_estimators': 10, 'max_depth': 30, 'min_samples_split': 5, 'min_samples_leaf': 2}. Best is trial 10 with value: -0.5515151515151515.\n",
      "[I 2024-08-14 14:27:27,916] Trial 11 finished with value: -0.5515151515151515 and parameters: {'n_estimators': 10, 'max_depth': 30, 'min_samples_split': 5, 'min_samples_leaf': 2}. Best is trial 10 with value: -0.5515151515151515.\n",
      "[I 2024-08-14 14:27:28,017] Trial 12 finished with value: -0.5515151515151515 and parameters: {'n_estimators': 10, 'max_depth': 30, 'min_samples_split': 5, 'min_samples_leaf': 2}. Best is trial 10 with value: -0.5515151515151515.\n",
      "[I 2024-08-14 14:27:28,115] Trial 13 finished with value: -0.5515151515151515 and parameters: {'n_estimators': 10, 'max_depth': 30, 'min_samples_split': 5, 'min_samples_leaf': 2}. Best is trial 10 with value: -0.5515151515151515.\n",
      "[I 2024-08-14 14:27:28,530] Trial 14 finished with value: -0.5093073593073593 and parameters: {'n_estimators': 50, 'max_depth': 30, 'min_samples_split': 5, 'min_samples_leaf': 2}. Best is trial 10 with value: -0.5515151515151515.\n",
      "[I 2024-08-14 14:27:28,633] Trial 15 finished with value: -0.5515151515151515 and parameters: {'n_estimators': 10, 'max_depth': 30, 'min_samples_split': 5, 'min_samples_leaf': 2}. Best is trial 10 with value: -0.5515151515151515.\n",
      "[I 2024-08-14 14:27:28,739] Trial 16 finished with value: -0.5515151515151515 and parameters: {'n_estimators': 10, 'max_depth': 30, 'min_samples_split': 5, 'min_samples_leaf': 2}. Best is trial 10 with value: -0.5515151515151515.\n",
      "[I 2024-08-14 14:27:28,846] Trial 17 finished with value: -0.5515151515151515 and parameters: {'n_estimators': 10, 'max_depth': 30, 'min_samples_split': 5, 'min_samples_leaf': 2}. Best is trial 10 with value: -0.5515151515151515.\n",
      "[I 2024-08-14 14:27:29,278] Trial 18 finished with value: -0.5093073593073593 and parameters: {'n_estimators': 50, 'max_depth': 30, 'min_samples_split': 5, 'min_samples_leaf': 2}. Best is trial 10 with value: -0.5515151515151515.\n",
      "[I 2024-08-14 14:27:29,376] Trial 19 finished with value: -0.5287878787878787 and parameters: {'n_estimators': 10, 'max_depth': 20, 'min_samples_split': 5, 'min_samples_leaf': 4}. Best is trial 10 with value: -0.5515151515151515.\n",
      "[I 2024-08-14 14:27:29,483] A new study created in memory with name: no-name-e3bb12a8-fa5e-46c9-baed-5c831e60b028\n",
      "[I 2024-08-14 14:27:29,578] Trial 0 finished with value: -0.5422077922077921 and parameters: {'n_estimators': 10, 'max_depth': 10, 'min_samples_split': 2, 'min_samples_leaf': 5}. Best is trial 0 with value: -0.5422077922077921.\n"
     ]
    },
    {
     "name": "stdout",
     "output_type": "stream",
     "text": [
      "Mean Accuracy (Cross-Validation): 0.186 ± 0.245\n",
      "Mean Train Accuracy: 0.935 ± 0.000\n",
      "Mean Test Accuracy: 0.581 ± 0.000\n"
     ]
    },
    {
     "name": "stderr",
     "output_type": "stream",
     "text": [
      "[I 2024-08-14 14:27:30,407] Trial 1 finished with value: -0.5235930735930736 and parameters: {'n_estimators': 100, 'max_depth': None, 'min_samples_split': 2, 'min_samples_leaf': 2}. Best is trial 0 with value: -0.5422077922077921.\n",
      "[I 2024-08-14 14:27:30,504] Trial 2 finished with value: -0.5471861471861471 and parameters: {'n_estimators': 10, 'max_depth': 10, 'min_samples_split': 10, 'min_samples_leaf': 2}. Best is trial 2 with value: -0.5471861471861471.\n",
      "[I 2024-08-14 14:27:30,597] Trial 3 finished with value: -0.5194805194805194 and parameters: {'n_estimators': 10, 'max_depth': 20, 'min_samples_split': 5, 'min_samples_leaf': 10}. Best is trial 2 with value: -0.5471861471861471.\n",
      "[I 2024-08-14 14:27:32,203] Trial 4 finished with value: -0.5238095238095237 and parameters: {'n_estimators': 200, 'max_depth': 30, 'min_samples_split': 2, 'min_samples_leaf': 2}. Best is trial 2 with value: -0.5471861471861471.\n",
      "[I 2024-08-14 14:27:32,296] Trial 5 finished with value: -0.5194805194805194 and parameters: {'n_estimators': 10, 'max_depth': None, 'min_samples_split': 10, 'min_samples_leaf': 10}. Best is trial 2 with value: -0.5471861471861471.\n",
      "[I 2024-08-14 14:27:32,714] Trial 6 finished with value: -0.5093073593073593 and parameters: {'n_estimators': 50, 'max_depth': 20, 'min_samples_split': 5, 'min_samples_leaf': 2}. Best is trial 2 with value: -0.5471861471861471.\n",
      "[I 2024-08-14 14:27:33,508] Trial 7 finished with value: -0.5331168831168831 and parameters: {'n_estimators': 100, 'max_depth': 20, 'min_samples_split': 10, 'min_samples_leaf': 2}. Best is trial 2 with value: -0.5471861471861471.\n",
      "[I 2024-08-14 14:27:35,080] Trial 8 finished with value: -0.5422077922077921 and parameters: {'n_estimators': 200, 'max_depth': 30, 'min_samples_split': 10, 'min_samples_leaf': 10}. Best is trial 2 with value: -0.5471861471861471.\n",
      "[I 2024-08-14 14:27:35,174] Trial 9 finished with value: -0.5194805194805194 and parameters: {'n_estimators': 10, 'max_depth': 30, 'min_samples_split': 10, 'min_samples_leaf': 10}. Best is trial 2 with value: -0.5471861471861471.\n",
      "[I 2024-08-14 14:27:35,600] Trial 10 finished with value: -0.5422077922077924 and parameters: {'n_estimators': 50, 'max_depth': 10, 'min_samples_split': 10, 'min_samples_leaf': 4}. Best is trial 2 with value: -0.5471861471861471.\n",
      "[I 2024-08-14 14:27:36,015] Trial 11 finished with value: -0.5422077922077924 and parameters: {'n_estimators': 50, 'max_depth': 10, 'min_samples_split': 10, 'min_samples_leaf': 4}. Best is trial 2 with value: -0.5471861471861471.\n",
      "[I 2024-08-14 14:27:36,434] Trial 12 finished with value: -0.5422077922077924 and parameters: {'n_estimators': 50, 'max_depth': 10, 'min_samples_split': 10, 'min_samples_leaf': 4}. Best is trial 2 with value: -0.5471861471861471.\n",
      "[I 2024-08-14 14:27:36,846] Trial 13 finished with value: -0.5422077922077924 and parameters: {'n_estimators': 50, 'max_depth': 10, 'min_samples_split': 10, 'min_samples_leaf': 4}. Best is trial 2 with value: -0.5471861471861471.\n",
      "[I 2024-08-14 14:27:36,957] Trial 14 finished with value: -0.5422077922077921 and parameters: {'n_estimators': 10, 'max_depth': 10, 'min_samples_split': 10, 'min_samples_leaf': 5}. Best is trial 2 with value: -0.5471861471861471.\n",
      "[I 2024-08-14 14:27:37,395] Trial 15 finished with value: -0.524025974025974 and parameters: {'n_estimators': 50, 'max_depth': 10, 'min_samples_split': 5, 'min_samples_leaf': 4}. Best is trial 2 with value: -0.5471861471861471.\n",
      "[I 2024-08-14 14:27:38,263] Trial 16 finished with value: -0.5331168831168831 and parameters: {'n_estimators': 100, 'max_depth': 10, 'min_samples_split': 10, 'min_samples_leaf': 2}. Best is trial 2 with value: -0.5471861471861471.\n",
      "[I 2024-08-14 14:27:39,907] Trial 17 finished with value: -0.5422077922077921 and parameters: {'n_estimators': 200, 'max_depth': 10, 'min_samples_split': 10, 'min_samples_leaf': 4}. Best is trial 2 with value: -0.5471861471861471.\n",
      "[I 2024-08-14 14:27:40,329] Trial 18 finished with value: -0.5292207792207793 and parameters: {'n_estimators': 50, 'max_depth': None, 'min_samples_split': 5, 'min_samples_leaf': 5}. Best is trial 2 with value: -0.5471861471861471.\n",
      "[I 2024-08-14 14:27:40,445] Trial 19 finished with value: -0.5043290043290043 and parameters: {'n_estimators': 10, 'max_depth': 10, 'min_samples_split': 2, 'min_samples_leaf': 2}. Best is trial 2 with value: -0.5471861471861471.\n",
      "[I 2024-08-14 14:27:40,563] A new study created in memory with name: no-name-ff844fd5-bda6-4f61-bc49-17e3e636e86e\n"
     ]
    },
    {
     "name": "stdout",
     "output_type": "stream",
     "text": [
      "Mean Accuracy (Cross-Validation): 0.191 ± 0.247\n",
      "Mean Train Accuracy: 0.869 ± 0.000\n",
      "Mean Test Accuracy: 0.602 ± 0.000\n"
     ]
    },
    {
     "name": "stderr",
     "output_type": "stream",
     "text": [
      "[I 2024-08-14 14:27:41,425] Trial 0 finished with value: -0.5385281385281385 and parameters: {'n_estimators': 100, 'max_depth': None, 'min_samples_split': 2, 'min_samples_leaf': 4}. Best is trial 0 with value: -0.5385281385281385.\n",
      "[I 2024-08-14 14:27:42,264] Trial 1 finished with value: -0.5194805194805194 and parameters: {'n_estimators': 100, 'max_depth': 20, 'min_samples_split': 2, 'min_samples_leaf': 5}. Best is trial 0 with value: -0.5385281385281385.\n",
      "[I 2024-08-14 14:27:44,023] Trial 2 finished with value: -0.5467532467532468 and parameters: {'n_estimators': 200, 'max_depth': None, 'min_samples_split': 10, 'min_samples_leaf': 4}. Best is trial 2 with value: -0.5467532467532468.\n",
      "[I 2024-08-14 14:27:45,924] Trial 3 finished with value: -0.524025974025974 and parameters: {'n_estimators': 200, 'max_depth': 10, 'min_samples_split': 5, 'min_samples_leaf': 4}. Best is trial 2 with value: -0.5467532467532468.\n",
      "[I 2024-08-14 14:27:46,440] Trial 4 finished with value: -0.5192640692640692 and parameters: {'n_estimators': 50, 'max_depth': 20, 'min_samples_split': 5, 'min_samples_leaf': 4}. Best is trial 2 with value: -0.5467532467532468.\n",
      "[I 2024-08-14 14:27:48,072] Trial 5 finished with value: -0.5422077922077921 and parameters: {'n_estimators': 200, 'max_depth': 20, 'min_samples_split': 10, 'min_samples_leaf': 10}. Best is trial 2 with value: -0.5467532467532468.\n",
      "[I 2024-08-14 14:27:48,510] Trial 6 finished with value: -0.5292207792207793 and parameters: {'n_estimators': 50, 'max_depth': None, 'min_samples_split': 10, 'min_samples_leaf': 5}. Best is trial 2 with value: -0.5467532467532468.\n",
      "[I 2024-08-14 14:27:48,943] Trial 7 finished with value: -0.5515151515151515 and parameters: {'n_estimators': 50, 'max_depth': 30, 'min_samples_split': 10, 'min_samples_leaf': 4}. Best is trial 7 with value: -0.5515151515151515.\n",
      "[I 2024-08-14 14:27:50,741] Trial 8 finished with value: -0.5422077922077921 and parameters: {'n_estimators': 200, 'max_depth': 20, 'min_samples_split': 2, 'min_samples_leaf': 10}. Best is trial 7 with value: -0.5515151515151515.\n",
      "[I 2024-08-14 14:27:51,233] Trial 9 finished with value: -0.5292207792207793 and parameters: {'n_estimators': 50, 'max_depth': 30, 'min_samples_split': 2, 'min_samples_leaf': 5}. Best is trial 7 with value: -0.5515151515151515.\n",
      "[I 2024-08-14 14:27:51,351] Trial 10 finished with value: -0.5422077922077921 and parameters: {'n_estimators': 10, 'max_depth': 30, 'min_samples_split': 10, 'min_samples_leaf': 2}. Best is trial 7 with value: -0.5515151515151515.\n",
      "[I 2024-08-14 14:27:51,469] Trial 11 finished with value: -0.5235930735930736 and parameters: {'n_estimators': 10, 'max_depth': None, 'min_samples_split': 10, 'min_samples_leaf': 4}. Best is trial 7 with value: -0.5515151515151515.\n",
      "[I 2024-08-14 14:27:51,962] Trial 12 finished with value: -0.5515151515151515 and parameters: {'n_estimators': 50, 'max_depth': 30, 'min_samples_split': 10, 'min_samples_leaf': 4}. Best is trial 7 with value: -0.5515151515151515.\n",
      "[I 2024-08-14 14:27:52,443] Trial 13 finished with value: -0.5335497835497836 and parameters: {'n_estimators': 50, 'max_depth': 30, 'min_samples_split': 10, 'min_samples_leaf': 2}. Best is trial 7 with value: -0.5515151515151515.\n",
      "[I 2024-08-14 14:27:52,916] Trial 14 finished with value: -0.5515151515151515 and parameters: {'n_estimators': 50, 'max_depth': 30, 'min_samples_split': 10, 'min_samples_leaf': 4}. Best is trial 7 with value: -0.5515151515151515.\n",
      "[I 2024-08-14 14:27:53,372] Trial 15 finished with value: -0.5515151515151515 and parameters: {'n_estimators': 50, 'max_depth': 30, 'min_samples_split': 10, 'min_samples_leaf': 4}. Best is trial 7 with value: -0.5515151515151515.\n",
      "[I 2024-08-14 14:27:53,811] Trial 16 finished with value: -0.524025974025974 and parameters: {'n_estimators': 50, 'max_depth': 10, 'min_samples_split': 5, 'min_samples_leaf': 4}. Best is trial 7 with value: -0.5515151515151515.\n",
      "[I 2024-08-14 14:27:54,208] Trial 17 finished with value: -0.5469696969696969 and parameters: {'n_estimators': 50, 'max_depth': 30, 'min_samples_split': 10, 'min_samples_leaf': 10}. Best is trial 7 with value: -0.5515151515151515.\n",
      "[I 2024-08-14 14:27:54,303] Trial 18 finished with value: -0.5422077922077921 and parameters: {'n_estimators': 10, 'max_depth': 30, 'min_samples_split': 10, 'min_samples_leaf': 2}. Best is trial 7 with value: -0.5515151515151515.\n",
      "[I 2024-08-14 14:27:55,099] Trial 19 finished with value: -0.5385281385281385 and parameters: {'n_estimators': 100, 'max_depth': 30, 'min_samples_split': 5, 'min_samples_leaf': 4}. Best is trial 7 with value: -0.5515151515151515.\n",
      "[I 2024-08-14 14:27:55,548] A new study created in memory with name: no-name-9597f59d-32f2-44da-94ed-2db8e3d26064\n",
      "[I 2024-08-14 14:27:55,642] Trial 0 finished with value: -0.5194805194805194 and parameters: {'n_estimators': 10, 'max_depth': 10, 'min_samples_split': 2, 'min_samples_leaf': 10}. Best is trial 0 with value: -0.5194805194805194.\n"
     ]
    },
    {
     "name": "stdout",
     "output_type": "stream",
     "text": [
      "Mean Accuracy (Cross-Validation): 0.196 ± 0.248\n",
      "Mean Train Accuracy: 0.902 ± 0.000\n",
      "Mean Test Accuracy: 0.602 ± 0.000\n"
     ]
    },
    {
     "name": "stderr",
     "output_type": "stream",
     "text": [
      "[I 2024-08-14 14:27:57,126] Trial 1 finished with value: -0.5422077922077921 and parameters: {'n_estimators': 200, 'max_depth': 20, 'min_samples_split': 5, 'min_samples_leaf': 10}. Best is trial 1 with value: -0.5422077922077921.\n",
      "[I 2024-08-14 14:27:57,215] Trial 2 finished with value: -0.5194805194805194 and parameters: {'n_estimators': 10, 'max_depth': 30, 'min_samples_split': 2, 'min_samples_leaf': 10}. Best is trial 1 with value: -0.5422077922077921.\n",
      "[I 2024-08-14 14:27:57,609] Trial 3 finished with value: -0.5469696969696969 and parameters: {'n_estimators': 50, 'max_depth': 30, 'min_samples_split': 10, 'min_samples_leaf': 10}. Best is trial 3 with value: -0.5469696969696969.\n",
      "[I 2024-08-14 14:27:58,003] Trial 4 finished with value: -0.5469696969696969 and parameters: {'n_estimators': 50, 'max_depth': 10, 'min_samples_split': 2, 'min_samples_leaf': 10}. Best is trial 3 with value: -0.5469696969696969.\n",
      "[I 2024-08-14 14:27:58,103] Trial 5 finished with value: -0.5422077922077921 and parameters: {'n_estimators': 10, 'max_depth': 30, 'min_samples_split': 10, 'min_samples_leaf': 2}. Best is trial 3 with value: -0.5469696969696969.\n",
      "[I 2024-08-14 14:27:59,593] Trial 6 finished with value: -0.5422077922077921 and parameters: {'n_estimators': 200, 'max_depth': 10, 'min_samples_split': 10, 'min_samples_leaf': 10}. Best is trial 3 with value: -0.5469696969696969.\n",
      "[I 2024-08-14 14:27:59,688] Trial 7 finished with value: -0.5287878787878787 and parameters: {'n_estimators': 10, 'max_depth': 20, 'min_samples_split': 2, 'min_samples_leaf': 4}. Best is trial 3 with value: -0.5469696969696969.\n",
      "[I 2024-08-14 14:28:00,517] Trial 8 finished with value: -0.5192640692640693 and parameters: {'n_estimators': 100, 'max_depth': 30, 'min_samples_split': 5, 'min_samples_leaf': 2}. Best is trial 3 with value: -0.5469696969696969.\n",
      "[I 2024-08-14 14:28:01,293] Trial 9 finished with value: -0.5194805194805194 and parameters: {'n_estimators': 100, 'max_depth': 30, 'min_samples_split': 5, 'min_samples_leaf': 5}. Best is trial 3 with value: -0.5469696969696969.\n",
      "[I 2024-08-14 14:28:01,691] Trial 10 finished with value: -0.5292207792207793 and parameters: {'n_estimators': 50, 'max_depth': None, 'min_samples_split': 10, 'min_samples_leaf': 5}. Best is trial 3 with value: -0.5469696969696969.\n",
      "[I 2024-08-14 14:28:02,074] Trial 11 finished with value: -0.5469696969696969 and parameters: {'n_estimators': 50, 'max_depth': 10, 'min_samples_split': 2, 'min_samples_leaf': 10}. Best is trial 3 with value: -0.5469696969696969.\n",
      "[I 2024-08-14 14:28:02,475] Trial 12 finished with value: -0.5515151515151515 and parameters: {'n_estimators': 50, 'max_depth': None, 'min_samples_split': 10, 'min_samples_leaf': 4}. Best is trial 12 with value: -0.5515151515151515.\n",
      "[I 2024-08-14 14:28:02,878] Trial 13 finished with value: -0.5515151515151515 and parameters: {'n_estimators': 50, 'max_depth': None, 'min_samples_split': 10, 'min_samples_leaf': 4}. Best is trial 12 with value: -0.5515151515151515.\n",
      "[I 2024-08-14 14:28:03,277] Trial 14 finished with value: -0.5515151515151515 and parameters: {'n_estimators': 50, 'max_depth': None, 'min_samples_split': 10, 'min_samples_leaf': 4}. Best is trial 12 with value: -0.5515151515151515.\n",
      "[I 2024-08-14 14:28:03,694] Trial 15 finished with value: -0.5515151515151515 and parameters: {'n_estimators': 50, 'max_depth': None, 'min_samples_split': 10, 'min_samples_leaf': 4}. Best is trial 12 with value: -0.5515151515151515.\n",
      "[I 2024-08-14 14:28:04,106] Trial 16 finished with value: -0.5515151515151515 and parameters: {'n_estimators': 50, 'max_depth': None, 'min_samples_split': 10, 'min_samples_leaf': 4}. Best is trial 12 with value: -0.5515151515151515.\n",
      "[I 2024-08-14 14:28:04,505] Trial 17 finished with value: -0.5515151515151515 and parameters: {'n_estimators': 50, 'max_depth': None, 'min_samples_split': 10, 'min_samples_leaf': 4}. Best is trial 12 with value: -0.5515151515151515.\n",
      "[I 2024-08-14 14:28:05,312] Trial 18 finished with value: -0.5614718614718613 and parameters: {'n_estimators': 100, 'max_depth': None, 'min_samples_split': 10, 'min_samples_leaf': 4}. Best is trial 18 with value: -0.5614718614718613.\n",
      "[I 2024-08-14 14:28:06,139] Trial 19 finished with value: -0.5614718614718613 and parameters: {'n_estimators': 100, 'max_depth': None, 'min_samples_split': 10, 'min_samples_leaf': 4}. Best is trial 18 with value: -0.5614718614718613.\n",
      "[I 2024-08-14 14:28:07,021] A new study created in memory with name: no-name-aa89550c-e9ec-4c9e-a00f-94b84dcc4b37\n",
      "[I 2024-08-14 14:28:07,112] Trial 0 finished with value: -0.5194805194805194 and parameters: {'n_estimators': 10, 'max_depth': None, 'min_samples_split': 5, 'min_samples_leaf': 10}. Best is trial 0 with value: -0.5194805194805194.\n"
     ]
    },
    {
     "name": "stdout",
     "output_type": "stream",
     "text": [
      "Mean Accuracy (Cross-Validation): 0.201 ± 0.249\n",
      "Mean Train Accuracy: 0.911 ± 0.000\n",
      "Mean Test Accuracy: 0.656 ± 0.000\n"
     ]
    },
    {
     "name": "stderr",
     "output_type": "stream",
     "text": [
      "[I 2024-08-14 14:28:08,681] Trial 1 finished with value: -0.524025974025974 and parameters: {'n_estimators': 200, 'max_depth': 10, 'min_samples_split': 2, 'min_samples_leaf': 4}. Best is trial 1 with value: -0.524025974025974.\n",
      "[I 2024-08-14 14:28:09,079] Trial 2 finished with value: -0.533982683982684 and parameters: {'n_estimators': 50, 'max_depth': 10, 'min_samples_split': 2, 'min_samples_leaf': 5}. Best is trial 2 with value: -0.533982683982684.\n",
      "[I 2024-08-14 14:28:10,600] Trial 3 finished with value: -0.5422077922077921 and parameters: {'n_estimators': 200, 'max_depth': 10, 'min_samples_split': 5, 'min_samples_leaf': 10}. Best is trial 3 with value: -0.5422077922077921.\n",
      "[I 2024-08-14 14:28:11,360] Trial 4 finished with value: -0.5376623376623375 and parameters: {'n_estimators': 100, 'max_depth': 30, 'min_samples_split': 2, 'min_samples_leaf': 10}. Best is trial 3 with value: -0.5422077922077921.\n",
      "[I 2024-08-14 14:28:11,452] Trial 5 finished with value: -0.5194805194805194 and parameters: {'n_estimators': 10, 'max_depth': 10, 'min_samples_split': 2, 'min_samples_leaf': 10}. Best is trial 3 with value: -0.5422077922077921.\n",
      "[I 2024-08-14 14:28:13,103] Trial 6 finished with value: -0.5095238095238095 and parameters: {'n_estimators': 200, 'max_depth': 20, 'min_samples_split': 5, 'min_samples_leaf': 2}. Best is trial 3 with value: -0.5422077922077921.\n",
      "[I 2024-08-14 14:28:13,915] Trial 7 finished with value: -0.5194805194805194 and parameters: {'n_estimators': 100, 'max_depth': 30, 'min_samples_split': 5, 'min_samples_leaf': 5}. Best is trial 3 with value: -0.5422077922077921.\n",
      "[I 2024-08-14 14:28:14,744] Trial 8 finished with value: -0.5335497835497836 and parameters: {'n_estimators': 100, 'max_depth': 10, 'min_samples_split': 5, 'min_samples_leaf': 2}. Best is trial 3 with value: -0.5422077922077921.\n",
      "[I 2024-08-14 14:28:15,133] Trial 9 finished with value: -0.5469696969696969 and parameters: {'n_estimators': 50, 'max_depth': 20, 'min_samples_split': 2, 'min_samples_leaf': 10}. Best is trial 9 with value: -0.5469696969696969.\n",
      "[I 2024-08-14 14:28:15,542] Trial 10 finished with value: -0.5515151515151515 and parameters: {'n_estimators': 50, 'max_depth': 20, 'min_samples_split': 10, 'min_samples_leaf': 4}. Best is trial 10 with value: -0.5515151515151515.\n",
      "[I 2024-08-14 14:28:15,950] Trial 11 finished with value: -0.5515151515151515 and parameters: {'n_estimators': 50, 'max_depth': 20, 'min_samples_split': 10, 'min_samples_leaf': 4}. Best is trial 10 with value: -0.5515151515151515.\n",
      "[I 2024-08-14 14:28:16,360] Trial 12 finished with value: -0.5515151515151515 and parameters: {'n_estimators': 50, 'max_depth': 20, 'min_samples_split': 10, 'min_samples_leaf': 4}. Best is trial 10 with value: -0.5515151515151515.\n",
      "[I 2024-08-14 14:28:16,775] Trial 13 finished with value: -0.5515151515151515 and parameters: {'n_estimators': 50, 'max_depth': 20, 'min_samples_split': 10, 'min_samples_leaf': 4}. Best is trial 10 with value: -0.5515151515151515.\n",
      "[I 2024-08-14 14:28:17,230] Trial 14 finished with value: -0.5515151515151515 and parameters: {'n_estimators': 50, 'max_depth': 20, 'min_samples_split': 10, 'min_samples_leaf': 4}. Best is trial 10 with value: -0.5515151515151515.\n",
      "[I 2024-08-14 14:28:17,716] Trial 15 finished with value: -0.5515151515151515 and parameters: {'n_estimators': 50, 'max_depth': None, 'min_samples_split': 10, 'min_samples_leaf': 4}. Best is trial 10 with value: -0.5515151515151515.\n",
      "[I 2024-08-14 14:28:18,301] Trial 16 finished with value: -0.5515151515151515 and parameters: {'n_estimators': 50, 'max_depth': 20, 'min_samples_split': 10, 'min_samples_leaf': 4}. Best is trial 10 with value: -0.5515151515151515.\n",
      "[I 2024-08-14 14:28:18,877] Trial 17 finished with value: -0.5515151515151515 and parameters: {'n_estimators': 50, 'max_depth': 20, 'min_samples_split': 10, 'min_samples_leaf': 4}. Best is trial 10 with value: -0.5515151515151515.\n",
      "[I 2024-08-14 14:28:18,987] Trial 18 finished with value: -0.5235930735930736 and parameters: {'n_estimators': 10, 'max_depth': 20, 'min_samples_split': 10, 'min_samples_leaf': 4}. Best is trial 10 with value: -0.5515151515151515.\n",
      "[I 2024-08-14 14:28:19,496] Trial 19 finished with value: -0.5335497835497836 and parameters: {'n_estimators': 50, 'max_depth': 30, 'min_samples_split': 10, 'min_samples_leaf': 2}. Best is trial 10 with value: -0.5515151515151515.\n",
      "[I 2024-08-14 14:28:20,084] A new study created in memory with name: no-name-3272f932-3d77-41bb-b163-fd381e00d7b7\n"
     ]
    },
    {
     "name": "stdout",
     "output_type": "stream",
     "text": [
      "Mean Accuracy (Cross-Validation): 0.206 ± 0.251\n",
      "Mean Train Accuracy: 0.902 ± 0.000\n",
      "Mean Test Accuracy: 0.602 ± 0.000\n"
     ]
    },
    {
     "name": "stderr",
     "output_type": "stream",
     "text": [
      "[I 2024-08-14 14:28:20,961] Trial 0 finished with value: -0.5194805194805194 and parameters: {'n_estimators': 100, 'max_depth': 20, 'min_samples_split': 2, 'min_samples_leaf': 5}. Best is trial 0 with value: -0.5194805194805194.\n",
      "[I 2024-08-14 14:28:21,804] Trial 1 finished with value: -0.5331168831168831 and parameters: {'n_estimators': 100, 'max_depth': 10, 'min_samples_split': 10, 'min_samples_leaf': 2}. Best is trial 1 with value: -0.5331168831168831.\n",
      "[I 2024-08-14 14:28:22,607] Trial 2 finished with value: -0.5376623376623375 and parameters: {'n_estimators': 100, 'max_depth': 10, 'min_samples_split': 5, 'min_samples_leaf': 10}. Best is trial 2 with value: -0.5376623376623375.\n",
      "[I 2024-08-14 14:28:22,703] Trial 3 finished with value: -0.5194805194805194 and parameters: {'n_estimators': 10, 'max_depth': 30, 'min_samples_split': 2, 'min_samples_leaf': 10}. Best is trial 2 with value: -0.5376623376623375.\n",
      "[I 2024-08-14 14:28:24,342] Trial 4 finished with value: -0.5285714285714286 and parameters: {'n_estimators': 200, 'max_depth': 30, 'min_samples_split': 5, 'min_samples_leaf': 5}. Best is trial 2 with value: -0.5376623376623375.\n",
      "[I 2024-08-14 14:28:24,806] Trial 5 finished with value: -0.5335497835497836 and parameters: {'n_estimators': 50, 'max_depth': None, 'min_samples_split': 10, 'min_samples_leaf': 2}. Best is trial 2 with value: -0.5376623376623375.\n",
      "[I 2024-08-14 14:28:25,267] Trial 6 finished with value: -0.5424242424242425 and parameters: {'n_estimators': 50, 'max_depth': 10, 'min_samples_split': 5, 'min_samples_leaf': 2}. Best is trial 6 with value: -0.5424242424242425.\n",
      "[I 2024-08-14 14:28:26,920] Trial 7 finished with value: -0.5285714285714286 and parameters: {'n_estimators': 200, 'max_depth': 10, 'min_samples_split': 10, 'min_samples_leaf': 5}. Best is trial 6 with value: -0.5424242424242425.\n",
      "[I 2024-08-14 14:28:27,018] Trial 8 finished with value: -0.5422077922077921 and parameters: {'n_estimators': 10, 'max_depth': 10, 'min_samples_split': 2, 'min_samples_leaf': 5}. Best is trial 6 with value: -0.5424242424242425.\n",
      "[I 2024-08-14 14:28:27,840] Trial 9 finished with value: -0.5376623376623375 and parameters: {'n_estimators': 100, 'max_depth': 30, 'min_samples_split': 2, 'min_samples_leaf': 10}. Best is trial 6 with value: -0.5424242424242425.\n",
      "[I 2024-08-14 14:28:28,269] Trial 10 finished with value: -0.5192640692640692 and parameters: {'n_estimators': 50, 'max_depth': 20, 'min_samples_split': 5, 'min_samples_leaf': 4}. Best is trial 6 with value: -0.5424242424242425.\n",
      "[I 2024-08-14 14:28:28,370] Trial 11 finished with value: -0.5043290043290043 and parameters: {'n_estimators': 10, 'max_depth': 10, 'min_samples_split': 2, 'min_samples_leaf': 2}. Best is trial 6 with value: -0.5424242424242425.\n",
      "[I 2024-08-14 14:28:28,795] Trial 12 finished with value: -0.524025974025974 and parameters: {'n_estimators': 50, 'max_depth': 10, 'min_samples_split': 5, 'min_samples_leaf': 4}. Best is trial 6 with value: -0.5424242424242425.\n",
      "[I 2024-08-14 14:28:28,896] Trial 13 finished with value: -0.4904761904761905 and parameters: {'n_estimators': 10, 'max_depth': None, 'min_samples_split': 2, 'min_samples_leaf': 2}. Best is trial 6 with value: -0.5424242424242425.\n",
      "[I 2024-08-14 14:28:28,995] Trial 14 finished with value: -0.5422077922077921 and parameters: {'n_estimators': 10, 'max_depth': 10, 'min_samples_split': 5, 'min_samples_leaf': 5}. Best is trial 6 with value: -0.5424242424242425.\n",
      "[I 2024-08-14 14:28:29,426] Trial 15 finished with value: -0.5424242424242425 and parameters: {'n_estimators': 50, 'max_depth': 10, 'min_samples_split': 5, 'min_samples_leaf': 2}. Best is trial 6 with value: -0.5424242424242425.\n",
      "[I 2024-08-14 14:28:29,871] Trial 16 finished with value: -0.5424242424242425 and parameters: {'n_estimators': 50, 'max_depth': 10, 'min_samples_split': 5, 'min_samples_leaf': 2}. Best is trial 6 with value: -0.5424242424242425.\n",
      "[I 2024-08-14 14:28:30,316] Trial 17 finished with value: -0.5093073593073593 and parameters: {'n_estimators': 50, 'max_depth': None, 'min_samples_split': 5, 'min_samples_leaf': 2}. Best is trial 6 with value: -0.5424242424242425.\n",
      "[I 2024-08-14 14:28:30,774] Trial 18 finished with value: -0.5093073593073593 and parameters: {'n_estimators': 50, 'max_depth': 20, 'min_samples_split': 5, 'min_samples_leaf': 2}. Best is trial 6 with value: -0.5424242424242425.\n",
      "[I 2024-08-14 14:28:31,235] Trial 19 finished with value: -0.5424242424242425 and parameters: {'n_estimators': 50, 'max_depth': 10, 'min_samples_split': 5, 'min_samples_leaf': 2}. Best is trial 6 with value: -0.5424242424242425.\n",
      "[I 2024-08-14 14:28:31,739] A new study created in memory with name: no-name-304caf9b-cf8a-44cf-97b3-fe5e1fcd5f8c\n"
     ]
    },
    {
     "name": "stdout",
     "output_type": "stream",
     "text": [
      "Mean Accuracy (Cross-Validation): 0.212 ± 0.252\n",
      "Mean Train Accuracy: 0.958 ± 0.000\n",
      "Mean Test Accuracy: 0.634 ± 0.000\n"
     ]
    },
    {
     "name": "stderr",
     "output_type": "stream",
     "text": [
      "[I 2024-08-14 14:28:32,550] Trial 0 finished with value: -0.5521645021645021 and parameters: {'n_estimators': 100, 'max_depth': 10, 'min_samples_split': 10, 'min_samples_leaf': 4}. Best is trial 0 with value: -0.5521645021645021.\n",
      "[I 2024-08-14 14:28:32,649] Trial 1 finished with value: -0.4904761904761905 and parameters: {'n_estimators': 10, 'max_depth': 20, 'min_samples_split': 2, 'min_samples_leaf': 2}. Best is trial 0 with value: -0.5521645021645021.\n",
      "[I 2024-08-14 14:28:33,430] Trial 2 finished with value: -0.5376623376623375 and parameters: {'n_estimators': 100, 'max_depth': 10, 'min_samples_split': 5, 'min_samples_leaf': 10}. Best is trial 0 with value: -0.5521645021645021.\n",
      "[I 2024-08-14 14:28:34,193] Trial 3 finished with value: -0.5376623376623375 and parameters: {'n_estimators': 100, 'max_depth': 30, 'min_samples_split': 10, 'min_samples_leaf': 10}. Best is trial 0 with value: -0.5521645021645021.\n",
      "[I 2024-08-14 14:28:35,857] Trial 4 finished with value: -0.5095238095238095 and parameters: {'n_estimators': 200, 'max_depth': 20, 'min_samples_split': 5, 'min_samples_leaf': 2}. Best is trial 0 with value: -0.5521645021645021.\n",
      "[I 2024-08-14 14:28:36,274] Trial 5 finished with value: -0.5292207792207793 and parameters: {'n_estimators': 50, 'max_depth': 20, 'min_samples_split': 5, 'min_samples_leaf': 5}. Best is trial 0 with value: -0.5521645021645021.\n",
      "[I 2024-08-14 14:28:36,678] Trial 6 finished with value: -0.5469696969696969 and parameters: {'n_estimators': 50, 'max_depth': None, 'min_samples_split': 10, 'min_samples_leaf': 10}. Best is trial 0 with value: -0.5521645021645021.\n",
      "[I 2024-08-14 14:28:37,090] Trial 7 finished with value: -0.5192640692640692 and parameters: {'n_estimators': 50, 'max_depth': 30, 'min_samples_split': 2, 'min_samples_leaf': 4}. Best is trial 0 with value: -0.5521645021645021.\n",
      "[I 2024-08-14 14:28:38,614] Trial 8 finished with value: -0.5422077922077921 and parameters: {'n_estimators': 200, 'max_depth': 20, 'min_samples_split': 2, 'min_samples_leaf': 10}. Best is trial 0 with value: -0.5521645021645021.\n",
      "[I 2024-08-14 14:28:38,705] Trial 9 finished with value: -0.5194805194805194 and parameters: {'n_estimators': 10, 'max_depth': 30, 'min_samples_split': 2, 'min_samples_leaf': 10}. Best is trial 0 with value: -0.5521645021645021.\n",
      "[I 2024-08-14 14:28:39,505] Trial 10 finished with value: -0.5521645021645021 and parameters: {'n_estimators': 100, 'max_depth': 10, 'min_samples_split': 10, 'min_samples_leaf': 4}. Best is trial 0 with value: -0.5521645021645021.\n",
      "[I 2024-08-14 14:28:40,313] Trial 11 finished with value: -0.5521645021645021 and parameters: {'n_estimators': 100, 'max_depth': 10, 'min_samples_split': 10, 'min_samples_leaf': 4}. Best is trial 0 with value: -0.5521645021645021.\n",
      "[I 2024-08-14 14:28:41,146] Trial 12 finished with value: -0.5521645021645021 and parameters: {'n_estimators': 100, 'max_depth': 10, 'min_samples_split': 10, 'min_samples_leaf': 4}. Best is trial 0 with value: -0.5521645021645021.\n",
      "[I 2024-08-14 14:28:42,037] Trial 13 finished with value: -0.5521645021645021 and parameters: {'n_estimators': 100, 'max_depth': 10, 'min_samples_split': 10, 'min_samples_leaf': 4}. Best is trial 0 with value: -0.5521645021645021.\n",
      "[I 2024-08-14 14:28:42,890] Trial 14 finished with value: -0.5521645021645021 and parameters: {'n_estimators': 100, 'max_depth': 10, 'min_samples_split': 10, 'min_samples_leaf': 4}. Best is trial 0 with value: -0.5521645021645021.\n",
      "[I 2024-08-14 14:28:43,727] Trial 15 finished with value: -0.5194805194805194 and parameters: {'n_estimators': 100, 'max_depth': None, 'min_samples_split': 10, 'min_samples_leaf': 5}. Best is trial 0 with value: -0.5521645021645021.\n",
      "[I 2024-08-14 14:28:44,595] Trial 16 finished with value: -0.5521645021645021 and parameters: {'n_estimators': 100, 'max_depth': 10, 'min_samples_split': 10, 'min_samples_leaf': 4}. Best is trial 0 with value: -0.5521645021645021.\n",
      "[I 2024-08-14 14:28:46,356] Trial 17 finished with value: -0.5422077922077921 and parameters: {'n_estimators': 200, 'max_depth': 10, 'min_samples_split': 10, 'min_samples_leaf': 4}. Best is trial 0 with value: -0.5521645021645021.\n",
      "[I 2024-08-14 14:28:46,457] Trial 18 finished with value: -0.5238095238095238 and parameters: {'n_estimators': 10, 'max_depth': 10, 'min_samples_split': 10, 'min_samples_leaf': 4}. Best is trial 0 with value: -0.5521645021645021.\n",
      "[I 2024-08-14 14:28:47,257] Trial 19 finished with value: -0.5194805194805194 and parameters: {'n_estimators': 100, 'max_depth': None, 'min_samples_split': 5, 'min_samples_leaf': 5}. Best is trial 0 with value: -0.5521645021645021.\n",
      "[I 2024-08-14 14:28:48,192] A new study created in memory with name: no-name-4f7b841e-0124-4e38-8659-e0884d7accd0\n"
     ]
    },
    {
     "name": "stdout",
     "output_type": "stream",
     "text": [
      "Mean Accuracy (Cross-Validation): 0.217 ± 0.253\n",
      "Mean Train Accuracy: 0.911 ± 0.000\n",
      "Mean Test Accuracy: 0.645 ± 0.000\n"
     ]
    },
    {
     "name": "stderr",
     "output_type": "stream",
     "text": [
      "[I 2024-08-14 14:28:49,946] Trial 0 finished with value: -0.5335497835497836 and parameters: {'n_estimators': 200, 'max_depth': 30, 'min_samples_split': 2, 'min_samples_leaf': 4}. Best is trial 0 with value: -0.5335497835497836.\n",
      "[I 2024-08-14 14:28:50,737] Trial 1 finished with value: -0.5376623376623375 and parameters: {'n_estimators': 100, 'max_depth': None, 'min_samples_split': 2, 'min_samples_leaf': 10}. Best is trial 1 with value: -0.5376623376623375.\n",
      "[I 2024-08-14 14:28:50,837] Trial 2 finished with value: -0.5515151515151515 and parameters: {'n_estimators': 10, 'max_depth': None, 'min_samples_split': 5, 'min_samples_leaf': 2}. Best is trial 2 with value: -0.5515151515151515.\n",
      "[I 2024-08-14 14:28:52,515] Trial 3 finished with value: -0.524025974025974 and parameters: {'n_estimators': 200, 'max_depth': 10, 'min_samples_split': 5, 'min_samples_leaf': 4}. Best is trial 2 with value: -0.5515151515151515.\n",
      "[I 2024-08-14 14:28:52,963] Trial 4 finished with value: -0.5292207792207793 and parameters: {'n_estimators': 50, 'max_depth': 20, 'min_samples_split': 5, 'min_samples_leaf': 5}. Best is trial 2 with value: -0.5515151515151515.\n",
      "[I 2024-08-14 14:28:53,783] Trial 5 finished with value: -0.5376623376623375 and parameters: {'n_estimators': 100, 'max_depth': 30, 'min_samples_split': 10, 'min_samples_leaf': 10}. Best is trial 2 with value: -0.5515151515151515.\n",
      "[I 2024-08-14 14:28:53,885] Trial 6 finished with value: -0.5235930735930736 and parameters: {'n_estimators': 10, 'max_depth': None, 'min_samples_split': 10, 'min_samples_leaf': 4}. Best is trial 2 with value: -0.5515151515151515.\n",
      "[I 2024-08-14 14:28:53,985] Trial 7 finished with value: -0.5469696969696969 and parameters: {'n_estimators': 10, 'max_depth': 20, 'min_samples_split': 2, 'min_samples_leaf': 5}. Best is trial 2 with value: -0.5515151515151515.\n",
      "[I 2024-08-14 14:28:54,085] Trial 8 finished with value: -0.5238095238095238 and parameters: {'n_estimators': 10, 'max_depth': 10, 'min_samples_split': 10, 'min_samples_leaf': 4}. Best is trial 2 with value: -0.5515151515151515.\n",
      "[I 2024-08-14 14:28:54,490] Trial 9 finished with value: -0.5469696969696969 and parameters: {'n_estimators': 50, 'max_depth': None, 'min_samples_split': 10, 'min_samples_leaf': 10}. Best is trial 2 with value: -0.5515151515151515.\n",
      "[I 2024-08-14 14:28:54,595] Trial 10 finished with value: -0.5515151515151515 and parameters: {'n_estimators': 10, 'max_depth': None, 'min_samples_split': 5, 'min_samples_leaf': 2}. Best is trial 2 with value: -0.5515151515151515.\n",
      "[I 2024-08-14 14:28:54,702] Trial 11 finished with value: -0.5515151515151515 and parameters: {'n_estimators': 10, 'max_depth': None, 'min_samples_split': 5, 'min_samples_leaf': 2}. Best is trial 2 with value: -0.5515151515151515.\n",
      "[I 2024-08-14 14:28:54,805] Trial 12 finished with value: -0.5515151515151515 and parameters: {'n_estimators': 10, 'max_depth': None, 'min_samples_split': 5, 'min_samples_leaf': 2}. Best is trial 2 with value: -0.5515151515151515.\n",
      "[I 2024-08-14 14:28:54,906] Trial 13 finished with value: -0.5515151515151515 and parameters: {'n_estimators': 10, 'max_depth': None, 'min_samples_split': 5, 'min_samples_leaf': 2}. Best is trial 2 with value: -0.5515151515151515.\n",
      "[I 2024-08-14 14:28:55,007] Trial 14 finished with value: -0.5515151515151515 and parameters: {'n_estimators': 10, 'max_depth': None, 'min_samples_split': 5, 'min_samples_leaf': 2}. Best is trial 2 with value: -0.5515151515151515.\n",
      "[I 2024-08-14 14:28:55,108] Trial 15 finished with value: -0.5515151515151515 and parameters: {'n_estimators': 10, 'max_depth': None, 'min_samples_split': 5, 'min_samples_leaf': 2}. Best is trial 2 with value: -0.5515151515151515.\n",
      "[I 2024-08-14 14:28:56,763] Trial 16 finished with value: -0.5095238095238095 and parameters: {'n_estimators': 200, 'max_depth': 20, 'min_samples_split': 5, 'min_samples_leaf': 2}. Best is trial 2 with value: -0.5515151515151515.\n",
      "[I 2024-08-14 14:28:57,247] Trial 17 finished with value: -0.5424242424242425 and parameters: {'n_estimators': 50, 'max_depth': 10, 'min_samples_split': 5, 'min_samples_leaf': 2}. Best is trial 2 with value: -0.5515151515151515.\n",
      "[I 2024-08-14 14:28:58,163] Trial 18 finished with value: -0.5192640692640693 and parameters: {'n_estimators': 100, 'max_depth': 30, 'min_samples_split': 5, 'min_samples_leaf': 2}. Best is trial 2 with value: -0.5515151515151515.\n",
      "[I 2024-08-14 14:28:58,277] Trial 19 finished with value: -0.5469696969696969 and parameters: {'n_estimators': 10, 'max_depth': None, 'min_samples_split': 2, 'min_samples_leaf': 5}. Best is trial 2 with value: -0.5515151515151515.\n",
      "[I 2024-08-14 14:28:58,404] A new study created in memory with name: no-name-2e4407a2-ad2c-4732-b58c-d178f61f5e19\n"
     ]
    },
    {
     "name": "stdout",
     "output_type": "stream",
     "text": [
      "Mean Accuracy (Cross-Validation): 0.222 ± 0.254\n",
      "Mean Train Accuracy: 0.935 ± 0.000\n",
      "Mean Test Accuracy: 0.581 ± 0.000\n"
     ]
    },
    {
     "name": "stderr",
     "output_type": "stream",
     "text": [
      "[I 2024-08-14 14:28:59,292] Trial 0 finished with value: -0.5194805194805194 and parameters: {'n_estimators': 100, 'max_depth': 30, 'min_samples_split': 2, 'min_samples_leaf': 5}. Best is trial 0 with value: -0.5194805194805194.\n",
      "[I 2024-08-14 14:28:59,412] Trial 1 finished with value: -0.4904761904761905 and parameters: {'n_estimators': 10, 'max_depth': 20, 'min_samples_split': 2, 'min_samples_leaf': 2}. Best is trial 0 with value: -0.5194805194805194.\n",
      "[I 2024-08-14 14:29:00,228] Trial 2 finished with value: -0.5376623376623375 and parameters: {'n_estimators': 100, 'max_depth': None, 'min_samples_split': 10, 'min_samples_leaf': 10}. Best is trial 2 with value: -0.5376623376623375.\n",
      "[I 2024-08-14 14:29:00,645] Trial 3 finished with value: -0.5335497835497836 and parameters: {'n_estimators': 50, 'max_depth': 20, 'min_samples_split': 10, 'min_samples_leaf': 2}. Best is trial 2 with value: -0.5376623376623375.\n",
      "[I 2024-08-14 14:29:01,479] Trial 4 finished with value: -0.5385281385281385 and parameters: {'n_estimators': 100, 'max_depth': 30, 'min_samples_split': 2, 'min_samples_leaf': 4}. Best is trial 4 with value: -0.5385281385281385.\n",
      "[I 2024-08-14 14:29:03,052] Trial 5 finished with value: -0.5422077922077921 and parameters: {'n_estimators': 200, 'max_depth': None, 'min_samples_split': 10, 'min_samples_leaf': 10}. Best is trial 5 with value: -0.5422077922077921.\n",
      "[I 2024-08-14 14:29:03,489] Trial 6 finished with value: -0.5515151515151515 and parameters: {'n_estimators': 50, 'max_depth': 10, 'min_samples_split': 2, 'min_samples_leaf': 2}. Best is trial 6 with value: -0.5515151515151515.\n",
      "[I 2024-08-14 14:29:05,217] Trial 7 finished with value: -0.524025974025974 and parameters: {'n_estimators': 200, 'max_depth': 10, 'min_samples_split': 5, 'min_samples_leaf': 4}. Best is trial 6 with value: -0.5515151515151515.\n",
      "[I 2024-08-14 14:29:05,322] Trial 8 finished with value: -0.5194805194805194 and parameters: {'n_estimators': 10, 'max_depth': 10, 'min_samples_split': 5, 'min_samples_leaf': 10}. Best is trial 6 with value: -0.5515151515151515.\n",
      "[I 2024-08-14 14:29:06,189] Trial 9 finished with value: -0.5331168831168831 and parameters: {'n_estimators': 100, 'max_depth': 10, 'min_samples_split': 10, 'min_samples_leaf': 2}. Best is trial 6 with value: -0.5515151515151515.\n",
      "[I 2024-08-14 14:29:06,620] Trial 10 finished with value: -0.533982683982684 and parameters: {'n_estimators': 50, 'max_depth': 10, 'min_samples_split': 2, 'min_samples_leaf': 5}. Best is trial 6 with value: -0.5515151515151515.\n",
      "[I 2024-08-14 14:29:08,176] Trial 11 finished with value: -0.5422077922077921 and parameters: {'n_estimators': 200, 'max_depth': None, 'min_samples_split': 10, 'min_samples_leaf': 10}. Best is trial 6 with value: -0.5515151515151515.\n",
      "[I 2024-08-14 14:29:08,583] Trial 12 finished with value: -0.5469696969696969 and parameters: {'n_estimators': 50, 'max_depth': None, 'min_samples_split': 10, 'min_samples_leaf': 10}. Best is trial 6 with value: -0.5515151515151515.\n",
      "[I 2024-08-14 14:29:09,027] Trial 13 finished with value: -0.5372294372294372 and parameters: {'n_estimators': 50, 'max_depth': None, 'min_samples_split': 2, 'min_samples_leaf': 2}. Best is trial 6 with value: -0.5515151515151515.\n",
      "[I 2024-08-14 14:29:09,515] Trial 14 finished with value: -0.5093073593073593 and parameters: {'n_estimators': 50, 'max_depth': None, 'min_samples_split': 5, 'min_samples_leaf': 2}. Best is trial 6 with value: -0.5515151515151515.\n",
      "[I 2024-08-14 14:29:09,950] Trial 15 finished with value: -0.5469696969696969 and parameters: {'n_estimators': 50, 'max_depth': 10, 'min_samples_split': 10, 'min_samples_leaf': 10}. Best is trial 6 with value: -0.5515151515151515.\n",
      "[I 2024-08-14 14:29:10,421] Trial 16 finished with value: -0.5292207792207793 and parameters: {'n_estimators': 50, 'max_depth': 30, 'min_samples_split': 2, 'min_samples_leaf': 5}. Best is trial 6 with value: -0.5515151515151515.\n",
      "[I 2024-08-14 14:29:10,885] Trial 17 finished with value: -0.5515151515151515 and parameters: {'n_estimators': 50, 'max_depth': 20, 'min_samples_split': 10, 'min_samples_leaf': 4}. Best is trial 6 with value: -0.5515151515151515.\n",
      "[I 2024-08-14 14:29:11,311] Trial 18 finished with value: -0.5192640692640692 and parameters: {'n_estimators': 50, 'max_depth': 20, 'min_samples_split': 2, 'min_samples_leaf': 4}. Best is trial 6 with value: -0.5515151515151515.\n",
      "[I 2024-08-14 14:29:11,414] Trial 19 finished with value: -0.5287878787878787 and parameters: {'n_estimators': 10, 'max_depth': 20, 'min_samples_split': 5, 'min_samples_leaf': 4}. Best is trial 6 with value: -0.5515151515151515.\n",
      "[I 2024-08-14 14:29:11,922] A new study created in memory with name: no-name-1358b0b3-372e-4641-aa9e-7ea4acf12e68\n"
     ]
    },
    {
     "name": "stdout",
     "output_type": "stream",
     "text": [
      "Mean Accuracy (Cross-Validation): 0.227 ± 0.255\n",
      "Mean Train Accuracy: 0.977 ± 0.000\n",
      "Mean Test Accuracy: 0.634 ± 0.000\n"
     ]
    },
    {
     "name": "stderr",
     "output_type": "stream",
     "text": [
      "[I 2024-08-14 14:29:12,392] Trial 0 finished with value: -0.5093073593073593 and parameters: {'n_estimators': 50, 'max_depth': 20, 'min_samples_split': 5, 'min_samples_leaf': 2}. Best is trial 0 with value: -0.5093073593073593.\n",
      "[I 2024-08-14 14:29:14,090] Trial 1 finished with value: -0.5335497835497834 and parameters: {'n_estimators': 200, 'max_depth': None, 'min_samples_split': 10, 'min_samples_leaf': 2}. Best is trial 1 with value: -0.5335497835497834.\n",
      "[I 2024-08-14 14:29:15,631] Trial 2 finished with value: -0.5422077922077921 and parameters: {'n_estimators': 200, 'max_depth': None, 'min_samples_split': 2, 'min_samples_leaf': 10}. Best is trial 2 with value: -0.5422077922077921.\n",
      "[I 2024-08-14 14:29:17,388] Trial 3 finished with value: -0.524025974025974 and parameters: {'n_estimators': 200, 'max_depth': 10, 'min_samples_split': 2, 'min_samples_leaf': 4}. Best is trial 2 with value: -0.5422077922077921.\n",
      "[I 2024-08-14 14:29:17,495] Trial 4 finished with value: -0.5422077922077921 and parameters: {'n_estimators': 10, 'max_depth': 10, 'min_samples_split': 5, 'min_samples_leaf': 5}. Best is trial 2 with value: -0.5422077922077921.\n",
      "[I 2024-08-14 14:29:18,378] Trial 5 finished with value: -0.5238095238095237 and parameters: {'n_estimators': 100, 'max_depth': 10, 'min_samples_split': 5, 'min_samples_leaf': 5}. Best is trial 2 with value: -0.5422077922077921.\n",
      "[I 2024-08-14 14:29:18,882] Trial 6 finished with value: -0.5192640692640692 and parameters: {'n_estimators': 50, 'max_depth': None, 'min_samples_split': 2, 'min_samples_leaf': 4}. Best is trial 2 with value: -0.5422077922077921.\n",
      "[I 2024-08-14 14:29:19,814] Trial 7 finished with value: -0.5337662337662338 and parameters: {'n_estimators': 100, 'max_depth': 10, 'min_samples_split': 5, 'min_samples_leaf': 4}. Best is trial 2 with value: -0.5422077922077921.\n",
      "[I 2024-08-14 14:29:21,577] Trial 8 finished with value: -0.5335497835497836 and parameters: {'n_estimators': 200, 'max_depth': None, 'min_samples_split': 5, 'min_samples_leaf': 4}. Best is trial 2 with value: -0.5422077922077921.\n",
      "[I 2024-08-14 14:29:22,085] Trial 9 finished with value: -0.5093073593073593 and parameters: {'n_estimators': 50, 'max_depth': 20, 'min_samples_split': 5, 'min_samples_leaf': 2}. Best is trial 2 with value: -0.5422077922077921.\n",
      "[I 2024-08-14 14:29:22,191] Trial 10 finished with value: -0.5194805194805194 and parameters: {'n_estimators': 10, 'max_depth': 30, 'min_samples_split': 2, 'min_samples_leaf': 10}. Best is trial 2 with value: -0.5422077922077921.\n",
      "[I 2024-08-14 14:29:22,296] Trial 11 finished with value: -0.5194805194805194 and parameters: {'n_estimators': 10, 'max_depth': 30, 'min_samples_split': 10, 'min_samples_leaf': 10}. Best is trial 2 with value: -0.5422077922077921.\n",
      "[I 2024-08-14 14:29:22,409] Trial 12 finished with value: -0.5422077922077921 and parameters: {'n_estimators': 10, 'max_depth': 10, 'min_samples_split': 2, 'min_samples_leaf': 5}. Best is trial 2 with value: -0.5422077922077921.\n",
      "[I 2024-08-14 14:29:24,182] Trial 13 finished with value: -0.5285714285714286 and parameters: {'n_estimators': 200, 'max_depth': None, 'min_samples_split': 2, 'min_samples_leaf': 5}. Best is trial 2 with value: -0.5422077922077921.\n",
      "[I 2024-08-14 14:29:24,281] Trial 14 finished with value: -0.5194805194805194 and parameters: {'n_estimators': 10, 'max_depth': 10, 'min_samples_split': 10, 'min_samples_leaf': 10}. Best is trial 2 with value: -0.5422077922077921.\n",
      "[I 2024-08-14 14:29:25,984] Trial 15 finished with value: -0.5285714285714286 and parameters: {'n_estimators': 200, 'max_depth': None, 'min_samples_split': 5, 'min_samples_leaf': 5}. Best is trial 2 with value: -0.5422077922077921.\n",
      "[I 2024-08-14 14:29:26,100] Trial 16 finished with value: -0.5194805194805194 and parameters: {'n_estimators': 10, 'max_depth': 30, 'min_samples_split': 2, 'min_samples_leaf': 10}. Best is trial 2 with value: -0.5422077922077921.\n",
      "[I 2024-08-14 14:29:26,982] Trial 17 finished with value: -0.5376623376623375 and parameters: {'n_estimators': 100, 'max_depth': 20, 'min_samples_split': 2, 'min_samples_leaf': 10}. Best is trial 2 with value: -0.5422077922077921.\n",
      "[W 2024-08-14 14:29:27,640] Trial 18 failed with parameters: {'n_estimators': 200, 'max_depth': None, 'min_samples_split': 5, 'min_samples_leaf': 5} because of the following error: KeyboardInterrupt().\n",
      "Traceback (most recent call last):\n",
      "  File \"/home/kiennd/Documents/1_Settings/anaconda3/envs/APEEG_D/lib/python3.9/site-packages/optuna/study/_optimize.py\", line 196, in _run_trial\n",
      "    value_or_values = func(trial)\n",
      "  File \"/tmp/ipykernel_13571/1424965369.py\", line 54, in <lambda>\n",
      "    study.optimize(lambda trial: objective(trial, X_train, y_train, num_folds), n_trials=20)  # Adjust n_trials as needed\n",
      "  File \"/tmp/ipykernel_13571/1424965369.py\", line 28, in objective\n",
      "    cv_scores = cross_val_score(model, X_train, y_train, cv=stratified_kfold)\n",
      "  File \"/home/kiennd/Documents/1_Settings/anaconda3/envs/APEEG_D/lib/python3.9/site-packages/sklearn/utils/_param_validation.py\", line 213, in wrapper\n",
      "    return func(*args, **kwargs)\n",
      "  File \"/home/kiennd/Documents/1_Settings/anaconda3/envs/APEEG_D/lib/python3.9/site-packages/sklearn/model_selection/_validation.py\", line 712, in cross_val_score\n",
      "    cv_results = cross_validate(\n",
      "  File \"/home/kiennd/Documents/1_Settings/anaconda3/envs/APEEG_D/lib/python3.9/site-packages/sklearn/utils/_param_validation.py\", line 213, in wrapper\n",
      "    return func(*args, **kwargs)\n",
      "  File \"/home/kiennd/Documents/1_Settings/anaconda3/envs/APEEG_D/lib/python3.9/site-packages/sklearn/model_selection/_validation.py\", line 423, in cross_validate\n",
      "    results = parallel(\n",
      "  File \"/home/kiennd/Documents/1_Settings/anaconda3/envs/APEEG_D/lib/python3.9/site-packages/sklearn/utils/parallel.py\", line 74, in __call__\n",
      "    return super().__call__(iterable_with_config)\n",
      "  File \"/home/kiennd/Documents/1_Settings/anaconda3/envs/APEEG_D/lib/python3.9/site-packages/joblib/parallel.py\", line 1918, in __call__\n",
      "    return output if self.return_generator else list(output)\n",
      "  File \"/home/kiennd/Documents/1_Settings/anaconda3/envs/APEEG_D/lib/python3.9/site-packages/joblib/parallel.py\", line 1847, in _get_sequential_output\n",
      "    res = func(*args, **kwargs)\n",
      "  File \"/home/kiennd/Documents/1_Settings/anaconda3/envs/APEEG_D/lib/python3.9/site-packages/sklearn/utils/parallel.py\", line 136, in __call__\n",
      "    return self.function(*args, **kwargs)\n",
      "  File \"/home/kiennd/Documents/1_Settings/anaconda3/envs/APEEG_D/lib/python3.9/site-packages/sklearn/model_selection/_validation.py\", line 888, in _fit_and_score\n",
      "    estimator.fit(X_train, y_train, **fit_params)\n",
      "  File \"/home/kiennd/Documents/1_Settings/anaconda3/envs/APEEG_D/lib/python3.9/site-packages/sklearn/base.py\", line 1473, in wrapper\n",
      "    return fit_method(estimator, *args, **kwargs)\n",
      "  File \"/home/kiennd/Documents/1_Settings/anaconda3/envs/APEEG_D/lib/python3.9/site-packages/sklearn/ensemble/_forest.py\", line 489, in fit\n",
      "    trees = Parallel(\n",
      "  File \"/home/kiennd/Documents/1_Settings/anaconda3/envs/APEEG_D/lib/python3.9/site-packages/sklearn/utils/parallel.py\", line 74, in __call__\n",
      "    return super().__call__(iterable_with_config)\n",
      "  File \"/home/kiennd/Documents/1_Settings/anaconda3/envs/APEEG_D/lib/python3.9/site-packages/joblib/parallel.py\", line 1918, in __call__\n",
      "    return output if self.return_generator else list(output)\n",
      "  File \"/home/kiennd/Documents/1_Settings/anaconda3/envs/APEEG_D/lib/python3.9/site-packages/joblib/parallel.py\", line 1847, in _get_sequential_output\n",
      "    res = func(*args, **kwargs)\n",
      "  File \"/home/kiennd/Documents/1_Settings/anaconda3/envs/APEEG_D/lib/python3.9/site-packages/sklearn/utils/parallel.py\", line 136, in __call__\n",
      "    return self.function(*args, **kwargs)\n",
      "  File \"/home/kiennd/Documents/1_Settings/anaconda3/envs/APEEG_D/lib/python3.9/site-packages/sklearn/ensemble/_forest.py\", line 179, in _parallel_build_trees\n",
      "    indices = _generate_sample_indices(\n",
      "  File \"/home/kiennd/Documents/1_Settings/anaconda3/envs/APEEG_D/lib/python3.9/site-packages/sklearn/ensemble/_forest.py\", line 132, in _generate_sample_indices\n",
      "    random_instance = check_random_state(random_state)\n",
      "  File \"/home/kiennd/Documents/1_Settings/anaconda3/envs/APEEG_D/lib/python3.9/site-packages/sklearn/utils/validation.py\", line 1436, in check_random_state\n",
      "    return np.random.RandomState(seed)\n",
      "  File \"numpy/random/mtrand.pyx\", line 185, in numpy.random.mtrand.RandomState.__init__\n",
      "  File \"_mt19937.pyx\", line 132, in numpy.random._mt19937.MT19937.__init__\n",
      "  File \"/home/kiennd/Documents/1_Settings/anaconda3/envs/APEEG_D/lib/python3.9/site-packages/numpy/_core/_ufunc_config.py\", line 449, in inner\n",
      "    return func(*args, **kwargs)\n",
      "KeyboardInterrupt\n",
      "[W 2024-08-14 14:29:27,641] Trial 18 failed with value None.\n"
     ]
    },
    {
     "ename": "KeyboardInterrupt",
     "evalue": "",
     "output_type": "error",
     "traceback": [
      "\u001b[0;31m---------------------------------------------------------------------------\u001b[0m",
      "\u001b[0;31mKeyboardInterrupt\u001b[0m                         Traceback (most recent call last)",
      "Cell \u001b[0;32mIn[38], line 54\u001b[0m\n\u001b[1;32m     51\u001b[0m \u001b[38;5;28;01mfor\u001b[39;00m state \u001b[38;5;129;01min\u001b[39;00m \u001b[38;5;28mrange\u001b[39m(\u001b[38;5;241m1\u001b[39m, numLoop \u001b[38;5;241m+\u001b[39m \u001b[38;5;241m1\u001b[39m):\n\u001b[1;32m     52\u001b[0m     \u001b[38;5;66;03m# Define Optuna study\u001b[39;00m\n\u001b[1;32m     53\u001b[0m     study \u001b[38;5;241m=\u001b[39m optuna\u001b[38;5;241m.\u001b[39mcreate_study(sampler\u001b[38;5;241m=\u001b[39mTPESampler(), direction\u001b[38;5;241m=\u001b[39m\u001b[38;5;124m'\u001b[39m\u001b[38;5;124mminimize\u001b[39m\u001b[38;5;124m'\u001b[39m)\n\u001b[0;32m---> 54\u001b[0m     \u001b[43mstudy\u001b[49m\u001b[38;5;241;43m.\u001b[39;49m\u001b[43moptimize\u001b[49m\u001b[43m(\u001b[49m\u001b[38;5;28;43;01mlambda\u001b[39;49;00m\u001b[43m \u001b[49m\u001b[43mtrial\u001b[49m\u001b[43m:\u001b[49m\u001b[43m \u001b[49m\u001b[43mobjective\u001b[49m\u001b[43m(\u001b[49m\u001b[43mtrial\u001b[49m\u001b[43m,\u001b[49m\u001b[43m \u001b[49m\u001b[43mX_train\u001b[49m\u001b[43m,\u001b[49m\u001b[43m \u001b[49m\u001b[43my_train\u001b[49m\u001b[43m,\u001b[49m\u001b[43m \u001b[49m\u001b[43mnum_folds\u001b[49m\u001b[43m)\u001b[49m\u001b[43m,\u001b[49m\u001b[43m \u001b[49m\u001b[43mn_trials\u001b[49m\u001b[38;5;241;43m=\u001b[39;49m\u001b[38;5;241;43m20\u001b[39;49m\u001b[43m)\u001b[49m  \u001b[38;5;66;03m# Adjust n_trials as needed\u001b[39;00m\n\u001b[1;32m     56\u001b[0m     \u001b[38;5;66;03m# Get the best parameters\u001b[39;00m\n\u001b[1;32m     57\u001b[0m     best_params \u001b[38;5;241m=\u001b[39m study\u001b[38;5;241m.\u001b[39mbest_params\n",
      "File \u001b[0;32m~/Documents/1_Settings/anaconda3/envs/APEEG_D/lib/python3.9/site-packages/optuna/study/study.py:451\u001b[0m, in \u001b[0;36mStudy.optimize\u001b[0;34m(self, func, n_trials, timeout, n_jobs, catch, callbacks, gc_after_trial, show_progress_bar)\u001b[0m\n\u001b[1;32m    348\u001b[0m \u001b[38;5;28;01mdef\u001b[39;00m \u001b[38;5;21moptimize\u001b[39m(\n\u001b[1;32m    349\u001b[0m     \u001b[38;5;28mself\u001b[39m,\n\u001b[1;32m    350\u001b[0m     func: ObjectiveFuncType,\n\u001b[0;32m   (...)\u001b[0m\n\u001b[1;32m    357\u001b[0m     show_progress_bar: \u001b[38;5;28mbool\u001b[39m \u001b[38;5;241m=\u001b[39m \u001b[38;5;28;01mFalse\u001b[39;00m,\n\u001b[1;32m    358\u001b[0m ) \u001b[38;5;241m-\u001b[39m\u001b[38;5;241m>\u001b[39m \u001b[38;5;28;01mNone\u001b[39;00m:\n\u001b[1;32m    359\u001b[0m \u001b[38;5;250m    \u001b[39m\u001b[38;5;124;03m\"\"\"Optimize an objective function.\u001b[39;00m\n\u001b[1;32m    360\u001b[0m \n\u001b[1;32m    361\u001b[0m \u001b[38;5;124;03m    Optimization is done by choosing a suitable set of hyperparameter values from a given\u001b[39;00m\n\u001b[0;32m   (...)\u001b[0m\n\u001b[1;32m    449\u001b[0m \u001b[38;5;124;03m            If nested invocation of this method occurs.\u001b[39;00m\n\u001b[1;32m    450\u001b[0m \u001b[38;5;124;03m    \"\"\"\u001b[39;00m\n\u001b[0;32m--> 451\u001b[0m     \u001b[43m_optimize\u001b[49m\u001b[43m(\u001b[49m\n\u001b[1;32m    452\u001b[0m \u001b[43m        \u001b[49m\u001b[43mstudy\u001b[49m\u001b[38;5;241;43m=\u001b[39;49m\u001b[38;5;28;43mself\u001b[39;49m\u001b[43m,\u001b[49m\n\u001b[1;32m    453\u001b[0m \u001b[43m        \u001b[49m\u001b[43mfunc\u001b[49m\u001b[38;5;241;43m=\u001b[39;49m\u001b[43mfunc\u001b[49m\u001b[43m,\u001b[49m\n\u001b[1;32m    454\u001b[0m \u001b[43m        \u001b[49m\u001b[43mn_trials\u001b[49m\u001b[38;5;241;43m=\u001b[39;49m\u001b[43mn_trials\u001b[49m\u001b[43m,\u001b[49m\n\u001b[1;32m    455\u001b[0m \u001b[43m        \u001b[49m\u001b[43mtimeout\u001b[49m\u001b[38;5;241;43m=\u001b[39;49m\u001b[43mtimeout\u001b[49m\u001b[43m,\u001b[49m\n\u001b[1;32m    456\u001b[0m \u001b[43m        \u001b[49m\u001b[43mn_jobs\u001b[49m\u001b[38;5;241;43m=\u001b[39;49m\u001b[43mn_jobs\u001b[49m\u001b[43m,\u001b[49m\n\u001b[1;32m    457\u001b[0m \u001b[43m        \u001b[49m\u001b[43mcatch\u001b[49m\u001b[38;5;241;43m=\u001b[39;49m\u001b[38;5;28;43mtuple\u001b[39;49m\u001b[43m(\u001b[49m\u001b[43mcatch\u001b[49m\u001b[43m)\u001b[49m\u001b[43m \u001b[49m\u001b[38;5;28;43;01mif\u001b[39;49;00m\u001b[43m \u001b[49m\u001b[38;5;28;43misinstance\u001b[39;49m\u001b[43m(\u001b[49m\u001b[43mcatch\u001b[49m\u001b[43m,\u001b[49m\u001b[43m \u001b[49m\u001b[43mIterable\u001b[49m\u001b[43m)\u001b[49m\u001b[43m \u001b[49m\u001b[38;5;28;43;01melse\u001b[39;49;00m\u001b[43m \u001b[49m\u001b[43m(\u001b[49m\u001b[43mcatch\u001b[49m\u001b[43m,\u001b[49m\u001b[43m)\u001b[49m\u001b[43m,\u001b[49m\n\u001b[1;32m    458\u001b[0m \u001b[43m        \u001b[49m\u001b[43mcallbacks\u001b[49m\u001b[38;5;241;43m=\u001b[39;49m\u001b[43mcallbacks\u001b[49m\u001b[43m,\u001b[49m\n\u001b[1;32m    459\u001b[0m \u001b[43m        \u001b[49m\u001b[43mgc_after_trial\u001b[49m\u001b[38;5;241;43m=\u001b[39;49m\u001b[43mgc_after_trial\u001b[49m\u001b[43m,\u001b[49m\n\u001b[1;32m    460\u001b[0m \u001b[43m        \u001b[49m\u001b[43mshow_progress_bar\u001b[49m\u001b[38;5;241;43m=\u001b[39;49m\u001b[43mshow_progress_bar\u001b[49m\u001b[43m,\u001b[49m\n\u001b[1;32m    461\u001b[0m \u001b[43m    \u001b[49m\u001b[43m)\u001b[49m\n",
      "File \u001b[0;32m~/Documents/1_Settings/anaconda3/envs/APEEG_D/lib/python3.9/site-packages/optuna/study/_optimize.py:62\u001b[0m, in \u001b[0;36m_optimize\u001b[0;34m(study, func, n_trials, timeout, n_jobs, catch, callbacks, gc_after_trial, show_progress_bar)\u001b[0m\n\u001b[1;32m     60\u001b[0m \u001b[38;5;28;01mtry\u001b[39;00m:\n\u001b[1;32m     61\u001b[0m     \u001b[38;5;28;01mif\u001b[39;00m n_jobs \u001b[38;5;241m==\u001b[39m \u001b[38;5;241m1\u001b[39m:\n\u001b[0;32m---> 62\u001b[0m         \u001b[43m_optimize_sequential\u001b[49m\u001b[43m(\u001b[49m\n\u001b[1;32m     63\u001b[0m \u001b[43m            \u001b[49m\u001b[43mstudy\u001b[49m\u001b[43m,\u001b[49m\n\u001b[1;32m     64\u001b[0m \u001b[43m            \u001b[49m\u001b[43mfunc\u001b[49m\u001b[43m,\u001b[49m\n\u001b[1;32m     65\u001b[0m \u001b[43m            \u001b[49m\u001b[43mn_trials\u001b[49m\u001b[43m,\u001b[49m\n\u001b[1;32m     66\u001b[0m \u001b[43m            \u001b[49m\u001b[43mtimeout\u001b[49m\u001b[43m,\u001b[49m\n\u001b[1;32m     67\u001b[0m \u001b[43m            \u001b[49m\u001b[43mcatch\u001b[49m\u001b[43m,\u001b[49m\n\u001b[1;32m     68\u001b[0m \u001b[43m            \u001b[49m\u001b[43mcallbacks\u001b[49m\u001b[43m,\u001b[49m\n\u001b[1;32m     69\u001b[0m \u001b[43m            \u001b[49m\u001b[43mgc_after_trial\u001b[49m\u001b[43m,\u001b[49m\n\u001b[1;32m     70\u001b[0m \u001b[43m            \u001b[49m\u001b[43mreseed_sampler_rng\u001b[49m\u001b[38;5;241;43m=\u001b[39;49m\u001b[38;5;28;43;01mFalse\u001b[39;49;00m\u001b[43m,\u001b[49m\n\u001b[1;32m     71\u001b[0m \u001b[43m            \u001b[49m\u001b[43mtime_start\u001b[49m\u001b[38;5;241;43m=\u001b[39;49m\u001b[38;5;28;43;01mNone\u001b[39;49;00m\u001b[43m,\u001b[49m\n\u001b[1;32m     72\u001b[0m \u001b[43m            \u001b[49m\u001b[43mprogress_bar\u001b[49m\u001b[38;5;241;43m=\u001b[39;49m\u001b[43mprogress_bar\u001b[49m\u001b[43m,\u001b[49m\n\u001b[1;32m     73\u001b[0m \u001b[43m        \u001b[49m\u001b[43m)\u001b[49m\n\u001b[1;32m     74\u001b[0m     \u001b[38;5;28;01melse\u001b[39;00m:\n\u001b[1;32m     75\u001b[0m         \u001b[38;5;28;01mif\u001b[39;00m n_jobs \u001b[38;5;241m==\u001b[39m \u001b[38;5;241m-\u001b[39m\u001b[38;5;241m1\u001b[39m:\n",
      "File \u001b[0;32m~/Documents/1_Settings/anaconda3/envs/APEEG_D/lib/python3.9/site-packages/optuna/study/_optimize.py:159\u001b[0m, in \u001b[0;36m_optimize_sequential\u001b[0;34m(study, func, n_trials, timeout, catch, callbacks, gc_after_trial, reseed_sampler_rng, time_start, progress_bar)\u001b[0m\n\u001b[1;32m    156\u001b[0m         \u001b[38;5;28;01mbreak\u001b[39;00m\n\u001b[1;32m    158\u001b[0m \u001b[38;5;28;01mtry\u001b[39;00m:\n\u001b[0;32m--> 159\u001b[0m     frozen_trial \u001b[38;5;241m=\u001b[39m \u001b[43m_run_trial\u001b[49m\u001b[43m(\u001b[49m\u001b[43mstudy\u001b[49m\u001b[43m,\u001b[49m\u001b[43m \u001b[49m\u001b[43mfunc\u001b[49m\u001b[43m,\u001b[49m\u001b[43m \u001b[49m\u001b[43mcatch\u001b[49m\u001b[43m)\u001b[49m\n\u001b[1;32m    160\u001b[0m \u001b[38;5;28;01mfinally\u001b[39;00m:\n\u001b[1;32m    161\u001b[0m     \u001b[38;5;66;03m# The following line mitigates memory problems that can be occurred in some\u001b[39;00m\n\u001b[1;32m    162\u001b[0m     \u001b[38;5;66;03m# environments (e.g., services that use computing containers such as GitHub Actions).\u001b[39;00m\n\u001b[1;32m    163\u001b[0m     \u001b[38;5;66;03m# Please refer to the following PR for further details:\u001b[39;00m\n\u001b[1;32m    164\u001b[0m     \u001b[38;5;66;03m# https://github.com/optuna/optuna/pull/325.\u001b[39;00m\n\u001b[1;32m    165\u001b[0m     \u001b[38;5;28;01mif\u001b[39;00m gc_after_trial:\n",
      "File \u001b[0;32m~/Documents/1_Settings/anaconda3/envs/APEEG_D/lib/python3.9/site-packages/optuna/study/_optimize.py:247\u001b[0m, in \u001b[0;36m_run_trial\u001b[0;34m(study, func, catch)\u001b[0m\n\u001b[1;32m    240\u001b[0m         \u001b[38;5;28;01massert\u001b[39;00m \u001b[38;5;28;01mFalse\u001b[39;00m, \u001b[38;5;124m\"\u001b[39m\u001b[38;5;124mShould not reach.\u001b[39m\u001b[38;5;124m\"\u001b[39m\n\u001b[1;32m    242\u001b[0m \u001b[38;5;28;01mif\u001b[39;00m (\n\u001b[1;32m    243\u001b[0m     frozen_trial\u001b[38;5;241m.\u001b[39mstate \u001b[38;5;241m==\u001b[39m TrialState\u001b[38;5;241m.\u001b[39mFAIL\n\u001b[1;32m    244\u001b[0m     \u001b[38;5;129;01mand\u001b[39;00m func_err \u001b[38;5;129;01mis\u001b[39;00m \u001b[38;5;129;01mnot\u001b[39;00m \u001b[38;5;28;01mNone\u001b[39;00m\n\u001b[1;32m    245\u001b[0m     \u001b[38;5;129;01mand\u001b[39;00m \u001b[38;5;129;01mnot\u001b[39;00m \u001b[38;5;28misinstance\u001b[39m(func_err, catch)\n\u001b[1;32m    246\u001b[0m ):\n\u001b[0;32m--> 247\u001b[0m     \u001b[38;5;28;01mraise\u001b[39;00m func_err\n\u001b[1;32m    248\u001b[0m \u001b[38;5;28;01mreturn\u001b[39;00m frozen_trial\n",
      "File \u001b[0;32m~/Documents/1_Settings/anaconda3/envs/APEEG_D/lib/python3.9/site-packages/optuna/study/_optimize.py:196\u001b[0m, in \u001b[0;36m_run_trial\u001b[0;34m(study, func, catch)\u001b[0m\n\u001b[1;32m    194\u001b[0m \u001b[38;5;28;01mwith\u001b[39;00m get_heartbeat_thread(trial\u001b[38;5;241m.\u001b[39m_trial_id, study\u001b[38;5;241m.\u001b[39m_storage):\n\u001b[1;32m    195\u001b[0m     \u001b[38;5;28;01mtry\u001b[39;00m:\n\u001b[0;32m--> 196\u001b[0m         value_or_values \u001b[38;5;241m=\u001b[39m \u001b[43mfunc\u001b[49m\u001b[43m(\u001b[49m\u001b[43mtrial\u001b[49m\u001b[43m)\u001b[49m\n\u001b[1;32m    197\u001b[0m     \u001b[38;5;28;01mexcept\u001b[39;00m exceptions\u001b[38;5;241m.\u001b[39mTrialPruned \u001b[38;5;28;01mas\u001b[39;00m e:\n\u001b[1;32m    198\u001b[0m         \u001b[38;5;66;03m# TODO(mamu): Handle multi-objective cases.\u001b[39;00m\n\u001b[1;32m    199\u001b[0m         state \u001b[38;5;241m=\u001b[39m TrialState\u001b[38;5;241m.\u001b[39mPRUNED\n",
      "Cell \u001b[0;32mIn[38], line 54\u001b[0m, in \u001b[0;36m<lambda>\u001b[0;34m(trial)\u001b[0m\n\u001b[1;32m     51\u001b[0m \u001b[38;5;28;01mfor\u001b[39;00m state \u001b[38;5;129;01min\u001b[39;00m \u001b[38;5;28mrange\u001b[39m(\u001b[38;5;241m1\u001b[39m, numLoop \u001b[38;5;241m+\u001b[39m \u001b[38;5;241m1\u001b[39m):\n\u001b[1;32m     52\u001b[0m     \u001b[38;5;66;03m# Define Optuna study\u001b[39;00m\n\u001b[1;32m     53\u001b[0m     study \u001b[38;5;241m=\u001b[39m optuna\u001b[38;5;241m.\u001b[39mcreate_study(sampler\u001b[38;5;241m=\u001b[39mTPESampler(), direction\u001b[38;5;241m=\u001b[39m\u001b[38;5;124m'\u001b[39m\u001b[38;5;124mminimize\u001b[39m\u001b[38;5;124m'\u001b[39m)\n\u001b[0;32m---> 54\u001b[0m     study\u001b[38;5;241m.\u001b[39moptimize(\u001b[38;5;28;01mlambda\u001b[39;00m trial: \u001b[43mobjective\u001b[49m\u001b[43m(\u001b[49m\u001b[43mtrial\u001b[49m\u001b[43m,\u001b[49m\u001b[43m \u001b[49m\u001b[43mX_train\u001b[49m\u001b[43m,\u001b[49m\u001b[43m \u001b[49m\u001b[43my_train\u001b[49m\u001b[43m,\u001b[49m\u001b[43m \u001b[49m\u001b[43mnum_folds\u001b[49m\u001b[43m)\u001b[49m, n_trials\u001b[38;5;241m=\u001b[39m\u001b[38;5;241m20\u001b[39m)  \u001b[38;5;66;03m# Adjust n_trials as needed\u001b[39;00m\n\u001b[1;32m     56\u001b[0m     \u001b[38;5;66;03m# Get the best parameters\u001b[39;00m\n\u001b[1;32m     57\u001b[0m     best_params \u001b[38;5;241m=\u001b[39m study\u001b[38;5;241m.\u001b[39mbest_params\n",
      "Cell \u001b[0;32mIn[38], line 28\u001b[0m, in \u001b[0;36mobjective\u001b[0;34m(trial, X_train, y_train, num_folds)\u001b[0m\n\u001b[1;32m     26\u001b[0m \u001b[38;5;66;03m# Use StratifiedKFold for cross-validation\u001b[39;00m\n\u001b[1;32m     27\u001b[0m stratified_kfold \u001b[38;5;241m=\u001b[39m StratifiedKFold(n_splits\u001b[38;5;241m=\u001b[39mnum_folds, shuffle\u001b[38;5;241m=\u001b[39m\u001b[38;5;28;01mTrue\u001b[39;00m, random_state\u001b[38;5;241m=\u001b[39m\u001b[38;5;241m42\u001b[39m)\n\u001b[0;32m---> 28\u001b[0m cv_scores \u001b[38;5;241m=\u001b[39m \u001b[43mcross_val_score\u001b[49m\u001b[43m(\u001b[49m\u001b[43mmodel\u001b[49m\u001b[43m,\u001b[49m\u001b[43m \u001b[49m\u001b[43mX_train\u001b[49m\u001b[43m,\u001b[49m\u001b[43m \u001b[49m\u001b[43my_train\u001b[49m\u001b[43m,\u001b[49m\u001b[43m \u001b[49m\u001b[43mcv\u001b[49m\u001b[38;5;241;43m=\u001b[39;49m\u001b[43mstratified_kfold\u001b[49m\u001b[43m)\u001b[49m\n\u001b[1;32m     30\u001b[0m \u001b[38;5;66;03m# Return the negative of mean accuracy because Optuna minimizes the objective function\u001b[39;00m\n\u001b[1;32m     31\u001b[0m \u001b[38;5;28;01mreturn\u001b[39;00m \u001b[38;5;241m-\u001b[39mcv_scores\u001b[38;5;241m.\u001b[39mmean()\n",
      "File \u001b[0;32m~/Documents/1_Settings/anaconda3/envs/APEEG_D/lib/python3.9/site-packages/sklearn/utils/_param_validation.py:213\u001b[0m, in \u001b[0;36mvalidate_params.<locals>.decorator.<locals>.wrapper\u001b[0;34m(*args, **kwargs)\u001b[0m\n\u001b[1;32m    207\u001b[0m \u001b[38;5;28;01mtry\u001b[39;00m:\n\u001b[1;32m    208\u001b[0m     \u001b[38;5;28;01mwith\u001b[39;00m config_context(\n\u001b[1;32m    209\u001b[0m         skip_parameter_validation\u001b[38;5;241m=\u001b[39m(\n\u001b[1;32m    210\u001b[0m             prefer_skip_nested_validation \u001b[38;5;129;01mor\u001b[39;00m global_skip_validation\n\u001b[1;32m    211\u001b[0m         )\n\u001b[1;32m    212\u001b[0m     ):\n\u001b[0;32m--> 213\u001b[0m         \u001b[38;5;28;01mreturn\u001b[39;00m \u001b[43mfunc\u001b[49m\u001b[43m(\u001b[49m\u001b[38;5;241;43m*\u001b[39;49m\u001b[43margs\u001b[49m\u001b[43m,\u001b[49m\u001b[43m \u001b[49m\u001b[38;5;241;43m*\u001b[39;49m\u001b[38;5;241;43m*\u001b[39;49m\u001b[43mkwargs\u001b[49m\u001b[43m)\u001b[49m\n\u001b[1;32m    214\u001b[0m \u001b[38;5;28;01mexcept\u001b[39;00m InvalidParameterError \u001b[38;5;28;01mas\u001b[39;00m e:\n\u001b[1;32m    215\u001b[0m     \u001b[38;5;66;03m# When the function is just a wrapper around an estimator, we allow\u001b[39;00m\n\u001b[1;32m    216\u001b[0m     \u001b[38;5;66;03m# the function to delegate validation to the estimator, but we replace\u001b[39;00m\n\u001b[1;32m    217\u001b[0m     \u001b[38;5;66;03m# the name of the estimator by the name of the function in the error\u001b[39;00m\n\u001b[1;32m    218\u001b[0m     \u001b[38;5;66;03m# message to avoid confusion.\u001b[39;00m\n\u001b[1;32m    219\u001b[0m     msg \u001b[38;5;241m=\u001b[39m re\u001b[38;5;241m.\u001b[39msub(\n\u001b[1;32m    220\u001b[0m         \u001b[38;5;124mr\u001b[39m\u001b[38;5;124m\"\u001b[39m\u001b[38;5;124mparameter of \u001b[39m\u001b[38;5;124m\\\u001b[39m\u001b[38;5;124mw+ must be\u001b[39m\u001b[38;5;124m\"\u001b[39m,\n\u001b[1;32m    221\u001b[0m         \u001b[38;5;124mf\u001b[39m\u001b[38;5;124m\"\u001b[39m\u001b[38;5;124mparameter of \u001b[39m\u001b[38;5;132;01m{\u001b[39;00mfunc\u001b[38;5;241m.\u001b[39m\u001b[38;5;18m__qualname__\u001b[39m\u001b[38;5;132;01m}\u001b[39;00m\u001b[38;5;124m must be\u001b[39m\u001b[38;5;124m\"\u001b[39m,\n\u001b[1;32m    222\u001b[0m         \u001b[38;5;28mstr\u001b[39m(e),\n\u001b[1;32m    223\u001b[0m     )\n",
      "File \u001b[0;32m~/Documents/1_Settings/anaconda3/envs/APEEG_D/lib/python3.9/site-packages/sklearn/model_selection/_validation.py:712\u001b[0m, in \u001b[0;36mcross_val_score\u001b[0;34m(estimator, X, y, groups, scoring, cv, n_jobs, verbose, fit_params, params, pre_dispatch, error_score)\u001b[0m\n\u001b[1;32m    709\u001b[0m \u001b[38;5;66;03m# To ensure multimetric format is not supported\u001b[39;00m\n\u001b[1;32m    710\u001b[0m scorer \u001b[38;5;241m=\u001b[39m check_scoring(estimator, scoring\u001b[38;5;241m=\u001b[39mscoring)\n\u001b[0;32m--> 712\u001b[0m cv_results \u001b[38;5;241m=\u001b[39m \u001b[43mcross_validate\u001b[49m\u001b[43m(\u001b[49m\n\u001b[1;32m    713\u001b[0m \u001b[43m    \u001b[49m\u001b[43mestimator\u001b[49m\u001b[38;5;241;43m=\u001b[39;49m\u001b[43mestimator\u001b[49m\u001b[43m,\u001b[49m\n\u001b[1;32m    714\u001b[0m \u001b[43m    \u001b[49m\u001b[43mX\u001b[49m\u001b[38;5;241;43m=\u001b[39;49m\u001b[43mX\u001b[49m\u001b[43m,\u001b[49m\n\u001b[1;32m    715\u001b[0m \u001b[43m    \u001b[49m\u001b[43my\u001b[49m\u001b[38;5;241;43m=\u001b[39;49m\u001b[43my\u001b[49m\u001b[43m,\u001b[49m\n\u001b[1;32m    716\u001b[0m \u001b[43m    \u001b[49m\u001b[43mgroups\u001b[49m\u001b[38;5;241;43m=\u001b[39;49m\u001b[43mgroups\u001b[49m\u001b[43m,\u001b[49m\n\u001b[1;32m    717\u001b[0m \u001b[43m    \u001b[49m\u001b[43mscoring\u001b[49m\u001b[38;5;241;43m=\u001b[39;49m\u001b[43m{\u001b[49m\u001b[38;5;124;43m\"\u001b[39;49m\u001b[38;5;124;43mscore\u001b[39;49m\u001b[38;5;124;43m\"\u001b[39;49m\u001b[43m:\u001b[49m\u001b[43m \u001b[49m\u001b[43mscorer\u001b[49m\u001b[43m}\u001b[49m\u001b[43m,\u001b[49m\n\u001b[1;32m    718\u001b[0m \u001b[43m    \u001b[49m\u001b[43mcv\u001b[49m\u001b[38;5;241;43m=\u001b[39;49m\u001b[43mcv\u001b[49m\u001b[43m,\u001b[49m\n\u001b[1;32m    719\u001b[0m \u001b[43m    \u001b[49m\u001b[43mn_jobs\u001b[49m\u001b[38;5;241;43m=\u001b[39;49m\u001b[43mn_jobs\u001b[49m\u001b[43m,\u001b[49m\n\u001b[1;32m    720\u001b[0m \u001b[43m    \u001b[49m\u001b[43mverbose\u001b[49m\u001b[38;5;241;43m=\u001b[39;49m\u001b[43mverbose\u001b[49m\u001b[43m,\u001b[49m\n\u001b[1;32m    721\u001b[0m \u001b[43m    \u001b[49m\u001b[43mfit_params\u001b[49m\u001b[38;5;241;43m=\u001b[39;49m\u001b[43mfit_params\u001b[49m\u001b[43m,\u001b[49m\n\u001b[1;32m    722\u001b[0m \u001b[43m    \u001b[49m\u001b[43mparams\u001b[49m\u001b[38;5;241;43m=\u001b[39;49m\u001b[43mparams\u001b[49m\u001b[43m,\u001b[49m\n\u001b[1;32m    723\u001b[0m \u001b[43m    \u001b[49m\u001b[43mpre_dispatch\u001b[49m\u001b[38;5;241;43m=\u001b[39;49m\u001b[43mpre_dispatch\u001b[49m\u001b[43m,\u001b[49m\n\u001b[1;32m    724\u001b[0m \u001b[43m    \u001b[49m\u001b[43merror_score\u001b[49m\u001b[38;5;241;43m=\u001b[39;49m\u001b[43merror_score\u001b[49m\u001b[43m,\u001b[49m\n\u001b[1;32m    725\u001b[0m \u001b[43m\u001b[49m\u001b[43m)\u001b[49m\n\u001b[1;32m    726\u001b[0m \u001b[38;5;28;01mreturn\u001b[39;00m cv_results[\u001b[38;5;124m\"\u001b[39m\u001b[38;5;124mtest_score\u001b[39m\u001b[38;5;124m\"\u001b[39m]\n",
      "File \u001b[0;32m~/Documents/1_Settings/anaconda3/envs/APEEG_D/lib/python3.9/site-packages/sklearn/utils/_param_validation.py:213\u001b[0m, in \u001b[0;36mvalidate_params.<locals>.decorator.<locals>.wrapper\u001b[0;34m(*args, **kwargs)\u001b[0m\n\u001b[1;32m    207\u001b[0m \u001b[38;5;28;01mtry\u001b[39;00m:\n\u001b[1;32m    208\u001b[0m     \u001b[38;5;28;01mwith\u001b[39;00m config_context(\n\u001b[1;32m    209\u001b[0m         skip_parameter_validation\u001b[38;5;241m=\u001b[39m(\n\u001b[1;32m    210\u001b[0m             prefer_skip_nested_validation \u001b[38;5;129;01mor\u001b[39;00m global_skip_validation\n\u001b[1;32m    211\u001b[0m         )\n\u001b[1;32m    212\u001b[0m     ):\n\u001b[0;32m--> 213\u001b[0m         \u001b[38;5;28;01mreturn\u001b[39;00m \u001b[43mfunc\u001b[49m\u001b[43m(\u001b[49m\u001b[38;5;241;43m*\u001b[39;49m\u001b[43margs\u001b[49m\u001b[43m,\u001b[49m\u001b[43m \u001b[49m\u001b[38;5;241;43m*\u001b[39;49m\u001b[38;5;241;43m*\u001b[39;49m\u001b[43mkwargs\u001b[49m\u001b[43m)\u001b[49m\n\u001b[1;32m    214\u001b[0m \u001b[38;5;28;01mexcept\u001b[39;00m InvalidParameterError \u001b[38;5;28;01mas\u001b[39;00m e:\n\u001b[1;32m    215\u001b[0m     \u001b[38;5;66;03m# When the function is just a wrapper around an estimator, we allow\u001b[39;00m\n\u001b[1;32m    216\u001b[0m     \u001b[38;5;66;03m# the function to delegate validation to the estimator, but we replace\u001b[39;00m\n\u001b[1;32m    217\u001b[0m     \u001b[38;5;66;03m# the name of the estimator by the name of the function in the error\u001b[39;00m\n\u001b[1;32m    218\u001b[0m     \u001b[38;5;66;03m# message to avoid confusion.\u001b[39;00m\n\u001b[1;32m    219\u001b[0m     msg \u001b[38;5;241m=\u001b[39m re\u001b[38;5;241m.\u001b[39msub(\n\u001b[1;32m    220\u001b[0m         \u001b[38;5;124mr\u001b[39m\u001b[38;5;124m\"\u001b[39m\u001b[38;5;124mparameter of \u001b[39m\u001b[38;5;124m\\\u001b[39m\u001b[38;5;124mw+ must be\u001b[39m\u001b[38;5;124m\"\u001b[39m,\n\u001b[1;32m    221\u001b[0m         \u001b[38;5;124mf\u001b[39m\u001b[38;5;124m\"\u001b[39m\u001b[38;5;124mparameter of \u001b[39m\u001b[38;5;132;01m{\u001b[39;00mfunc\u001b[38;5;241m.\u001b[39m\u001b[38;5;18m__qualname__\u001b[39m\u001b[38;5;132;01m}\u001b[39;00m\u001b[38;5;124m must be\u001b[39m\u001b[38;5;124m\"\u001b[39m,\n\u001b[1;32m    222\u001b[0m         \u001b[38;5;28mstr\u001b[39m(e),\n\u001b[1;32m    223\u001b[0m     )\n",
      "File \u001b[0;32m~/Documents/1_Settings/anaconda3/envs/APEEG_D/lib/python3.9/site-packages/sklearn/model_selection/_validation.py:423\u001b[0m, in \u001b[0;36mcross_validate\u001b[0;34m(estimator, X, y, groups, scoring, cv, n_jobs, verbose, fit_params, params, pre_dispatch, return_train_score, return_estimator, return_indices, error_score)\u001b[0m\n\u001b[1;32m    420\u001b[0m \u001b[38;5;66;03m# We clone the estimator to make sure that all the folds are\u001b[39;00m\n\u001b[1;32m    421\u001b[0m \u001b[38;5;66;03m# independent, and that it is pickle-able.\u001b[39;00m\n\u001b[1;32m    422\u001b[0m parallel \u001b[38;5;241m=\u001b[39m Parallel(n_jobs\u001b[38;5;241m=\u001b[39mn_jobs, verbose\u001b[38;5;241m=\u001b[39mverbose, pre_dispatch\u001b[38;5;241m=\u001b[39mpre_dispatch)\n\u001b[0;32m--> 423\u001b[0m results \u001b[38;5;241m=\u001b[39m \u001b[43mparallel\u001b[49m\u001b[43m(\u001b[49m\n\u001b[1;32m    424\u001b[0m \u001b[43m    \u001b[49m\u001b[43mdelayed\u001b[49m\u001b[43m(\u001b[49m\u001b[43m_fit_and_score\u001b[49m\u001b[43m)\u001b[49m\u001b[43m(\u001b[49m\n\u001b[1;32m    425\u001b[0m \u001b[43m        \u001b[49m\u001b[43mclone\u001b[49m\u001b[43m(\u001b[49m\u001b[43mestimator\u001b[49m\u001b[43m)\u001b[49m\u001b[43m,\u001b[49m\n\u001b[1;32m    426\u001b[0m \u001b[43m        \u001b[49m\u001b[43mX\u001b[49m\u001b[43m,\u001b[49m\n\u001b[1;32m    427\u001b[0m \u001b[43m        \u001b[49m\u001b[43my\u001b[49m\u001b[43m,\u001b[49m\n\u001b[1;32m    428\u001b[0m \u001b[43m        \u001b[49m\u001b[43mscorer\u001b[49m\u001b[38;5;241;43m=\u001b[39;49m\u001b[43mscorers\u001b[49m\u001b[43m,\u001b[49m\n\u001b[1;32m    429\u001b[0m \u001b[43m        \u001b[49m\u001b[43mtrain\u001b[49m\u001b[38;5;241;43m=\u001b[39;49m\u001b[43mtrain\u001b[49m\u001b[43m,\u001b[49m\n\u001b[1;32m    430\u001b[0m \u001b[43m        \u001b[49m\u001b[43mtest\u001b[49m\u001b[38;5;241;43m=\u001b[39;49m\u001b[43mtest\u001b[49m\u001b[43m,\u001b[49m\n\u001b[1;32m    431\u001b[0m \u001b[43m        \u001b[49m\u001b[43mverbose\u001b[49m\u001b[38;5;241;43m=\u001b[39;49m\u001b[43mverbose\u001b[49m\u001b[43m,\u001b[49m\n\u001b[1;32m    432\u001b[0m \u001b[43m        \u001b[49m\u001b[43mparameters\u001b[49m\u001b[38;5;241;43m=\u001b[39;49m\u001b[38;5;28;43;01mNone\u001b[39;49;00m\u001b[43m,\u001b[49m\n\u001b[1;32m    433\u001b[0m \u001b[43m        \u001b[49m\u001b[43mfit_params\u001b[49m\u001b[38;5;241;43m=\u001b[39;49m\u001b[43mrouted_params\u001b[49m\u001b[38;5;241;43m.\u001b[39;49m\u001b[43mestimator\u001b[49m\u001b[38;5;241;43m.\u001b[39;49m\u001b[43mfit\u001b[49m\u001b[43m,\u001b[49m\n\u001b[1;32m    434\u001b[0m \u001b[43m        \u001b[49m\u001b[43mscore_params\u001b[49m\u001b[38;5;241;43m=\u001b[39;49m\u001b[43mrouted_params\u001b[49m\u001b[38;5;241;43m.\u001b[39;49m\u001b[43mscorer\u001b[49m\u001b[38;5;241;43m.\u001b[39;49m\u001b[43mscore\u001b[49m\u001b[43m,\u001b[49m\n\u001b[1;32m    435\u001b[0m \u001b[43m        \u001b[49m\u001b[43mreturn_train_score\u001b[49m\u001b[38;5;241;43m=\u001b[39;49m\u001b[43mreturn_train_score\u001b[49m\u001b[43m,\u001b[49m\n\u001b[1;32m    436\u001b[0m \u001b[43m        \u001b[49m\u001b[43mreturn_times\u001b[49m\u001b[38;5;241;43m=\u001b[39;49m\u001b[38;5;28;43;01mTrue\u001b[39;49;00m\u001b[43m,\u001b[49m\n\u001b[1;32m    437\u001b[0m \u001b[43m        \u001b[49m\u001b[43mreturn_estimator\u001b[49m\u001b[38;5;241;43m=\u001b[39;49m\u001b[43mreturn_estimator\u001b[49m\u001b[43m,\u001b[49m\n\u001b[1;32m    438\u001b[0m \u001b[43m        \u001b[49m\u001b[43merror_score\u001b[49m\u001b[38;5;241;43m=\u001b[39;49m\u001b[43merror_score\u001b[49m\u001b[43m,\u001b[49m\n\u001b[1;32m    439\u001b[0m \u001b[43m    \u001b[49m\u001b[43m)\u001b[49m\n\u001b[1;32m    440\u001b[0m \u001b[43m    \u001b[49m\u001b[38;5;28;43;01mfor\u001b[39;49;00m\u001b[43m \u001b[49m\u001b[43mtrain\u001b[49m\u001b[43m,\u001b[49m\u001b[43m \u001b[49m\u001b[43mtest\u001b[49m\u001b[43m \u001b[49m\u001b[38;5;129;43;01min\u001b[39;49;00m\u001b[43m \u001b[49m\u001b[43mindices\u001b[49m\n\u001b[1;32m    441\u001b[0m \u001b[43m\u001b[49m\u001b[43m)\u001b[49m\n\u001b[1;32m    443\u001b[0m _warn_or_raise_about_fit_failures(results, error_score)\n\u001b[1;32m    445\u001b[0m \u001b[38;5;66;03m# For callable scoring, the return type is only know after calling. If the\u001b[39;00m\n\u001b[1;32m    446\u001b[0m \u001b[38;5;66;03m# return type is a dictionary, the error scores can now be inserted with\u001b[39;00m\n\u001b[1;32m    447\u001b[0m \u001b[38;5;66;03m# the correct key.\u001b[39;00m\n",
      "File \u001b[0;32m~/Documents/1_Settings/anaconda3/envs/APEEG_D/lib/python3.9/site-packages/sklearn/utils/parallel.py:74\u001b[0m, in \u001b[0;36mParallel.__call__\u001b[0;34m(self, iterable)\u001b[0m\n\u001b[1;32m     69\u001b[0m config \u001b[38;5;241m=\u001b[39m get_config()\n\u001b[1;32m     70\u001b[0m iterable_with_config \u001b[38;5;241m=\u001b[39m (\n\u001b[1;32m     71\u001b[0m     (_with_config(delayed_func, config), args, kwargs)\n\u001b[1;32m     72\u001b[0m     \u001b[38;5;28;01mfor\u001b[39;00m delayed_func, args, kwargs \u001b[38;5;129;01min\u001b[39;00m iterable\n\u001b[1;32m     73\u001b[0m )\n\u001b[0;32m---> 74\u001b[0m \u001b[38;5;28;01mreturn\u001b[39;00m \u001b[38;5;28;43msuper\u001b[39;49m\u001b[43m(\u001b[49m\u001b[43m)\u001b[49m\u001b[38;5;241;43m.\u001b[39;49m\u001b[38;5;21;43m__call__\u001b[39;49m\u001b[43m(\u001b[49m\u001b[43miterable_with_config\u001b[49m\u001b[43m)\u001b[49m\n",
      "File \u001b[0;32m~/Documents/1_Settings/anaconda3/envs/APEEG_D/lib/python3.9/site-packages/joblib/parallel.py:1918\u001b[0m, in \u001b[0;36mParallel.__call__\u001b[0;34m(self, iterable)\u001b[0m\n\u001b[1;32m   1916\u001b[0m     output \u001b[38;5;241m=\u001b[39m \u001b[38;5;28mself\u001b[39m\u001b[38;5;241m.\u001b[39m_get_sequential_output(iterable)\n\u001b[1;32m   1917\u001b[0m     \u001b[38;5;28mnext\u001b[39m(output)\n\u001b[0;32m-> 1918\u001b[0m     \u001b[38;5;28;01mreturn\u001b[39;00m output \u001b[38;5;28;01mif\u001b[39;00m \u001b[38;5;28mself\u001b[39m\u001b[38;5;241m.\u001b[39mreturn_generator \u001b[38;5;28;01melse\u001b[39;00m \u001b[38;5;28;43mlist\u001b[39;49m\u001b[43m(\u001b[49m\u001b[43moutput\u001b[49m\u001b[43m)\u001b[49m\n\u001b[1;32m   1920\u001b[0m \u001b[38;5;66;03m# Let's create an ID that uniquely identifies the current call. If the\u001b[39;00m\n\u001b[1;32m   1921\u001b[0m \u001b[38;5;66;03m# call is interrupted early and that the same instance is immediately\u001b[39;00m\n\u001b[1;32m   1922\u001b[0m \u001b[38;5;66;03m# re-used, this id will be used to prevent workers that were\u001b[39;00m\n\u001b[1;32m   1923\u001b[0m \u001b[38;5;66;03m# concurrently finalizing a task from the previous call to run the\u001b[39;00m\n\u001b[1;32m   1924\u001b[0m \u001b[38;5;66;03m# callback.\u001b[39;00m\n\u001b[1;32m   1925\u001b[0m \u001b[38;5;28;01mwith\u001b[39;00m \u001b[38;5;28mself\u001b[39m\u001b[38;5;241m.\u001b[39m_lock:\n",
      "File \u001b[0;32m~/Documents/1_Settings/anaconda3/envs/APEEG_D/lib/python3.9/site-packages/joblib/parallel.py:1847\u001b[0m, in \u001b[0;36mParallel._get_sequential_output\u001b[0;34m(self, iterable)\u001b[0m\n\u001b[1;32m   1845\u001b[0m \u001b[38;5;28mself\u001b[39m\u001b[38;5;241m.\u001b[39mn_dispatched_batches \u001b[38;5;241m+\u001b[39m\u001b[38;5;241m=\u001b[39m \u001b[38;5;241m1\u001b[39m\n\u001b[1;32m   1846\u001b[0m \u001b[38;5;28mself\u001b[39m\u001b[38;5;241m.\u001b[39mn_dispatched_tasks \u001b[38;5;241m+\u001b[39m\u001b[38;5;241m=\u001b[39m \u001b[38;5;241m1\u001b[39m\n\u001b[0;32m-> 1847\u001b[0m res \u001b[38;5;241m=\u001b[39m \u001b[43mfunc\u001b[49m\u001b[43m(\u001b[49m\u001b[38;5;241;43m*\u001b[39;49m\u001b[43margs\u001b[49m\u001b[43m,\u001b[49m\u001b[43m \u001b[49m\u001b[38;5;241;43m*\u001b[39;49m\u001b[38;5;241;43m*\u001b[39;49m\u001b[43mkwargs\u001b[49m\u001b[43m)\u001b[49m\n\u001b[1;32m   1848\u001b[0m \u001b[38;5;28mself\u001b[39m\u001b[38;5;241m.\u001b[39mn_completed_tasks \u001b[38;5;241m+\u001b[39m\u001b[38;5;241m=\u001b[39m \u001b[38;5;241m1\u001b[39m\n\u001b[1;32m   1849\u001b[0m \u001b[38;5;28mself\u001b[39m\u001b[38;5;241m.\u001b[39mprint_progress()\n",
      "File \u001b[0;32m~/Documents/1_Settings/anaconda3/envs/APEEG_D/lib/python3.9/site-packages/sklearn/utils/parallel.py:136\u001b[0m, in \u001b[0;36m_FuncWrapper.__call__\u001b[0;34m(self, *args, **kwargs)\u001b[0m\n\u001b[1;32m    134\u001b[0m     config \u001b[38;5;241m=\u001b[39m {}\n\u001b[1;32m    135\u001b[0m \u001b[38;5;28;01mwith\u001b[39;00m config_context(\u001b[38;5;241m*\u001b[39m\u001b[38;5;241m*\u001b[39mconfig):\n\u001b[0;32m--> 136\u001b[0m     \u001b[38;5;28;01mreturn\u001b[39;00m \u001b[38;5;28;43mself\u001b[39;49m\u001b[38;5;241;43m.\u001b[39;49m\u001b[43mfunction\u001b[49m\u001b[43m(\u001b[49m\u001b[38;5;241;43m*\u001b[39;49m\u001b[43margs\u001b[49m\u001b[43m,\u001b[49m\u001b[43m \u001b[49m\u001b[38;5;241;43m*\u001b[39;49m\u001b[38;5;241;43m*\u001b[39;49m\u001b[43mkwargs\u001b[49m\u001b[43m)\u001b[49m\n",
      "File \u001b[0;32m~/Documents/1_Settings/anaconda3/envs/APEEG_D/lib/python3.9/site-packages/sklearn/model_selection/_validation.py:888\u001b[0m, in \u001b[0;36m_fit_and_score\u001b[0;34m(estimator, X, y, scorer, train, test, verbose, parameters, fit_params, score_params, return_train_score, return_parameters, return_n_test_samples, return_times, return_estimator, split_progress, candidate_progress, error_score)\u001b[0m\n\u001b[1;32m    886\u001b[0m         estimator\u001b[38;5;241m.\u001b[39mfit(X_train, \u001b[38;5;241m*\u001b[39m\u001b[38;5;241m*\u001b[39mfit_params)\n\u001b[1;32m    887\u001b[0m     \u001b[38;5;28;01melse\u001b[39;00m:\n\u001b[0;32m--> 888\u001b[0m         \u001b[43mestimator\u001b[49m\u001b[38;5;241;43m.\u001b[39;49m\u001b[43mfit\u001b[49m\u001b[43m(\u001b[49m\u001b[43mX_train\u001b[49m\u001b[43m,\u001b[49m\u001b[43m \u001b[49m\u001b[43my_train\u001b[49m\u001b[43m,\u001b[49m\u001b[43m \u001b[49m\u001b[38;5;241;43m*\u001b[39;49m\u001b[38;5;241;43m*\u001b[39;49m\u001b[43mfit_params\u001b[49m\u001b[43m)\u001b[49m\n\u001b[1;32m    890\u001b[0m \u001b[38;5;28;01mexcept\u001b[39;00m \u001b[38;5;167;01mException\u001b[39;00m:\n\u001b[1;32m    891\u001b[0m     \u001b[38;5;66;03m# Note fit time as time until error\u001b[39;00m\n\u001b[1;32m    892\u001b[0m     fit_time \u001b[38;5;241m=\u001b[39m time\u001b[38;5;241m.\u001b[39mtime() \u001b[38;5;241m-\u001b[39m start_time\n",
      "File \u001b[0;32m~/Documents/1_Settings/anaconda3/envs/APEEG_D/lib/python3.9/site-packages/sklearn/base.py:1473\u001b[0m, in \u001b[0;36m_fit_context.<locals>.decorator.<locals>.wrapper\u001b[0;34m(estimator, *args, **kwargs)\u001b[0m\n\u001b[1;32m   1466\u001b[0m     estimator\u001b[38;5;241m.\u001b[39m_validate_params()\n\u001b[1;32m   1468\u001b[0m \u001b[38;5;28;01mwith\u001b[39;00m config_context(\n\u001b[1;32m   1469\u001b[0m     skip_parameter_validation\u001b[38;5;241m=\u001b[39m(\n\u001b[1;32m   1470\u001b[0m         prefer_skip_nested_validation \u001b[38;5;129;01mor\u001b[39;00m global_skip_validation\n\u001b[1;32m   1471\u001b[0m     )\n\u001b[1;32m   1472\u001b[0m ):\n\u001b[0;32m-> 1473\u001b[0m     \u001b[38;5;28;01mreturn\u001b[39;00m \u001b[43mfit_method\u001b[49m\u001b[43m(\u001b[49m\u001b[43mestimator\u001b[49m\u001b[43m,\u001b[49m\u001b[43m \u001b[49m\u001b[38;5;241;43m*\u001b[39;49m\u001b[43margs\u001b[49m\u001b[43m,\u001b[49m\u001b[43m \u001b[49m\u001b[38;5;241;43m*\u001b[39;49m\u001b[38;5;241;43m*\u001b[39;49m\u001b[43mkwargs\u001b[49m\u001b[43m)\u001b[49m\n",
      "File \u001b[0;32m~/Documents/1_Settings/anaconda3/envs/APEEG_D/lib/python3.9/site-packages/sklearn/ensemble/_forest.py:489\u001b[0m, in \u001b[0;36mBaseForest.fit\u001b[0;34m(self, X, y, sample_weight)\u001b[0m\n\u001b[1;32m    478\u001b[0m trees \u001b[38;5;241m=\u001b[39m [\n\u001b[1;32m    479\u001b[0m     \u001b[38;5;28mself\u001b[39m\u001b[38;5;241m.\u001b[39m_make_estimator(append\u001b[38;5;241m=\u001b[39m\u001b[38;5;28;01mFalse\u001b[39;00m, random_state\u001b[38;5;241m=\u001b[39mrandom_state)\n\u001b[1;32m    480\u001b[0m     \u001b[38;5;28;01mfor\u001b[39;00m i \u001b[38;5;129;01min\u001b[39;00m \u001b[38;5;28mrange\u001b[39m(n_more_estimators)\n\u001b[1;32m    481\u001b[0m ]\n\u001b[1;32m    483\u001b[0m \u001b[38;5;66;03m# Parallel loop: we prefer the threading backend as the Cython code\u001b[39;00m\n\u001b[1;32m    484\u001b[0m \u001b[38;5;66;03m# for fitting the trees is internally releasing the Python GIL\u001b[39;00m\n\u001b[1;32m    485\u001b[0m \u001b[38;5;66;03m# making threading more efficient than multiprocessing in\u001b[39;00m\n\u001b[1;32m    486\u001b[0m \u001b[38;5;66;03m# that case. However, for joblib 0.12+ we respect any\u001b[39;00m\n\u001b[1;32m    487\u001b[0m \u001b[38;5;66;03m# parallel_backend contexts set at a higher level,\u001b[39;00m\n\u001b[1;32m    488\u001b[0m \u001b[38;5;66;03m# since correctness does not rely on using threads.\u001b[39;00m\n\u001b[0;32m--> 489\u001b[0m trees \u001b[38;5;241m=\u001b[39m \u001b[43mParallel\u001b[49m\u001b[43m(\u001b[49m\n\u001b[1;32m    490\u001b[0m \u001b[43m    \u001b[49m\u001b[43mn_jobs\u001b[49m\u001b[38;5;241;43m=\u001b[39;49m\u001b[38;5;28;43mself\u001b[39;49m\u001b[38;5;241;43m.\u001b[39;49m\u001b[43mn_jobs\u001b[49m\u001b[43m,\u001b[49m\n\u001b[1;32m    491\u001b[0m \u001b[43m    \u001b[49m\u001b[43mverbose\u001b[49m\u001b[38;5;241;43m=\u001b[39;49m\u001b[38;5;28;43mself\u001b[39;49m\u001b[38;5;241;43m.\u001b[39;49m\u001b[43mverbose\u001b[49m\u001b[43m,\u001b[49m\n\u001b[1;32m    492\u001b[0m \u001b[43m    \u001b[49m\u001b[43mprefer\u001b[49m\u001b[38;5;241;43m=\u001b[39;49m\u001b[38;5;124;43m\"\u001b[39;49m\u001b[38;5;124;43mthreads\u001b[39;49m\u001b[38;5;124;43m\"\u001b[39;49m\u001b[43m,\u001b[49m\n\u001b[1;32m    493\u001b[0m \u001b[43m\u001b[49m\u001b[43m)\u001b[49m\u001b[43m(\u001b[49m\n\u001b[1;32m    494\u001b[0m \u001b[43m    \u001b[49m\u001b[43mdelayed\u001b[49m\u001b[43m(\u001b[49m\u001b[43m_parallel_build_trees\u001b[49m\u001b[43m)\u001b[49m\u001b[43m(\u001b[49m\n\u001b[1;32m    495\u001b[0m \u001b[43m        \u001b[49m\u001b[43mt\u001b[49m\u001b[43m,\u001b[49m\n\u001b[1;32m    496\u001b[0m \u001b[43m        \u001b[49m\u001b[38;5;28;43mself\u001b[39;49m\u001b[38;5;241;43m.\u001b[39;49m\u001b[43mbootstrap\u001b[49m\u001b[43m,\u001b[49m\n\u001b[1;32m    497\u001b[0m \u001b[43m        \u001b[49m\u001b[43mX\u001b[49m\u001b[43m,\u001b[49m\n\u001b[1;32m    498\u001b[0m \u001b[43m        \u001b[49m\u001b[43my\u001b[49m\u001b[43m,\u001b[49m\n\u001b[1;32m    499\u001b[0m \u001b[43m        \u001b[49m\u001b[43msample_weight\u001b[49m\u001b[43m,\u001b[49m\n\u001b[1;32m    500\u001b[0m \u001b[43m        \u001b[49m\u001b[43mi\u001b[49m\u001b[43m,\u001b[49m\n\u001b[1;32m    501\u001b[0m \u001b[43m        \u001b[49m\u001b[38;5;28;43mlen\u001b[39;49m\u001b[43m(\u001b[49m\u001b[43mtrees\u001b[49m\u001b[43m)\u001b[49m\u001b[43m,\u001b[49m\n\u001b[1;32m    502\u001b[0m \u001b[43m        \u001b[49m\u001b[43mverbose\u001b[49m\u001b[38;5;241;43m=\u001b[39;49m\u001b[38;5;28;43mself\u001b[39;49m\u001b[38;5;241;43m.\u001b[39;49m\u001b[43mverbose\u001b[49m\u001b[43m,\u001b[49m\n\u001b[1;32m    503\u001b[0m \u001b[43m        \u001b[49m\u001b[43mclass_weight\u001b[49m\u001b[38;5;241;43m=\u001b[39;49m\u001b[38;5;28;43mself\u001b[39;49m\u001b[38;5;241;43m.\u001b[39;49m\u001b[43mclass_weight\u001b[49m\u001b[43m,\u001b[49m\n\u001b[1;32m    504\u001b[0m \u001b[43m        \u001b[49m\u001b[43mn_samples_bootstrap\u001b[49m\u001b[38;5;241;43m=\u001b[39;49m\u001b[43mn_samples_bootstrap\u001b[49m\u001b[43m,\u001b[49m\n\u001b[1;32m    505\u001b[0m \u001b[43m        \u001b[49m\u001b[43mmissing_values_in_feature_mask\u001b[49m\u001b[38;5;241;43m=\u001b[39;49m\u001b[43mmissing_values_in_feature_mask\u001b[49m\u001b[43m,\u001b[49m\n\u001b[1;32m    506\u001b[0m \u001b[43m    \u001b[49m\u001b[43m)\u001b[49m\n\u001b[1;32m    507\u001b[0m \u001b[43m    \u001b[49m\u001b[38;5;28;43;01mfor\u001b[39;49;00m\u001b[43m \u001b[49m\u001b[43mi\u001b[49m\u001b[43m,\u001b[49m\u001b[43m \u001b[49m\u001b[43mt\u001b[49m\u001b[43m \u001b[49m\u001b[38;5;129;43;01min\u001b[39;49;00m\u001b[43m \u001b[49m\u001b[38;5;28;43menumerate\u001b[39;49m\u001b[43m(\u001b[49m\u001b[43mtrees\u001b[49m\u001b[43m)\u001b[49m\n\u001b[1;32m    508\u001b[0m \u001b[43m\u001b[49m\u001b[43m)\u001b[49m\n\u001b[1;32m    510\u001b[0m \u001b[38;5;66;03m# Collect newly grown trees\u001b[39;00m\n\u001b[1;32m    511\u001b[0m \u001b[38;5;28mself\u001b[39m\u001b[38;5;241m.\u001b[39mestimators_\u001b[38;5;241m.\u001b[39mextend(trees)\n",
      "File \u001b[0;32m~/Documents/1_Settings/anaconda3/envs/APEEG_D/lib/python3.9/site-packages/sklearn/utils/parallel.py:74\u001b[0m, in \u001b[0;36mParallel.__call__\u001b[0;34m(self, iterable)\u001b[0m\n\u001b[1;32m     69\u001b[0m config \u001b[38;5;241m=\u001b[39m get_config()\n\u001b[1;32m     70\u001b[0m iterable_with_config \u001b[38;5;241m=\u001b[39m (\n\u001b[1;32m     71\u001b[0m     (_with_config(delayed_func, config), args, kwargs)\n\u001b[1;32m     72\u001b[0m     \u001b[38;5;28;01mfor\u001b[39;00m delayed_func, args, kwargs \u001b[38;5;129;01min\u001b[39;00m iterable\n\u001b[1;32m     73\u001b[0m )\n\u001b[0;32m---> 74\u001b[0m \u001b[38;5;28;01mreturn\u001b[39;00m \u001b[38;5;28;43msuper\u001b[39;49m\u001b[43m(\u001b[49m\u001b[43m)\u001b[49m\u001b[38;5;241;43m.\u001b[39;49m\u001b[38;5;21;43m__call__\u001b[39;49m\u001b[43m(\u001b[49m\u001b[43miterable_with_config\u001b[49m\u001b[43m)\u001b[49m\n",
      "File \u001b[0;32m~/Documents/1_Settings/anaconda3/envs/APEEG_D/lib/python3.9/site-packages/joblib/parallel.py:1918\u001b[0m, in \u001b[0;36mParallel.__call__\u001b[0;34m(self, iterable)\u001b[0m\n\u001b[1;32m   1916\u001b[0m     output \u001b[38;5;241m=\u001b[39m \u001b[38;5;28mself\u001b[39m\u001b[38;5;241m.\u001b[39m_get_sequential_output(iterable)\n\u001b[1;32m   1917\u001b[0m     \u001b[38;5;28mnext\u001b[39m(output)\n\u001b[0;32m-> 1918\u001b[0m     \u001b[38;5;28;01mreturn\u001b[39;00m output \u001b[38;5;28;01mif\u001b[39;00m \u001b[38;5;28mself\u001b[39m\u001b[38;5;241m.\u001b[39mreturn_generator \u001b[38;5;28;01melse\u001b[39;00m \u001b[38;5;28;43mlist\u001b[39;49m\u001b[43m(\u001b[49m\u001b[43moutput\u001b[49m\u001b[43m)\u001b[49m\n\u001b[1;32m   1920\u001b[0m \u001b[38;5;66;03m# Let's create an ID that uniquely identifies the current call. If the\u001b[39;00m\n\u001b[1;32m   1921\u001b[0m \u001b[38;5;66;03m# call is interrupted early and that the same instance is immediately\u001b[39;00m\n\u001b[1;32m   1922\u001b[0m \u001b[38;5;66;03m# re-used, this id will be used to prevent workers that were\u001b[39;00m\n\u001b[1;32m   1923\u001b[0m \u001b[38;5;66;03m# concurrently finalizing a task from the previous call to run the\u001b[39;00m\n\u001b[1;32m   1924\u001b[0m \u001b[38;5;66;03m# callback.\u001b[39;00m\n\u001b[1;32m   1925\u001b[0m \u001b[38;5;28;01mwith\u001b[39;00m \u001b[38;5;28mself\u001b[39m\u001b[38;5;241m.\u001b[39m_lock:\n",
      "File \u001b[0;32m~/Documents/1_Settings/anaconda3/envs/APEEG_D/lib/python3.9/site-packages/joblib/parallel.py:1847\u001b[0m, in \u001b[0;36mParallel._get_sequential_output\u001b[0;34m(self, iterable)\u001b[0m\n\u001b[1;32m   1845\u001b[0m \u001b[38;5;28mself\u001b[39m\u001b[38;5;241m.\u001b[39mn_dispatched_batches \u001b[38;5;241m+\u001b[39m\u001b[38;5;241m=\u001b[39m \u001b[38;5;241m1\u001b[39m\n\u001b[1;32m   1846\u001b[0m \u001b[38;5;28mself\u001b[39m\u001b[38;5;241m.\u001b[39mn_dispatched_tasks \u001b[38;5;241m+\u001b[39m\u001b[38;5;241m=\u001b[39m \u001b[38;5;241m1\u001b[39m\n\u001b[0;32m-> 1847\u001b[0m res \u001b[38;5;241m=\u001b[39m \u001b[43mfunc\u001b[49m\u001b[43m(\u001b[49m\u001b[38;5;241;43m*\u001b[39;49m\u001b[43margs\u001b[49m\u001b[43m,\u001b[49m\u001b[43m \u001b[49m\u001b[38;5;241;43m*\u001b[39;49m\u001b[38;5;241;43m*\u001b[39;49m\u001b[43mkwargs\u001b[49m\u001b[43m)\u001b[49m\n\u001b[1;32m   1848\u001b[0m \u001b[38;5;28mself\u001b[39m\u001b[38;5;241m.\u001b[39mn_completed_tasks \u001b[38;5;241m+\u001b[39m\u001b[38;5;241m=\u001b[39m \u001b[38;5;241m1\u001b[39m\n\u001b[1;32m   1849\u001b[0m \u001b[38;5;28mself\u001b[39m\u001b[38;5;241m.\u001b[39mprint_progress()\n",
      "File \u001b[0;32m~/Documents/1_Settings/anaconda3/envs/APEEG_D/lib/python3.9/site-packages/sklearn/utils/parallel.py:136\u001b[0m, in \u001b[0;36m_FuncWrapper.__call__\u001b[0;34m(self, *args, **kwargs)\u001b[0m\n\u001b[1;32m    134\u001b[0m     config \u001b[38;5;241m=\u001b[39m {}\n\u001b[1;32m    135\u001b[0m \u001b[38;5;28;01mwith\u001b[39;00m config_context(\u001b[38;5;241m*\u001b[39m\u001b[38;5;241m*\u001b[39mconfig):\n\u001b[0;32m--> 136\u001b[0m     \u001b[38;5;28;01mreturn\u001b[39;00m \u001b[38;5;28;43mself\u001b[39;49m\u001b[38;5;241;43m.\u001b[39;49m\u001b[43mfunction\u001b[49m\u001b[43m(\u001b[49m\u001b[38;5;241;43m*\u001b[39;49m\u001b[43margs\u001b[49m\u001b[43m,\u001b[49m\u001b[43m \u001b[49m\u001b[38;5;241;43m*\u001b[39;49m\u001b[38;5;241;43m*\u001b[39;49m\u001b[43mkwargs\u001b[49m\u001b[43m)\u001b[49m\n",
      "File \u001b[0;32m~/Documents/1_Settings/anaconda3/envs/APEEG_D/lib/python3.9/site-packages/sklearn/ensemble/_forest.py:179\u001b[0m, in \u001b[0;36m_parallel_build_trees\u001b[0;34m(tree, bootstrap, X, y, sample_weight, tree_idx, n_trees, verbose, class_weight, n_samples_bootstrap, missing_values_in_feature_mask)\u001b[0m\n\u001b[1;32m    176\u001b[0m \u001b[38;5;28;01melse\u001b[39;00m:\n\u001b[1;32m    177\u001b[0m     curr_sample_weight \u001b[38;5;241m=\u001b[39m sample_weight\u001b[38;5;241m.\u001b[39mcopy()\n\u001b[0;32m--> 179\u001b[0m indices \u001b[38;5;241m=\u001b[39m \u001b[43m_generate_sample_indices\u001b[49m\u001b[43m(\u001b[49m\n\u001b[1;32m    180\u001b[0m \u001b[43m    \u001b[49m\u001b[43mtree\u001b[49m\u001b[38;5;241;43m.\u001b[39;49m\u001b[43mrandom_state\u001b[49m\u001b[43m,\u001b[49m\u001b[43m \u001b[49m\u001b[43mn_samples\u001b[49m\u001b[43m,\u001b[49m\u001b[43m \u001b[49m\u001b[43mn_samples_bootstrap\u001b[49m\n\u001b[1;32m    181\u001b[0m \u001b[43m\u001b[49m\u001b[43m)\u001b[49m\n\u001b[1;32m    182\u001b[0m sample_counts \u001b[38;5;241m=\u001b[39m np\u001b[38;5;241m.\u001b[39mbincount(indices, minlength\u001b[38;5;241m=\u001b[39mn_samples)\n\u001b[1;32m    183\u001b[0m curr_sample_weight \u001b[38;5;241m*\u001b[39m\u001b[38;5;241m=\u001b[39m sample_counts\n",
      "File \u001b[0;32m~/Documents/1_Settings/anaconda3/envs/APEEG_D/lib/python3.9/site-packages/sklearn/ensemble/_forest.py:132\u001b[0m, in \u001b[0;36m_generate_sample_indices\u001b[0;34m(random_state, n_samples, n_samples_bootstrap)\u001b[0m\n\u001b[1;32m    128\u001b[0m \u001b[38;5;28;01mdef\u001b[39;00m \u001b[38;5;21m_generate_sample_indices\u001b[39m(random_state, n_samples, n_samples_bootstrap):\n\u001b[1;32m    129\u001b[0m \u001b[38;5;250m    \u001b[39m\u001b[38;5;124;03m\"\"\"\u001b[39;00m\n\u001b[1;32m    130\u001b[0m \u001b[38;5;124;03m    Private function used to _parallel_build_trees function.\"\"\"\u001b[39;00m\n\u001b[0;32m--> 132\u001b[0m     random_instance \u001b[38;5;241m=\u001b[39m \u001b[43mcheck_random_state\u001b[49m\u001b[43m(\u001b[49m\u001b[43mrandom_state\u001b[49m\u001b[43m)\u001b[49m\n\u001b[1;32m    133\u001b[0m     sample_indices \u001b[38;5;241m=\u001b[39m random_instance\u001b[38;5;241m.\u001b[39mrandint(\n\u001b[1;32m    134\u001b[0m         \u001b[38;5;241m0\u001b[39m, n_samples, n_samples_bootstrap, dtype\u001b[38;5;241m=\u001b[39mnp\u001b[38;5;241m.\u001b[39mint32\n\u001b[1;32m    135\u001b[0m     )\n\u001b[1;32m    137\u001b[0m     \u001b[38;5;28;01mreturn\u001b[39;00m sample_indices\n",
      "File \u001b[0;32m~/Documents/1_Settings/anaconda3/envs/APEEG_D/lib/python3.9/site-packages/sklearn/utils/validation.py:1436\u001b[0m, in \u001b[0;36mcheck_random_state\u001b[0;34m(seed)\u001b[0m\n\u001b[1;32m   1434\u001b[0m     \u001b[38;5;28;01mreturn\u001b[39;00m np\u001b[38;5;241m.\u001b[39mrandom\u001b[38;5;241m.\u001b[39mmtrand\u001b[38;5;241m.\u001b[39m_rand\n\u001b[1;32m   1435\u001b[0m \u001b[38;5;28;01mif\u001b[39;00m \u001b[38;5;28misinstance\u001b[39m(seed, numbers\u001b[38;5;241m.\u001b[39mIntegral):\n\u001b[0;32m-> 1436\u001b[0m     \u001b[38;5;28;01mreturn\u001b[39;00m \u001b[43mnp\u001b[49m\u001b[38;5;241;43m.\u001b[39;49m\u001b[43mrandom\u001b[49m\u001b[38;5;241;43m.\u001b[39;49m\u001b[43mRandomState\u001b[49m\u001b[43m(\u001b[49m\u001b[43mseed\u001b[49m\u001b[43m)\u001b[49m\n\u001b[1;32m   1437\u001b[0m \u001b[38;5;28;01mif\u001b[39;00m \u001b[38;5;28misinstance\u001b[39m(seed, np\u001b[38;5;241m.\u001b[39mrandom\u001b[38;5;241m.\u001b[39mRandomState):\n\u001b[1;32m   1438\u001b[0m     \u001b[38;5;28;01mreturn\u001b[39;00m seed\n",
      "File \u001b[0;32mnumpy/random/mtrand.pyx:185\u001b[0m, in \u001b[0;36mnumpy.random.mtrand.RandomState.__init__\u001b[0;34m()\u001b[0m\n",
      "File \u001b[0;32m_mt19937.pyx:132\u001b[0m, in \u001b[0;36mnumpy.random._mt19937.MT19937.__init__\u001b[0;34m()\u001b[0m\n",
      "File \u001b[0;32m~/Documents/1_Settings/anaconda3/envs/APEEG_D/lib/python3.9/site-packages/numpy/_core/_ufunc_config.py:449\u001b[0m, in \u001b[0;36merrstate.__call__.<locals>.inner\u001b[0;34m(*args, **kwargs)\u001b[0m\n\u001b[1;32m    446\u001b[0m _token \u001b[38;5;241m=\u001b[39m _extobj_contextvar\u001b[38;5;241m.\u001b[39mset(extobj)\n\u001b[1;32m    447\u001b[0m \u001b[38;5;28;01mtry\u001b[39;00m:\n\u001b[1;32m    448\u001b[0m     \u001b[38;5;66;03m# Call the original, decorated, function:\u001b[39;00m\n\u001b[0;32m--> 449\u001b[0m     \u001b[38;5;28;01mreturn\u001b[39;00m \u001b[43mfunc\u001b[49m\u001b[43m(\u001b[49m\u001b[38;5;241;43m*\u001b[39;49m\u001b[43margs\u001b[49m\u001b[43m,\u001b[49m\u001b[43m \u001b[49m\u001b[38;5;241;43m*\u001b[39;49m\u001b[38;5;241;43m*\u001b[39;49m\u001b[43mkwargs\u001b[49m\u001b[43m)\u001b[49m\n\u001b[1;32m    450\u001b[0m \u001b[38;5;28;01mfinally\u001b[39;00m:\n\u001b[1;32m    451\u001b[0m     _extobj_contextvar\u001b[38;5;241m.\u001b[39mreset(_token)\n",
      "\u001b[0;31mKeyboardInterrupt\u001b[0m: "
     ]
    }
   ],
   "source": [
    "import numpy as np\n",
    "import scipy.io\n",
    "import optuna\n",
    "from optuna.samplers import TPESampler\n",
    "from sklearn.ensemble import RandomForestClassifier\n",
    "from sklearn.model_selection import StratifiedKFold, cross_val_score, train_test_split\n",
    "from sklearn.metrics import accuracy_score\n",
    "\n",
    "# Khởi tạo ma trận lưu trữ độ chính xác\n",
    "accuracies_multiple = np.zeros((30, 4))  # Thay đổi kích thước ma trận để lưu thêm thông tin\n",
    "\n",
    "def objective(trial, X_train, y_train, num_folds):\n",
    "    n_estimators = trial.suggest_categorical('n_estimators', [10, 50, 100, 200])\n",
    "    max_depth = trial.suggest_categorical('max_depth', [None, 10, 20, 30])\n",
    "    min_samples_split = trial.suggest_categorical('min_samples_split', [5, 10])\n",
    "    min_samples_leaf = trial.suggest_categorical('min_samples_leaf', [4,5,10])\n",
    "    \n",
    "    model = RandomForestClassifier(\n",
    "        n_estimators=n_estimators,\n",
    "        max_depth=max_depth,\n",
    "        min_samples_split=min_samples_split,\n",
    "        min_samples_leaf=min_samples_leaf,\n",
    "        random_state=42\n",
    "    )\n",
    "    \n",
    "    # Use StratifiedKFold for cross-validation\n",
    "    stratified_kfold = StratifiedKFold(n_splits=num_folds, shuffle=True, random_state=42)\n",
    "    cv_scores = cross_val_score(model, X_train, y_train, cv=stratified_kfold)\n",
    "    \n",
    "    # Return the negative of mean accuracy because Optuna minimizes the objective function\n",
    "    return -cv_scores.mean()\n",
    "\n",
    "for i in range(1, 2):  # điều chỉnh số lần lặp nếu cần\n",
    "    # Tải dữ liệu từ file .mat\n",
    "    X_mat = scipy.io.loadmat(X_path)\n",
    "    X = X_mat['featuresX']\n",
    "    X = X[i-1, :, 1:5]\n",
    "    \n",
    "    y = y\n",
    "\n",
    "    # Tạo tập huấn luyện và tập kiểm tra\n",
    "    X_train, X_test, y_train, y_test = train_test_split(X, y, test_size=0.3, random_state=42)\n",
    "\n",
    "    # Khai báo số lần gập và số vòng lặp\n",
    "    num_folds = 10\n",
    "    numLoop = 100\n",
    "\n",
    "    mean_array = np.empty((numLoop, 1))\n",
    "    print(\"Random Forest\")\n",
    "\n",
    "    for state in range(1, numLoop + 1):\n",
    "        # Define Optuna study\n",
    "        study = optuna.create_study(sampler=TPESampler(), direction='minimize')\n",
    "        study.optimize(lambda trial: objective(trial, X_train, y_train, num_folds), n_trials=20)  # Adjust n_trials as needed\n",
    "        \n",
    "        # Get the best parameters\n",
    "        best_params = study.best_params\n",
    "        best_model = RandomForestClassifier(\n",
    "            n_estimators=best_params['n_estimators'],\n",
    "            max_depth=best_params['max_depth'],\n",
    "            min_samples_split=best_params['min_samples_split'],\n",
    "            min_samples_leaf=best_params['min_samples_leaf'],\n",
    "            random_state=42\n",
    "        )\n",
    "        \n",
    "        # Perform cross-validation with the best model\n",
    "        stratified_kfold = StratifiedKFold(n_splits=num_folds, shuffle=True, random_state=state)\n",
    "        cv_scores = cross_val_score(best_model, X_train, y_train, cv=stratified_kfold)\n",
    "\n",
    "        # Calculate mean accuracy across all folds\n",
    "        mean_accuracy = cv_scores.mean()\n",
    "        mean_array[state - 1] = mean_accuracy \n",
    "\n",
    "        \n",
    "        # Huấn luyện mô hình trên tập huấn luyện\n",
    "        best_model.fit(X_train, y_train)\n",
    "        \n",
    "        # Dự đoán trên tập huấn luyện và tập kiểm tra\n",
    "        y_train_pred = best_model.predict(X_train)\n",
    "        y_test_pred = best_model.predict(X_test)\n",
    "\n",
    "        # Tính toán độ chính xác trên tập huấn luyện và tập kiểm tra\n",
    "        train_accuracy = accuracy_score(y_train, y_train_pred)\n",
    "        test_accuracy = accuracy_score(y_test, y_test_pred)\n",
    "        \n",
    "        train_accuracies = train_accuracy\n",
    "        test_accuracies = test_accuracy\n",
    "\n",
    "        # Độ chính xác qua tất cả các vòng lặp\n",
    "        mean_accuracies_loop = np.mean(mean_array)\n",
    "        std_accuracies_loop = np.std(mean_array)\n",
    "        mean_train_accuracy = np.mean(train_accuracies)\n",
    "        std_train_accuracy = np.std(train_accuracies)\n",
    "        mean_test_accuracy = np.mean(test_accuracies)\n",
    "        std_test_accuracy = np.std(test_accuracies)\n",
    "\n",
    "        accuracies_multiple[i - 1, :] = [mean_accuracies_loop, std_accuracies_loop, mean_train_accuracy, mean_test_accuracy]\n",
    "        \n",
    "        print(f\"Mean Accuracy (Cross-Validation): {mean_accuracies_loop:.3f} ± {std_accuracies_loop:.3f}\")\n",
    "        print(f\"Mean Train Accuracy: {mean_train_accuracy:.3f} ± {std_train_accuracy:.3f}\")\n",
    "        print(f\"Mean Test Accuracy: {mean_test_accuracy:.3f} ± {std_test_accuracy:.3f}\")\n"
   ]
  },
  {
   "cell_type": "code",
   "execution_count": 26,
   "id": "61501fe1",
   "metadata": {},
   "outputs": [
    {
     "data": {
      "text/plain": [
       "array([[0.5342, 0.0266, 0.9717, 0.6326],\n",
       "       [0.548 , 0.0235, 0.8601, 0.6151],\n",
       "       [0.5513, 0.0253, 0.8377, 0.6175],\n",
       "       [0.5476, 0.025 , 0.9181, 0.6211],\n",
       "       [0.5688, 0.0193, 0.9083, 0.6425],\n",
       "       [0.5664, 0.0229, 0.8349, 0.542 ],\n",
       "       [0.5809, 0.0192, 0.87  , 0.619 ],\n",
       "       [0.5709, 0.023 , 0.865 , 0.6225],\n",
       "       [0.5972, 0.0206, 0.9026, 0.644 ],\n",
       "       [0.5419, 0.0251, 0.869 , 0.6055],\n",
       "       [0.5609, 0.0187, 0.919 , 0.6144],\n",
       "       [0.5401, 0.0254, 0.8233, 0.6065],\n",
       "       [0.5855, 0.0271, 0.9309, 0.6085],\n",
       "       [0.5789, 0.021 , 0.9026, 0.5955],\n",
       "       [0.5549, 0.024 , 0.9142, 0.6043],\n",
       "       [0.5618, 0.0242, 0.9185, 0.6259],\n",
       "       [0.5519, 0.0234, 0.9496, 0.5882],\n",
       "       [0.5467, 0.0247, 0.9272, 0.5713],\n",
       "       [0.5744, 0.0263, 0.9709, 0.5767],\n",
       "       [0.5371, 0.0262, 0.879 , 0.6081],\n",
       "       [0.5381, 0.0251, 0.9175, 0.6481],\n",
       "       [0.5409, 0.0227, 0.9255, 0.5998],\n",
       "       [0.5356, 0.025 , 0.8738, 0.5865],\n",
       "       [0.5414, 0.026 , 0.9102, 0.5922],\n",
       "       [0.55  , 0.0283, 0.9704, 0.5703],\n",
       "       [0.5313, 0.0283, 0.8492, 0.5268],\n",
       "       [0.543 , 0.0242, 0.918 , 0.5798],\n",
       "       [0.5067, 0.0245, 0.8581, 0.5554],\n",
       "       [0.5285, 0.0189, 1.    , 0.6168],\n",
       "       [0.    , 0.    , 0.    , 0.    ]])"
      ]
     },
     "execution_count": 26,
     "metadata": {},
     "output_type": "execute_result"
    }
   ],
   "source": [
    "np.set_printoptions(precision=4, suppress=True)\n",
    "\n",
    "accuracies_multiple\n"
   ]
  },
  {
   "cell_type": "code",
   "execution_count": 27,
   "id": "31cf706c",
   "metadata": {},
   "outputs": [],
   "source": [
    "# # Tên biến mà bạn muốn lưu trong tệp .mat\n",
    "# variable_name = 'accuraciesFT'\n",
    "\n",
    "# # Lưu biến vào tệp .mat\n",
    "# scipy.io.savemat('accuraciesFT.mat', {variable_name: accuracies_multiple})"
   ]
  },
  {
   "cell_type": "code",
   "execution_count": null,
   "id": "24cf938c",
   "metadata": {},
   "outputs": [],
   "source": []
  }
 ],
 "metadata": {
  "kernelspec": {
   "display_name": "Python 3 (ipykernel)",
   "language": "python",
   "name": "python3"
  },
  "language_info": {
   "codemirror_mode": {
    "name": "ipython",
    "version": 3
   },
   "file_extension": ".py",
   "mimetype": "text/x-python",
   "name": "python",
   "nbconvert_exporter": "python",
   "pygments_lexer": "ipython3",
   "version": "3.9.19"
  }
 },
 "nbformat": 4,
 "nbformat_minor": 5
}
