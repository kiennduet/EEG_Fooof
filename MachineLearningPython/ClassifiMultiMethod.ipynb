{
 "cells": [
  {
   "cell_type": "code",
   "execution_count": 1,
   "id": "a10e2d18",
   "metadata": {},
   "outputs": [],
   "source": [
    "from sklearn.tree import ExtraTreeClassifier\n",
    "from sklearn.tree import DecisionTreeClassifier\n",
    "# from sklearn.svm.classes import OneClassSVM\n",
    "# from sklearn.neural_network.multilayer_perceptron import MLPClassifier\n",
    "# from sklearn.neighbors.classification import RadiusNeighborsClassifier\n",
    "# from sklearn.neighbors.classification import KNeighborsClassifier\n",
    "from sklearn.multioutput import ClassifierChain\n",
    "from sklearn.multioutput import MultiOutputClassifier\n",
    "from sklearn.multiclass import OutputCodeClassifier\n",
    "from sklearn.multiclass import OneVsOneClassifier\n",
    "from sklearn.multiclass import OneVsRestClassifier\n",
    "from sklearn.linear_model import SGDClassifier\n",
    "from sklearn.linear_model import RidgeClassifierCV\n",
    "from sklearn.linear_model import RidgeClassifier\n",
    "from sklearn.linear_model import PassiveAggressiveClassifier\n",
    "from sklearn.gaussian_process import GaussianProcessClassifier\n",
    "from sklearn.ensemble import VotingClassifier\n",
    "from sklearn.ensemble import AdaBoostClassifier\n",
    "from sklearn.ensemble import GradientBoostingClassifier\n",
    "from sklearn.ensemble import BaggingClassifier\n",
    "from sklearn.ensemble import ExtraTreesClassifier\n",
    "from sklearn.ensemble import RandomForestClassifier\n",
    "from sklearn.naive_bayes import BernoulliNB\n",
    "from sklearn.calibration import CalibratedClassifierCV\n",
    "from sklearn.naive_bayes import GaussianNB\n",
    "from sklearn.semi_supervised import LabelPropagation\n",
    "from sklearn.semi_supervised import LabelSpreading\n",
    "from sklearn.discriminant_analysis import LinearDiscriminantAnalysis\n",
    "from sklearn.svm import LinearSVC\n",
    "from sklearn.linear_model import LogisticRegression\n",
    "from sklearn.linear_model import LogisticRegressionCV\n",
    "from sklearn.naive_bayes import MultinomialNB\n",
    "from sklearn.neighbors import NearestCentroid\n",
    "from sklearn.svm import NuSVC\n",
    "from sklearn.linear_model import Perceptron\n",
    "from sklearn.discriminant_analysis import QuadraticDiscriminantAnalysis\n",
    "from sklearn.svm import SVC\n",
    "\n",
    "from sklearn.preprocessing import OneHotEncoder \n",
    "from sklearn.preprocessing import MinMaxScaler,StandardScaler\n",
    "from sklearn.model_selection import KFold\n",
    "\n",
    "from sklearn.metrics import accuracy_score\n",
    "from sklearn.model_selection import cross_val_predict\n",
    "from sklearn.model_selection import train_test_split, cross_val_score\n",
    "from sklearn.model_selection import GridSearchCV, train_test_split\n",
    "from skopt import BayesSearchCV\n",
    "import xgboost as xgb\n",
    "import pandas as pd\n",
    "import numpy as np\n",
    "import time\n",
    "\n",
    "# np.random.seed(42)"
   ]
  },
  {
   "cell_type": "code",
   "execution_count": 2,
   "id": "02cf188a",
   "metadata": {},
   "outputs": [
    {
     "name": "stdout",
     "output_type": "stream",
     "text": [
      "(80, 38)\n"
     ]
    },
    {
     "data": {
      "text/plain": [
       "(80, 38)"
      ]
     },
     "execution_count": 2,
     "metadata": {},
     "output_type": "execute_result"
    }
   ],
   "source": [
    "X = pd.read_csv('X146.csv', header=None)\n",
    "print(X.shape)\n",
    "X = X.to_numpy()\n",
    "\n",
    "X = X.astype('float32')\n",
    "scaler = MinMaxScaler()\n",
    "X = scaler.fit_transform(X)\n",
    "X_class_1 = X[:129,:]\n",
    "X_class_2 = X[129:258,:]\n",
    "\n",
    "y = pd.read_csv('Y146.csv', header=None)\n",
    "y = np.ravel(y)\n",
    "# y = y.to_numpy()\n",
    "y = y.astype('float32')\n",
    "y_class_1 = y[:129]\n",
    "y_class_2 = y[129:]\n",
    "\n",
    "# Create an instance of One-hot-encoder \n",
    "# enc = OneHotEncoder(sparse=False) \n",
    "\n",
    "# y = enc.fit_transform(y)\n",
    "X.shape"
   ]
  },
  {
   "cell_type": "code",
   "execution_count": null,
   "id": "965edd2b",
   "metadata": {},
   "outputs": [],
   "source": []
  },
  {
   "cell_type": "code",
   "execution_count": 3,
   "id": "ec567691",
   "metadata": {},
   "outputs": [],
   "source": [
    "# Split the dataset into training and testing sets\n",
    "# X_train, X_test, y_train, y_test = train_test_split(X, y, test_size=0.2, random_state=1)\n",
    "# X.shape"
   ]
  },
  {
   "cell_type": "code",
   "execution_count": 5,
   "id": "659d475e",
   "metadata": {},
   "outputs": [
    {
     "ename": "ValueError",
     "evalue": "Cannot have number of splits n_splits=4 greater than the number of samples: n_samples=0.",
     "output_type": "error",
     "traceback": [
      "\u001b[1;31m---------------------------------------------------------------------------\u001b[0m",
      "\u001b[1;31mValueError\u001b[0m                                Traceback (most recent call last)",
      "\u001b[1;32m<ipython-input-5-188c5a8439db>\u001b[0m in \u001b[0;36m<module>\u001b[1;34m\u001b[0m\n\u001b[0;32m     41\u001b[0m     \u001b[0mm\u001b[0m \u001b[1;33m=\u001b[0m \u001b[1;36m0\u001b[0m\u001b[1;33m\u001b[0m\u001b[1;33m\u001b[0m\u001b[0m\n\u001b[0;32m     42\u001b[0m     \u001b[1;32mfor\u001b[0m \u001b[0mrs\u001b[0m \u001b[1;32min\u001b[0m \u001b[0mrange\u001b[0m\u001b[1;33m(\u001b[0m\u001b[1;36m1\u001b[0m\u001b[1;33m)\u001b[0m\u001b[1;33m:\u001b[0m\u001b[1;33m\u001b[0m\u001b[1;33m\u001b[0m\u001b[0m\n\u001b[1;32m---> 43\u001b[1;33m         \u001b[1;32mfor\u001b[0m \u001b[1;33m(\u001b[0m\u001b[0mtrain_index_1\u001b[0m\u001b[1;33m,\u001b[0m \u001b[0mtest_index_1\u001b[0m\u001b[1;33m)\u001b[0m\u001b[1;33m,\u001b[0m\u001b[1;33m(\u001b[0m\u001b[0mtrain_index_2\u001b[0m\u001b[1;33m,\u001b[0m \u001b[0mtest_index_2\u001b[0m\u001b[1;33m)\u001b[0m \u001b[1;32min\u001b[0m \u001b[0mzip\u001b[0m\u001b[1;33m(\u001b[0m\u001b[0mkf\u001b[0m\u001b[1;33m.\u001b[0m\u001b[0msplit\u001b[0m\u001b[1;33m(\u001b[0m\u001b[0mX_class_1\u001b[0m\u001b[1;33m)\u001b[0m\u001b[1;33m,\u001b[0m\u001b[0mkf\u001b[0m\u001b[1;33m.\u001b[0m\u001b[0msplit\u001b[0m\u001b[1;33m(\u001b[0m\u001b[0mX_class_2\u001b[0m\u001b[1;33m)\u001b[0m\u001b[1;33m)\u001b[0m\u001b[1;33m:\u001b[0m\u001b[1;33m\u001b[0m\u001b[1;33m\u001b[0m\u001b[0m\n\u001b[0m\u001b[0;32m     44\u001b[0m             \u001b[0mX_train\u001b[0m \u001b[1;33m=\u001b[0m \u001b[0mnp\u001b[0m\u001b[1;33m.\u001b[0m\u001b[0mvstack\u001b[0m\u001b[1;33m(\u001b[0m\u001b[1;33m[\u001b[0m\u001b[0mX_class_1\u001b[0m\u001b[1;33m[\u001b[0m\u001b[0mtrain_index_1\u001b[0m\u001b[1;33m,\u001b[0m\u001b[1;33m:\u001b[0m\u001b[1;33m]\u001b[0m\u001b[1;33m,\u001b[0m\u001b[0mX_class_2\u001b[0m\u001b[1;33m[\u001b[0m\u001b[0mtrain_index_2\u001b[0m\u001b[1;33m,\u001b[0m\u001b[1;33m:\u001b[0m\u001b[1;33m]\u001b[0m\u001b[1;33m]\u001b[0m\u001b[1;33m)\u001b[0m\u001b[1;33m\u001b[0m\u001b[1;33m\u001b[0m\u001b[0m\n\u001b[0;32m     45\u001b[0m             \u001b[0mX_test\u001b[0m \u001b[1;33m=\u001b[0m \u001b[0mnp\u001b[0m\u001b[1;33m.\u001b[0m\u001b[0mvstack\u001b[0m\u001b[1;33m(\u001b[0m\u001b[1;33m[\u001b[0m\u001b[0mX_class_1\u001b[0m\u001b[1;33m[\u001b[0m\u001b[0mtest_index_1\u001b[0m\u001b[1;33m,\u001b[0m\u001b[1;33m:\u001b[0m\u001b[1;33m]\u001b[0m\u001b[1;33m,\u001b[0m\u001b[0mX_class_2\u001b[0m\u001b[1;33m[\u001b[0m\u001b[0mtest_index_2\u001b[0m\u001b[1;33m,\u001b[0m\u001b[1;33m:\u001b[0m\u001b[1;33m]\u001b[0m\u001b[1;33m]\u001b[0m\u001b[1;33m)\u001b[0m\u001b[1;33m\u001b[0m\u001b[1;33m\u001b[0m\u001b[0m\n",
      "\u001b[1;32mc:\\users\\admin\\appdata\\local\\programs\\python\\python36\\lib\\site-packages\\sklearn\\model_selection\\_split.py\u001b[0m in \u001b[0;36msplit\u001b[1;34m(self, X, y, groups)\u001b[0m\n\u001b[0;32m    328\u001b[0m                 (\"Cannot have number of splits n_splits={0} greater\"\n\u001b[0;32m    329\u001b[0m                  \" than the number of samples: n_samples={1}.\")\n\u001b[1;32m--> 330\u001b[1;33m                 .format(self.n_splits, n_samples))\n\u001b[0m\u001b[0;32m    331\u001b[0m \u001b[1;33m\u001b[0m\u001b[0m\n\u001b[0;32m    332\u001b[0m         \u001b[1;32mfor\u001b[0m \u001b[0mtrain\u001b[0m\u001b[1;33m,\u001b[0m \u001b[0mtest\u001b[0m \u001b[1;32min\u001b[0m \u001b[0msuper\u001b[0m\u001b[1;33m(\u001b[0m\u001b[1;33m)\u001b[0m\u001b[1;33m.\u001b[0m\u001b[0msplit\u001b[0m\u001b[1;33m(\u001b[0m\u001b[0mX\u001b[0m\u001b[1;33m,\u001b[0m \u001b[0my\u001b[0m\u001b[1;33m,\u001b[0m \u001b[0mgroups\u001b[0m\u001b[1;33m)\u001b[0m\u001b[1;33m:\u001b[0m\u001b[1;33m\u001b[0m\u001b[1;33m\u001b[0m\u001b[0m\n",
      "\u001b[1;31mValueError\u001b[0m: Cannot have number of splits n_splits=4 greater than the number of samples: n_samples=0."
     ]
    }
   ],
   "source": [
    "clfs = [\n",
    "    ExtraTreeClassifier(),\n",
    "    DecisionTreeClassifier(),\n",
    "    # ClassifierChain(),\n",
    "    # MultiOutputClassifier(),\n",
    "    # OutputCodeClassifier(),\n",
    "    # OneVsOneClassifier(),\n",
    "    # OneVsRestClassifier(),\n",
    "    SGDClassifier(),\n",
    "    RidgeClassifierCV(),\n",
    "RidgeClassifier(),\n",
    "PassiveAggressiveClassifier(),\n",
    "GaussianProcessClassifier(),\n",
    "# VotingClassifier(),\n",
    "AdaBoostClassifier(),\n",
    "GradientBoostingClassifier(),\n",
    "BaggingClassifier(),\n",
    "ExtraTreesClassifier(),\n",
    "RandomForestClassifier(),\n",
    "BernoulliNB(),\n",
    "# CalibratedClassifierCV(),\n",
    "GaussianNB(),\n",
    "# LabelPropagation(),\n",
    "# LabelSpreading(),\n",
    "LinearDiscriminantAnalysis(),\n",
    "LinearSVC(),\n",
    "LogisticRegression(),\n",
    "LogisticRegressionCV(),\n",
    "# MultinomialNB(),\n",
    "NearestCentroid(),\n",
    "NuSVC(),\n",
    "Perceptron(),\n",
    "QuadraticDiscriminantAnalysis(),\n",
    "SVC()\n",
    "]\n",
    "\n",
    "kf = KFold(n_splits=5, shuffle=True, random_state=42)\n",
    "\n",
    "l_models = []\n",
    "for model in clfs:\n",
    "    m = 0\n",
    "    for rs in range(1):\n",
    "        for (train_index_1, test_index_1),(train_index_2, test_index_2) in zip(kf.split(X_class_1),kf.split(X_class_2)):\n",
    "            X_train = np.vstack([X_class_1[train_index_1,:],X_class_2[train_index_2,:]])\n",
    "            X_test = np.vstack([X_class_1[test_index_1,:],X_class_2[test_index_2,:]])\n",
    "            y_train = np.concatenate([y_class_1[train_index_1],y_class_2[train_index_2]])\n",
    "            y_test = np.concatenate([y_class_1[test_index_1],y_class_2[test_index_2]])\n",
    "    #         X_train, X_test, y_train, y_test = train_test_split(X, y, test_size=0.1, random_state=rs)\n",
    "\n",
    "#             model = GradientBoostingClassifier()\n",
    "            H = model.fit(X_train,y_train)\n",
    "            y_pred = model.predict(X_test)\n",
    "            # Calculate accuracy\n",
    "            accuracy = accuracy_score(y_test, y_pred)\n",
    "            print(f\"Fold Accuracy: {accuracy:.2f}\")\n",
    "            m += accuracy\n",
    "\n",
    "            # Display feature importance scores\n",
    "            # feature_importances = model.feature_importances_\n",
    "            # print(\"Feature Importance Scores:\")\n",
    "            # print(feature_importances)\n",
    "        #     print(m/5)\n",
    "    print(model.__class__.__name__, m/5)\n",
    "    l_models.append([model.__class__.__name__, m/5])"
   ]
  },
  {
   "cell_type": "code",
   "execution_count": 260,
   "id": "988bbb77",
   "metadata": {},
   "outputs": [
    {
     "data": {
      "text/plain": [
       "[['ExtraTreeClassifier', 0.542],\n",
       " ['DecisionTreeClassifier', 0.581076923076923],\n",
       " ['SGDClassifier', 0.5464615384615384],\n",
       " ['RidgeClassifierCV', 0.5467692307692308],\n",
       " ['RidgeClassifier', 0.5698461538461539],\n",
       " ['PassiveAggressiveClassifier', 0.5384615384615384],\n",
       " ['GaussianProcessClassifier', 0.5663076923076923],\n",
       " ['AdaBoostClassifier', 0.558],\n",
       " ['GradientBoostingClassifier', 0.5815384615384616],\n",
       " ['BaggingClassifier', 0.5736923076923077],\n",
       " ['ExtraTreesClassifier', 0.5235384615384615],\n",
       " ['RandomForestClassifier', 0.5653846153846154],\n",
       " ['BernoulliNB', 0.5512307692307693],\n",
       " ['GaussianNB', 0.558],\n",
       " ['LinearDiscriminantAnalysis', 0.5575384615384615],\n",
       " ['LinearSVC', 0.5696923076923077],\n",
       " ['LogisticRegression', 0.5583076923076924],\n",
       " ['LogisticRegressionCV', 0.5693846153846154],\n",
       " ['NearestCentroid', 0.5475384615384615],\n",
       " ['NuSVC', 0.5195384615384616],\n",
       " ['Perceptron', 0.5036923076923077],\n",
       " ['QuadraticDiscriminantAnalysis', 0.5312307692307692],\n",
       " ['SVC', 0.5663076923076923]]"
      ]
     },
     "execution_count": 260,
     "metadata": {},
     "output_type": "execute_result"
    }
   ],
   "source": [
    "l_models"
   ]
  }
 ],
 "metadata": {
  "kernelspec": {
   "display_name": "Python 3",
   "language": "python",
   "name": "python3"
  },
  "language_info": {
   "codemirror_mode": {
    "name": "ipython",
    "version": 3
   },
   "file_extension": ".py",
   "mimetype": "text/x-python",
   "name": "python",
   "nbconvert_exporter": "python",
   "pygments_lexer": "ipython3",
   "version": "3.6.8"
  }
 },
 "nbformat": 4,
 "nbformat_minor": 5
}
