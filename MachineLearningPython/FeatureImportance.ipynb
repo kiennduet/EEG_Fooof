{
 "cells": [
  {
   "cell_type": "code",
   "execution_count": 30,
   "id": "e447850a",
   "metadata": {},
   "outputs": [],
   "source": [
    "from sklearn.ensemble import RandomForestClassifier\n",
    "from sklearn.ensemble import GradientBoostingClassifier\n",
    "from sklearn.linear_model import LogisticRegression\n",
    "from sklearn.svm import NuSVC\n",
    "from sklearn.svm import SVC\n",
    "\n",
    "from sklearn.preprocessing import OneHotEncoder \n",
    "from sklearn.preprocessing import MinMaxScaler,StandardScaler\n",
    "from sklearn.model_selection import KFold\n",
    "from sklearn.model_selection import StratifiedKFold, cross_val_score\n",
    "from sklearn.metrics import accuracy_score\n",
    "from sklearn.model_selection import cross_val_predict\n",
    "from sklearn.model_selection import train_test_split, cross_val_score\n",
    "from sklearn.model_selection import GridSearchCV, train_test_split\n",
    "import xgboost as xgb\n",
    "import pandas as pd\n",
    "import numpy as np\n"
   ]
  },
  {
   "cell_type": "code",
   "execution_count": 31,
   "id": "fadfc1fe",
   "metadata": {},
   "outputs": [
    {
     "name": "stdout",
     "output_type": "stream",
     "text": [
      "(95, 19)\n",
      "(95,)\n",
      "Class Counts:\n",
      "2    55\n",
      "1    40\n",
      "dtype: int64\n",
      "\n",
      "Class Weights:\n",
      "{2: 1.0, 1: 1.375}\n"
     ]
    }
   ],
   "source": [
    "X = pd.read_csv('X120.csv', header=None)\n",
    "y = pd.read_csv('Y120.csv', header=None)\n",
    "y = np.ravel(y)\n",
    "\n",
    "print(X.shape)\n",
    "print(y.shape)\n",
    "# Đếm số mẫu trong từng lớp\n",
    "class_counts = pd.Series(y).value_counts()\n",
    "\n",
    "# Hiển thị số mẫu trong từng lớp\n",
    "print(\"Class Counts:\")\n",
    "print(class_counts)\n",
    "\n",
    "# Tạo biến class_weight dựa trên số lượng mẫu trong từng lớp\n",
    "class_weight = {label: class_counts.max() / count for label, count in class_counts.items()}\n",
    "\n",
    "print(\"\\nClass Weights:\")\n",
    "print(class_weight)"
   ]
  },
  {
   "cell_type": "code",
   "execution_count": 32,
   "id": "f1d512f9",
   "metadata": {},
   "outputs": [
    {
     "name": "stdout",
     "output_type": "stream",
     "text": [
      "O1: 1.0673\n",
      "P4: 0.9916\n",
      "Fp2: 0.8694\n",
      "C4: 0.6512\n",
      "F8: 0.3982\n",
      "Fz: 0.3284\n",
      "F4: 0.2711\n",
      "T5: 0.2177\n",
      "O2: 0.1793\n",
      "Fp1: 0.0697\n",
      "Cz: 0.0306\n",
      "Pz: -0.2027\n",
      "C3: -0.3550\n",
      "F3: -0.4520\n",
      "P3: -0.4792\n",
      "T3: -0.5937\n",
      "F7: -0.6025\n",
      "T4: -0.7685\n",
      "T6: -1.0904\n",
      "\n",
      "Accuracy: 0.7478\n"
     ]
    }
   ],
   "source": [
    "# Define channel labels\n",
    "channel_labels = ['Fp1', 'Fp2', 'F7', 'F3', 'Fz', 'F4', 'F8', 'T3', 'C3', 'Cz',\n",
    "                   'C4', 'T4', 'T5', 'P3', 'Pz', 'P4', 'T6', 'O1', 'O2']\n",
    "\n",
    "# Fit a Logistic Regression model\n",
    "logistic_regression_model = LogisticRegression(class_weight = class_weight)\n",
    "logistic_regression_model.fit(X, y)\n",
    "\n",
    "# Get feature coefficients\n",
    "feature_coefficients = logistic_regression_model.coef_[0]\n",
    "\n",
    "# Sort features by coefficient values\n",
    "sorted_indices = np.argsort(feature_coefficients)[::-1]\n",
    "sorted_channel_labels = [channel_labels[i] for i in sorted_indices]\n",
    "sorted_feature_coefficients = feature_coefficients[sorted_indices]\n",
    "\n",
    "# Calculate accuracy using cross-validation\n",
    "accuracy = cross_val_score(logistic_regression_model, X, y, cv=10).mean()\n",
    "\n",
    "# Print or visualize sorted feature coefficients, channel labels, and accuracy\n",
    "for channel, coefficient in zip(sorted_channel_labels, sorted_feature_coefficients):\n",
    "    print(f\"{channel}: {coefficient:.4f}\")\n",
    "\n",
    "print(f\"\\nAccuracy: {accuracy:.4f}\")"
   ]
  },
  {
   "cell_type": "code",
   "execution_count": null,
   "id": "fb0ae380",
   "metadata": {},
   "outputs": [],
   "source": []
  }
 ],
 "metadata": {
  "kernelspec": {
   "display_name": "Python 3",
   "language": "python",
   "name": "python3"
  },
  "language_info": {
   "codemirror_mode": {
    "name": "ipython",
    "version": 3
   },
   "file_extension": ".py",
   "mimetype": "text/x-python",
   "name": "python",
   "nbconvert_exporter": "python",
   "pygments_lexer": "ipython3",
   "version": "3.6.8"
  }
 },
 "nbformat": 4,
 "nbformat_minor": 5
}
